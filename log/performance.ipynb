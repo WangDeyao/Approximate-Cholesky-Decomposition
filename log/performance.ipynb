{
 "cells": [
  {
   "cell_type": "markdown",
   "metadata": {},
   "source": [
    "# Cachegrind \n",
    "\n",
    "Cachegrind simulates the first-level and last-level caches. The reason for this choice is that the last-level cache has the most influence on runtime, as it masks accesses to main memory. Furthermore, the L1 caches often have low associativity, so simulating them can detect cases where the code interacts badly with this cache (eg. traversing a matrix column-wise with the row length being a power of 2).\n",
    "\n",
    "Therefore, Cachegrind always refers to the I1, D1 and LL (last-level) caches.\n",
    "\n",
    "Cachegrind gathers the following statistics (abbreviations used for each statistic is given in parentheses):\n",
    "\n",
    "- I cache reads (Ir, which equals the number of instructions executed), I1 cache read misses (I1mr) and LL cache instruction read misses (ILmr).\n",
    "\n",
    "- D cache reads (Dr, which equals the number of memory reads), D1 cache read misses (D1mr), and LL cache data read misses (DLmr).\n",
    "\n",
    "- D cache writes (Dw, which equals the number of memory writes), D1 cache write misses (D1mw), and LL cache data write misses (DLmw).\n",
    "\n",
    "- Conditional branches executed (Bc) and conditional branches mispredicted (Bcm).\n",
    "\n",
    "- Indirect branches executed (Bi) and indirect branches mispredicted (Bim).\n",
    "\n",
    "Note that D1 total accesses is given by D1mr + D1mw, and that LL total accesses is given by ILmr + DLmr + DLmw.\n",
    "\n",
    "On a modern machine, an L1 miss will typically cost around 10 cycles, an LL miss can cost as much as 200 cycles, and a mispredicted branch costs in the region of 10 to 30 cycles. \n",
    "\n",
    "LL miss rate is computed relative to the total number of memory accesses, not the number of L1 misses. I.e. it is (ILmr + DLmr + DLmw) / (Ir + Dr + Dw) not (ILmr + DLmr + DLmw) / (I1mr + D1mr + D1mw)\n",
    "\n",
    "Ir : I cache reads (ie. instructions executed)\n",
    "I1mr: I1 cache read misses\n",
    "I2mr: L2 cache instruction read misses\n",
    "Dr : D cache reads (ie. memory reads)\n",
    "D1mr: D1 cache read misses\n",
    "D2mr: L2 cache data read misses\n",
    "Dw : D cache writes (ie. memory writes)\n",
    "D1mw: D1 cache write misses\n",
    "D2mw: L2 cache data write misses\n"
   ]
  },
  {
   "cell_type": "code",
   "execution_count": 1,
   "metadata": {},
   "outputs": [],
   "source": [
    "import re\n",
    "import numpy as np    \n",
    "import pandas as pd"
   ]
  },
  {
   "cell_type": "code",
   "execution_count": 2,
   "metadata": {},
   "outputs": [],
   "source": [
    "vertice = [100,1000 ,5000, 10000 ,20000]\n",
    "edge = [100,500,1000,5000,10000, 20000, 40000, 80000]\n",
    "# Orig, approxChol_opt, approxChol_vector2, approxChol_vector2_merge, approxChol_vector2_opt2, approxChol_vector2_mergerand\n",
    "func_name = ['approxChol(LLMatOrd)', 'approxChol_opt(LLMatOrd)', 'approxChol_vector2(LLMatOrd_vector2)', \n",
    "             'approxChol_vector2_merge(LLMatOrd_vector2)', 'approxChol_vector2_opt2(LLMatOrd_vector2)', \n",
    "             'approxChol_vector2_mergerand(LLMatOrd_vector2)']\n",
    "func_alias = ['Baseline', 'Inline', 'Vector', 'Merge', 'Merge+SIMD', 'Merge+Rand']"
   ]
  },
  {
   "cell_type": "code",
   "execution_count": 3,
   "metadata": {},
   "outputs": [
    {
     "output_type": "execute_result",
     "data": {
      "text/plain": "#V           int64\n#E           int64\nIr           int64\nI1mr         int64\nILmr         int64\nDr           int64\nD1mr         int64\nDLmr         int64\nDw           int64\nD1mw         int64\nDLmw         int64\nBc           int64\nBcm          int64\nBi           int64\nBim          int64\nfunction    object\ndtype: object"
     },
     "metadata": {},
     "execution_count": 3
    }
   ],
   "source": [
    "datalist = []\n",
    "header=['#V','#E','Ir','I1mr','ILmr','Dr','D1mr','DLmr','Dw','D1mw','DLmw','Bc','Bcm','Bi','Bim','function']\n",
    "with open(\"./cache.log\", 'r') as f:\n",
    "    next(f)\n",
    "    for line in f:\n",
    "        line = line.split()\n",
    "        num = [int(x.replace(',', '').strip()) for x in line[:-1]]\n",
    "        num.append(line[-1])\n",
    "        datalist.append(num)\n",
    "res = pd.DataFrame(datalist, columns=header)\n",
    "res.convert_dtypes()\n",
    "res.dtypes"
   ]
  },
  {
   "cell_type": "code",
   "execution_count": 4,
   "metadata": {},
   "outputs": [
    {
     "output_type": "execute_result",
     "data": {
      "text/plain": "      flops  flcomps   intops  intcomps     total      cycles  flops/cycle\n0     12156     7819    13649     36298     69922      389294     0.179612\n1     12156     7819    13649     36298     69922      261295     0.267598\n2     12156     7819    13649     36298     69922      365875     0.191109\n3     12156     7819    13649     36298     69922      372043     0.187941\n4     12156     7819    13649     36298     69922      344799     0.202791\n..      ...      ...      ...       ...       ...         ...          ...\n79  4481753  3273707  5586980  14173088  27515528  2482130000     0.011085\n80  4481753  3273707  5586980  14173088  27515528   243069000     0.113201\n81  4481753  3273707  5586980  14173088  27515528   213610000     0.128812\n82  4481753  3273707  5586980  14173088  27515528   198732000     0.138456\n83  4481753  3273707  5586980  14173088  27515528   192489000     0.142946\n\n[84 rows x 7 columns]",
      "text/html": "<div>\n<style scoped>\n    .dataframe tbody tr th:only-of-type {\n        vertical-align: middle;\n    }\n\n    .dataframe tbody tr th {\n        vertical-align: top;\n    }\n\n    .dataframe thead th {\n        text-align: right;\n    }\n</style>\n<table border=\"1\" class=\"dataframe\">\n  <thead>\n    <tr style=\"text-align: right;\">\n      <th></th>\n      <th>flops</th>\n      <th>flcomps</th>\n      <th>intops</th>\n      <th>intcomps</th>\n      <th>total</th>\n      <th>cycles</th>\n      <th>flops/cycle</th>\n    </tr>\n  </thead>\n  <tbody>\n    <tr>\n      <th>0</th>\n      <td>12156</td>\n      <td>7819</td>\n      <td>13649</td>\n      <td>36298</td>\n      <td>69922</td>\n      <td>389294</td>\n      <td>0.179612</td>\n    </tr>\n    <tr>\n      <th>1</th>\n      <td>12156</td>\n      <td>7819</td>\n      <td>13649</td>\n      <td>36298</td>\n      <td>69922</td>\n      <td>261295</td>\n      <td>0.267598</td>\n    </tr>\n    <tr>\n      <th>2</th>\n      <td>12156</td>\n      <td>7819</td>\n      <td>13649</td>\n      <td>36298</td>\n      <td>69922</td>\n      <td>365875</td>\n      <td>0.191109</td>\n    </tr>\n    <tr>\n      <th>3</th>\n      <td>12156</td>\n      <td>7819</td>\n      <td>13649</td>\n      <td>36298</td>\n      <td>69922</td>\n      <td>372043</td>\n      <td>0.187941</td>\n    </tr>\n    <tr>\n      <th>4</th>\n      <td>12156</td>\n      <td>7819</td>\n      <td>13649</td>\n      <td>36298</td>\n      <td>69922</td>\n      <td>344799</td>\n      <td>0.202791</td>\n    </tr>\n    <tr>\n      <th>...</th>\n      <td>...</td>\n      <td>...</td>\n      <td>...</td>\n      <td>...</td>\n      <td>...</td>\n      <td>...</td>\n      <td>...</td>\n    </tr>\n    <tr>\n      <th>79</th>\n      <td>4481753</td>\n      <td>3273707</td>\n      <td>5586980</td>\n      <td>14173088</td>\n      <td>27515528</td>\n      <td>2482130000</td>\n      <td>0.011085</td>\n    </tr>\n    <tr>\n      <th>80</th>\n      <td>4481753</td>\n      <td>3273707</td>\n      <td>5586980</td>\n      <td>14173088</td>\n      <td>27515528</td>\n      <td>243069000</td>\n      <td>0.113201</td>\n    </tr>\n    <tr>\n      <th>81</th>\n      <td>4481753</td>\n      <td>3273707</td>\n      <td>5586980</td>\n      <td>14173088</td>\n      <td>27515528</td>\n      <td>213610000</td>\n      <td>0.128812</td>\n    </tr>\n    <tr>\n      <th>82</th>\n      <td>4481753</td>\n      <td>3273707</td>\n      <td>5586980</td>\n      <td>14173088</td>\n      <td>27515528</td>\n      <td>198732000</td>\n      <td>0.138456</td>\n    </tr>\n    <tr>\n      <th>83</th>\n      <td>4481753</td>\n      <td>3273707</td>\n      <td>5586980</td>\n      <td>14173088</td>\n      <td>27515528</td>\n      <td>192489000</td>\n      <td>0.142946</td>\n    </tr>\n  </tbody>\n</table>\n<p>84 rows × 7 columns</p>\n</div>"
     },
     "metadata": {},
     "execution_count": 4
    }
   ],
   "source": [
    "datalist = []\n",
    "header=['flops','flcomps', 'intops', 'intcomps', 'total', 'cycles','flops/cycle']\n",
    "with open(\"./exact_cycle.txt\", 'r') as f:\n",
    "    for line in f:\n",
    "        line = line.split()\n",
    "        num = [int(x.replace(',', '').strip()) for x in line[2:-3]]\n",
    "        num.append(float(line[-3]))\n",
    "        num.append(float(line[-2]))\n",
    "        datalist.append(num)\n",
    "res2 = pd.DataFrame(datalist, columns=header)\n",
    "res2 = res2.convert_dtypes()\n",
    "res2"
   ]
  },
  {
   "cell_type": "code",
   "execution_count": 5,
   "metadata": {},
   "outputs": [],
   "source": [
    "result = pd.concat([res,res2], axis=1)"
   ]
  },
  {
   "cell_type": "code",
   "execution_count": 6,
   "metadata": {},
   "outputs": [],
   "source": [
    "result['LL miss rate'] = (result['ILmr'] + result['DLmr'] + result['DLmw']) / (result['Ir'] + result['Dr'] + result['Dw']) *100\n",
    "result['mem'] = result['Dr'] + result['Dw']\n",
    "result['branch miss rate'] = result['Bcm']/result['Bc']*100"
   ]
  },
  {
   "cell_type": "code",
   "execution_count": 7,
   "metadata": {},
   "outputs": [],
   "source": [
    "func_alias=['Baseline', 'Inline','Vector', 'Merge', 'Merge+SIMD','Merge+Rand']\n",
    "\n",
    "runtime = []\n",
    "with open(\"./runtime.log\", 'r') as f:\n",
    "    next(f)\n",
    "    for line in f:\n",
    "        line = line.split()\n",
    "        runtime.extend(line[2:])\n",
    "len(runtime)\n",
    "result['runtime'] = runtime"
   ]
  },
  {
   "cell_type": "code",
   "execution_count": 8,
   "metadata": {},
   "outputs": [
    {
     "output_type": "execute_result",
     "data": {
      "text/plain": "       #V     #E         Ir  I1mr  ILmr        Dr     D1mr  DLmr        Dw  \\\n0     100    500     636472    55    55     96153      692     1     79976   \n1     100    500     358516    91    91     89523      169     0     47981   \n2     100    500     345193    93    92     90506      281     1     37914   \n3     100    500     324962    98    98     92290      215     0     47598   \n4     100    500     320406    86    86     67670      135     0     45376   \n..    ...    ...        ...   ...   ...       ...      ...   ...       ...   \n79  20000  80000  165903593    92    92  39493517   681613     0  20452829   \n80  20000  80000  165566950    78    78  33430932  1840371     0  15693086   \n81  20000  80000  145135690    86    86  29033052  1180207     0  18771000   \n82  20000  80000  141651351    93    92  34486907  1778623     1  14751004   \n83  20000  80000   83636344    98    98  22740280   476446     0  11352475   \n\n       D1mw  ...  flcomps   intops  intcomps     total      cycles  \\\n0       955  ...     7819    13649     36298     69922      389294   \n1       403  ...     7819    13649     36298     69922      261295   \n2       291  ...     7819    13649     36298     69922      365875   \n3       416  ...     7819    13649     36298     69922      372043   \n4       353  ...     7819    13649     36298     69922      344799   \n..      ...  ...      ...      ...       ...       ...         ...   \n79   711066  ...  3273707  5586980  14173088  27515528  2482130000   \n80   267048  ...  3273707  5586980  14173088  27515528   243069000   \n81  1045158  ...  3273707  5586980  14173088  27515528   213610000   \n82   225901  ...  3273707  5586980  14173088  27515528   198732000   \n83   390841  ...  3273707  5586980  14173088  27515528   192489000   \n\n   flops/cycle  LL miss rate       mem  branch miss rate      runtime  \n0     0.179612      0.006891    176129          2.388168  0.000169991  \n1     0.267598      0.019757    137504         13.596059  0.000116511  \n2     0.191109      0.019636    128420         13.080375  0.000170921  \n3     0.187941      0.023664    139888         14.423225  0.000154351  \n4     0.202791      0.019841    113046         16.442348  0.000145031  \n..         ...           ...       ...               ...          ...  \n79    0.011085      0.011948  59946346         12.930325        1.003  \n80    0.113201      0.042358  49124018         17.440600    0.0992371  \n81    0.128812      0.000113  47804052         15.664714    0.0862049  \n82    0.138456      0.001142  49237911         13.499148    0.0792809  \n83    0.142946      0.003336  34092755          9.259975    0.0703691  \n\n[84 rows x 27 columns]",
      "text/html": "<div>\n<style scoped>\n    .dataframe tbody tr th:only-of-type {\n        vertical-align: middle;\n    }\n\n    .dataframe tbody tr th {\n        vertical-align: top;\n    }\n\n    .dataframe thead th {\n        text-align: right;\n    }\n</style>\n<table border=\"1\" class=\"dataframe\">\n  <thead>\n    <tr style=\"text-align: right;\">\n      <th></th>\n      <th>#V</th>\n      <th>#E</th>\n      <th>Ir</th>\n      <th>I1mr</th>\n      <th>ILmr</th>\n      <th>Dr</th>\n      <th>D1mr</th>\n      <th>DLmr</th>\n      <th>Dw</th>\n      <th>D1mw</th>\n      <th>...</th>\n      <th>flcomps</th>\n      <th>intops</th>\n      <th>intcomps</th>\n      <th>total</th>\n      <th>cycles</th>\n      <th>flops/cycle</th>\n      <th>LL miss rate</th>\n      <th>mem</th>\n      <th>branch miss rate</th>\n      <th>runtime</th>\n    </tr>\n  </thead>\n  <tbody>\n    <tr>\n      <th>0</th>\n      <td>100</td>\n      <td>500</td>\n      <td>636472</td>\n      <td>55</td>\n      <td>55</td>\n      <td>96153</td>\n      <td>692</td>\n      <td>1</td>\n      <td>79976</td>\n      <td>955</td>\n      <td>...</td>\n      <td>7819</td>\n      <td>13649</td>\n      <td>36298</td>\n      <td>69922</td>\n      <td>389294</td>\n      <td>0.179612</td>\n      <td>0.006891</td>\n      <td>176129</td>\n      <td>2.388168</td>\n      <td>0.000169991</td>\n    </tr>\n    <tr>\n      <th>1</th>\n      <td>100</td>\n      <td>500</td>\n      <td>358516</td>\n      <td>91</td>\n      <td>91</td>\n      <td>89523</td>\n      <td>169</td>\n      <td>0</td>\n      <td>47981</td>\n      <td>403</td>\n      <td>...</td>\n      <td>7819</td>\n      <td>13649</td>\n      <td>36298</td>\n      <td>69922</td>\n      <td>261295</td>\n      <td>0.267598</td>\n      <td>0.019757</td>\n      <td>137504</td>\n      <td>13.596059</td>\n      <td>0.000116511</td>\n    </tr>\n    <tr>\n      <th>2</th>\n      <td>100</td>\n      <td>500</td>\n      <td>345193</td>\n      <td>93</td>\n      <td>92</td>\n      <td>90506</td>\n      <td>281</td>\n      <td>1</td>\n      <td>37914</td>\n      <td>291</td>\n      <td>...</td>\n      <td>7819</td>\n      <td>13649</td>\n      <td>36298</td>\n      <td>69922</td>\n      <td>365875</td>\n      <td>0.191109</td>\n      <td>0.019636</td>\n      <td>128420</td>\n      <td>13.080375</td>\n      <td>0.000170921</td>\n    </tr>\n    <tr>\n      <th>3</th>\n      <td>100</td>\n      <td>500</td>\n      <td>324962</td>\n      <td>98</td>\n      <td>98</td>\n      <td>92290</td>\n      <td>215</td>\n      <td>0</td>\n      <td>47598</td>\n      <td>416</td>\n      <td>...</td>\n      <td>7819</td>\n      <td>13649</td>\n      <td>36298</td>\n      <td>69922</td>\n      <td>372043</td>\n      <td>0.187941</td>\n      <td>0.023664</td>\n      <td>139888</td>\n      <td>14.423225</td>\n      <td>0.000154351</td>\n    </tr>\n    <tr>\n      <th>4</th>\n      <td>100</td>\n      <td>500</td>\n      <td>320406</td>\n      <td>86</td>\n      <td>86</td>\n      <td>67670</td>\n      <td>135</td>\n      <td>0</td>\n      <td>45376</td>\n      <td>353</td>\n      <td>...</td>\n      <td>7819</td>\n      <td>13649</td>\n      <td>36298</td>\n      <td>69922</td>\n      <td>344799</td>\n      <td>0.202791</td>\n      <td>0.019841</td>\n      <td>113046</td>\n      <td>16.442348</td>\n      <td>0.000145031</td>\n    </tr>\n    <tr>\n      <th>...</th>\n      <td>...</td>\n      <td>...</td>\n      <td>...</td>\n      <td>...</td>\n      <td>...</td>\n      <td>...</td>\n      <td>...</td>\n      <td>...</td>\n      <td>...</td>\n      <td>...</td>\n      <td>...</td>\n      <td>...</td>\n      <td>...</td>\n      <td>...</td>\n      <td>...</td>\n      <td>...</td>\n      <td>...</td>\n      <td>...</td>\n      <td>...</td>\n      <td>...</td>\n      <td>...</td>\n    </tr>\n    <tr>\n      <th>79</th>\n      <td>20000</td>\n      <td>80000</td>\n      <td>165903593</td>\n      <td>92</td>\n      <td>92</td>\n      <td>39493517</td>\n      <td>681613</td>\n      <td>0</td>\n      <td>20452829</td>\n      <td>711066</td>\n      <td>...</td>\n      <td>3273707</td>\n      <td>5586980</td>\n      <td>14173088</td>\n      <td>27515528</td>\n      <td>2482130000</td>\n      <td>0.011085</td>\n      <td>0.011948</td>\n      <td>59946346</td>\n      <td>12.930325</td>\n      <td>1.003</td>\n    </tr>\n    <tr>\n      <th>80</th>\n      <td>20000</td>\n      <td>80000</td>\n      <td>165566950</td>\n      <td>78</td>\n      <td>78</td>\n      <td>33430932</td>\n      <td>1840371</td>\n      <td>0</td>\n      <td>15693086</td>\n      <td>267048</td>\n      <td>...</td>\n      <td>3273707</td>\n      <td>5586980</td>\n      <td>14173088</td>\n      <td>27515528</td>\n      <td>243069000</td>\n      <td>0.113201</td>\n      <td>0.042358</td>\n      <td>49124018</td>\n      <td>17.440600</td>\n      <td>0.0992371</td>\n    </tr>\n    <tr>\n      <th>81</th>\n      <td>20000</td>\n      <td>80000</td>\n      <td>145135690</td>\n      <td>86</td>\n      <td>86</td>\n      <td>29033052</td>\n      <td>1180207</td>\n      <td>0</td>\n      <td>18771000</td>\n      <td>1045158</td>\n      <td>...</td>\n      <td>3273707</td>\n      <td>5586980</td>\n      <td>14173088</td>\n      <td>27515528</td>\n      <td>213610000</td>\n      <td>0.128812</td>\n      <td>0.000113</td>\n      <td>47804052</td>\n      <td>15.664714</td>\n      <td>0.0862049</td>\n    </tr>\n    <tr>\n      <th>82</th>\n      <td>20000</td>\n      <td>80000</td>\n      <td>141651351</td>\n      <td>93</td>\n      <td>92</td>\n      <td>34486907</td>\n      <td>1778623</td>\n      <td>1</td>\n      <td>14751004</td>\n      <td>225901</td>\n      <td>...</td>\n      <td>3273707</td>\n      <td>5586980</td>\n      <td>14173088</td>\n      <td>27515528</td>\n      <td>198732000</td>\n      <td>0.138456</td>\n      <td>0.001142</td>\n      <td>49237911</td>\n      <td>13.499148</td>\n      <td>0.0792809</td>\n    </tr>\n    <tr>\n      <th>83</th>\n      <td>20000</td>\n      <td>80000</td>\n      <td>83636344</td>\n      <td>98</td>\n      <td>98</td>\n      <td>22740280</td>\n      <td>476446</td>\n      <td>0</td>\n      <td>11352475</td>\n      <td>390841</td>\n      <td>...</td>\n      <td>3273707</td>\n      <td>5586980</td>\n      <td>14173088</td>\n      <td>27515528</td>\n      <td>192489000</td>\n      <td>0.142946</td>\n      <td>0.003336</td>\n      <td>34092755</td>\n      <td>9.259975</td>\n      <td>0.0703691</td>\n    </tr>\n  </tbody>\n</table>\n<p>84 rows × 27 columns</p>\n</div>"
     },
     "metadata": {},
     "execution_count": 8
    }
   ],
   "source": [
    "result"
   ]
  },
  {
   "cell_type": "code",
   "execution_count": 9,
   "metadata": {},
   "outputs": [],
   "source": [
    "import plotly.express as px\n",
    "import plotly.graph_objects as go\n",
    "\n",
    "num_font = dict(size=22,color='#000000')\n",
    "default_font = dict(family=\"Helvetica Neue\",size=20,color='#000000')\n",
    "#colors=px.colors.sequential.deep[2:]  # Candidate: Prism\n",
    "colors=px.colors.sequential.Cividis[::-1][1:]\n",
    "colorq=px.colors.qualitative.T10\n",
    "marker_symbols=['circle','square','diamond','cross','triangle-up-open','pentagon','hexagram','star','hourglass', 'asterisk']"
   ]
  },
  {
   "cell_type": "code",
   "execution_count": 10,
   "metadata": {},
   "outputs": [
    {
     "output_type": "display_data",
     "data": {
      "application/vnd.plotly.v1+json": {
       "config": {
        "plotlyServerURL": "https://plot.ly"
       },
       "data": [
        {
         "line": {
          "color": "#4C78A8",
          "width": 3
         },
         "marker": {
          "size": 10,
          "symbol": "circle"
         },
         "mode": "lines+markers",
         "name": "Vector",
         "type": "scatter",
         "x": [
          100,
          100,
          1000,
          1000,
          1000,
          5000,
          5000,
          5000,
          5000,
          10000,
          10000,
          10000,
          20000,
          20000
         ],
         "y": [
          17.102983872935322,
          17.730173199635367,
          16.645946339285494,
          17.703883984342234,
          18.449912930660247,
          16.58647795752031,
          17.06553854296349,
          17.807568130295664,
          18.382508646252234,
          16.762942745732364,
          17.24531801828498,
          17.921157689605895,
          16.976879899240142,
          17.440599725338664
         ]
        },
        {
         "line": {
          "color": "#F58518",
          "width": 3
         },
         "marker": {
          "size": 10,
          "symbol": "square"
         },
         "mode": "lines+markers",
         "name": "Inline",
         "type": "scatter",
         "x": [
          100,
          100,
          1000,
          1000,
          1000,
          5000,
          5000,
          5000,
          5000,
          10000,
          10000,
          10000,
          20000,
          20000
         ],
         "y": [
          16.442348060158547,
          16.58721238194902,
          15.308465510237982,
          15.869636562101796,
          16.20070418688989,
          15.403614404061965,
          15.424605281989368,
          15.893078034979203,
          16.227115918270865,
          15.474956548103805,
          15.543932594339054,
          15.965177255647491,
          15.555469422032727,
          15.664714199801253
         ]
        },
        {
         "line": {
          "color": "#E45756",
          "width": 3
         },
         "marker": {
          "size": 10,
          "symbol": "diamond"
         },
         "mode": "lines+markers",
         "name": "Merge+SIMD",
         "type": "scatter",
         "x": [
          100,
          100,
          1000,
          1000,
          1000,
          5000,
          5000,
          5000,
          5000,
          10000,
          10000,
          10000,
          20000,
          20000
         ],
         "y": [
          13.080375183444287,
          13.27498687204621,
          12.855655153906945,
          13.534814510098181,
          14.471892258662594,
          13.050801835766293,
          13.189187886674016,
          13.706548454797796,
          14.535422813416496,
          13.128043395921708,
          13.328806877608823,
          13.876124677210822,
          13.223806207992972,
          13.49914801989768
         ]
        },
        {
         "line": {
          "color": "#72B7B2",
          "width": 3
         },
         "marker": {
          "size": 10,
          "symbol": "cross"
         },
         "mode": "lines+markers",
         "name": "Merge",
         "type": "scatter",
         "x": [
          100,
          100,
          1000,
          1000,
          1000,
          5000,
          5000,
          5000,
          5000,
          10000,
          10000,
          10000,
          20000,
          20000
         ],
         "y": [
          13.596059113300493,
          13.518944990006082,
          12.571944287412142,
          13.042610968819845,
          13.378407264945327,
          12.848456326307964,
          12.757569214198824,
          13.048941547985013,
          13.435788087954158,
          12.896495013167323,
          12.834590519011627,
          13.111518641086539,
          12.912730707910109,
          12.930324554276783
         ]
        },
        {
         "line": {
          "color": "#54A24B",
          "width": 3
         },
         "marker": {
          "size": 10,
          "symbol": "triangle-up-open"
         },
         "mode": "lines+markers",
         "name": "Merge+Rand",
         "type": "scatter",
         "x": [
          100,
          100,
          1000,
          1000,
          1000,
          5000,
          5000,
          5000,
          5000,
          10000,
          10000,
          10000,
          20000,
          20000
         ],
         "y": [
          14.423224505010197,
          13.659799720433558,
          14.834459637851161,
          11.32023861721085,
          11.753521064542227,
          10.792712788533743,
          11.854148868893747,
          12.378707908186868,
          14.071989867107677,
          14.37260222050107,
          9.293074718559726,
          11.347299042975147,
          11.045626438172471,
          9.25997453391492
         ]
        },
        {
         "line": {
          "color": "#EECA3B",
          "width": 3
         },
         "marker": {
          "size": 10,
          "symbol": "pentagon"
         },
         "mode": "lines+markers",
         "name": "Baseline",
         "type": "scatter",
         "x": [
          100,
          100,
          1000,
          1000,
          1000,
          5000,
          5000,
          5000,
          5000,
          10000,
          10000,
          10000,
          20000,
          20000
         ],
         "y": [
          2.3881683587475173,
          2.3358391991864247,
          0.5425740902047772,
          0.6505929572253973,
          0.6371730904300084,
          0.13203032005305979,
          0.15983345987942432,
          0.1935311919149719,
          0.20612037097708816,
          0.07302884731169887,
          0.093031617718158,
          0.11212836346486958,
          0.041668503860122844,
          0.05318158498974211
         ]
        }
       ],
       "layout": {
        "legend": {
         "traceorder": "normal"
        },
        "margin": {
         "autoexpand": true,
         "l": 40,
         "r": 20,
         "t": 40
        },
        "plot_bgcolor": "#eeeeee",
        "showlegend": true,
        "template": {
         "data": {
          "bar": [
           {
            "error_x": {
             "color": "#2a3f5f"
            },
            "error_y": {
             "color": "#2a3f5f"
            },
            "marker": {
             "line": {
              "color": "#E5ECF6",
              "width": 0.5
             }
            },
            "type": "bar"
           }
          ],
          "barpolar": [
           {
            "marker": {
             "line": {
              "color": "#E5ECF6",
              "width": 0.5
             }
            },
            "type": "barpolar"
           }
          ],
          "carpet": [
           {
            "aaxis": {
             "endlinecolor": "#2a3f5f",
             "gridcolor": "white",
             "linecolor": "white",
             "minorgridcolor": "white",
             "startlinecolor": "#2a3f5f"
            },
            "baxis": {
             "endlinecolor": "#2a3f5f",
             "gridcolor": "white",
             "linecolor": "white",
             "minorgridcolor": "white",
             "startlinecolor": "#2a3f5f"
            },
            "type": "carpet"
           }
          ],
          "choropleth": [
           {
            "colorbar": {
             "outlinewidth": 0,
             "ticks": ""
            },
            "type": "choropleth"
           }
          ],
          "contour": [
           {
            "colorbar": {
             "outlinewidth": 0,
             "ticks": ""
            },
            "colorscale": [
             [
              0,
              "#0d0887"
             ],
             [
              0.1111111111111111,
              "#46039f"
             ],
             [
              0.2222222222222222,
              "#7201a8"
             ],
             [
              0.3333333333333333,
              "#9c179e"
             ],
             [
              0.4444444444444444,
              "#bd3786"
             ],
             [
              0.5555555555555556,
              "#d8576b"
             ],
             [
              0.6666666666666666,
              "#ed7953"
             ],
             [
              0.7777777777777778,
              "#fb9f3a"
             ],
             [
              0.8888888888888888,
              "#fdca26"
             ],
             [
              1,
              "#f0f921"
             ]
            ],
            "type": "contour"
           }
          ],
          "contourcarpet": [
           {
            "colorbar": {
             "outlinewidth": 0,
             "ticks": ""
            },
            "type": "contourcarpet"
           }
          ],
          "heatmap": [
           {
            "colorbar": {
             "outlinewidth": 0,
             "ticks": ""
            },
            "colorscale": [
             [
              0,
              "#0d0887"
             ],
             [
              0.1111111111111111,
              "#46039f"
             ],
             [
              0.2222222222222222,
              "#7201a8"
             ],
             [
              0.3333333333333333,
              "#9c179e"
             ],
             [
              0.4444444444444444,
              "#bd3786"
             ],
             [
              0.5555555555555556,
              "#d8576b"
             ],
             [
              0.6666666666666666,
              "#ed7953"
             ],
             [
              0.7777777777777778,
              "#fb9f3a"
             ],
             [
              0.8888888888888888,
              "#fdca26"
             ],
             [
              1,
              "#f0f921"
             ]
            ],
            "type": "heatmap"
           }
          ],
          "heatmapgl": [
           {
            "colorbar": {
             "outlinewidth": 0,
             "ticks": ""
            },
            "colorscale": [
             [
              0,
              "#0d0887"
             ],
             [
              0.1111111111111111,
              "#46039f"
             ],
             [
              0.2222222222222222,
              "#7201a8"
             ],
             [
              0.3333333333333333,
              "#9c179e"
             ],
             [
              0.4444444444444444,
              "#bd3786"
             ],
             [
              0.5555555555555556,
              "#d8576b"
             ],
             [
              0.6666666666666666,
              "#ed7953"
             ],
             [
              0.7777777777777778,
              "#fb9f3a"
             ],
             [
              0.8888888888888888,
              "#fdca26"
             ],
             [
              1,
              "#f0f921"
             ]
            ],
            "type": "heatmapgl"
           }
          ],
          "histogram": [
           {
            "marker": {
             "colorbar": {
              "outlinewidth": 0,
              "ticks": ""
             }
            },
            "type": "histogram"
           }
          ],
          "histogram2d": [
           {
            "colorbar": {
             "outlinewidth": 0,
             "ticks": ""
            },
            "colorscale": [
             [
              0,
              "#0d0887"
             ],
             [
              0.1111111111111111,
              "#46039f"
             ],
             [
              0.2222222222222222,
              "#7201a8"
             ],
             [
              0.3333333333333333,
              "#9c179e"
             ],
             [
              0.4444444444444444,
              "#bd3786"
             ],
             [
              0.5555555555555556,
              "#d8576b"
             ],
             [
              0.6666666666666666,
              "#ed7953"
             ],
             [
              0.7777777777777778,
              "#fb9f3a"
             ],
             [
              0.8888888888888888,
              "#fdca26"
             ],
             [
              1,
              "#f0f921"
             ]
            ],
            "type": "histogram2d"
           }
          ],
          "histogram2dcontour": [
           {
            "colorbar": {
             "outlinewidth": 0,
             "ticks": ""
            },
            "colorscale": [
             [
              0,
              "#0d0887"
             ],
             [
              0.1111111111111111,
              "#46039f"
             ],
             [
              0.2222222222222222,
              "#7201a8"
             ],
             [
              0.3333333333333333,
              "#9c179e"
             ],
             [
              0.4444444444444444,
              "#bd3786"
             ],
             [
              0.5555555555555556,
              "#d8576b"
             ],
             [
              0.6666666666666666,
              "#ed7953"
             ],
             [
              0.7777777777777778,
              "#fb9f3a"
             ],
             [
              0.8888888888888888,
              "#fdca26"
             ],
             [
              1,
              "#f0f921"
             ]
            ],
            "type": "histogram2dcontour"
           }
          ],
          "mesh3d": [
           {
            "colorbar": {
             "outlinewidth": 0,
             "ticks": ""
            },
            "type": "mesh3d"
           }
          ],
          "parcoords": [
           {
            "line": {
             "colorbar": {
              "outlinewidth": 0,
              "ticks": ""
             }
            },
            "type": "parcoords"
           }
          ],
          "pie": [
           {
            "automargin": true,
            "type": "pie"
           }
          ],
          "scatter": [
           {
            "marker": {
             "colorbar": {
              "outlinewidth": 0,
              "ticks": ""
             }
            },
            "type": "scatter"
           }
          ],
          "scatter3d": [
           {
            "line": {
             "colorbar": {
              "outlinewidth": 0,
              "ticks": ""
             }
            },
            "marker": {
             "colorbar": {
              "outlinewidth": 0,
              "ticks": ""
             }
            },
            "type": "scatter3d"
           }
          ],
          "scattercarpet": [
           {
            "marker": {
             "colorbar": {
              "outlinewidth": 0,
              "ticks": ""
             }
            },
            "type": "scattercarpet"
           }
          ],
          "scattergeo": [
           {
            "marker": {
             "colorbar": {
              "outlinewidth": 0,
              "ticks": ""
             }
            },
            "type": "scattergeo"
           }
          ],
          "scattergl": [
           {
            "marker": {
             "colorbar": {
              "outlinewidth": 0,
              "ticks": ""
             }
            },
            "type": "scattergl"
           }
          ],
          "scattermapbox": [
           {
            "marker": {
             "colorbar": {
              "outlinewidth": 0,
              "ticks": ""
             }
            },
            "type": "scattermapbox"
           }
          ],
          "scatterpolar": [
           {
            "marker": {
             "colorbar": {
              "outlinewidth": 0,
              "ticks": ""
             }
            },
            "type": "scatterpolar"
           }
          ],
          "scatterpolargl": [
           {
            "marker": {
             "colorbar": {
              "outlinewidth": 0,
              "ticks": ""
             }
            },
            "type": "scatterpolargl"
           }
          ],
          "scatterternary": [
           {
            "marker": {
             "colorbar": {
              "outlinewidth": 0,
              "ticks": ""
             }
            },
            "type": "scatterternary"
           }
          ],
          "surface": [
           {
            "colorbar": {
             "outlinewidth": 0,
             "ticks": ""
            },
            "colorscale": [
             [
              0,
              "#0d0887"
             ],
             [
              0.1111111111111111,
              "#46039f"
             ],
             [
              0.2222222222222222,
              "#7201a8"
             ],
             [
              0.3333333333333333,
              "#9c179e"
             ],
             [
              0.4444444444444444,
              "#bd3786"
             ],
             [
              0.5555555555555556,
              "#d8576b"
             ],
             [
              0.6666666666666666,
              "#ed7953"
             ],
             [
              0.7777777777777778,
              "#fb9f3a"
             ],
             [
              0.8888888888888888,
              "#fdca26"
             ],
             [
              1,
              "#f0f921"
             ]
            ],
            "type": "surface"
           }
          ],
          "table": [
           {
            "cells": {
             "fill": {
              "color": "#EBF0F8"
             },
             "line": {
              "color": "white"
             }
            },
            "header": {
             "fill": {
              "color": "#C8D4E3"
             },
             "line": {
              "color": "white"
             }
            },
            "type": "table"
           }
          ]
         },
         "layout": {
          "annotationdefaults": {
           "arrowcolor": "#2a3f5f",
           "arrowhead": 0,
           "arrowwidth": 1
          },
          "coloraxis": {
           "colorbar": {
            "outlinewidth": 0,
            "ticks": ""
           }
          },
          "colorscale": {
           "diverging": [
            [
             0,
             "#8e0152"
            ],
            [
             0.1,
             "#c51b7d"
            ],
            [
             0.2,
             "#de77ae"
            ],
            [
             0.3,
             "#f1b6da"
            ],
            [
             0.4,
             "#fde0ef"
            ],
            [
             0.5,
             "#f7f7f7"
            ],
            [
             0.6,
             "#e6f5d0"
            ],
            [
             0.7,
             "#b8e186"
            ],
            [
             0.8,
             "#7fbc41"
            ],
            [
             0.9,
             "#4d9221"
            ],
            [
             1,
             "#276419"
            ]
           ],
           "sequential": [
            [
             0,
             "#0d0887"
            ],
            [
             0.1111111111111111,
             "#46039f"
            ],
            [
             0.2222222222222222,
             "#7201a8"
            ],
            [
             0.3333333333333333,
             "#9c179e"
            ],
            [
             0.4444444444444444,
             "#bd3786"
            ],
            [
             0.5555555555555556,
             "#d8576b"
            ],
            [
             0.6666666666666666,
             "#ed7953"
            ],
            [
             0.7777777777777778,
             "#fb9f3a"
            ],
            [
             0.8888888888888888,
             "#fdca26"
            ],
            [
             1,
             "#f0f921"
            ]
           ],
           "sequentialminus": [
            [
             0,
             "#0d0887"
            ],
            [
             0.1111111111111111,
             "#46039f"
            ],
            [
             0.2222222222222222,
             "#7201a8"
            ],
            [
             0.3333333333333333,
             "#9c179e"
            ],
            [
             0.4444444444444444,
             "#bd3786"
            ],
            [
             0.5555555555555556,
             "#d8576b"
            ],
            [
             0.6666666666666666,
             "#ed7953"
            ],
            [
             0.7777777777777778,
             "#fb9f3a"
            ],
            [
             0.8888888888888888,
             "#fdca26"
            ],
            [
             1,
             "#f0f921"
            ]
           ]
          },
          "colorway": [
           "#636efa",
           "#EF553B",
           "#00cc96",
           "#ab63fa",
           "#FFA15A",
           "#19d3f3",
           "#FF6692",
           "#B6E880",
           "#FF97FF",
           "#FECB52"
          ],
          "font": {
           "color": "#2a3f5f"
          },
          "geo": {
           "bgcolor": "white",
           "lakecolor": "white",
           "landcolor": "#E5ECF6",
           "showlakes": true,
           "showland": true,
           "subunitcolor": "white"
          },
          "hoverlabel": {
           "align": "left"
          },
          "hovermode": "closest",
          "mapbox": {
           "style": "light"
          },
          "paper_bgcolor": "white",
          "plot_bgcolor": "#E5ECF6",
          "polar": {
           "angularaxis": {
            "gridcolor": "white",
            "linecolor": "white",
            "ticks": ""
           },
           "bgcolor": "#E5ECF6",
           "radialaxis": {
            "gridcolor": "white",
            "linecolor": "white",
            "ticks": ""
           }
          },
          "scene": {
           "xaxis": {
            "backgroundcolor": "#E5ECF6",
            "gridcolor": "white",
            "gridwidth": 2,
            "linecolor": "white",
            "showbackground": true,
            "ticks": "",
            "zerolinecolor": "white"
           },
           "yaxis": {
            "backgroundcolor": "#E5ECF6",
            "gridcolor": "white",
            "gridwidth": 2,
            "linecolor": "white",
            "showbackground": true,
            "ticks": "",
            "zerolinecolor": "white"
           },
           "zaxis": {
            "backgroundcolor": "#E5ECF6",
            "gridcolor": "white",
            "gridwidth": 2,
            "linecolor": "white",
            "showbackground": true,
            "ticks": "",
            "zerolinecolor": "white"
           }
          },
          "shapedefaults": {
           "line": {
            "color": "#2a3f5f"
           }
          },
          "ternary": {
           "aaxis": {
            "gridcolor": "white",
            "linecolor": "white",
            "ticks": ""
           },
           "baxis": {
            "gridcolor": "white",
            "linecolor": "white",
            "ticks": ""
           },
           "bgcolor": "#E5ECF6",
           "caxis": {
            "gridcolor": "white",
            "linecolor": "white",
            "ticks": ""
           }
          },
          "title": {
           "x": 0.05
          },
          "xaxis": {
           "automargin": true,
           "gridcolor": "white",
           "linecolor": "white",
           "ticks": "",
           "title": {
            "standoff": 15
           },
           "zerolinecolor": "white",
           "zerolinewidth": 2
          },
          "yaxis": {
           "automargin": true,
           "gridcolor": "white",
           "linecolor": "white",
           "ticks": "",
           "title": {
            "standoff": 15
           },
           "zerolinecolor": "white",
           "zerolinewidth": 2
          }
         }
        },
        "xaxis": {
         "linecolor": "rgb(0, 0, 0)",
         "linewidth": 2,
         "rangemode": "tozero",
         "showgrid": false,
         "showline": true,
         "tickfont": {
          "color": "#000000",
          "size": 22
         },
         "ticks": "outside",
         "tickwidth": 3
        },
        "yaxis": {
         "rangemode": "tozero",
         "showline": false,
         "showticklabels": true,
         "tickfont": {
          "color": "#000000",
          "size": 22
         },
         "zeroline": false
        }
       }
      }
     },
     "metadata": {}
    }
   ],
   "source": [
    "fig = go.Figure()\n",
    "ploted_edge=[100,500,1000,5000,10000, 20000, 40000, 80000]\n",
    "# for idx, e in enumerate(ploted_edge):\n",
    "func_alias=['Vector', 'Inline', 'Merge+SIMD', 'Merge', 'Merge+Rand', 'Baseline']\n",
    "for j, func in enumerate(func_alias):\n",
    "    same = result.loc[result['function']==func]\n",
    "    fig.add_trace(go.Scatter(x=same[\"#V\"], y=same['branch miss rate'], name=f\"{func}\",\n",
    "                            mode='lines+markers', marker=dict(symbol=marker_symbols[j],size=10),\n",
    "                            line=dict(color=colorq[j], width=3)))\n",
    "\n",
    "fig.update_layout(xaxis=dict(showline=True, showgrid=False, rangemode=\"tozero\",\n",
    "                             linecolor='rgb(0, 0, 0)', linewidth=2,\n",
    "                             tickwidth=3, tickfont=num_font, ticks='outside'),\n",
    "                  yaxis=dict(tickfont=num_font, zeroline=False, showticklabels=True, rangemode=\"tozero\",\n",
    "                             showline=False),\n",
    "                  showlegend=True, legend=dict(traceorder=\"normal\"),\n",
    "                  margin=dict(autoexpand=True, l=40, r=20, t=40),\n",
    "                  plot_bgcolor=\"#eeeeee\"\n",
    "                  )\n",
    "fig.show()\n",
    "fig.write_image(\"branch-miss-rate.pdf\")"
   ]
  },
  {
   "cell_type": "code",
   "execution_count": 12,
   "metadata": {},
   "outputs": [
    {
     "output_type": "display_data",
     "data": {
      "application/vnd.plotly.v1+json": {
       "config": {
        "plotlyServerURL": "https://plot.ly"
       },
       "data": [
        {
         "line": {
          "color": "#4C78A8",
          "width": 3
         },
         "marker": {
          "size": 10,
          "symbol": "circle"
         },
         "mode": "lines+markers",
         "name": "Inline",
         "type": "scatter",
         "x": [
          1000,
          5000,
          10000
         ],
         "y": [
          0.243332,
          0.152036,
          0.128195
         ]
        },
        {
         "line": {
          "color": "#F58518",
          "width": 3
         },
         "marker": {
          "size": 10,
          "symbol": "square"
         },
         "mode": "lines+markers",
         "name": "Merge+SIMD",
         "type": "scatter",
         "x": [
          1000,
          5000,
          10000
         ],
         "y": [
          0.232638,
          0.13989,
          0.120613
         ]
        },
        {
         "line": {
          "color": "#E45756",
          "width": 3
         },
         "marker": {
          "size": 10,
          "symbol": "diamond"
         },
         "mode": "lines+markers",
         "name": "Merge+Rand",
         "type": "scatter",
         "x": [
          1000,
          5000,
          10000
         ],
         "y": [
          0.19266,
          0.158922,
          0.098585
         ]
        },
        {
         "line": {
          "color": "#72B7B2",
          "width": 3
         },
         "marker": {
          "size": 10,
          "symbol": "cross"
         },
         "mode": "lines+markers",
         "name": "Vector",
         "type": "scatter",
         "x": [
          1000,
          5000,
          10000
         ],
         "y": [
          0.178122,
          0.127772,
          0.116508
         ]
        },
        {
         "line": {
          "color": "#54A24B",
          "width": 3
         },
         "marker": {
          "size": 10,
          "symbol": "triangle-up-open"
         },
         "mode": "lines+markers",
         "name": "Merge",
         "type": "scatter",
         "x": [
          1000,
          5000,
          10000
         ],
         "y": [
          0.183084,
          0.0443666,
          0.00966826
         ]
        },
        {
         "line": {
          "color": "#EECA3B",
          "width": 3
         },
         "marker": {
          "size": 10,
          "symbol": "pentagon"
         },
         "mode": "lines+markers",
         "name": "Baseline",
         "type": "scatter",
         "x": [
          1000,
          5000,
          10000
         ],
         "y": [
          0.0558068,
          0.0109564,
          0.00341891
         ]
        }
       ],
       "layout": {
        "legend": {
         "traceorder": "normal"
        },
        "margin": {
         "autoexpand": true,
         "l": 40,
         "r": 20,
         "t": 40
        },
        "plot_bgcolor": "#eeeeee",
        "showlegend": true,
        "template": {
         "data": {
          "bar": [
           {
            "error_x": {
             "color": "#2a3f5f"
            },
            "error_y": {
             "color": "#2a3f5f"
            },
            "marker": {
             "line": {
              "color": "#E5ECF6",
              "width": 0.5
             }
            },
            "type": "bar"
           }
          ],
          "barpolar": [
           {
            "marker": {
             "line": {
              "color": "#E5ECF6",
              "width": 0.5
             }
            },
            "type": "barpolar"
           }
          ],
          "carpet": [
           {
            "aaxis": {
             "endlinecolor": "#2a3f5f",
             "gridcolor": "white",
             "linecolor": "white",
             "minorgridcolor": "white",
             "startlinecolor": "#2a3f5f"
            },
            "baxis": {
             "endlinecolor": "#2a3f5f",
             "gridcolor": "white",
             "linecolor": "white",
             "minorgridcolor": "white",
             "startlinecolor": "#2a3f5f"
            },
            "type": "carpet"
           }
          ],
          "choropleth": [
           {
            "colorbar": {
             "outlinewidth": 0,
             "ticks": ""
            },
            "type": "choropleth"
           }
          ],
          "contour": [
           {
            "colorbar": {
             "outlinewidth": 0,
             "ticks": ""
            },
            "colorscale": [
             [
              0,
              "#0d0887"
             ],
             [
              0.1111111111111111,
              "#46039f"
             ],
             [
              0.2222222222222222,
              "#7201a8"
             ],
             [
              0.3333333333333333,
              "#9c179e"
             ],
             [
              0.4444444444444444,
              "#bd3786"
             ],
             [
              0.5555555555555556,
              "#d8576b"
             ],
             [
              0.6666666666666666,
              "#ed7953"
             ],
             [
              0.7777777777777778,
              "#fb9f3a"
             ],
             [
              0.8888888888888888,
              "#fdca26"
             ],
             [
              1,
              "#f0f921"
             ]
            ],
            "type": "contour"
           }
          ],
          "contourcarpet": [
           {
            "colorbar": {
             "outlinewidth": 0,
             "ticks": ""
            },
            "type": "contourcarpet"
           }
          ],
          "heatmap": [
           {
            "colorbar": {
             "outlinewidth": 0,
             "ticks": ""
            },
            "colorscale": [
             [
              0,
              "#0d0887"
             ],
             [
              0.1111111111111111,
              "#46039f"
             ],
             [
              0.2222222222222222,
              "#7201a8"
             ],
             [
              0.3333333333333333,
              "#9c179e"
             ],
             [
              0.4444444444444444,
              "#bd3786"
             ],
             [
              0.5555555555555556,
              "#d8576b"
             ],
             [
              0.6666666666666666,
              "#ed7953"
             ],
             [
              0.7777777777777778,
              "#fb9f3a"
             ],
             [
              0.8888888888888888,
              "#fdca26"
             ],
             [
              1,
              "#f0f921"
             ]
            ],
            "type": "heatmap"
           }
          ],
          "heatmapgl": [
           {
            "colorbar": {
             "outlinewidth": 0,
             "ticks": ""
            },
            "colorscale": [
             [
              0,
              "#0d0887"
             ],
             [
              0.1111111111111111,
              "#46039f"
             ],
             [
              0.2222222222222222,
              "#7201a8"
             ],
             [
              0.3333333333333333,
              "#9c179e"
             ],
             [
              0.4444444444444444,
              "#bd3786"
             ],
             [
              0.5555555555555556,
              "#d8576b"
             ],
             [
              0.6666666666666666,
              "#ed7953"
             ],
             [
              0.7777777777777778,
              "#fb9f3a"
             ],
             [
              0.8888888888888888,
              "#fdca26"
             ],
             [
              1,
              "#f0f921"
             ]
            ],
            "type": "heatmapgl"
           }
          ],
          "histogram": [
           {
            "marker": {
             "colorbar": {
              "outlinewidth": 0,
              "ticks": ""
             }
            },
            "type": "histogram"
           }
          ],
          "histogram2d": [
           {
            "colorbar": {
             "outlinewidth": 0,
             "ticks": ""
            },
            "colorscale": [
             [
              0,
              "#0d0887"
             ],
             [
              0.1111111111111111,
              "#46039f"
             ],
             [
              0.2222222222222222,
              "#7201a8"
             ],
             [
              0.3333333333333333,
              "#9c179e"
             ],
             [
              0.4444444444444444,
              "#bd3786"
             ],
             [
              0.5555555555555556,
              "#d8576b"
             ],
             [
              0.6666666666666666,
              "#ed7953"
             ],
             [
              0.7777777777777778,
              "#fb9f3a"
             ],
             [
              0.8888888888888888,
              "#fdca26"
             ],
             [
              1,
              "#f0f921"
             ]
            ],
            "type": "histogram2d"
           }
          ],
          "histogram2dcontour": [
           {
            "colorbar": {
             "outlinewidth": 0,
             "ticks": ""
            },
            "colorscale": [
             [
              0,
              "#0d0887"
             ],
             [
              0.1111111111111111,
              "#46039f"
             ],
             [
              0.2222222222222222,
              "#7201a8"
             ],
             [
              0.3333333333333333,
              "#9c179e"
             ],
             [
              0.4444444444444444,
              "#bd3786"
             ],
             [
              0.5555555555555556,
              "#d8576b"
             ],
             [
              0.6666666666666666,
              "#ed7953"
             ],
             [
              0.7777777777777778,
              "#fb9f3a"
             ],
             [
              0.8888888888888888,
              "#fdca26"
             ],
             [
              1,
              "#f0f921"
             ]
            ],
            "type": "histogram2dcontour"
           }
          ],
          "mesh3d": [
           {
            "colorbar": {
             "outlinewidth": 0,
             "ticks": ""
            },
            "type": "mesh3d"
           }
          ],
          "parcoords": [
           {
            "line": {
             "colorbar": {
              "outlinewidth": 0,
              "ticks": ""
             }
            },
            "type": "parcoords"
           }
          ],
          "pie": [
           {
            "automargin": true,
            "type": "pie"
           }
          ],
          "scatter": [
           {
            "marker": {
             "colorbar": {
              "outlinewidth": 0,
              "ticks": ""
             }
            },
            "type": "scatter"
           }
          ],
          "scatter3d": [
           {
            "line": {
             "colorbar": {
              "outlinewidth": 0,
              "ticks": ""
             }
            },
            "marker": {
             "colorbar": {
              "outlinewidth": 0,
              "ticks": ""
             }
            },
            "type": "scatter3d"
           }
          ],
          "scattercarpet": [
           {
            "marker": {
             "colorbar": {
              "outlinewidth": 0,
              "ticks": ""
             }
            },
            "type": "scattercarpet"
           }
          ],
          "scattergeo": [
           {
            "marker": {
             "colorbar": {
              "outlinewidth": 0,
              "ticks": ""
             }
            },
            "type": "scattergeo"
           }
          ],
          "scattergl": [
           {
            "marker": {
             "colorbar": {
              "outlinewidth": 0,
              "ticks": ""
             }
            },
            "type": "scattergl"
           }
          ],
          "scattermapbox": [
           {
            "marker": {
             "colorbar": {
              "outlinewidth": 0,
              "ticks": ""
             }
            },
            "type": "scattermapbox"
           }
          ],
          "scatterpolar": [
           {
            "marker": {
             "colorbar": {
              "outlinewidth": 0,
              "ticks": ""
             }
            },
            "type": "scatterpolar"
           }
          ],
          "scatterpolargl": [
           {
            "marker": {
             "colorbar": {
              "outlinewidth": 0,
              "ticks": ""
             }
            },
            "type": "scatterpolargl"
           }
          ],
          "scatterternary": [
           {
            "marker": {
             "colorbar": {
              "outlinewidth": 0,
              "ticks": ""
             }
            },
            "type": "scatterternary"
           }
          ],
          "surface": [
           {
            "colorbar": {
             "outlinewidth": 0,
             "ticks": ""
            },
            "colorscale": [
             [
              0,
              "#0d0887"
             ],
             [
              0.1111111111111111,
              "#46039f"
             ],
             [
              0.2222222222222222,
              "#7201a8"
             ],
             [
              0.3333333333333333,
              "#9c179e"
             ],
             [
              0.4444444444444444,
              "#bd3786"
             ],
             [
              0.5555555555555556,
              "#d8576b"
             ],
             [
              0.6666666666666666,
              "#ed7953"
             ],
             [
              0.7777777777777778,
              "#fb9f3a"
             ],
             [
              0.8888888888888888,
              "#fdca26"
             ],
             [
              1,
              "#f0f921"
             ]
            ],
            "type": "surface"
           }
          ],
          "table": [
           {
            "cells": {
             "fill": {
              "color": "#EBF0F8"
             },
             "line": {
              "color": "white"
             }
            },
            "header": {
             "fill": {
              "color": "#C8D4E3"
             },
             "line": {
              "color": "white"
             }
            },
            "type": "table"
           }
          ]
         },
         "layout": {
          "annotationdefaults": {
           "arrowcolor": "#2a3f5f",
           "arrowhead": 0,
           "arrowwidth": 1
          },
          "coloraxis": {
           "colorbar": {
            "outlinewidth": 0,
            "ticks": ""
           }
          },
          "colorscale": {
           "diverging": [
            [
             0,
             "#8e0152"
            ],
            [
             0.1,
             "#c51b7d"
            ],
            [
             0.2,
             "#de77ae"
            ],
            [
             0.3,
             "#f1b6da"
            ],
            [
             0.4,
             "#fde0ef"
            ],
            [
             0.5,
             "#f7f7f7"
            ],
            [
             0.6,
             "#e6f5d0"
            ],
            [
             0.7,
             "#b8e186"
            ],
            [
             0.8,
             "#7fbc41"
            ],
            [
             0.9,
             "#4d9221"
            ],
            [
             1,
             "#276419"
            ]
           ],
           "sequential": [
            [
             0,
             "#0d0887"
            ],
            [
             0.1111111111111111,
             "#46039f"
            ],
            [
             0.2222222222222222,
             "#7201a8"
            ],
            [
             0.3333333333333333,
             "#9c179e"
            ],
            [
             0.4444444444444444,
             "#bd3786"
            ],
            [
             0.5555555555555556,
             "#d8576b"
            ],
            [
             0.6666666666666666,
             "#ed7953"
            ],
            [
             0.7777777777777778,
             "#fb9f3a"
            ],
            [
             0.8888888888888888,
             "#fdca26"
            ],
            [
             1,
             "#f0f921"
            ]
           ],
           "sequentialminus": [
            [
             0,
             "#0d0887"
            ],
            [
             0.1111111111111111,
             "#46039f"
            ],
            [
             0.2222222222222222,
             "#7201a8"
            ],
            [
             0.3333333333333333,
             "#9c179e"
            ],
            [
             0.4444444444444444,
             "#bd3786"
            ],
            [
             0.5555555555555556,
             "#d8576b"
            ],
            [
             0.6666666666666666,
             "#ed7953"
            ],
            [
             0.7777777777777778,
             "#fb9f3a"
            ],
            [
             0.8888888888888888,
             "#fdca26"
            ],
            [
             1,
             "#f0f921"
            ]
           ]
          },
          "colorway": [
           "#636efa",
           "#EF553B",
           "#00cc96",
           "#ab63fa",
           "#FFA15A",
           "#19d3f3",
           "#FF6692",
           "#B6E880",
           "#FF97FF",
           "#FECB52"
          ],
          "font": {
           "color": "#2a3f5f"
          },
          "geo": {
           "bgcolor": "white",
           "lakecolor": "white",
           "landcolor": "#E5ECF6",
           "showlakes": true,
           "showland": true,
           "subunitcolor": "white"
          },
          "hoverlabel": {
           "align": "left"
          },
          "hovermode": "closest",
          "mapbox": {
           "style": "light"
          },
          "paper_bgcolor": "white",
          "plot_bgcolor": "#E5ECF6",
          "polar": {
           "angularaxis": {
            "gridcolor": "white",
            "linecolor": "white",
            "ticks": ""
           },
           "bgcolor": "#E5ECF6",
           "radialaxis": {
            "gridcolor": "white",
            "linecolor": "white",
            "ticks": ""
           }
          },
          "scene": {
           "xaxis": {
            "backgroundcolor": "#E5ECF6",
            "gridcolor": "white",
            "gridwidth": 2,
            "linecolor": "white",
            "showbackground": true,
            "ticks": "",
            "zerolinecolor": "white"
           },
           "yaxis": {
            "backgroundcolor": "#E5ECF6",
            "gridcolor": "white",
            "gridwidth": 2,
            "linecolor": "white",
            "showbackground": true,
            "ticks": "",
            "zerolinecolor": "white"
           },
           "zaxis": {
            "backgroundcolor": "#E5ECF6",
            "gridcolor": "white",
            "gridwidth": 2,
            "linecolor": "white",
            "showbackground": true,
            "ticks": "",
            "zerolinecolor": "white"
           }
          },
          "shapedefaults": {
           "line": {
            "color": "#2a3f5f"
           }
          },
          "ternary": {
           "aaxis": {
            "gridcolor": "white",
            "linecolor": "white",
            "ticks": ""
           },
           "baxis": {
            "gridcolor": "white",
            "linecolor": "white",
            "ticks": ""
           },
           "bgcolor": "#E5ECF6",
           "caxis": {
            "gridcolor": "white",
            "linecolor": "white",
            "ticks": ""
           }
          },
          "title": {
           "x": 0.05
          },
          "xaxis": {
           "automargin": true,
           "gridcolor": "white",
           "linecolor": "white",
           "ticks": "",
           "title": {
            "standoff": 15
           },
           "zerolinecolor": "white",
           "zerolinewidth": 2
          },
          "yaxis": {
           "automargin": true,
           "gridcolor": "white",
           "linecolor": "white",
           "ticks": "",
           "title": {
            "standoff": 15
           },
           "zerolinecolor": "white",
           "zerolinewidth": 2
          }
         }
        },
        "xaxis": {
         "linecolor": "rgb(0, 0, 0)",
         "linewidth": 2,
         "rangemode": "tozero",
         "showgrid": false,
         "showline": true,
         "tickfont": {
          "color": "#000000",
          "size": 22
         },
         "ticks": "outside",
         "tickwidth": 3
        },
        "yaxis": {
         "rangemode": "tozero",
         "showline": false,
         "showticklabels": true,
         "tickfont": {
          "color": "#000000",
          "size": 22
         },
         "zeroline": false
        }
       }
      }
     },
     "metadata": {}
    }
   ],
   "source": [
    "fig = go.Figure()\n",
    "ploted_edge=[100,500,1000,5000,10000, 20000, 40000, 80000]\n",
    "# for idx, e in enumerate(ploted_edge):\n",
    "func_alias=['Inline', 'Merge+SIMD', 'Merge+Rand', 'Vector', 'Merge', 'Baseline']\n",
    "for j, func in enumerate(func_alias):\n",
    "    same = result.loc[(result['function']==func) & (result['#E']==20000)]\n",
    "    fig.add_trace(go.Scatter(x=same[\"#V\"], y=same['flops/cycle'], name=f\"{func}\",\n",
    "                            mode='lines+markers', marker=dict(symbol=marker_symbols[j],size=10),\n",
    "                            line=dict(color=colorq[j], width=3)))\n",
    "\n",
    "fig.update_layout(xaxis=dict(showline=True, showgrid=False, rangemode=\"tozero\",\n",
    "                             linecolor='rgb(0, 0, 0)', linewidth=2,\n",
    "                             tickwidth=3, tickfont=num_font, ticks='outside'),\n",
    "                  yaxis=dict(tickfont=num_font, zeroline=False, showticklabels=True, rangemode=\"tozero\",\n",
    "                             showline=False),\n",
    "                  showlegend=True, legend=dict(traceorder=\"normal\"),\n",
    "                  margin=dict(autoexpand=True, l=40, r=20, t=40),\n",
    "                  plot_bgcolor=\"#eeeeee\"\n",
    "                  )\n",
    "fig.show()\n",
    "fig.write_image(\"flops_cycles_e20000.pdf\")"
   ]
  },
  {
   "cell_type": "code",
   "execution_count": 1,
   "metadata": {},
   "outputs": [
    {
     "output_type": "error",
     "ename": "NameError",
     "evalue": "name 'go' is not defined",
     "traceback": [
      "\u001b[0;31m---------------------------------------------------------------------------\u001b[0m",
      "\u001b[0;31mNameError\u001b[0m                                 Traceback (most recent call last)",
      "\u001b[0;32m<ipython-input-1-546fb01280bd>\u001b[0m in \u001b[0;36m<module>\u001b[0;34m\u001b[0m\n\u001b[0;32m----> 1\u001b[0;31m \u001b[0mfig\u001b[0m \u001b[0;34m=\u001b[0m \u001b[0mgo\u001b[0m\u001b[0;34m.\u001b[0m\u001b[0mFigure\u001b[0m\u001b[0;34m(\u001b[0m\u001b[0;34m)\u001b[0m\u001b[0;34m\u001b[0m\u001b[0;34m\u001b[0m\u001b[0m\n\u001b[0m\u001b[1;32m      2\u001b[0m \u001b[0mploted_edge\u001b[0m\u001b[0;34m=\u001b[0m\u001b[0;34m[\u001b[0m\u001b[0;36m100\u001b[0m\u001b[0;34m,\u001b[0m\u001b[0;36m500\u001b[0m\u001b[0;34m,\u001b[0m\u001b[0;36m1000\u001b[0m\u001b[0;34m,\u001b[0m\u001b[0;36m5000\u001b[0m\u001b[0;34m,\u001b[0m\u001b[0;36m10000\u001b[0m\u001b[0;34m,\u001b[0m \u001b[0;36m20000\u001b[0m\u001b[0;34m,\u001b[0m \u001b[0;36m40000\u001b[0m\u001b[0;34m,\u001b[0m \u001b[0;36m80000\u001b[0m\u001b[0;34m]\u001b[0m\u001b[0;34m\u001b[0m\u001b[0;34m\u001b[0m\u001b[0m\n\u001b[1;32m      3\u001b[0m \u001b[0;31m# for idx, e in enumerate(ploted_edge):\u001b[0m\u001b[0;34m\u001b[0m\u001b[0;34m\u001b[0m\u001b[0;34m\u001b[0m\u001b[0m\n\u001b[1;32m      4\u001b[0m \u001b[0mfunc_alias\u001b[0m\u001b[0;34m=\u001b[0m\u001b[0;34m[\u001b[0m\u001b[0;34m'Merge+SIMD'\u001b[0m\u001b[0;34m,\u001b[0m\u001b[0;34m'Inline'\u001b[0m\u001b[0;34m,\u001b[0m\u001b[0;34m'Merge+Rand'\u001b[0m\u001b[0;34m,\u001b[0m \u001b[0;34m'Merge'\u001b[0m\u001b[0;34m,\u001b[0m\u001b[0;34m'Vector'\u001b[0m\u001b[0;34m,\u001b[0m\u001b[0;34m'Baseline'\u001b[0m\u001b[0;34m]\u001b[0m\u001b[0;34m\u001b[0m\u001b[0;34m\u001b[0m\u001b[0m\n\u001b[1;32m      5\u001b[0m \u001b[0;32mfor\u001b[0m \u001b[0mj\u001b[0m\u001b[0;34m,\u001b[0m \u001b[0mfunc\u001b[0m \u001b[0;32min\u001b[0m \u001b[0menumerate\u001b[0m\u001b[0;34m(\u001b[0m\u001b[0mfunc_alias\u001b[0m\u001b[0;34m)\u001b[0m\u001b[0;34m:\u001b[0m\u001b[0;34m\u001b[0m\u001b[0;34m\u001b[0m\u001b[0m\n",
      "\u001b[0;31mNameError\u001b[0m: name 'go' is not defined"
     ]
    }
   ],
   "source": [
    "fig = go.Figure()\n",
    "ploted_edge=[100,500,1000,5000,10000, 20000, 40000, 80000]\n",
    "# for idx, e in enumerate(ploted_edge):\n",
    "func_alias=['Merge+SIMD','Inline','Merge+Rand', 'Merge','Vector','Baseline']\n",
    "for j, func in enumerate(func_alias):\n",
    "    same = result.loc[(result['function']==func) & (result['#E']==80000)]\n",
    "    fig.add_trace(go.Scatter(x=same[\"#V\"], y=same['flops/cycle'], name=f\"{func}\",\n",
    "                            mode='lines+markers', marker=dict(symbol=marker_symbols[j],size=10),\n",
    "                            line=dict(color=colorq[j], width=3)))\n",
    "\n",
    "fig.update_layout(xaxis=dict(showline=True, showgrid=False, rangemode=\"tozero\",\n",
    "                             linecolor='rgb(0, 0, 0)', linewidth=2,\n",
    "                             tickwidth=3, tickfont=num_font, ticks='outside'),\n",
    "                  yaxis=dict(tickfont=num_font, zeroline=False, showticklabels=True, rangemode=\"nonnegative\",\n",
    "                             showline=False),\n",
    "                  showlegend=True, legend=dict(traceorder=\"normal\"),\n",
    "                  margin=dict(autoexpand=True, l=40, r=20, t=40),\n",
    "                  plot_bgcolor=\"#eeeeee\"\n",
    "                  )\n",
    "fig.show()\n",
    "fig.write_image(\"flops_cycles_e80000.pdf\")"
   ]
  },
  {
   "cell_type": "code",
   "execution_count": 12,
   "metadata": {},
   "outputs": [
    {
     "output_type": "display_data",
     "data": {
      "application/vnd.plotly.v1+json": {
       "config": {
        "plotlyServerURL": "https://plot.ly"
       },
       "data": [
        {
         "line": {
          "color": "#4C78A8",
          "width": 3
         },
         "marker": {
          "size": 10,
          "symbol": "circle"
         },
         "mode": "lines+markers",
         "name": "Merge+SIMD",
         "type": "scatter",
         "x": [
          5000,
          10000,
          20000
         ],
         "y": [
          0.181649,
          0.208973,
          0.232638
         ]
        },
        {
         "line": {
          "color": "#F58518",
          "width": 3
         },
         "marker": {
          "size": 10,
          "symbol": "square"
         },
         "mode": "lines+markers",
         "name": "Inline",
         "type": "scatter",
         "x": [
          5000,
          10000,
          20000
         ],
         "y": [
          0.193185,
          0.209145,
          0.243332
         ]
        },
        {
         "line": {
          "color": "#E45756",
          "width": 3
         },
         "marker": {
          "size": 10,
          "symbol": "diamond"
         },
         "mode": "lines+markers",
         "name": "Merge+Rand",
         "type": "scatter",
         "x": [
          5000,
          10000,
          20000
         ],
         "y": [
          0.148936,
          0.175752,
          0.19266
         ]
        },
        {
         "line": {
          "color": "#72B7B2",
          "width": 3
         },
         "marker": {
          "size": 10,
          "symbol": "cross"
         },
         "mode": "lines+markers",
         "name": "Merge",
         "type": "scatter",
         "x": [
          5000,
          10000,
          20000
         ],
         "y": [
          0.136515,
          0.148716,
          0.183084
         ]
        },
        {
         "line": {
          "color": "#54A24B",
          "width": 3
         },
         "marker": {
          "size": 10,
          "symbol": "triangle-up-open"
         },
         "mode": "lines+markers",
         "name": "Vector",
         "type": "scatter",
         "x": [
          5000,
          10000,
          20000
         ],
         "y": [
          0.153167,
          0.160959,
          0.178122
         ]
        },
        {
         "line": {
          "color": "#EECA3B",
          "width": 3
         },
         "marker": {
          "size": 10,
          "symbol": "pentagon"
         },
         "mode": "lines+markers",
         "name": "Baseline",
         "type": "scatter",
         "x": [
          5000,
          10000,
          20000
         ],
         "y": [
          0.058164,
          0.0510956,
          0.0558068
         ]
        }
       ],
       "layout": {
        "legend": {
         "traceorder": "normal"
        },
        "margin": {
         "autoexpand": true,
         "l": 40,
         "r": 20,
         "t": 40
        },
        "plot_bgcolor": "#eeeeee",
        "showlegend": true,
        "template": {
         "data": {
          "bar": [
           {
            "error_x": {
             "color": "#2a3f5f"
            },
            "error_y": {
             "color": "#2a3f5f"
            },
            "marker": {
             "line": {
              "color": "#E5ECF6",
              "width": 0.5
             }
            },
            "type": "bar"
           }
          ],
          "barpolar": [
           {
            "marker": {
             "line": {
              "color": "#E5ECF6",
              "width": 0.5
             }
            },
            "type": "barpolar"
           }
          ],
          "carpet": [
           {
            "aaxis": {
             "endlinecolor": "#2a3f5f",
             "gridcolor": "white",
             "linecolor": "white",
             "minorgridcolor": "white",
             "startlinecolor": "#2a3f5f"
            },
            "baxis": {
             "endlinecolor": "#2a3f5f",
             "gridcolor": "white",
             "linecolor": "white",
             "minorgridcolor": "white",
             "startlinecolor": "#2a3f5f"
            },
            "type": "carpet"
           }
          ],
          "choropleth": [
           {
            "colorbar": {
             "outlinewidth": 0,
             "ticks": ""
            },
            "type": "choropleth"
           }
          ],
          "contour": [
           {
            "colorbar": {
             "outlinewidth": 0,
             "ticks": ""
            },
            "colorscale": [
             [
              0,
              "#0d0887"
             ],
             [
              0.1111111111111111,
              "#46039f"
             ],
             [
              0.2222222222222222,
              "#7201a8"
             ],
             [
              0.3333333333333333,
              "#9c179e"
             ],
             [
              0.4444444444444444,
              "#bd3786"
             ],
             [
              0.5555555555555556,
              "#d8576b"
             ],
             [
              0.6666666666666666,
              "#ed7953"
             ],
             [
              0.7777777777777778,
              "#fb9f3a"
             ],
             [
              0.8888888888888888,
              "#fdca26"
             ],
             [
              1,
              "#f0f921"
             ]
            ],
            "type": "contour"
           }
          ],
          "contourcarpet": [
           {
            "colorbar": {
             "outlinewidth": 0,
             "ticks": ""
            },
            "type": "contourcarpet"
           }
          ],
          "heatmap": [
           {
            "colorbar": {
             "outlinewidth": 0,
             "ticks": ""
            },
            "colorscale": [
             [
              0,
              "#0d0887"
             ],
             [
              0.1111111111111111,
              "#46039f"
             ],
             [
              0.2222222222222222,
              "#7201a8"
             ],
             [
              0.3333333333333333,
              "#9c179e"
             ],
             [
              0.4444444444444444,
              "#bd3786"
             ],
             [
              0.5555555555555556,
              "#d8576b"
             ],
             [
              0.6666666666666666,
              "#ed7953"
             ],
             [
              0.7777777777777778,
              "#fb9f3a"
             ],
             [
              0.8888888888888888,
              "#fdca26"
             ],
             [
              1,
              "#f0f921"
             ]
            ],
            "type": "heatmap"
           }
          ],
          "heatmapgl": [
           {
            "colorbar": {
             "outlinewidth": 0,
             "ticks": ""
            },
            "colorscale": [
             [
              0,
              "#0d0887"
             ],
             [
              0.1111111111111111,
              "#46039f"
             ],
             [
              0.2222222222222222,
              "#7201a8"
             ],
             [
              0.3333333333333333,
              "#9c179e"
             ],
             [
              0.4444444444444444,
              "#bd3786"
             ],
             [
              0.5555555555555556,
              "#d8576b"
             ],
             [
              0.6666666666666666,
              "#ed7953"
             ],
             [
              0.7777777777777778,
              "#fb9f3a"
             ],
             [
              0.8888888888888888,
              "#fdca26"
             ],
             [
              1,
              "#f0f921"
             ]
            ],
            "type": "heatmapgl"
           }
          ],
          "histogram": [
           {
            "marker": {
             "colorbar": {
              "outlinewidth": 0,
              "ticks": ""
             }
            },
            "type": "histogram"
           }
          ],
          "histogram2d": [
           {
            "colorbar": {
             "outlinewidth": 0,
             "ticks": ""
            },
            "colorscale": [
             [
              0,
              "#0d0887"
             ],
             [
              0.1111111111111111,
              "#46039f"
             ],
             [
              0.2222222222222222,
              "#7201a8"
             ],
             [
              0.3333333333333333,
              "#9c179e"
             ],
             [
              0.4444444444444444,
              "#bd3786"
             ],
             [
              0.5555555555555556,
              "#d8576b"
             ],
             [
              0.6666666666666666,
              "#ed7953"
             ],
             [
              0.7777777777777778,
              "#fb9f3a"
             ],
             [
              0.8888888888888888,
              "#fdca26"
             ],
             [
              1,
              "#f0f921"
             ]
            ],
            "type": "histogram2d"
           }
          ],
          "histogram2dcontour": [
           {
            "colorbar": {
             "outlinewidth": 0,
             "ticks": ""
            },
            "colorscale": [
             [
              0,
              "#0d0887"
             ],
             [
              0.1111111111111111,
              "#46039f"
             ],
             [
              0.2222222222222222,
              "#7201a8"
             ],
             [
              0.3333333333333333,
              "#9c179e"
             ],
             [
              0.4444444444444444,
              "#bd3786"
             ],
             [
              0.5555555555555556,
              "#d8576b"
             ],
             [
              0.6666666666666666,
              "#ed7953"
             ],
             [
              0.7777777777777778,
              "#fb9f3a"
             ],
             [
              0.8888888888888888,
              "#fdca26"
             ],
             [
              1,
              "#f0f921"
             ]
            ],
            "type": "histogram2dcontour"
           }
          ],
          "mesh3d": [
           {
            "colorbar": {
             "outlinewidth": 0,
             "ticks": ""
            },
            "type": "mesh3d"
           }
          ],
          "parcoords": [
           {
            "line": {
             "colorbar": {
              "outlinewidth": 0,
              "ticks": ""
             }
            },
            "type": "parcoords"
           }
          ],
          "pie": [
           {
            "automargin": true,
            "type": "pie"
           }
          ],
          "scatter": [
           {
            "marker": {
             "colorbar": {
              "outlinewidth": 0,
              "ticks": ""
             }
            },
            "type": "scatter"
           }
          ],
          "scatter3d": [
           {
            "line": {
             "colorbar": {
              "outlinewidth": 0,
              "ticks": ""
             }
            },
            "marker": {
             "colorbar": {
              "outlinewidth": 0,
              "ticks": ""
             }
            },
            "type": "scatter3d"
           }
          ],
          "scattercarpet": [
           {
            "marker": {
             "colorbar": {
              "outlinewidth": 0,
              "ticks": ""
             }
            },
            "type": "scattercarpet"
           }
          ],
          "scattergeo": [
           {
            "marker": {
             "colorbar": {
              "outlinewidth": 0,
              "ticks": ""
             }
            },
            "type": "scattergeo"
           }
          ],
          "scattergl": [
           {
            "marker": {
             "colorbar": {
              "outlinewidth": 0,
              "ticks": ""
             }
            },
            "type": "scattergl"
           }
          ],
          "scattermapbox": [
           {
            "marker": {
             "colorbar": {
              "outlinewidth": 0,
              "ticks": ""
             }
            },
            "type": "scattermapbox"
           }
          ],
          "scatterpolar": [
           {
            "marker": {
             "colorbar": {
              "outlinewidth": 0,
              "ticks": ""
             }
            },
            "type": "scatterpolar"
           }
          ],
          "scatterpolargl": [
           {
            "marker": {
             "colorbar": {
              "outlinewidth": 0,
              "ticks": ""
             }
            },
            "type": "scatterpolargl"
           }
          ],
          "scatterternary": [
           {
            "marker": {
             "colorbar": {
              "outlinewidth": 0,
              "ticks": ""
             }
            },
            "type": "scatterternary"
           }
          ],
          "surface": [
           {
            "colorbar": {
             "outlinewidth": 0,
             "ticks": ""
            },
            "colorscale": [
             [
              0,
              "#0d0887"
             ],
             [
              0.1111111111111111,
              "#46039f"
             ],
             [
              0.2222222222222222,
              "#7201a8"
             ],
             [
              0.3333333333333333,
              "#9c179e"
             ],
             [
              0.4444444444444444,
              "#bd3786"
             ],
             [
              0.5555555555555556,
              "#d8576b"
             ],
             [
              0.6666666666666666,
              "#ed7953"
             ],
             [
              0.7777777777777778,
              "#fb9f3a"
             ],
             [
              0.8888888888888888,
              "#fdca26"
             ],
             [
              1,
              "#f0f921"
             ]
            ],
            "type": "surface"
           }
          ],
          "table": [
           {
            "cells": {
             "fill": {
              "color": "#EBF0F8"
             },
             "line": {
              "color": "white"
             }
            },
            "header": {
             "fill": {
              "color": "#C8D4E3"
             },
             "line": {
              "color": "white"
             }
            },
            "type": "table"
           }
          ]
         },
         "layout": {
          "annotationdefaults": {
           "arrowcolor": "#2a3f5f",
           "arrowhead": 0,
           "arrowwidth": 1
          },
          "coloraxis": {
           "colorbar": {
            "outlinewidth": 0,
            "ticks": ""
           }
          },
          "colorscale": {
           "diverging": [
            [
             0,
             "#8e0152"
            ],
            [
             0.1,
             "#c51b7d"
            ],
            [
             0.2,
             "#de77ae"
            ],
            [
             0.3,
             "#f1b6da"
            ],
            [
             0.4,
             "#fde0ef"
            ],
            [
             0.5,
             "#f7f7f7"
            ],
            [
             0.6,
             "#e6f5d0"
            ],
            [
             0.7,
             "#b8e186"
            ],
            [
             0.8,
             "#7fbc41"
            ],
            [
             0.9,
             "#4d9221"
            ],
            [
             1,
             "#276419"
            ]
           ],
           "sequential": [
            [
             0,
             "#0d0887"
            ],
            [
             0.1111111111111111,
             "#46039f"
            ],
            [
             0.2222222222222222,
             "#7201a8"
            ],
            [
             0.3333333333333333,
             "#9c179e"
            ],
            [
             0.4444444444444444,
             "#bd3786"
            ],
            [
             0.5555555555555556,
             "#d8576b"
            ],
            [
             0.6666666666666666,
             "#ed7953"
            ],
            [
             0.7777777777777778,
             "#fb9f3a"
            ],
            [
             0.8888888888888888,
             "#fdca26"
            ],
            [
             1,
             "#f0f921"
            ]
           ],
           "sequentialminus": [
            [
             0,
             "#0d0887"
            ],
            [
             0.1111111111111111,
             "#46039f"
            ],
            [
             0.2222222222222222,
             "#7201a8"
            ],
            [
             0.3333333333333333,
             "#9c179e"
            ],
            [
             0.4444444444444444,
             "#bd3786"
            ],
            [
             0.5555555555555556,
             "#d8576b"
            ],
            [
             0.6666666666666666,
             "#ed7953"
            ],
            [
             0.7777777777777778,
             "#fb9f3a"
            ],
            [
             0.8888888888888888,
             "#fdca26"
            ],
            [
             1,
             "#f0f921"
            ]
           ]
          },
          "colorway": [
           "#636efa",
           "#EF553B",
           "#00cc96",
           "#ab63fa",
           "#FFA15A",
           "#19d3f3",
           "#FF6692",
           "#B6E880",
           "#FF97FF",
           "#FECB52"
          ],
          "font": {
           "color": "#2a3f5f"
          },
          "geo": {
           "bgcolor": "white",
           "lakecolor": "white",
           "landcolor": "#E5ECF6",
           "showlakes": true,
           "showland": true,
           "subunitcolor": "white"
          },
          "hoverlabel": {
           "align": "left"
          },
          "hovermode": "closest",
          "mapbox": {
           "style": "light"
          },
          "paper_bgcolor": "white",
          "plot_bgcolor": "#E5ECF6",
          "polar": {
           "angularaxis": {
            "gridcolor": "white",
            "linecolor": "white",
            "ticks": ""
           },
           "bgcolor": "#E5ECF6",
           "radialaxis": {
            "gridcolor": "white",
            "linecolor": "white",
            "ticks": ""
           }
          },
          "scene": {
           "xaxis": {
            "backgroundcolor": "#E5ECF6",
            "gridcolor": "white",
            "gridwidth": 2,
            "linecolor": "white",
            "showbackground": true,
            "ticks": "",
            "zerolinecolor": "white"
           },
           "yaxis": {
            "backgroundcolor": "#E5ECF6",
            "gridcolor": "white",
            "gridwidth": 2,
            "linecolor": "white",
            "showbackground": true,
            "ticks": "",
            "zerolinecolor": "white"
           },
           "zaxis": {
            "backgroundcolor": "#E5ECF6",
            "gridcolor": "white",
            "gridwidth": 2,
            "linecolor": "white",
            "showbackground": true,
            "ticks": "",
            "zerolinecolor": "white"
           }
          },
          "shapedefaults": {
           "line": {
            "color": "#2a3f5f"
           }
          },
          "ternary": {
           "aaxis": {
            "gridcolor": "white",
            "linecolor": "white",
            "ticks": ""
           },
           "baxis": {
            "gridcolor": "white",
            "linecolor": "white",
            "ticks": ""
           },
           "bgcolor": "#E5ECF6",
           "caxis": {
            "gridcolor": "white",
            "linecolor": "white",
            "ticks": ""
           }
          },
          "title": {
           "x": 0.05
          },
          "xaxis": {
           "automargin": true,
           "gridcolor": "white",
           "linecolor": "white",
           "ticks": "",
           "title": {
            "standoff": 15
           },
           "zerolinecolor": "white",
           "zerolinewidth": 2
          },
          "yaxis": {
           "automargin": true,
           "gridcolor": "white",
           "linecolor": "white",
           "ticks": "",
           "title": {
            "standoff": 15
           },
           "zerolinecolor": "white",
           "zerolinewidth": 2
          }
         }
        },
        "xaxis": {
         "linecolor": "rgb(0, 0, 0)",
         "linewidth": 2,
         "rangemode": "tozero",
         "showgrid": false,
         "showline": true,
         "tickfont": {
          "color": "#000000",
          "size": 22
         },
         "ticks": "outside",
         "tickwidth": 3
        },
        "yaxis": {
         "rangemode": "tozero",
         "showline": false,
         "showticklabels": true,
         "tickfont": {
          "color": "#000000",
          "size": 22
         },
         "zeroline": false
        }
       }
      }
     },
     "metadata": {}
    }
   ],
   "source": [
    "fig = go.Figure()\n",
    "ploted_edge=[100,500,1000,5000,10000, 20000, 40000, 80000]\n",
    "# for idx, e in enumerate(ploted_edge):\n",
    "func_alias=['Merge+SIMD','Inline','Merge+Rand', 'Merge','Vector','Baseline']\n",
    "for j, func in enumerate(func_alias):\n",
    "    same = result.loc[(result['function']==func) & (result['#V']==1000)]\n",
    "    fig.add_trace(go.Scatter(x=same[\"#E\"], y=same['flops/cycle'], name=f\"{func}\",\n",
    "                            mode='lines+markers', marker=dict(symbol=marker_symbols[j],size=10),\n",
    "                            line=dict(color=colorq[j], width=3)))\n",
    "\n",
    "fig.update_layout(xaxis=dict(showline=True, showgrid=False, rangemode=\"tozero\",\n",
    "                             linecolor='rgb(0, 0, 0)', linewidth=2,\n",
    "                             tickwidth=3, tickfont=num_font, ticks='outside'),\n",
    "                  yaxis=dict(tickfont=num_font, zeroline=False, showticklabels=True, rangemode=\"tozero\",\n",
    "                             showline=False),\n",
    "                  showlegend=True, legend=dict(traceorder=\"normal\"),\n",
    "                  margin=dict(autoexpand=True, l=40, r=20, t=40),\n",
    "                  plot_bgcolor=\"#eeeeee\"\n",
    "                  )\n",
    "fig.show()\n",
    "fig.write_image(\"flops_cycles_v1000.pdf\")"
   ]
  },
  {
   "cell_type": "code",
   "execution_count": 13,
   "metadata": {},
   "outputs": [
    {
     "output_type": "display_data",
     "data": {
      "application/vnd.plotly.v1+json": {
       "config": {
        "plotlyServerURL": "https://plot.ly"
       },
       "data": [
        {
         "line": {
          "color": "#4C78A8",
          "width": 3
         },
         "marker": {
          "size": 10,
          "symbol": "circle"
         },
         "mode": "lines+markers",
         "name": "Merge+SIMD",
         "type": "scatter",
         "x": [
          20000,
          40000,
          80000
         ],
         "y": [
          0.120613,
          0.143214,
          0.169136
         ]
        },
        {
         "line": {
          "color": "#F58518",
          "width": 3
         },
         "marker": {
          "size": 10,
          "symbol": "square"
         },
         "mode": "lines+markers",
         "name": "Inline",
         "type": "scatter",
         "x": [
          20000,
          40000,
          80000
         ],
         "y": [
          0.128195,
          0.128703,
          0.161364
         ]
        },
        {
         "line": {
          "color": "#E45756",
          "width": 3
         },
         "marker": {
          "size": 10,
          "symbol": "diamond"
         },
         "mode": "lines+markers",
         "name": "Merge+Rand",
         "type": "scatter",
         "x": [
          20000,
          40000,
          80000
         ],
         "y": [
          0.098585,
          0.1536,
          0.137871
         ]
        },
        {
         "line": {
          "color": "#72B7B2",
          "width": 3
         },
         "marker": {
          "size": 10,
          "symbol": "cross"
         },
         "mode": "lines+markers",
         "name": "Merge",
         "type": "scatter",
         "x": [
          20000,
          40000,
          80000
         ],
         "y": [
          0.00966826,
          0.023807,
          0.114894
         ]
        },
        {
         "line": {
          "color": "#54A24B",
          "width": 3
         },
         "marker": {
          "size": 10,
          "symbol": "triangle-up-open"
         },
         "mode": "lines+markers",
         "name": "Vector",
         "type": "scatter",
         "x": [
          20000,
          40000,
          80000
         ],
         "y": [
          0.116508,
          0.115423,
          0.0459265
         ]
        },
        {
         "line": {
          "color": "#EECA3B",
          "width": 3
         },
         "marker": {
          "size": 10,
          "symbol": "pentagon"
         },
         "mode": "lines+markers",
         "name": "Baseline",
         "type": "scatter",
         "x": [
          20000,
          40000,
          80000
         ],
         "y": [
          0.00341891,
          0.00611917,
          0.00851859
         ]
        }
       ],
       "layout": {
        "legend": {
         "traceorder": "normal"
        },
        "margin": {
         "autoexpand": true,
         "l": 40,
         "r": 20,
         "t": 40
        },
        "plot_bgcolor": "#eeeeee",
        "showlegend": true,
        "template": {
         "data": {
          "bar": [
           {
            "error_x": {
             "color": "#2a3f5f"
            },
            "error_y": {
             "color": "#2a3f5f"
            },
            "marker": {
             "line": {
              "color": "#E5ECF6",
              "width": 0.5
             }
            },
            "type": "bar"
           }
          ],
          "barpolar": [
           {
            "marker": {
             "line": {
              "color": "#E5ECF6",
              "width": 0.5
             }
            },
            "type": "barpolar"
           }
          ],
          "carpet": [
           {
            "aaxis": {
             "endlinecolor": "#2a3f5f",
             "gridcolor": "white",
             "linecolor": "white",
             "minorgridcolor": "white",
             "startlinecolor": "#2a3f5f"
            },
            "baxis": {
             "endlinecolor": "#2a3f5f",
             "gridcolor": "white",
             "linecolor": "white",
             "minorgridcolor": "white",
             "startlinecolor": "#2a3f5f"
            },
            "type": "carpet"
           }
          ],
          "choropleth": [
           {
            "colorbar": {
             "outlinewidth": 0,
             "ticks": ""
            },
            "type": "choropleth"
           }
          ],
          "contour": [
           {
            "colorbar": {
             "outlinewidth": 0,
             "ticks": ""
            },
            "colorscale": [
             [
              0,
              "#0d0887"
             ],
             [
              0.1111111111111111,
              "#46039f"
             ],
             [
              0.2222222222222222,
              "#7201a8"
             ],
             [
              0.3333333333333333,
              "#9c179e"
             ],
             [
              0.4444444444444444,
              "#bd3786"
             ],
             [
              0.5555555555555556,
              "#d8576b"
             ],
             [
              0.6666666666666666,
              "#ed7953"
             ],
             [
              0.7777777777777778,
              "#fb9f3a"
             ],
             [
              0.8888888888888888,
              "#fdca26"
             ],
             [
              1,
              "#f0f921"
             ]
            ],
            "type": "contour"
           }
          ],
          "contourcarpet": [
           {
            "colorbar": {
             "outlinewidth": 0,
             "ticks": ""
            },
            "type": "contourcarpet"
           }
          ],
          "heatmap": [
           {
            "colorbar": {
             "outlinewidth": 0,
             "ticks": ""
            },
            "colorscale": [
             [
              0,
              "#0d0887"
             ],
             [
              0.1111111111111111,
              "#46039f"
             ],
             [
              0.2222222222222222,
              "#7201a8"
             ],
             [
              0.3333333333333333,
              "#9c179e"
             ],
             [
              0.4444444444444444,
              "#bd3786"
             ],
             [
              0.5555555555555556,
              "#d8576b"
             ],
             [
              0.6666666666666666,
              "#ed7953"
             ],
             [
              0.7777777777777778,
              "#fb9f3a"
             ],
             [
              0.8888888888888888,
              "#fdca26"
             ],
             [
              1,
              "#f0f921"
             ]
            ],
            "type": "heatmap"
           }
          ],
          "heatmapgl": [
           {
            "colorbar": {
             "outlinewidth": 0,
             "ticks": ""
            },
            "colorscale": [
             [
              0,
              "#0d0887"
             ],
             [
              0.1111111111111111,
              "#46039f"
             ],
             [
              0.2222222222222222,
              "#7201a8"
             ],
             [
              0.3333333333333333,
              "#9c179e"
             ],
             [
              0.4444444444444444,
              "#bd3786"
             ],
             [
              0.5555555555555556,
              "#d8576b"
             ],
             [
              0.6666666666666666,
              "#ed7953"
             ],
             [
              0.7777777777777778,
              "#fb9f3a"
             ],
             [
              0.8888888888888888,
              "#fdca26"
             ],
             [
              1,
              "#f0f921"
             ]
            ],
            "type": "heatmapgl"
           }
          ],
          "histogram": [
           {
            "marker": {
             "colorbar": {
              "outlinewidth": 0,
              "ticks": ""
             }
            },
            "type": "histogram"
           }
          ],
          "histogram2d": [
           {
            "colorbar": {
             "outlinewidth": 0,
             "ticks": ""
            },
            "colorscale": [
             [
              0,
              "#0d0887"
             ],
             [
              0.1111111111111111,
              "#46039f"
             ],
             [
              0.2222222222222222,
              "#7201a8"
             ],
             [
              0.3333333333333333,
              "#9c179e"
             ],
             [
              0.4444444444444444,
              "#bd3786"
             ],
             [
              0.5555555555555556,
              "#d8576b"
             ],
             [
              0.6666666666666666,
              "#ed7953"
             ],
             [
              0.7777777777777778,
              "#fb9f3a"
             ],
             [
              0.8888888888888888,
              "#fdca26"
             ],
             [
              1,
              "#f0f921"
             ]
            ],
            "type": "histogram2d"
           }
          ],
          "histogram2dcontour": [
           {
            "colorbar": {
             "outlinewidth": 0,
             "ticks": ""
            },
            "colorscale": [
             [
              0,
              "#0d0887"
             ],
             [
              0.1111111111111111,
              "#46039f"
             ],
             [
              0.2222222222222222,
              "#7201a8"
             ],
             [
              0.3333333333333333,
              "#9c179e"
             ],
             [
              0.4444444444444444,
              "#bd3786"
             ],
             [
              0.5555555555555556,
              "#d8576b"
             ],
             [
              0.6666666666666666,
              "#ed7953"
             ],
             [
              0.7777777777777778,
              "#fb9f3a"
             ],
             [
              0.8888888888888888,
              "#fdca26"
             ],
             [
              1,
              "#f0f921"
             ]
            ],
            "type": "histogram2dcontour"
           }
          ],
          "mesh3d": [
           {
            "colorbar": {
             "outlinewidth": 0,
             "ticks": ""
            },
            "type": "mesh3d"
           }
          ],
          "parcoords": [
           {
            "line": {
             "colorbar": {
              "outlinewidth": 0,
              "ticks": ""
             }
            },
            "type": "parcoords"
           }
          ],
          "pie": [
           {
            "automargin": true,
            "type": "pie"
           }
          ],
          "scatter": [
           {
            "marker": {
             "colorbar": {
              "outlinewidth": 0,
              "ticks": ""
             }
            },
            "type": "scatter"
           }
          ],
          "scatter3d": [
           {
            "line": {
             "colorbar": {
              "outlinewidth": 0,
              "ticks": ""
             }
            },
            "marker": {
             "colorbar": {
              "outlinewidth": 0,
              "ticks": ""
             }
            },
            "type": "scatter3d"
           }
          ],
          "scattercarpet": [
           {
            "marker": {
             "colorbar": {
              "outlinewidth": 0,
              "ticks": ""
             }
            },
            "type": "scattercarpet"
           }
          ],
          "scattergeo": [
           {
            "marker": {
             "colorbar": {
              "outlinewidth": 0,
              "ticks": ""
             }
            },
            "type": "scattergeo"
           }
          ],
          "scattergl": [
           {
            "marker": {
             "colorbar": {
              "outlinewidth": 0,
              "ticks": ""
             }
            },
            "type": "scattergl"
           }
          ],
          "scattermapbox": [
           {
            "marker": {
             "colorbar": {
              "outlinewidth": 0,
              "ticks": ""
             }
            },
            "type": "scattermapbox"
           }
          ],
          "scatterpolar": [
           {
            "marker": {
             "colorbar": {
              "outlinewidth": 0,
              "ticks": ""
             }
            },
            "type": "scatterpolar"
           }
          ],
          "scatterpolargl": [
           {
            "marker": {
             "colorbar": {
              "outlinewidth": 0,
              "ticks": ""
             }
            },
            "type": "scatterpolargl"
           }
          ],
          "scatterternary": [
           {
            "marker": {
             "colorbar": {
              "outlinewidth": 0,
              "ticks": ""
             }
            },
            "type": "scatterternary"
           }
          ],
          "surface": [
           {
            "colorbar": {
             "outlinewidth": 0,
             "ticks": ""
            },
            "colorscale": [
             [
              0,
              "#0d0887"
             ],
             [
              0.1111111111111111,
              "#46039f"
             ],
             [
              0.2222222222222222,
              "#7201a8"
             ],
             [
              0.3333333333333333,
              "#9c179e"
             ],
             [
              0.4444444444444444,
              "#bd3786"
             ],
             [
              0.5555555555555556,
              "#d8576b"
             ],
             [
              0.6666666666666666,
              "#ed7953"
             ],
             [
              0.7777777777777778,
              "#fb9f3a"
             ],
             [
              0.8888888888888888,
              "#fdca26"
             ],
             [
              1,
              "#f0f921"
             ]
            ],
            "type": "surface"
           }
          ],
          "table": [
           {
            "cells": {
             "fill": {
              "color": "#EBF0F8"
             },
             "line": {
              "color": "white"
             }
            },
            "header": {
             "fill": {
              "color": "#C8D4E3"
             },
             "line": {
              "color": "white"
             }
            },
            "type": "table"
           }
          ]
         },
         "layout": {
          "annotationdefaults": {
           "arrowcolor": "#2a3f5f",
           "arrowhead": 0,
           "arrowwidth": 1
          },
          "coloraxis": {
           "colorbar": {
            "outlinewidth": 0,
            "ticks": ""
           }
          },
          "colorscale": {
           "diverging": [
            [
             0,
             "#8e0152"
            ],
            [
             0.1,
             "#c51b7d"
            ],
            [
             0.2,
             "#de77ae"
            ],
            [
             0.3,
             "#f1b6da"
            ],
            [
             0.4,
             "#fde0ef"
            ],
            [
             0.5,
             "#f7f7f7"
            ],
            [
             0.6,
             "#e6f5d0"
            ],
            [
             0.7,
             "#b8e186"
            ],
            [
             0.8,
             "#7fbc41"
            ],
            [
             0.9,
             "#4d9221"
            ],
            [
             1,
             "#276419"
            ]
           ],
           "sequential": [
            [
             0,
             "#0d0887"
            ],
            [
             0.1111111111111111,
             "#46039f"
            ],
            [
             0.2222222222222222,
             "#7201a8"
            ],
            [
             0.3333333333333333,
             "#9c179e"
            ],
            [
             0.4444444444444444,
             "#bd3786"
            ],
            [
             0.5555555555555556,
             "#d8576b"
            ],
            [
             0.6666666666666666,
             "#ed7953"
            ],
            [
             0.7777777777777778,
             "#fb9f3a"
            ],
            [
             0.8888888888888888,
             "#fdca26"
            ],
            [
             1,
             "#f0f921"
            ]
           ],
           "sequentialminus": [
            [
             0,
             "#0d0887"
            ],
            [
             0.1111111111111111,
             "#46039f"
            ],
            [
             0.2222222222222222,
             "#7201a8"
            ],
            [
             0.3333333333333333,
             "#9c179e"
            ],
            [
             0.4444444444444444,
             "#bd3786"
            ],
            [
             0.5555555555555556,
             "#d8576b"
            ],
            [
             0.6666666666666666,
             "#ed7953"
            ],
            [
             0.7777777777777778,
             "#fb9f3a"
            ],
            [
             0.8888888888888888,
             "#fdca26"
            ],
            [
             1,
             "#f0f921"
            ]
           ]
          },
          "colorway": [
           "#636efa",
           "#EF553B",
           "#00cc96",
           "#ab63fa",
           "#FFA15A",
           "#19d3f3",
           "#FF6692",
           "#B6E880",
           "#FF97FF",
           "#FECB52"
          ],
          "font": {
           "color": "#2a3f5f"
          },
          "geo": {
           "bgcolor": "white",
           "lakecolor": "white",
           "landcolor": "#E5ECF6",
           "showlakes": true,
           "showland": true,
           "subunitcolor": "white"
          },
          "hoverlabel": {
           "align": "left"
          },
          "hovermode": "closest",
          "mapbox": {
           "style": "light"
          },
          "paper_bgcolor": "white",
          "plot_bgcolor": "#E5ECF6",
          "polar": {
           "angularaxis": {
            "gridcolor": "white",
            "linecolor": "white",
            "ticks": ""
           },
           "bgcolor": "#E5ECF6",
           "radialaxis": {
            "gridcolor": "white",
            "linecolor": "white",
            "ticks": ""
           }
          },
          "scene": {
           "xaxis": {
            "backgroundcolor": "#E5ECF6",
            "gridcolor": "white",
            "gridwidth": 2,
            "linecolor": "white",
            "showbackground": true,
            "ticks": "",
            "zerolinecolor": "white"
           },
           "yaxis": {
            "backgroundcolor": "#E5ECF6",
            "gridcolor": "white",
            "gridwidth": 2,
            "linecolor": "white",
            "showbackground": true,
            "ticks": "",
            "zerolinecolor": "white"
           },
           "zaxis": {
            "backgroundcolor": "#E5ECF6",
            "gridcolor": "white",
            "gridwidth": 2,
            "linecolor": "white",
            "showbackground": true,
            "ticks": "",
            "zerolinecolor": "white"
           }
          },
          "shapedefaults": {
           "line": {
            "color": "#2a3f5f"
           }
          },
          "ternary": {
           "aaxis": {
            "gridcolor": "white",
            "linecolor": "white",
            "ticks": ""
           },
           "baxis": {
            "gridcolor": "white",
            "linecolor": "white",
            "ticks": ""
           },
           "bgcolor": "#E5ECF6",
           "caxis": {
            "gridcolor": "white",
            "linecolor": "white",
            "ticks": ""
           }
          },
          "title": {
           "x": 0.05
          },
          "xaxis": {
           "automargin": true,
           "gridcolor": "white",
           "linecolor": "white",
           "ticks": "",
           "title": {
            "standoff": 15
           },
           "zerolinecolor": "white",
           "zerolinewidth": 2
          },
          "yaxis": {
           "automargin": true,
           "gridcolor": "white",
           "linecolor": "white",
           "ticks": "",
           "title": {
            "standoff": 15
           },
           "zerolinecolor": "white",
           "zerolinewidth": 2
          }
         }
        },
        "xaxis": {
         "linecolor": "rgb(0, 0, 0)",
         "linewidth": 2,
         "rangemode": "tozero",
         "showgrid": false,
         "showline": true,
         "tickfont": {
          "color": "#000000",
          "size": 22
         },
         "ticks": "outside",
         "tickwidth": 3
        },
        "yaxis": {
         "rangemode": "tozero",
         "showline": false,
         "showticklabels": true,
         "tickfont": {
          "color": "#000000",
          "size": 22
         },
         "zeroline": false
        }
       }
      }
     },
     "metadata": {}
    }
   ],
   "source": [
    "fig = go.Figure()\n",
    "ploted_edge=[100,500,1000,5000,10000, 20000, 40000, 80000]\n",
    "# for idx, e in enumerate(ploted_edge):\n",
    "func_alias=['Merge+SIMD','Inline','Merge+Rand', 'Merge','Vector','Baseline']\n",
    "for j, func in enumerate(func_alias):\n",
    "    same = result.loc[(result['function']==func) & (result['#V']==10000)]\n",
    "    fig.add_trace(go.Scatter(x=same[\"#E\"], y=same['flops/cycle'], name=f\"{func}\",\n",
    "                            mode='lines+markers', marker=dict(symbol=marker_symbols[j],size=10),\n",
    "                            line=dict(color=colorq[j], width=3)))\n",
    "\n",
    "fig.update_layout(xaxis=dict(showline=True, showgrid=False, rangemode=\"tozero\",\n",
    "                             linecolor='rgb(0, 0, 0)', linewidth=2,\n",
    "                             tickwidth=3, tickfont=num_font, ticks='outside'),\n",
    "                  yaxis=dict(tickfont=num_font, zeroline=False, showticklabels=True, rangemode=\"tozero\",\n",
    "                             showline=False),\n",
    "                  showlegend=True, legend=dict(traceorder=\"normal\"),\n",
    "                  margin=dict(autoexpand=True, l=40, r=20, t=40),\n",
    "                  plot_bgcolor=\"#eeeeee\"\n",
    "                  )\n",
    "fig.show()\n",
    "fig.write_image(\"flops_cycles_v10000.pdf\")"
   ]
  },
  {
   "cell_type": "code",
   "execution_count": 14,
   "metadata": {},
   "outputs": [
    {
     "output_type": "display_data",
     "data": {
      "application/vnd.plotly.v1+json": {
       "config": {
        "plotlyServerURL": "https://plot.ly"
       },
       "data": [
        {
         "line": {
          "color": "#4C78A8",
          "width": 1
         },
         "marker": {
          "size": 5,
          "symbol": "circle"
         },
         "mode": "lines+markers",
         "name": "Vector",
         "type": "scatter",
         "x": [
          0.11896652965355256,
          0.12074034293180673,
          0.10454993802505806,
          0.09671762571106861,
          0.10102160357330044,
          0.09470189140916062,
          0.09761485885861167,
          0.09021227802420793,
          0.0877279868076968,
          0.09352487229185619,
          0.09343413914714759,
          0.08725239980057566,
          0.09149898935504748,
          0.091233436971707
         ],
         "y": [
          0.210103,
          0.259909,
          0.153167,
          0.160959,
          0.178122,
          0.108193,
          0.127772,
          0.0744476,
          0.105102,
          0.116508,
          0.115423,
          0.0459265,
          0.091989,
          0.113201
         ]
        },
        {
         "line": {
          "color": "#F58518",
          "width": 1
         },
         "marker": {
          "size": 5,
          "symbol": "square"
         },
         "mode": "lines+markers",
         "name": "Inline",
         "type": "scatter",
         "x": [
          0.1075314473754047,
          0.10591189226204063,
          0.10247486323895587,
          0.09472441663113705,
          0.09844456700621662,
          0.09587282963935484,
          0.09709353545514102,
          0.09161715773217846,
          0.08978476887079066,
          0.09460088977569947,
          0.09484299483721198,
          0.0896782198230515,
          0.09293208538567009,
          0.09375257561848523
         ],
         "y": [
          0.202791,
          0.26757,
          0.193185,
          0.209145,
          0.243332,
          0.123106,
          0.152036,
          0.174134,
          0.182712,
          0.128195,
          0.128703,
          0.161364,
          0.114877,
          0.128812
         ]
        },
        {
         "line": {
          "color": "#E45756",
          "width": 1
         },
         "marker": {
          "size": 5,
          "symbol": "diamond"
         },
         "mode": "lines+markers",
         "name": "Merge+SIMD",
         "type": "scatter",
         "x": [
          0.0946581529356798,
          0.09805490859059558,
          0.09280153281114606,
          0.09512538219847329,
          0.09788788271300511,
          0.08540920092745129,
          0.09139985772863617,
          0.0933507090613348,
          0.09521082370960213,
          0.08568477114091447,
          0.09119860816287201,
          0.0929543433046566,
          0.0858417666756516,
          0.09102240344843225
         ],
         "y": [
          0.191109,
          0.239661,
          0.181649,
          0.208973,
          0.232638,
          0.123566,
          0.13989,
          0.182029,
          0.176755,
          0.120613,
          0.143214,
          0.169136,
          0.106127,
          0.138456
         ]
        },
        {
         "line": {
          "color": "#72B7B2",
          "width": 1
         },
         "marker": {
          "size": 5,
          "symbol": "cross"
         },
         "mode": "lines+markers",
         "name": "Merge",
         "type": "scatter",
         "x": [
          0.08840470095415406,
          0.08707283086517846,
          0.08031103280366413,
          0.07766272577796647,
          0.07948998541830427,
          0.07895059577131446,
          0.07786962077612321,
          0.07400982138201645,
          0.07267516960502125,
          0.07629743743496888,
          0.07562429360517033,
          0.0725647033571235,
          0.07552117830776595,
          0.07476273866634006
         ],
         "y": [
          0.267598,
          0.263108,
          0.136515,
          0.148716,
          0.183084,
          0.0200378,
          0.0443666,
          0.127577,
          0.133194,
          0.00966826,
          0.023807,
          0.114894,
          0.0041541,
          0.0110854
         ]
        },
        {
         "line": {
          "color": "#54A24B",
          "width": 1
         },
         "marker": {
          "size": 5,
          "symbol": "triangle-up-open"
         },
         "mode": "lines+markers",
         "name": "Merge+Rand",
         "type": "scatter",
         "x": [
          0.08689808990049182,
          0.08490228139842716,
          0.0717832155909127,
          0.07474476349947706,
          0.0763382382947649,
          0.10800993497727959,
          0.08034013978082315,
          0.06883265776496171,
          0.07087957853103743,
          0.06798242015002623,
          0.11288831225044213,
          0.06868832100119533,
          0.08112962478857244,
          0.1314576366738329
         ],
         "y": [
          0.187941,
          0.243809,
          0.148936,
          0.175752,
          0.19266,
          0.132603,
          0.158922,
          0.148953,
          0.158143,
          0.098585,
          0.1536,
          0.137871,
          0.11648,
          0.142946
         ]
        },
        {
         "line": {
          "color": "#EECA3B",
          "width": 1
         },
         "marker": {
          "size": 5,
          "symbol": "pentagon"
         },
         "mode": "lines+markers",
         "name": "Baseline",
         "type": "scatter",
         "x": [
          0.0690175950581676,
          0.06501214804215297,
          0.017350897084443432,
          0.016364694065055606,
          0.01497062870219292,
          0.004101460787092931,
          0.004705019494544088,
          0.004648380113041701,
          0.004348930688914878,
          0.0022004132781943903,
          0.002554414460616616,
          0.0025680759277718892,
          0.0011613426002378957,
          0.0013865558833961247
         ],
         "y": [
          0.179612,
          0.182169,
          0.058164,
          0.0510956,
          0.0558068,
          0.0068435,
          0.0109564,
          0.0147537,
          0.017424,
          0.00341891,
          0.00611917,
          0.00851859,
          0.00183726,
          0.00343307
         ]
        }
       ],
       "layout": {
        "margin": {
         "autoexpand": true,
         "l": 40,
         "r": 20,
         "t": 40
        },
        "plot_bgcolor": "#eeeeee",
        "template": {
         "data": {
          "bar": [
           {
            "error_x": {
             "color": "#2a3f5f"
            },
            "error_y": {
             "color": "#2a3f5f"
            },
            "marker": {
             "line": {
              "color": "#E5ECF6",
              "width": 0.5
             }
            },
            "type": "bar"
           }
          ],
          "barpolar": [
           {
            "marker": {
             "line": {
              "color": "#E5ECF6",
              "width": 0.5
             }
            },
            "type": "barpolar"
           }
          ],
          "carpet": [
           {
            "aaxis": {
             "endlinecolor": "#2a3f5f",
             "gridcolor": "white",
             "linecolor": "white",
             "minorgridcolor": "white",
             "startlinecolor": "#2a3f5f"
            },
            "baxis": {
             "endlinecolor": "#2a3f5f",
             "gridcolor": "white",
             "linecolor": "white",
             "minorgridcolor": "white",
             "startlinecolor": "#2a3f5f"
            },
            "type": "carpet"
           }
          ],
          "choropleth": [
           {
            "colorbar": {
             "outlinewidth": 0,
             "ticks": ""
            },
            "type": "choropleth"
           }
          ],
          "contour": [
           {
            "colorbar": {
             "outlinewidth": 0,
             "ticks": ""
            },
            "colorscale": [
             [
              0,
              "#0d0887"
             ],
             [
              0.1111111111111111,
              "#46039f"
             ],
             [
              0.2222222222222222,
              "#7201a8"
             ],
             [
              0.3333333333333333,
              "#9c179e"
             ],
             [
              0.4444444444444444,
              "#bd3786"
             ],
             [
              0.5555555555555556,
              "#d8576b"
             ],
             [
              0.6666666666666666,
              "#ed7953"
             ],
             [
              0.7777777777777778,
              "#fb9f3a"
             ],
             [
              0.8888888888888888,
              "#fdca26"
             ],
             [
              1,
              "#f0f921"
             ]
            ],
            "type": "contour"
           }
          ],
          "contourcarpet": [
           {
            "colorbar": {
             "outlinewidth": 0,
             "ticks": ""
            },
            "type": "contourcarpet"
           }
          ],
          "heatmap": [
           {
            "colorbar": {
             "outlinewidth": 0,
             "ticks": ""
            },
            "colorscale": [
             [
              0,
              "#0d0887"
             ],
             [
              0.1111111111111111,
              "#46039f"
             ],
             [
              0.2222222222222222,
              "#7201a8"
             ],
             [
              0.3333333333333333,
              "#9c179e"
             ],
             [
              0.4444444444444444,
              "#bd3786"
             ],
             [
              0.5555555555555556,
              "#d8576b"
             ],
             [
              0.6666666666666666,
              "#ed7953"
             ],
             [
              0.7777777777777778,
              "#fb9f3a"
             ],
             [
              0.8888888888888888,
              "#fdca26"
             ],
             [
              1,
              "#f0f921"
             ]
            ],
            "type": "heatmap"
           }
          ],
          "heatmapgl": [
           {
            "colorbar": {
             "outlinewidth": 0,
             "ticks": ""
            },
            "colorscale": [
             [
              0,
              "#0d0887"
             ],
             [
              0.1111111111111111,
              "#46039f"
             ],
             [
              0.2222222222222222,
              "#7201a8"
             ],
             [
              0.3333333333333333,
              "#9c179e"
             ],
             [
              0.4444444444444444,
              "#bd3786"
             ],
             [
              0.5555555555555556,
              "#d8576b"
             ],
             [
              0.6666666666666666,
              "#ed7953"
             ],
             [
              0.7777777777777778,
              "#fb9f3a"
             ],
             [
              0.8888888888888888,
              "#fdca26"
             ],
             [
              1,
              "#f0f921"
             ]
            ],
            "type": "heatmapgl"
           }
          ],
          "histogram": [
           {
            "marker": {
             "colorbar": {
              "outlinewidth": 0,
              "ticks": ""
             }
            },
            "type": "histogram"
           }
          ],
          "histogram2d": [
           {
            "colorbar": {
             "outlinewidth": 0,
             "ticks": ""
            },
            "colorscale": [
             [
              0,
              "#0d0887"
             ],
             [
              0.1111111111111111,
              "#46039f"
             ],
             [
              0.2222222222222222,
              "#7201a8"
             ],
             [
              0.3333333333333333,
              "#9c179e"
             ],
             [
              0.4444444444444444,
              "#bd3786"
             ],
             [
              0.5555555555555556,
              "#d8576b"
             ],
             [
              0.6666666666666666,
              "#ed7953"
             ],
             [
              0.7777777777777778,
              "#fb9f3a"
             ],
             [
              0.8888888888888888,
              "#fdca26"
             ],
             [
              1,
              "#f0f921"
             ]
            ],
            "type": "histogram2d"
           }
          ],
          "histogram2dcontour": [
           {
            "colorbar": {
             "outlinewidth": 0,
             "ticks": ""
            },
            "colorscale": [
             [
              0,
              "#0d0887"
             ],
             [
              0.1111111111111111,
              "#46039f"
             ],
             [
              0.2222222222222222,
              "#7201a8"
             ],
             [
              0.3333333333333333,
              "#9c179e"
             ],
             [
              0.4444444444444444,
              "#bd3786"
             ],
             [
              0.5555555555555556,
              "#d8576b"
             ],
             [
              0.6666666666666666,
              "#ed7953"
             ],
             [
              0.7777777777777778,
              "#fb9f3a"
             ],
             [
              0.8888888888888888,
              "#fdca26"
             ],
             [
              1,
              "#f0f921"
             ]
            ],
            "type": "histogram2dcontour"
           }
          ],
          "mesh3d": [
           {
            "colorbar": {
             "outlinewidth": 0,
             "ticks": ""
            },
            "type": "mesh3d"
           }
          ],
          "parcoords": [
           {
            "line": {
             "colorbar": {
              "outlinewidth": 0,
              "ticks": ""
             }
            },
            "type": "parcoords"
           }
          ],
          "pie": [
           {
            "automargin": true,
            "type": "pie"
           }
          ],
          "scatter": [
           {
            "marker": {
             "colorbar": {
              "outlinewidth": 0,
              "ticks": ""
             }
            },
            "type": "scatter"
           }
          ],
          "scatter3d": [
           {
            "line": {
             "colorbar": {
              "outlinewidth": 0,
              "ticks": ""
             }
            },
            "marker": {
             "colorbar": {
              "outlinewidth": 0,
              "ticks": ""
             }
            },
            "type": "scatter3d"
           }
          ],
          "scattercarpet": [
           {
            "marker": {
             "colorbar": {
              "outlinewidth": 0,
              "ticks": ""
             }
            },
            "type": "scattercarpet"
           }
          ],
          "scattergeo": [
           {
            "marker": {
             "colorbar": {
              "outlinewidth": 0,
              "ticks": ""
             }
            },
            "type": "scattergeo"
           }
          ],
          "scattergl": [
           {
            "marker": {
             "colorbar": {
              "outlinewidth": 0,
              "ticks": ""
             }
            },
            "type": "scattergl"
           }
          ],
          "scattermapbox": [
           {
            "marker": {
             "colorbar": {
              "outlinewidth": 0,
              "ticks": ""
             }
            },
            "type": "scattermapbox"
           }
          ],
          "scatterpolar": [
           {
            "marker": {
             "colorbar": {
              "outlinewidth": 0,
              "ticks": ""
             }
            },
            "type": "scatterpolar"
           }
          ],
          "scatterpolargl": [
           {
            "marker": {
             "colorbar": {
              "outlinewidth": 0,
              "ticks": ""
             }
            },
            "type": "scatterpolargl"
           }
          ],
          "scatterternary": [
           {
            "marker": {
             "colorbar": {
              "outlinewidth": 0,
              "ticks": ""
             }
            },
            "type": "scatterternary"
           }
          ],
          "surface": [
           {
            "colorbar": {
             "outlinewidth": 0,
             "ticks": ""
            },
            "colorscale": [
             [
              0,
              "#0d0887"
             ],
             [
              0.1111111111111111,
              "#46039f"
             ],
             [
              0.2222222222222222,
              "#7201a8"
             ],
             [
              0.3333333333333333,
              "#9c179e"
             ],
             [
              0.4444444444444444,
              "#bd3786"
             ],
             [
              0.5555555555555556,
              "#d8576b"
             ],
             [
              0.6666666666666666,
              "#ed7953"
             ],
             [
              0.7777777777777778,
              "#fb9f3a"
             ],
             [
              0.8888888888888888,
              "#fdca26"
             ],
             [
              1,
              "#f0f921"
             ]
            ],
            "type": "surface"
           }
          ],
          "table": [
           {
            "cells": {
             "fill": {
              "color": "#EBF0F8"
             },
             "line": {
              "color": "white"
             }
            },
            "header": {
             "fill": {
              "color": "#C8D4E3"
             },
             "line": {
              "color": "white"
             }
            },
            "type": "table"
           }
          ]
         },
         "layout": {
          "annotationdefaults": {
           "arrowcolor": "#2a3f5f",
           "arrowhead": 0,
           "arrowwidth": 1
          },
          "coloraxis": {
           "colorbar": {
            "outlinewidth": 0,
            "ticks": ""
           }
          },
          "colorscale": {
           "diverging": [
            [
             0,
             "#8e0152"
            ],
            [
             0.1,
             "#c51b7d"
            ],
            [
             0.2,
             "#de77ae"
            ],
            [
             0.3,
             "#f1b6da"
            ],
            [
             0.4,
             "#fde0ef"
            ],
            [
             0.5,
             "#f7f7f7"
            ],
            [
             0.6,
             "#e6f5d0"
            ],
            [
             0.7,
             "#b8e186"
            ],
            [
             0.8,
             "#7fbc41"
            ],
            [
             0.9,
             "#4d9221"
            ],
            [
             1,
             "#276419"
            ]
           ],
           "sequential": [
            [
             0,
             "#0d0887"
            ],
            [
             0.1111111111111111,
             "#46039f"
            ],
            [
             0.2222222222222222,
             "#7201a8"
            ],
            [
             0.3333333333333333,
             "#9c179e"
            ],
            [
             0.4444444444444444,
             "#bd3786"
            ],
            [
             0.5555555555555556,
             "#d8576b"
            ],
            [
             0.6666666666666666,
             "#ed7953"
            ],
            [
             0.7777777777777778,
             "#fb9f3a"
            ],
            [
             0.8888888888888888,
             "#fdca26"
            ],
            [
             1,
             "#f0f921"
            ]
           ],
           "sequentialminus": [
            [
             0,
             "#0d0887"
            ],
            [
             0.1111111111111111,
             "#46039f"
            ],
            [
             0.2222222222222222,
             "#7201a8"
            ],
            [
             0.3333333333333333,
             "#9c179e"
            ],
            [
             0.4444444444444444,
             "#bd3786"
            ],
            [
             0.5555555555555556,
             "#d8576b"
            ],
            [
             0.6666666666666666,
             "#ed7953"
            ],
            [
             0.7777777777777778,
             "#fb9f3a"
            ],
            [
             0.8888888888888888,
             "#fdca26"
            ],
            [
             1,
             "#f0f921"
            ]
           ]
          },
          "colorway": [
           "#636efa",
           "#EF553B",
           "#00cc96",
           "#ab63fa",
           "#FFA15A",
           "#19d3f3",
           "#FF6692",
           "#B6E880",
           "#FF97FF",
           "#FECB52"
          ],
          "font": {
           "color": "#2a3f5f"
          },
          "geo": {
           "bgcolor": "white",
           "lakecolor": "white",
           "landcolor": "#E5ECF6",
           "showlakes": true,
           "showland": true,
           "subunitcolor": "white"
          },
          "hoverlabel": {
           "align": "left"
          },
          "hovermode": "closest",
          "mapbox": {
           "style": "light"
          },
          "paper_bgcolor": "white",
          "plot_bgcolor": "#E5ECF6",
          "polar": {
           "angularaxis": {
            "gridcolor": "white",
            "linecolor": "white",
            "ticks": ""
           },
           "bgcolor": "#E5ECF6",
           "radialaxis": {
            "gridcolor": "white",
            "linecolor": "white",
            "ticks": ""
           }
          },
          "scene": {
           "xaxis": {
            "backgroundcolor": "#E5ECF6",
            "gridcolor": "white",
            "gridwidth": 2,
            "linecolor": "white",
            "showbackground": true,
            "ticks": "",
            "zerolinecolor": "white"
           },
           "yaxis": {
            "backgroundcolor": "#E5ECF6",
            "gridcolor": "white",
            "gridwidth": 2,
            "linecolor": "white",
            "showbackground": true,
            "ticks": "",
            "zerolinecolor": "white"
           },
           "zaxis": {
            "backgroundcolor": "#E5ECF6",
            "gridcolor": "white",
            "gridwidth": 2,
            "linecolor": "white",
            "showbackground": true,
            "ticks": "",
            "zerolinecolor": "white"
           }
          },
          "shapedefaults": {
           "line": {
            "color": "#2a3f5f"
           }
          },
          "ternary": {
           "aaxis": {
            "gridcolor": "white",
            "linecolor": "white",
            "ticks": ""
           },
           "baxis": {
            "gridcolor": "white",
            "linecolor": "white",
            "ticks": ""
           },
           "bgcolor": "#E5ECF6",
           "caxis": {
            "gridcolor": "white",
            "linecolor": "white",
            "ticks": ""
           }
          },
          "title": {
           "x": 0.05
          },
          "xaxis": {
           "automargin": true,
           "gridcolor": "white",
           "linecolor": "white",
           "ticks": "",
           "title": {
            "standoff": 15
           },
           "zerolinecolor": "white",
           "zerolinewidth": 2
          },
          "yaxis": {
           "automargin": true,
           "gridcolor": "white",
           "linecolor": "white",
           "ticks": "",
           "title": {
            "standoff": 15
           },
           "zerolinecolor": "white",
           "zerolinewidth": 2
          }
         }
        },
        "xaxis": {
         "linecolor": "rgb(0, 0, 0)",
         "linewidth": 2,
         "rangemode": "nonnegative",
         "showgrid": true,
         "showline": true,
         "tickfont": {
          "color": "#000000",
          "size": 22
         },
         "ticks": "outside",
         "tickwidth": 3
        },
        "yaxis": {
         "rangemode": "nonnegative",
         "showline": true,
         "showticklabels": true,
         "tickfont": {
          "color": "#000000",
          "size": 22
         },
         "zeroline": false
        }
       }
      }
     },
     "metadata": {}
    }
   ],
   "source": [
    "# flops/cycle vs oi\n",
    "fig = go.Figure()\n",
    "func_alias=['Vector', 'Inline', 'Merge+SIMD', 'Merge', 'Merge+Rand', 'Baseline']\n",
    "for j, func in enumerate(func_alias):\n",
    "    same = result.loc[(result['function']==func)]\n",
    "    fig.add_trace(go.Scatter(x=same[\"flops\"]/same[\"mem\"], y=same[\"flops/cycle\"],  name=f\"{func}\",\n",
    "                            mode='lines+markers',marker=dict(symbol=marker_symbols[j],size=5),\n",
    "                            line=dict(color=colorq[j], width=1)))\n",
    "\n",
    "fig.update_layout(xaxis=dict(showline=True, showgrid=True,\n",
    "                             linecolor='rgb(0, 0, 0)', linewidth=2,rangemode=\"nonnegative\",\n",
    "                             tickwidth=3, tickfont=num_font, ticks='outside'),\n",
    "                  yaxis=dict(tickfont=num_font, zeroline=False, showticklabels=True,\n",
    "                             rangemode=\"nonnegative\",\n",
    "                             showline=True),\n",
    "                  #showlegend=True,legend=dict(traceorder=\"reversed\"),\n",
    "                  margin=dict(autoexpand=True, l=40, r=20, t=40),\n",
    "                  plot_bgcolor=\"#eeeeee\"\n",
    "                  )\n",
    "fig.show()\n",
    "fig.write_image(\"baseline_roofline.pdf\")"
   ]
  },
  {
   "cell_type": "code",
   "execution_count": 15,
   "metadata": {},
   "outputs": [
    {
     "output_type": "display_data",
     "data": {
      "application/vnd.plotly.v1+json": {
       "config": {
        "plotlyServerURL": "https://plot.ly"
       },
       "data": [
        {
         "line": {
          "color": "#4C78A8",
          "width": 3
         },
         "marker": {
          "size": 10,
          "symbol": "circle"
         },
         "mode": "lines+markers",
         "name": "Vector",
         "type": "scatter",
         "x": [
          10000,
          20000,
          40000,
          80000
         ],
         "y": [
          "0.00777012",
          "0.0174179",
          "0.0712628",
          "0.107335"
         ]
        },
        {
         "line": {
          "color": "#F58518",
          "width": 3
         },
         "marker": {
          "size": 10,
          "symbol": "square"
         },
         "mode": "lines+markers",
         "name": "Inline",
         "type": "scatter",
         "x": [
          10000,
          20000,
          40000,
          80000
         ],
         "y": [
          "0.00757747",
          "0.0150607",
          "0.0306062",
          "0.0599726"
         ]
        },
        {
         "line": {
          "color": "#E45756",
          "width": 3
         },
         "marker": {
          "size": 10,
          "symbol": "diamond"
         },
         "mode": "lines+markers",
         "name": "Merge+SIMD",
         "type": "scatter",
         "x": [
          10000,
          20000,
          40000,
          80000
         ],
         "y": [
          "0.00702384",
          "0.0161769",
          "0.0335857",
          "0.0650424"
         ]
        },
        {
         "line": {
          "color": "#72B7B2",
          "width": 3
         },
         "marker": {
          "size": 10,
          "symbol": "cross"
         },
         "mode": "lines+markers",
         "name": "Merge",
         "type": "scatter",
         "x": [
          10000,
          20000,
          40000,
          80000
         ],
         "y": [
          "0.0438011",
          "0.0515486",
          "0.0396801",
          "0.0831368"
         ]
        },
        {
         "line": {
          "color": "#54A24B",
          "width": 3
         },
         "marker": {
          "size": 10,
          "symbol": "triangle-up-open"
         },
         "mode": "lines+markers",
         "name": "Merge+Rand",
         "type": "scatter",
         "x": [
          10000,
          20000,
          40000,
          80000
         ],
         "y": [
          "0.00647002",
          "0.012773",
          "0.0337839",
          "0.0686521"
         ]
        },
        {
         "line": {
          "color": "#EECA3B",
          "width": 3
         },
         "marker": {
          "size": 10,
          "symbol": "pentagon"
         },
         "mode": "lines+markers",
         "name": "Baseline",
         "type": "scatter",
         "x": [
          10000,
          20000,
          40000,
          80000
         ],
         "y": [
          "0.124726",
          "0.204598",
          "0.362023",
          "0.659076"
         ]
        }
       ],
       "layout": {
        "margin": {
         "autoexpand": true,
         "l": 40,
         "r": 20,
         "t": 40
        },
        "plot_bgcolor": "#eeeeee",
        "template": {
         "data": {
          "bar": [
           {
            "error_x": {
             "color": "#2a3f5f"
            },
            "error_y": {
             "color": "#2a3f5f"
            },
            "marker": {
             "line": {
              "color": "#E5ECF6",
              "width": 0.5
             }
            },
            "type": "bar"
           }
          ],
          "barpolar": [
           {
            "marker": {
             "line": {
              "color": "#E5ECF6",
              "width": 0.5
             }
            },
            "type": "barpolar"
           }
          ],
          "carpet": [
           {
            "aaxis": {
             "endlinecolor": "#2a3f5f",
             "gridcolor": "white",
             "linecolor": "white",
             "minorgridcolor": "white",
             "startlinecolor": "#2a3f5f"
            },
            "baxis": {
             "endlinecolor": "#2a3f5f",
             "gridcolor": "white",
             "linecolor": "white",
             "minorgridcolor": "white",
             "startlinecolor": "#2a3f5f"
            },
            "type": "carpet"
           }
          ],
          "choropleth": [
           {
            "colorbar": {
             "outlinewidth": 0,
             "ticks": ""
            },
            "type": "choropleth"
           }
          ],
          "contour": [
           {
            "colorbar": {
             "outlinewidth": 0,
             "ticks": ""
            },
            "colorscale": [
             [
              0,
              "#0d0887"
             ],
             [
              0.1111111111111111,
              "#46039f"
             ],
             [
              0.2222222222222222,
              "#7201a8"
             ],
             [
              0.3333333333333333,
              "#9c179e"
             ],
             [
              0.4444444444444444,
              "#bd3786"
             ],
             [
              0.5555555555555556,
              "#d8576b"
             ],
             [
              0.6666666666666666,
              "#ed7953"
             ],
             [
              0.7777777777777778,
              "#fb9f3a"
             ],
             [
              0.8888888888888888,
              "#fdca26"
             ],
             [
              1,
              "#f0f921"
             ]
            ],
            "type": "contour"
           }
          ],
          "contourcarpet": [
           {
            "colorbar": {
             "outlinewidth": 0,
             "ticks": ""
            },
            "type": "contourcarpet"
           }
          ],
          "heatmap": [
           {
            "colorbar": {
             "outlinewidth": 0,
             "ticks": ""
            },
            "colorscale": [
             [
              0,
              "#0d0887"
             ],
             [
              0.1111111111111111,
              "#46039f"
             ],
             [
              0.2222222222222222,
              "#7201a8"
             ],
             [
              0.3333333333333333,
              "#9c179e"
             ],
             [
              0.4444444444444444,
              "#bd3786"
             ],
             [
              0.5555555555555556,
              "#d8576b"
             ],
             [
              0.6666666666666666,
              "#ed7953"
             ],
             [
              0.7777777777777778,
              "#fb9f3a"
             ],
             [
              0.8888888888888888,
              "#fdca26"
             ],
             [
              1,
              "#f0f921"
             ]
            ],
            "type": "heatmap"
           }
          ],
          "heatmapgl": [
           {
            "colorbar": {
             "outlinewidth": 0,
             "ticks": ""
            },
            "colorscale": [
             [
              0,
              "#0d0887"
             ],
             [
              0.1111111111111111,
              "#46039f"
             ],
             [
              0.2222222222222222,
              "#7201a8"
             ],
             [
              0.3333333333333333,
              "#9c179e"
             ],
             [
              0.4444444444444444,
              "#bd3786"
             ],
             [
              0.5555555555555556,
              "#d8576b"
             ],
             [
              0.6666666666666666,
              "#ed7953"
             ],
             [
              0.7777777777777778,
              "#fb9f3a"
             ],
             [
              0.8888888888888888,
              "#fdca26"
             ],
             [
              1,
              "#f0f921"
             ]
            ],
            "type": "heatmapgl"
           }
          ],
          "histogram": [
           {
            "marker": {
             "colorbar": {
              "outlinewidth": 0,
              "ticks": ""
             }
            },
            "type": "histogram"
           }
          ],
          "histogram2d": [
           {
            "colorbar": {
             "outlinewidth": 0,
             "ticks": ""
            },
            "colorscale": [
             [
              0,
              "#0d0887"
             ],
             [
              0.1111111111111111,
              "#46039f"
             ],
             [
              0.2222222222222222,
              "#7201a8"
             ],
             [
              0.3333333333333333,
              "#9c179e"
             ],
             [
              0.4444444444444444,
              "#bd3786"
             ],
             [
              0.5555555555555556,
              "#d8576b"
             ],
             [
              0.6666666666666666,
              "#ed7953"
             ],
             [
              0.7777777777777778,
              "#fb9f3a"
             ],
             [
              0.8888888888888888,
              "#fdca26"
             ],
             [
              1,
              "#f0f921"
             ]
            ],
            "type": "histogram2d"
           }
          ],
          "histogram2dcontour": [
           {
            "colorbar": {
             "outlinewidth": 0,
             "ticks": ""
            },
            "colorscale": [
             [
              0,
              "#0d0887"
             ],
             [
              0.1111111111111111,
              "#46039f"
             ],
             [
              0.2222222222222222,
              "#7201a8"
             ],
             [
              0.3333333333333333,
              "#9c179e"
             ],
             [
              0.4444444444444444,
              "#bd3786"
             ],
             [
              0.5555555555555556,
              "#d8576b"
             ],
             [
              0.6666666666666666,
              "#ed7953"
             ],
             [
              0.7777777777777778,
              "#fb9f3a"
             ],
             [
              0.8888888888888888,
              "#fdca26"
             ],
             [
              1,
              "#f0f921"
             ]
            ],
            "type": "histogram2dcontour"
           }
          ],
          "mesh3d": [
           {
            "colorbar": {
             "outlinewidth": 0,
             "ticks": ""
            },
            "type": "mesh3d"
           }
          ],
          "parcoords": [
           {
            "line": {
             "colorbar": {
              "outlinewidth": 0,
              "ticks": ""
             }
            },
            "type": "parcoords"
           }
          ],
          "pie": [
           {
            "automargin": true,
            "type": "pie"
           }
          ],
          "scatter": [
           {
            "marker": {
             "colorbar": {
              "outlinewidth": 0,
              "ticks": ""
             }
            },
            "type": "scatter"
           }
          ],
          "scatter3d": [
           {
            "line": {
             "colorbar": {
              "outlinewidth": 0,
              "ticks": ""
             }
            },
            "marker": {
             "colorbar": {
              "outlinewidth": 0,
              "ticks": ""
             }
            },
            "type": "scatter3d"
           }
          ],
          "scattercarpet": [
           {
            "marker": {
             "colorbar": {
              "outlinewidth": 0,
              "ticks": ""
             }
            },
            "type": "scattercarpet"
           }
          ],
          "scattergeo": [
           {
            "marker": {
             "colorbar": {
              "outlinewidth": 0,
              "ticks": ""
             }
            },
            "type": "scattergeo"
           }
          ],
          "scattergl": [
           {
            "marker": {
             "colorbar": {
              "outlinewidth": 0,
              "ticks": ""
             }
            },
            "type": "scattergl"
           }
          ],
          "scattermapbox": [
           {
            "marker": {
             "colorbar": {
              "outlinewidth": 0,
              "ticks": ""
             }
            },
            "type": "scattermapbox"
           }
          ],
          "scatterpolar": [
           {
            "marker": {
             "colorbar": {
              "outlinewidth": 0,
              "ticks": ""
             }
            },
            "type": "scatterpolar"
           }
          ],
          "scatterpolargl": [
           {
            "marker": {
             "colorbar": {
              "outlinewidth": 0,
              "ticks": ""
             }
            },
            "type": "scatterpolargl"
           }
          ],
          "scatterternary": [
           {
            "marker": {
             "colorbar": {
              "outlinewidth": 0,
              "ticks": ""
             }
            },
            "type": "scatterternary"
           }
          ],
          "surface": [
           {
            "colorbar": {
             "outlinewidth": 0,
             "ticks": ""
            },
            "colorscale": [
             [
              0,
              "#0d0887"
             ],
             [
              0.1111111111111111,
              "#46039f"
             ],
             [
              0.2222222222222222,
              "#7201a8"
             ],
             [
              0.3333333333333333,
              "#9c179e"
             ],
             [
              0.4444444444444444,
              "#bd3786"
             ],
             [
              0.5555555555555556,
              "#d8576b"
             ],
             [
              0.6666666666666666,
              "#ed7953"
             ],
             [
              0.7777777777777778,
              "#fb9f3a"
             ],
             [
              0.8888888888888888,
              "#fdca26"
             ],
             [
              1,
              "#f0f921"
             ]
            ],
            "type": "surface"
           }
          ],
          "table": [
           {
            "cells": {
             "fill": {
              "color": "#EBF0F8"
             },
             "line": {
              "color": "white"
             }
            },
            "header": {
             "fill": {
              "color": "#C8D4E3"
             },
             "line": {
              "color": "white"
             }
            },
            "type": "table"
           }
          ]
         },
         "layout": {
          "annotationdefaults": {
           "arrowcolor": "#2a3f5f",
           "arrowhead": 0,
           "arrowwidth": 1
          },
          "coloraxis": {
           "colorbar": {
            "outlinewidth": 0,
            "ticks": ""
           }
          },
          "colorscale": {
           "diverging": [
            [
             0,
             "#8e0152"
            ],
            [
             0.1,
             "#c51b7d"
            ],
            [
             0.2,
             "#de77ae"
            ],
            [
             0.3,
             "#f1b6da"
            ],
            [
             0.4,
             "#fde0ef"
            ],
            [
             0.5,
             "#f7f7f7"
            ],
            [
             0.6,
             "#e6f5d0"
            ],
            [
             0.7,
             "#b8e186"
            ],
            [
             0.8,
             "#7fbc41"
            ],
            [
             0.9,
             "#4d9221"
            ],
            [
             1,
             "#276419"
            ]
           ],
           "sequential": [
            [
             0,
             "#0d0887"
            ],
            [
             0.1111111111111111,
             "#46039f"
            ],
            [
             0.2222222222222222,
             "#7201a8"
            ],
            [
             0.3333333333333333,
             "#9c179e"
            ],
            [
             0.4444444444444444,
             "#bd3786"
            ],
            [
             0.5555555555555556,
             "#d8576b"
            ],
            [
             0.6666666666666666,
             "#ed7953"
            ],
            [
             0.7777777777777778,
             "#fb9f3a"
            ],
            [
             0.8888888888888888,
             "#fdca26"
            ],
            [
             1,
             "#f0f921"
            ]
           ],
           "sequentialminus": [
            [
             0,
             "#0d0887"
            ],
            [
             0.1111111111111111,
             "#46039f"
            ],
            [
             0.2222222222222222,
             "#7201a8"
            ],
            [
             0.3333333333333333,
             "#9c179e"
            ],
            [
             0.4444444444444444,
             "#bd3786"
            ],
            [
             0.5555555555555556,
             "#d8576b"
            ],
            [
             0.6666666666666666,
             "#ed7953"
            ],
            [
             0.7777777777777778,
             "#fb9f3a"
            ],
            [
             0.8888888888888888,
             "#fdca26"
            ],
            [
             1,
             "#f0f921"
            ]
           ]
          },
          "colorway": [
           "#636efa",
           "#EF553B",
           "#00cc96",
           "#ab63fa",
           "#FFA15A",
           "#19d3f3",
           "#FF6692",
           "#B6E880",
           "#FF97FF",
           "#FECB52"
          ],
          "font": {
           "color": "#2a3f5f"
          },
          "geo": {
           "bgcolor": "white",
           "lakecolor": "white",
           "landcolor": "#E5ECF6",
           "showlakes": true,
           "showland": true,
           "subunitcolor": "white"
          },
          "hoverlabel": {
           "align": "left"
          },
          "hovermode": "closest",
          "mapbox": {
           "style": "light"
          },
          "paper_bgcolor": "white",
          "plot_bgcolor": "#E5ECF6",
          "polar": {
           "angularaxis": {
            "gridcolor": "white",
            "linecolor": "white",
            "ticks": ""
           },
           "bgcolor": "#E5ECF6",
           "radialaxis": {
            "gridcolor": "white",
            "linecolor": "white",
            "ticks": ""
           }
          },
          "scene": {
           "xaxis": {
            "backgroundcolor": "#E5ECF6",
            "gridcolor": "white",
            "gridwidth": 2,
            "linecolor": "white",
            "showbackground": true,
            "ticks": "",
            "zerolinecolor": "white"
           },
           "yaxis": {
            "backgroundcolor": "#E5ECF6",
            "gridcolor": "white",
            "gridwidth": 2,
            "linecolor": "white",
            "showbackground": true,
            "ticks": "",
            "zerolinecolor": "white"
           },
           "zaxis": {
            "backgroundcolor": "#E5ECF6",
            "gridcolor": "white",
            "gridwidth": 2,
            "linecolor": "white",
            "showbackground": true,
            "ticks": "",
            "zerolinecolor": "white"
           }
          },
          "shapedefaults": {
           "line": {
            "color": "#2a3f5f"
           }
          },
          "ternary": {
           "aaxis": {
            "gridcolor": "white",
            "linecolor": "white",
            "ticks": ""
           },
           "baxis": {
            "gridcolor": "white",
            "linecolor": "white",
            "ticks": ""
           },
           "bgcolor": "#E5ECF6",
           "caxis": {
            "gridcolor": "white",
            "linecolor": "white",
            "ticks": ""
           }
          },
          "title": {
           "x": 0.05
          },
          "xaxis": {
           "automargin": true,
           "gridcolor": "white",
           "linecolor": "white",
           "ticks": "",
           "title": {
            "standoff": 15
           },
           "zerolinecolor": "white",
           "zerolinewidth": 2
          },
          "yaxis": {
           "automargin": true,
           "gridcolor": "white",
           "linecolor": "white",
           "ticks": "",
           "title": {
            "standoff": 15
           },
           "zerolinecolor": "white",
           "zerolinewidth": 2
          }
         }
        },
        "xaxis": {
         "linecolor": "rgb(0, 0, 0)",
         "linewidth": 2,
         "rangemode": "nonnegative",
         "showgrid": true,
         "showline": true,
         "tickfont": {
          "color": "#000000",
          "size": 22
         },
         "ticks": "outside",
         "tickwidth": 3
        },
        "yaxis": {
         "rangemode": "nonnegative",
         "showline": true,
         "showticklabels": true,
         "tickfont": {
          "color": "#000000",
          "size": 22
         },
         "zeroline": false
        }
       }
      }
     },
     "metadata": {}
    }
   ],
   "source": [
    "# runtime v=5000\n",
    "fig = go.Figure()\n",
    "func_alias=['Vector', 'Inline', 'Merge+SIMD', 'Merge', 'Merge+Rand', 'Baseline']\n",
    "for j, func in enumerate(func_alias):\n",
    "    same = result.loc[(result['function']==func)&(result['#E']==10000)]\n",
    "    fig.add_trace(go.Scatter(x=same['#E'], y=same[\"runtime\"],  name=f\"{func}\",\n",
    "                            mode='lines+markers', marker=dict(symbol=marker_symbols[j],size=10),\n",
    "                            line=dict(color=colorq[j], width=3)))\n",
    "\n",
    "fig.update_layout(xaxis=dict(showline=True, showgrid=True,\n",
    "                             linecolor='rgb(0, 0, 0)', linewidth=2,rangemode=\"nonnegative\",\n",
    "                             tickwidth=3, tickfont=num_font, ticks='outside'),\n",
    "                  yaxis=dict(tickfont=num_font, zeroline=False, showticklabels=True,\n",
    "                             rangemode=\"nonnegative\",\n",
    "                             showline=True),\n",
    "                  #showlegend=True,legend=dict(traceorder=\"reversed\"),\n",
    "                  margin=dict(autoexpand=True, l=40, r=20, t=40),\n",
    "                  plot_bgcolor=\"#eeeeee\"\n",
    "                  )\n",
    "fig.show()\n",
    "fig.write_image(\"runtime_v5000.pdf\")"
   ]
  },
  {
   "cell_type": "code",
   "execution_count": 16,
   "metadata": {},
   "outputs": [
    {
     "output_type": "display_data",
     "data": {
      "application/vnd.plotly.v1+json": {
       "config": {
        "plotlyServerURL": "https://plot.ly"
       },
       "data": [
        {
         "line": {
          "color": "#4C78A8",
          "width": 3
         },
         "marker": {
          "size": 10,
          "symbol": "circle"
         },
         "mode": "lines+markers",
         "name": "Vector",
         "type": "scatter",
         "x": [
          5000,
          10000,
          20000
         ],
         "y": [
          "0.107335",
          "0.267637",
          "0.0992371"
         ]
        },
        {
         "line": {
          "color": "#F58518",
          "width": 3
         },
         "marker": {
          "size": 10,
          "symbol": "square"
         },
         "mode": "lines+markers",
         "name": "Inline",
         "type": "scatter",
         "x": [
          5000,
          10000,
          20000
         ],
         "y": [
          "0.0599726",
          "0.074272",
          "0.0862049"
         ]
        },
        {
         "line": {
          "color": "#E45756",
          "width": 3
         },
         "marker": {
          "size": 10,
          "symbol": "diamond"
         },
         "mode": "lines+markers",
         "name": "Merge+SIMD",
         "type": "scatter",
         "x": [
          5000,
          10000,
          20000
         ],
         "y": [
          "0.0650424",
          "0.0714696",
          "0.0792809"
         ]
        },
        {
         "line": {
          "color": "#72B7B2",
          "width": 3
         },
         "marker": {
          "size": 10,
          "symbol": "cross"
         },
         "mode": "lines+markers",
         "name": "Merge",
         "type": "scatter",
         "x": [
          5000,
          10000,
          20000
         ],
         "y": [
          "0.0831368",
          "0.0947524",
          "1.003"
         ]
        },
        {
         "line": {
          "color": "#54A24B",
          "width": 3
         },
         "marker": {
          "size": 10,
          "symbol": "triangle-up-open"
         },
         "mode": "lines+markers",
         "name": "Merge+Rand",
         "type": "scatter",
         "x": [
          5000,
          10000,
          20000
         ],
         "y": [
          "0.0686521",
          "0.0809581",
          "0.0703691"
         ]
        },
        {
         "line": {
          "color": "#EECA3B",
          "width": 3
         },
         "marker": {
          "size": 10,
          "symbol": "pentagon"
         },
         "mode": "lines+markers",
         "name": "Baseline",
         "type": "scatter",
         "x": [
          5000,
          10000,
          20000
         ],
         "y": [
          "0.659076",
          "1.39012",
          "3.201"
         ]
        }
       ],
       "layout": {
        "margin": {
         "autoexpand": true,
         "l": 40,
         "r": 20,
         "t": 40
        },
        "plot_bgcolor": "#eeeeee",
        "template": {
         "data": {
          "bar": [
           {
            "error_x": {
             "color": "#2a3f5f"
            },
            "error_y": {
             "color": "#2a3f5f"
            },
            "marker": {
             "line": {
              "color": "#E5ECF6",
              "width": 0.5
             }
            },
            "type": "bar"
           }
          ],
          "barpolar": [
           {
            "marker": {
             "line": {
              "color": "#E5ECF6",
              "width": 0.5
             }
            },
            "type": "barpolar"
           }
          ],
          "carpet": [
           {
            "aaxis": {
             "endlinecolor": "#2a3f5f",
             "gridcolor": "white",
             "linecolor": "white",
             "minorgridcolor": "white",
             "startlinecolor": "#2a3f5f"
            },
            "baxis": {
             "endlinecolor": "#2a3f5f",
             "gridcolor": "white",
             "linecolor": "white",
             "minorgridcolor": "white",
             "startlinecolor": "#2a3f5f"
            },
            "type": "carpet"
           }
          ],
          "choropleth": [
           {
            "colorbar": {
             "outlinewidth": 0,
             "ticks": ""
            },
            "type": "choropleth"
           }
          ],
          "contour": [
           {
            "colorbar": {
             "outlinewidth": 0,
             "ticks": ""
            },
            "colorscale": [
             [
              0,
              "#0d0887"
             ],
             [
              0.1111111111111111,
              "#46039f"
             ],
             [
              0.2222222222222222,
              "#7201a8"
             ],
             [
              0.3333333333333333,
              "#9c179e"
             ],
             [
              0.4444444444444444,
              "#bd3786"
             ],
             [
              0.5555555555555556,
              "#d8576b"
             ],
             [
              0.6666666666666666,
              "#ed7953"
             ],
             [
              0.7777777777777778,
              "#fb9f3a"
             ],
             [
              0.8888888888888888,
              "#fdca26"
             ],
             [
              1,
              "#f0f921"
             ]
            ],
            "type": "contour"
           }
          ],
          "contourcarpet": [
           {
            "colorbar": {
             "outlinewidth": 0,
             "ticks": ""
            },
            "type": "contourcarpet"
           }
          ],
          "heatmap": [
           {
            "colorbar": {
             "outlinewidth": 0,
             "ticks": ""
            },
            "colorscale": [
             [
              0,
              "#0d0887"
             ],
             [
              0.1111111111111111,
              "#46039f"
             ],
             [
              0.2222222222222222,
              "#7201a8"
             ],
             [
              0.3333333333333333,
              "#9c179e"
             ],
             [
              0.4444444444444444,
              "#bd3786"
             ],
             [
              0.5555555555555556,
              "#d8576b"
             ],
             [
              0.6666666666666666,
              "#ed7953"
             ],
             [
              0.7777777777777778,
              "#fb9f3a"
             ],
             [
              0.8888888888888888,
              "#fdca26"
             ],
             [
              1,
              "#f0f921"
             ]
            ],
            "type": "heatmap"
           }
          ],
          "heatmapgl": [
           {
            "colorbar": {
             "outlinewidth": 0,
             "ticks": ""
            },
            "colorscale": [
             [
              0,
              "#0d0887"
             ],
             [
              0.1111111111111111,
              "#46039f"
             ],
             [
              0.2222222222222222,
              "#7201a8"
             ],
             [
              0.3333333333333333,
              "#9c179e"
             ],
             [
              0.4444444444444444,
              "#bd3786"
             ],
             [
              0.5555555555555556,
              "#d8576b"
             ],
             [
              0.6666666666666666,
              "#ed7953"
             ],
             [
              0.7777777777777778,
              "#fb9f3a"
             ],
             [
              0.8888888888888888,
              "#fdca26"
             ],
             [
              1,
              "#f0f921"
             ]
            ],
            "type": "heatmapgl"
           }
          ],
          "histogram": [
           {
            "marker": {
             "colorbar": {
              "outlinewidth": 0,
              "ticks": ""
             }
            },
            "type": "histogram"
           }
          ],
          "histogram2d": [
           {
            "colorbar": {
             "outlinewidth": 0,
             "ticks": ""
            },
            "colorscale": [
             [
              0,
              "#0d0887"
             ],
             [
              0.1111111111111111,
              "#46039f"
             ],
             [
              0.2222222222222222,
              "#7201a8"
             ],
             [
              0.3333333333333333,
              "#9c179e"
             ],
             [
              0.4444444444444444,
              "#bd3786"
             ],
             [
              0.5555555555555556,
              "#d8576b"
             ],
             [
              0.6666666666666666,
              "#ed7953"
             ],
             [
              0.7777777777777778,
              "#fb9f3a"
             ],
             [
              0.8888888888888888,
              "#fdca26"
             ],
             [
              1,
              "#f0f921"
             ]
            ],
            "type": "histogram2d"
           }
          ],
          "histogram2dcontour": [
           {
            "colorbar": {
             "outlinewidth": 0,
             "ticks": ""
            },
            "colorscale": [
             [
              0,
              "#0d0887"
             ],
             [
              0.1111111111111111,
              "#46039f"
             ],
             [
              0.2222222222222222,
              "#7201a8"
             ],
             [
              0.3333333333333333,
              "#9c179e"
             ],
             [
              0.4444444444444444,
              "#bd3786"
             ],
             [
              0.5555555555555556,
              "#d8576b"
             ],
             [
              0.6666666666666666,
              "#ed7953"
             ],
             [
              0.7777777777777778,
              "#fb9f3a"
             ],
             [
              0.8888888888888888,
              "#fdca26"
             ],
             [
              1,
              "#f0f921"
             ]
            ],
            "type": "histogram2dcontour"
           }
          ],
          "mesh3d": [
           {
            "colorbar": {
             "outlinewidth": 0,
             "ticks": ""
            },
            "type": "mesh3d"
           }
          ],
          "parcoords": [
           {
            "line": {
             "colorbar": {
              "outlinewidth": 0,
              "ticks": ""
             }
            },
            "type": "parcoords"
           }
          ],
          "pie": [
           {
            "automargin": true,
            "type": "pie"
           }
          ],
          "scatter": [
           {
            "marker": {
             "colorbar": {
              "outlinewidth": 0,
              "ticks": ""
             }
            },
            "type": "scatter"
           }
          ],
          "scatter3d": [
           {
            "line": {
             "colorbar": {
              "outlinewidth": 0,
              "ticks": ""
             }
            },
            "marker": {
             "colorbar": {
              "outlinewidth": 0,
              "ticks": ""
             }
            },
            "type": "scatter3d"
           }
          ],
          "scattercarpet": [
           {
            "marker": {
             "colorbar": {
              "outlinewidth": 0,
              "ticks": ""
             }
            },
            "type": "scattercarpet"
           }
          ],
          "scattergeo": [
           {
            "marker": {
             "colorbar": {
              "outlinewidth": 0,
              "ticks": ""
             }
            },
            "type": "scattergeo"
           }
          ],
          "scattergl": [
           {
            "marker": {
             "colorbar": {
              "outlinewidth": 0,
              "ticks": ""
             }
            },
            "type": "scattergl"
           }
          ],
          "scattermapbox": [
           {
            "marker": {
             "colorbar": {
              "outlinewidth": 0,
              "ticks": ""
             }
            },
            "type": "scattermapbox"
           }
          ],
          "scatterpolar": [
           {
            "marker": {
             "colorbar": {
              "outlinewidth": 0,
              "ticks": ""
             }
            },
            "type": "scatterpolar"
           }
          ],
          "scatterpolargl": [
           {
            "marker": {
             "colorbar": {
              "outlinewidth": 0,
              "ticks": ""
             }
            },
            "type": "scatterpolargl"
           }
          ],
          "scatterternary": [
           {
            "marker": {
             "colorbar": {
              "outlinewidth": 0,
              "ticks": ""
             }
            },
            "type": "scatterternary"
           }
          ],
          "surface": [
           {
            "colorbar": {
             "outlinewidth": 0,
             "ticks": ""
            },
            "colorscale": [
             [
              0,
              "#0d0887"
             ],
             [
              0.1111111111111111,
              "#46039f"
             ],
             [
              0.2222222222222222,
              "#7201a8"
             ],
             [
              0.3333333333333333,
              "#9c179e"
             ],
             [
              0.4444444444444444,
              "#bd3786"
             ],
             [
              0.5555555555555556,
              "#d8576b"
             ],
             [
              0.6666666666666666,
              "#ed7953"
             ],
             [
              0.7777777777777778,
              "#fb9f3a"
             ],
             [
              0.8888888888888888,
              "#fdca26"
             ],
             [
              1,
              "#f0f921"
             ]
            ],
            "type": "surface"
           }
          ],
          "table": [
           {
            "cells": {
             "fill": {
              "color": "#EBF0F8"
             },
             "line": {
              "color": "white"
             }
            },
            "header": {
             "fill": {
              "color": "#C8D4E3"
             },
             "line": {
              "color": "white"
             }
            },
            "type": "table"
           }
          ]
         },
         "layout": {
          "annotationdefaults": {
           "arrowcolor": "#2a3f5f",
           "arrowhead": 0,
           "arrowwidth": 1
          },
          "coloraxis": {
           "colorbar": {
            "outlinewidth": 0,
            "ticks": ""
           }
          },
          "colorscale": {
           "diverging": [
            [
             0,
             "#8e0152"
            ],
            [
             0.1,
             "#c51b7d"
            ],
            [
             0.2,
             "#de77ae"
            ],
            [
             0.3,
             "#f1b6da"
            ],
            [
             0.4,
             "#fde0ef"
            ],
            [
             0.5,
             "#f7f7f7"
            ],
            [
             0.6,
             "#e6f5d0"
            ],
            [
             0.7,
             "#b8e186"
            ],
            [
             0.8,
             "#7fbc41"
            ],
            [
             0.9,
             "#4d9221"
            ],
            [
             1,
             "#276419"
            ]
           ],
           "sequential": [
            [
             0,
             "#0d0887"
            ],
            [
             0.1111111111111111,
             "#46039f"
            ],
            [
             0.2222222222222222,
             "#7201a8"
            ],
            [
             0.3333333333333333,
             "#9c179e"
            ],
            [
             0.4444444444444444,
             "#bd3786"
            ],
            [
             0.5555555555555556,
             "#d8576b"
            ],
            [
             0.6666666666666666,
             "#ed7953"
            ],
            [
             0.7777777777777778,
             "#fb9f3a"
            ],
            [
             0.8888888888888888,
             "#fdca26"
            ],
            [
             1,
             "#f0f921"
            ]
           ],
           "sequentialminus": [
            [
             0,
             "#0d0887"
            ],
            [
             0.1111111111111111,
             "#46039f"
            ],
            [
             0.2222222222222222,
             "#7201a8"
            ],
            [
             0.3333333333333333,
             "#9c179e"
            ],
            [
             0.4444444444444444,
             "#bd3786"
            ],
            [
             0.5555555555555556,
             "#d8576b"
            ],
            [
             0.6666666666666666,
             "#ed7953"
            ],
            [
             0.7777777777777778,
             "#fb9f3a"
            ],
            [
             0.8888888888888888,
             "#fdca26"
            ],
            [
             1,
             "#f0f921"
            ]
           ]
          },
          "colorway": [
           "#636efa",
           "#EF553B",
           "#00cc96",
           "#ab63fa",
           "#FFA15A",
           "#19d3f3",
           "#FF6692",
           "#B6E880",
           "#FF97FF",
           "#FECB52"
          ],
          "font": {
           "color": "#2a3f5f"
          },
          "geo": {
           "bgcolor": "white",
           "lakecolor": "white",
           "landcolor": "#E5ECF6",
           "showlakes": true,
           "showland": true,
           "subunitcolor": "white"
          },
          "hoverlabel": {
           "align": "left"
          },
          "hovermode": "closest",
          "mapbox": {
           "style": "light"
          },
          "paper_bgcolor": "white",
          "plot_bgcolor": "#E5ECF6",
          "polar": {
           "angularaxis": {
            "gridcolor": "white",
            "linecolor": "white",
            "ticks": ""
           },
           "bgcolor": "#E5ECF6",
           "radialaxis": {
            "gridcolor": "white",
            "linecolor": "white",
            "ticks": ""
           }
          },
          "scene": {
           "xaxis": {
            "backgroundcolor": "#E5ECF6",
            "gridcolor": "white",
            "gridwidth": 2,
            "linecolor": "white",
            "showbackground": true,
            "ticks": "",
            "zerolinecolor": "white"
           },
           "yaxis": {
            "backgroundcolor": "#E5ECF6",
            "gridcolor": "white",
            "gridwidth": 2,
            "linecolor": "white",
            "showbackground": true,
            "ticks": "",
            "zerolinecolor": "white"
           },
           "zaxis": {
            "backgroundcolor": "#E5ECF6",
            "gridcolor": "white",
            "gridwidth": 2,
            "linecolor": "white",
            "showbackground": true,
            "ticks": "",
            "zerolinecolor": "white"
           }
          },
          "shapedefaults": {
           "line": {
            "color": "#2a3f5f"
           }
          },
          "ternary": {
           "aaxis": {
            "gridcolor": "white",
            "linecolor": "white",
            "ticks": ""
           },
           "baxis": {
            "gridcolor": "white",
            "linecolor": "white",
            "ticks": ""
           },
           "bgcolor": "#E5ECF6",
           "caxis": {
            "gridcolor": "white",
            "linecolor": "white",
            "ticks": ""
           }
          },
          "title": {
           "x": 0.05
          },
          "xaxis": {
           "automargin": true,
           "gridcolor": "white",
           "linecolor": "white",
           "ticks": "",
           "title": {
            "standoff": 15
           },
           "zerolinecolor": "white",
           "zerolinewidth": 2
          },
          "yaxis": {
           "automargin": true,
           "gridcolor": "white",
           "linecolor": "white",
           "ticks": "",
           "title": {
            "standoff": 15
           },
           "zerolinecolor": "white",
           "zerolinewidth": 2
          }
         }
        },
        "xaxis": {
         "linecolor": "rgb(0, 0, 0)",
         "linewidth": 2,
         "rangemode": "nonnegative",
         "showgrid": true,
         "showline": true,
         "tickfont": {
          "color": "#000000",
          "size": 22
         },
         "ticks": "outside",
         "tickwidth": 3
        },
        "yaxis": {
         "rangemode": "nonnegative",
         "showline": true,
         "showticklabels": true,
         "tickfont": {
          "color": "#000000",
          "size": 22
         },
         "zeroline": false
        }
       }
      }
     },
     "metadata": {}
    }
   ],
   "source": [
    "# runtime v=5000\n",
    "fig = go.Figure()\n",
    "func_alias=['Vector', 'Inline', 'Merge+SIMD', 'Merge', 'Merge+Rand', 'Baseline']\n",
    "for j, func in enumerate(func_alias):\n",
    "    same = result.loc[(result['function']==func)&(result['#E']==80000)]\n",
    "    fig.add_trace(go.Scatter(x=same['#V'], y=same[\"runtime\"],  name=f\"{func}\",\n",
    "                            mode='lines+markers', marker=dict(symbol=marker_symbols[j],size=10),\n",
    "                            line=dict(color=colorq[j], width=3)))\n",
    "\n",
    "fig.update_layout(xaxis=dict(showline=True, showgrid=True,\n",
    "                             linecolor='rgb(0, 0, 0)', linewidth=2,rangemode=\"nonnegative\",\n",
    "                             tickwidth=3, tickfont=num_font, ticks='outside'),\n",
    "                  yaxis=dict(tickfont=num_font, zeroline=False, showticklabels=True,\n",
    "                             rangemode=\"nonnegative\",\n",
    "                             showline=True),\n",
    "                  #showlegend=True,legend=dict(traceorder=\"reversed\"),\n",
    "                  margin=dict(autoexpand=True, l=40, r=20, t=40),\n",
    "                  plot_bgcolor=\"#eeeeee\"\n",
    "                  )\n",
    "fig.show()\n",
    "fig.write_image(\"runtime_v5000.pdf\")"
   ]
  },
  {
   "cell_type": "code",
   "execution_count": null,
   "metadata": {},
   "outputs": [],
   "source": []
  }
 ],
 "metadata": {
  "kernelspec": {
   "display_name": "Python 3.7.4 64-bit ('base': conda)",
   "language": "python",
   "name": "python37464bitbaseconda7237268a33e24a329185d6db8be488e4"
  },
  "language_info": {
   "codemirror_mode": {
    "name": "ipython",
    "version": 3
   },
   "file_extension": ".py",
   "mimetype": "text/x-python",
   "name": "python",
   "nbconvert_exporter": "python",
   "pygments_lexer": "ipython3",
   "version": "3.7.4-final"
  }
 },
 "nbformat": 4,
 "nbformat_minor": 4
}
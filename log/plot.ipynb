{
 "cells": [
  {
   "cell_type": "markdown",
   "metadata": {},
   "source": [
    "# TODOs\n",
    "- [ ] Runtimes with various input size and different optimization flags\n",
    "> Create a timing infrastructure to get runtimes for a suitable set of input sizes (and inputs). Push sizes to the limit (i.e., until the execution takes minutes or even hours). Consider different compiler flags (but always with optimization).\n",
    "- [ ] Cost Analysis (float ops, float comp, int ops, int comp)\n",
    "> Cost analysis: Select a cost measure (usually flop count but may include div, sin, ...) and determine the cost. Briefly say how you did it (e.g., counted in code, had to instrument parts, ...).\n",
    "- [ ] Performance Plot\n",
    "> Create a performance plot. Put it as plot0 (or plot0a, plot0b, ...) into svn in the same directory as this document. As you perform optimizations later, include one line for each relevant optimization.\n",
    "- [ ] Bottlenecks by profiling tool\n",
    "> Identify performance bottlenecks in your code by profiling. This will likely involve instrumenting your code (standard profilers may not be fine grain enough). Focus on those parts when optimizing. The bottlenecks may change during optimization. Understand the cost and performance of the bottlenecks to set expectations right."
   ]
  },
  {
   "cell_type": "code",
   "execution_count": 1,
   "metadata": {},
   "outputs": [],
   "source": [
    "import re\n",
    "import numpy as np    \n",
    "import pandas as pd\n",
    "\n",
    "general_log = \"./general_metrics.txt\"\n",
    "cache_log = './cache_log.txt'\n",
    "flops_log = './flops_log.txt'"
   ]
  },
  {
   "cell_type": "code",
   "execution_count": 35,
   "metadata": {},
   "outputs": [],
   "source": [
    "def extract(log, metric):\n",
    "    res = []\n",
    "    with open(log, 'r') as f:\n",
    "        file = f.read()\n",
    "    try:\n",
    "        if metric=='runtime(sec)':\n",
    "            res = re.findall(\"(.*) seconds time elapsed\", file)\n",
    "        elif metric=='cc_int_ops':\n",
    "            res = re.findall(\"cc_int_ops:(.*), cc_int_comp\", file)\n",
    "        elif metric=='cc_int_comp':\n",
    "            res = re.findall(\"cc_int_comp:(.*), cc_fl_ops\", file)\n",
    "        elif metric=='cc_fl_ops':\n",
    "            res = re.findall(\"cc_fl_ops(.*), cc_fl_comp\", file)\n",
    "        elif metric=='cc_fl_comp':\n",
    "            res = re.findall(\"cc_fl_comp:(.*)\", file)\n",
    "        elif metric=='ll_int_ops':\n",
    "            res = re.findall(\"ll_int_ops:(.*), ll_int_comp:\", file)\n",
    "        elif metric=='ll_int_comp':\n",
    "            res = re.findall(\"ll_int_comp:(.*)\", file)\n",
    "        elif metric=='flops':\n",
    "            res = re.findall(\"#fl ops: (.*)\", file)\n",
    "        elif metric=='flcomp':\n",
    "            res = re.findall(\"#fl comparisons: (.*)\", file)\n",
    "        elif metric=='intops':\n",
    "            res = re.findall(\"#int ops: (.*)\", file)\n",
    "        elif metric=='intcomp':\n",
    "            res = re.findall(\"#int comparisons: (.*)\", file)\n",
    "        elif metric=='cycles':\n",
    "            res = re.findall(\"#cycles: (.*)\", file)\n",
    "        elif metric=='flops/cycles':\n",
    "            res = re.findall(\"(.*)flops / cycles\", file)\n",
    "        elif metric=='instructions':\n",
    "            res = re.findall(\"(.*)   instructions:u\", file)\n",
    "        elif metric=='branches':\n",
    "            res = re.findall(\"(.*)     branches:u\", file)\n",
    "        elif metric=='branch-misses':\n",
    "            res = re.findall(\"branch-misses:u           #(.*) of all branches\", file)\n",
    "        elif metric=='page-faults':\n",
    "            res = re.findall(\"(.*)  page-faults:u\", file)\n",
    "        elif metric=='cycles(perf)':\n",
    "            res = re.findall(\"(.*)      cycles:u\", file)\n",
    "        elif metric=='flops(perf)':\n",
    "            res = re.findall(\"(.*) r5301c7\", file)\n",
    "        elif metric=='L1-dcache-loads':\n",
    "            res = re.findall(\"(.*)L1-dcache-loads:u\", file)\n",
    "        elif metric=='L1-dcache-load-misses':\n",
    "            res = re.findall(\"L1-dcache-load-misses:u   #(.*)\\% \", file)\n",
    "        elif metric=='LLC-loads':\n",
    "            res = re.findall(\"(.*)LLC-loads:u\", file)\n",
    "        elif metric=='LLC-load-misses':\n",
    "            res = re.findall(\"LLC-load-misses:u         #(.*)\\% \", file)\n",
    "    except Exception:\n",
    "        return \n",
    "    return res  \n",
    "\n",
    "def init_table(vertice, edge):\n",
    "    ve = []\n",
    "    for v in vertice:\n",
    "        for e in edge:\n",
    "            if e < v*10 and e >= v:\n",
    "                ve.append([v,e])\n",
    "    return pd.DataFrame(ve, columns=['#V', '#E'])\n",
    "\n",
    "def update_table(df, log, data, header):\n",
    "    for i, x in enumerate(df['#V']):\n",
    "        for j, y in enumerate(df['#E']):\n",
    "            for l in header:\n",
    "                data[l] = extract(log, l)\n",
    "                if len(data[l])==len(df):\n",
    "                    df[l] = data[l]\n",
    "                else:\n",
    "                    print(f\"fail to add {l} to the table.\")"
   ]
  },
  {
   "cell_type": "code",
   "execution_count": 36,
   "metadata": {},
   "outputs": [],
   "source": [
    "from itertools import product\n",
    "\n",
    "label=['runtime(sec)',\n",
    "       'flops','flcomp','intops','intcomp', 'flops/cycles',\n",
    "      #'cc_int_ops', 'cc_int_comp', 'cc_fl_ops', 'cc_fl_comp', 'll_int_ops', 'll_int_comp',\n",
    "      'instructions', 'cycles', 'cycles(perf)', \n",
    "      'branches', 'branch-misses', 'page-faults']\n",
    "cache=['L1-dcache-loads','L1-dcache-load-misses','LLC-loads','LLC-load-misses',\n",
    "      # 'LLC-stores','LLC-store-misses','L1-dcache-stores', 'dTLB-loads','dTLB-load-misses','dTLB-stores','dTLB-store-misses',\n",
    "      # 'iTLB-loads', 'iTLB-load-misses'\n",
    "       ]\n",
    "flops=['flops(perf)']\n",
    "\n",
    "vertice = [10,100,1000,2000,5000,8000,10000]\n",
    "edge = [10,100,500,1000,2000,5000,8000,10000,20000,50000]"
   ]
  },
  {
   "cell_type": "code",
   "execution_count": 37,
   "metadata": {},
   "outputs": [],
   "source": [
    "# results with flag -O3\n",
    "data = dict()\n",
    "res = init_table(vertice, edge)\n",
    "res = res[:-1]\n",
    "update_table(res, general_log, data, label)\n",
    "update_table(res, flops_log, data, cache)\n",
    "#res.to_excel('result.xlsx', sheet_name='sheet1', index=False) "
   ]
  },
  {
   "cell_type": "code",
   "execution_count": 41,
   "metadata": {
    "tags": [
     "outputPrepend",
     "outputPrepend",
     "outputPrepend",
     "outputPrepend",
     "outputPrepend",
     "outputPrepend",
     "outputPrepend",
     "outputPrepend",
     "outputPrepend",
     "outputPrepend",
     "outputPrepend",
     "outputPrepend",
     "outputPrepend",
     "outputPrepend",
     "outputPrepend",
     "outputPrepend",
     "outputPrepend",
     "outputPrepend",
     "outputPrepend",
     "outputPrepend",
     "outputPrepend",
     "outputPrepend",
     "outputPrepend",
     "outputPrepend",
     "outputPrepend",
     "outputPrepend",
     "outputPrepend",
     "outputPrepend",
     "outputPrepend",
     "outputPrepend",
     "outputPrepend",
     "outputPrepend",
     "outputPrepend",
     "outputPrepend",
     "outputPrepend",
     "outputPrepend",
     "outputPrepend",
     "outputPrepend",
     "outputPrepend",
     "outputPrepend",
     "outputPrepend",
     "outputPrepend",
     "outputPrepend",
     "outputPrepend",
     "outputPrepend",
     "outputPrepend",
     "outputPrepend",
     "outputPrepend",
     "outputPrepend",
     "outputPrepend",
     "outputPrepend",
     "outputPrepend",
     "outputPrepend",
     "outputPrepend",
     "outputPrepend",
     "outputPrepend",
     "outputPrepend",
     "outputPrepend",
     "outputPrepend",
     "outputPrepend",
     "outputPrepend",
     "outputPrepend",
     "outputPrepend",
     "outputPrepend",
     "outputPrepend",
     "outputPrepend",
     "outputPrepend",
     "outputPrepend",
     "outputPrepend",
     "outputPrepend",
     "outputPrepend",
     "outputPrepend",
     "outputPrepend",
     "outputPrepend",
     "outputPrepend",
     "outputPrepend",
     "outputPrepend",
     "outputPrepend",
     "outputPrepend",
     "outputPrepend",
     "outputPrepend",
     "outputPrepend",
     "outputPrepend",
     "outputPrepend",
     "outputPrepend",
     "outputPrepend",
     "outputPrepend",
     "outputPrepend",
     "outputPrepend",
     "outputPrepend",
     "outputPrepend",
     "outputPrepend",
     "outputPrepend",
     "outputPrepend",
     "outputPrepend",
     "outputPrepend",
     "outputPrepend",
     "outputPrepend",
     "outputPrepend",
     "outputPrepend",
     "outputPrepend",
     "outputPrepend",
     "outputPrepend",
     "outputPrepend",
     "outputPrepend",
     "outputPrepend",
     "outputPrepend",
     "outputPrepend",
     "outputPrepend",
     "outputPrepend",
     "outputPrepend",
     "outputPrepend",
     "outputPrepend",
     "outputPrepend",
     "outputPrepend",
     "outputPrepend",
     "outputPrepend",
     "outputPrepend",
     "outputPrepend",
     "outputPrepend",
     "outputPrepend",
     "outputPrepend",
     "outputPrepend",
     "outputPrepend",
     "outputPrepend",
     "outputPrepend",
     "outputPrepend",
     "outputPrepend",
     "outputPrepend",
     "outputPrepend",
     "outputPrepend",
     "outputPrepend",
     "outputPrepend",
     "outputPrepend",
     "outputPrepend",
     "outputPrepend",
     "outputPrepend",
     "outputPrepend",
     "outputPrepend",
     "outputPrepend",
     "outputPrepend",
     "outputPrepend",
     "outputPrepend",
     "outputPrepend",
     "outputPrepend",
     "outputPrepend",
     "outputPrepend",
     "outputPrepend",
     "outputPrepend",
     "outputPrepend",
     "outputPrepend",
     "outputPrepend",
     "outputPrepend"
    ]
   },
   "outputs": [
    {
     "output_type": "execute_result",
     "data": {
      "text/plain": "       #V     #E    runtime(sec)    flops   flcomp   intops  intcomp  \\\n0      10     10     0.010035947       71       15       50      126   \n1     100    100     0.160081721     1278      275      776     2007   \n2     100    500     0.686663846    12156     7819    13649    36298   \n3    1000   1000     8.242615681    13296     2851     8002    20783   \n4    1000   2000    15.706050421    68545    31960    58659   160084   \n5    1000   5000    38.363303375   195773   132635   228933   594329   \n6    1000   8000    62.502320174   302344   240501   412317  1038420   \n7    2000   2000    29.968098914    26970     5765    16054    41925   \n8    2000   5000    74.865500267   202701   109035   192922   516866   \n9    2000   8000   117.836783339   347583   223132   386353  1009192   \n10   2000  10000   146.042186319   432549   303860   523004  1340858   \n11   5000   5000   185.976656635    69110    14806    40944   107245   \n12   5000   8000   291.318613898   295801   133942   247540   670492   \n13   5000  10000   363.987194588   422952   219094   390107  1042162   \n14   5000  20000   708.668529622   972387   659998  1136263  2921086   \n15   8000   8000   456.946532267   108494    23167    64561   168271   \n16   8000  10000   568.140414502   283199   105569   207769   567210   \n17   8000  20000  1094.384627387   941808   551363   977546  2556559   \n18   8000  50000  2653.972809270  2562202  2044200  3485153  8727454   \n19  10000  10000   717.680128344   134126    28671    80186   208496   \n20  10000  20000  1378.395260827   894746   482270   853413  2263245   \n\n    flops/cycles           instructions       cycles       cycles(perf)  \\\n0    0.00664622           43,734,003         39420.9         27,406,913   \n1    0.00547562        1,032,889,526          791874        576,709,917   \n2     0.0187632        4,696,918,569     3.72656e+06      2,490,286,717   \n3   0.000961764       64,372,965,223     4.67183e+07     30,047,979,584   \n4    0.00356626      130,012,123,572     8.95189e+07     57,834,703,517   \n5    0.00520455      323,303,307,143     2.21281e+08    140,851,750,932   \n6    0.00553681      518,710,449,596      3.6006e+08    228,356,545,273   \n7   0.000534638      250,554,518,237     1.69674e+08    109,473,398,766   \n8    0.00240122      623,087,866,977     4.25419e+08    272,429,590,003   \n9    0.00291904      993,016,470,658     6.73598e+08    429,680,535,192   \n10   0.00308578    1,239,094,114,018     8.42664e+08    534,057,657,916   \n11  0.000220563    1,542,947,753,527     1.05233e+09    674,752,063,958   \n12  0.000806907    2,440,298,420,792      1.6703e+09  1,060,966,524,200   \n13  0.000997218    3,038,770,706,172      2.0801e+09  1,328,517,425,150   \n14   0.00139419    6,015,298,949,758     4.08102e+09  2,587,640,207,016   \n15  0.000138013    3,932,445,894,417       2.641e+09  1,710,544,861,471   \n16  0.000354371    4,876,504,430,403     3.28398e+09  2,127,958,769,285   \n17   0.00079381    9,596,739,267,026      6.3331e+09  4,097,200,320,097   \n18   0.00109852   23,753,205,189,784     1.53105e+10  9,921,771,667,624   \n19  0.000109207    6,133,986,558,650     4.13416e+09  2,686,214,499,201   \n20  0.000563698   12,010,316,302,550     7.97178e+09  5,161,553,072,612   \n\n              branches branch-misses page-faults          L1-dcache-loads  \\\n0           7,738,926          0.70%     420             13,035,533         \n1         175,378,523          0.32%     430            350,630,217         \n2         788,318,319          0.46%     451          1,680,452,879         \n3      10,859,438,953          0.09%     495         22,988,477,341         \n4      22,097,969,079          0.11%     547         46,461,308,880         \n5      55,307,647,959          0.13%     802        115,759,241,361         \n6      88,826,849,381          0.15%     976        185,859,565,447         \n7      42,029,257,233          0.05%     567         90,286,684,068         \n8     106,254,362,155          0.07%     804        223,596,021,429         \n9     170,070,058,716          0.08%   1,097        355,958,765,188         \n10    212,612,507,262          0.08%   1,190        444,047,627,985         \n11    257,571,475,784          0.02%     786        560,909,666,411         \n12    412,876,556,731          0.03%     944        881,558,273,308         \n13    516,518,209,300          0.03%   1,212      1,095,112,211,693         \n14  1,032,132,467,935          0.04%   1,931      2,158,629,033,668         \n15    655,711,496,623          0.01%   1,002      1,429,396,945,220         \n16    819,793,695,170          0.02%   1,274      1,767,460,035,775         \n17  1,638,406,159,068          0.02%   1,992      3,453,448,805,108         \n18  4,095,396,006,932          0.03%   5,217      8,505,364,463,024         \n19  1,023,282,154,899          0.01%   1,147      2,230,146,830,150         \n20  2,042,822,802,052          0.02%   2,018        229,507,900,049         \n\n   L1-dcache-load-misses             LLC-loads LLC-load-misses  \n0                   0.40          16,103                  1.26  \n1                   0.32         111,974                  0.21  \n2                   0.23         207,044                  0.09  \n3                   2.34         937,820                  0.15  \n4                   1.89       2,003,659                  0.13  \n5                   1.44      21,662,155                  1.27  \n6                   1.32      60,071,352                  0.66  \n7                   3.02      12,341,811                  0.22  \n8                   2.00     151,033,430                  0.39  \n9                   1.69     294,179,747                  1.11  \n10                  1.59     358,044,104                  0.76  \n11                  3.42   5,031,930,690                  0.04  \n12                  2.67   7,487,219,577                  0.06  \n13                  2.38   9,423,880,983                  0.08  \n14                  1.79  11,049,650,675                  0.10  \n15                  3.53  15,512,461,598                  0.01  \n16                  3.12  22,567,012,114                  0.03  \n17                  2.18  29,069,266,632                  0.08  \n18                  1.60  29,246,107,292                  0.16  \n19                  3.55  28,343,717,659                  0.02  \n20                  2.43   2,383,207,962                  0.03  ",
      "text/html": "<div>\n<style scoped>\n    .dataframe tbody tr th:only-of-type {\n        vertical-align: middle;\n    }\n\n    .dataframe tbody tr th {\n        vertical-align: top;\n    }\n\n    .dataframe thead th {\n        text-align: right;\n    }\n</style>\n<table border=\"1\" class=\"dataframe\">\n  <thead>\n    <tr style=\"text-align: right;\">\n      <th></th>\n      <th>#V</th>\n      <th>#E</th>\n      <th>runtime(sec)</th>\n      <th>flops</th>\n      <th>flcomp</th>\n      <th>intops</th>\n      <th>intcomp</th>\n      <th>flops/cycles</th>\n      <th>instructions</th>\n      <th>cycles</th>\n      <th>cycles(perf)</th>\n      <th>branches</th>\n      <th>branch-misses</th>\n      <th>page-faults</th>\n      <th>L1-dcache-loads</th>\n      <th>L1-dcache-load-misses</th>\n      <th>LLC-loads</th>\n      <th>LLC-load-misses</th>\n    </tr>\n  </thead>\n  <tbody>\n    <tr>\n      <th>0</th>\n      <td>10</td>\n      <td>10</td>\n      <td>0.010035947</td>\n      <td>71</td>\n      <td>15</td>\n      <td>50</td>\n      <td>126</td>\n      <td>0.00664622</td>\n      <td>43,734,003</td>\n      <td>39420.9</td>\n      <td>27,406,913</td>\n      <td>7,738,926</td>\n      <td>0.70%</td>\n      <td>420</td>\n      <td>13,035,533</td>\n      <td>0.40</td>\n      <td>16,103</td>\n      <td>1.26</td>\n    </tr>\n    <tr>\n      <th>1</th>\n      <td>100</td>\n      <td>100</td>\n      <td>0.160081721</td>\n      <td>1278</td>\n      <td>275</td>\n      <td>776</td>\n      <td>2007</td>\n      <td>0.00547562</td>\n      <td>1,032,889,526</td>\n      <td>791874</td>\n      <td>576,709,917</td>\n      <td>175,378,523</td>\n      <td>0.32%</td>\n      <td>430</td>\n      <td>350,630,217</td>\n      <td>0.32</td>\n      <td>111,974</td>\n      <td>0.21</td>\n    </tr>\n    <tr>\n      <th>2</th>\n      <td>100</td>\n      <td>500</td>\n      <td>0.686663846</td>\n      <td>12156</td>\n      <td>7819</td>\n      <td>13649</td>\n      <td>36298</td>\n      <td>0.0187632</td>\n      <td>4,696,918,569</td>\n      <td>3.72656e+06</td>\n      <td>2,490,286,717</td>\n      <td>788,318,319</td>\n      <td>0.46%</td>\n      <td>451</td>\n      <td>1,680,452,879</td>\n      <td>0.23</td>\n      <td>207,044</td>\n      <td>0.09</td>\n    </tr>\n    <tr>\n      <th>3</th>\n      <td>1000</td>\n      <td>1000</td>\n      <td>8.242615681</td>\n      <td>13296</td>\n      <td>2851</td>\n      <td>8002</td>\n      <td>20783</td>\n      <td>0.000961764</td>\n      <td>64,372,965,223</td>\n      <td>4.67183e+07</td>\n      <td>30,047,979,584</td>\n      <td>10,859,438,953</td>\n      <td>0.09%</td>\n      <td>495</td>\n      <td>22,988,477,341</td>\n      <td>2.34</td>\n      <td>937,820</td>\n      <td>0.15</td>\n    </tr>\n    <tr>\n      <th>4</th>\n      <td>1000</td>\n      <td>2000</td>\n      <td>15.706050421</td>\n      <td>68545</td>\n      <td>31960</td>\n      <td>58659</td>\n      <td>160084</td>\n      <td>0.00356626</td>\n      <td>130,012,123,572</td>\n      <td>8.95189e+07</td>\n      <td>57,834,703,517</td>\n      <td>22,097,969,079</td>\n      <td>0.11%</td>\n      <td>547</td>\n      <td>46,461,308,880</td>\n      <td>1.89</td>\n      <td>2,003,659</td>\n      <td>0.13</td>\n    </tr>\n    <tr>\n      <th>5</th>\n      <td>1000</td>\n      <td>5000</td>\n      <td>38.363303375</td>\n      <td>195773</td>\n      <td>132635</td>\n      <td>228933</td>\n      <td>594329</td>\n      <td>0.00520455</td>\n      <td>323,303,307,143</td>\n      <td>2.21281e+08</td>\n      <td>140,851,750,932</td>\n      <td>55,307,647,959</td>\n      <td>0.13%</td>\n      <td>802</td>\n      <td>115,759,241,361</td>\n      <td>1.44</td>\n      <td>21,662,155</td>\n      <td>1.27</td>\n    </tr>\n    <tr>\n      <th>6</th>\n      <td>1000</td>\n      <td>8000</td>\n      <td>62.502320174</td>\n      <td>302344</td>\n      <td>240501</td>\n      <td>412317</td>\n      <td>1038420</td>\n      <td>0.00553681</td>\n      <td>518,710,449,596</td>\n      <td>3.6006e+08</td>\n      <td>228,356,545,273</td>\n      <td>88,826,849,381</td>\n      <td>0.15%</td>\n      <td>976</td>\n      <td>185,859,565,447</td>\n      <td>1.32</td>\n      <td>60,071,352</td>\n      <td>0.66</td>\n    </tr>\n    <tr>\n      <th>7</th>\n      <td>2000</td>\n      <td>2000</td>\n      <td>29.968098914</td>\n      <td>26970</td>\n      <td>5765</td>\n      <td>16054</td>\n      <td>41925</td>\n      <td>0.000534638</td>\n      <td>250,554,518,237</td>\n      <td>1.69674e+08</td>\n      <td>109,473,398,766</td>\n      <td>42,029,257,233</td>\n      <td>0.05%</td>\n      <td>567</td>\n      <td>90,286,684,068</td>\n      <td>3.02</td>\n      <td>12,341,811</td>\n      <td>0.22</td>\n    </tr>\n    <tr>\n      <th>8</th>\n      <td>2000</td>\n      <td>5000</td>\n      <td>74.865500267</td>\n      <td>202701</td>\n      <td>109035</td>\n      <td>192922</td>\n      <td>516866</td>\n      <td>0.00240122</td>\n      <td>623,087,866,977</td>\n      <td>4.25419e+08</td>\n      <td>272,429,590,003</td>\n      <td>106,254,362,155</td>\n      <td>0.07%</td>\n      <td>804</td>\n      <td>223,596,021,429</td>\n      <td>2.00</td>\n      <td>151,033,430</td>\n      <td>0.39</td>\n    </tr>\n    <tr>\n      <th>9</th>\n      <td>2000</td>\n      <td>8000</td>\n      <td>117.836783339</td>\n      <td>347583</td>\n      <td>223132</td>\n      <td>386353</td>\n      <td>1009192</td>\n      <td>0.00291904</td>\n      <td>993,016,470,658</td>\n      <td>6.73598e+08</td>\n      <td>429,680,535,192</td>\n      <td>170,070,058,716</td>\n      <td>0.08%</td>\n      <td>1,097</td>\n      <td>355,958,765,188</td>\n      <td>1.69</td>\n      <td>294,179,747</td>\n      <td>1.11</td>\n    </tr>\n    <tr>\n      <th>10</th>\n      <td>2000</td>\n      <td>10000</td>\n      <td>146.042186319</td>\n      <td>432549</td>\n      <td>303860</td>\n      <td>523004</td>\n      <td>1340858</td>\n      <td>0.00308578</td>\n      <td>1,239,094,114,018</td>\n      <td>8.42664e+08</td>\n      <td>534,057,657,916</td>\n      <td>212,612,507,262</td>\n      <td>0.08%</td>\n      <td>1,190</td>\n      <td>444,047,627,985</td>\n      <td>1.59</td>\n      <td>358,044,104</td>\n      <td>0.76</td>\n    </tr>\n    <tr>\n      <th>11</th>\n      <td>5000</td>\n      <td>5000</td>\n      <td>185.976656635</td>\n      <td>69110</td>\n      <td>14806</td>\n      <td>40944</td>\n      <td>107245</td>\n      <td>0.000220563</td>\n      <td>1,542,947,753,527</td>\n      <td>1.05233e+09</td>\n      <td>674,752,063,958</td>\n      <td>257,571,475,784</td>\n      <td>0.02%</td>\n      <td>786</td>\n      <td>560,909,666,411</td>\n      <td>3.42</td>\n      <td>5,031,930,690</td>\n      <td>0.04</td>\n    </tr>\n    <tr>\n      <th>12</th>\n      <td>5000</td>\n      <td>8000</td>\n      <td>291.318613898</td>\n      <td>295801</td>\n      <td>133942</td>\n      <td>247540</td>\n      <td>670492</td>\n      <td>0.000806907</td>\n      <td>2,440,298,420,792</td>\n      <td>1.6703e+09</td>\n      <td>1,060,966,524,200</td>\n      <td>412,876,556,731</td>\n      <td>0.03%</td>\n      <td>944</td>\n      <td>881,558,273,308</td>\n      <td>2.67</td>\n      <td>7,487,219,577</td>\n      <td>0.06</td>\n    </tr>\n    <tr>\n      <th>13</th>\n      <td>5000</td>\n      <td>10000</td>\n      <td>363.987194588</td>\n      <td>422952</td>\n      <td>219094</td>\n      <td>390107</td>\n      <td>1042162</td>\n      <td>0.000997218</td>\n      <td>3,038,770,706,172</td>\n      <td>2.0801e+09</td>\n      <td>1,328,517,425,150</td>\n      <td>516,518,209,300</td>\n      <td>0.03%</td>\n      <td>1,212</td>\n      <td>1,095,112,211,693</td>\n      <td>2.38</td>\n      <td>9,423,880,983</td>\n      <td>0.08</td>\n    </tr>\n    <tr>\n      <th>14</th>\n      <td>5000</td>\n      <td>20000</td>\n      <td>708.668529622</td>\n      <td>972387</td>\n      <td>659998</td>\n      <td>1136263</td>\n      <td>2921086</td>\n      <td>0.00139419</td>\n      <td>6,015,298,949,758</td>\n      <td>4.08102e+09</td>\n      <td>2,587,640,207,016</td>\n      <td>1,032,132,467,935</td>\n      <td>0.04%</td>\n      <td>1,931</td>\n      <td>2,158,629,033,668</td>\n      <td>1.79</td>\n      <td>11,049,650,675</td>\n      <td>0.10</td>\n    </tr>\n    <tr>\n      <th>15</th>\n      <td>8000</td>\n      <td>8000</td>\n      <td>456.946532267</td>\n      <td>108494</td>\n      <td>23167</td>\n      <td>64561</td>\n      <td>168271</td>\n      <td>0.000138013</td>\n      <td>3,932,445,894,417</td>\n      <td>2.641e+09</td>\n      <td>1,710,544,861,471</td>\n      <td>655,711,496,623</td>\n      <td>0.01%</td>\n      <td>1,002</td>\n      <td>1,429,396,945,220</td>\n      <td>3.53</td>\n      <td>15,512,461,598</td>\n      <td>0.01</td>\n    </tr>\n    <tr>\n      <th>16</th>\n      <td>8000</td>\n      <td>10000</td>\n      <td>568.140414502</td>\n      <td>283199</td>\n      <td>105569</td>\n      <td>207769</td>\n      <td>567210</td>\n      <td>0.000354371</td>\n      <td>4,876,504,430,403</td>\n      <td>3.28398e+09</td>\n      <td>2,127,958,769,285</td>\n      <td>819,793,695,170</td>\n      <td>0.02%</td>\n      <td>1,274</td>\n      <td>1,767,460,035,775</td>\n      <td>3.12</td>\n      <td>22,567,012,114</td>\n      <td>0.03</td>\n    </tr>\n    <tr>\n      <th>17</th>\n      <td>8000</td>\n      <td>20000</td>\n      <td>1094.384627387</td>\n      <td>941808</td>\n      <td>551363</td>\n      <td>977546</td>\n      <td>2556559</td>\n      <td>0.00079381</td>\n      <td>9,596,739,267,026</td>\n      <td>6.3331e+09</td>\n      <td>4,097,200,320,097</td>\n      <td>1,638,406,159,068</td>\n      <td>0.02%</td>\n      <td>1,992</td>\n      <td>3,453,448,805,108</td>\n      <td>2.18</td>\n      <td>29,069,266,632</td>\n      <td>0.08</td>\n    </tr>\n    <tr>\n      <th>18</th>\n      <td>8000</td>\n      <td>50000</td>\n      <td>2653.972809270</td>\n      <td>2562202</td>\n      <td>2044200</td>\n      <td>3485153</td>\n      <td>8727454</td>\n      <td>0.00109852</td>\n      <td>23,753,205,189,784</td>\n      <td>1.53105e+10</td>\n      <td>9,921,771,667,624</td>\n      <td>4,095,396,006,932</td>\n      <td>0.03%</td>\n      <td>5,217</td>\n      <td>8,505,364,463,024</td>\n      <td>1.60</td>\n      <td>29,246,107,292</td>\n      <td>0.16</td>\n    </tr>\n    <tr>\n      <th>19</th>\n      <td>10000</td>\n      <td>10000</td>\n      <td>717.680128344</td>\n      <td>134126</td>\n      <td>28671</td>\n      <td>80186</td>\n      <td>208496</td>\n      <td>0.000109207</td>\n      <td>6,133,986,558,650</td>\n      <td>4.13416e+09</td>\n      <td>2,686,214,499,201</td>\n      <td>1,023,282,154,899</td>\n      <td>0.01%</td>\n      <td>1,147</td>\n      <td>2,230,146,830,150</td>\n      <td>3.55</td>\n      <td>28,343,717,659</td>\n      <td>0.02</td>\n    </tr>\n    <tr>\n      <th>20</th>\n      <td>10000</td>\n      <td>20000</td>\n      <td>1378.395260827</td>\n      <td>894746</td>\n      <td>482270</td>\n      <td>853413</td>\n      <td>2263245</td>\n      <td>0.000563698</td>\n      <td>12,010,316,302,550</td>\n      <td>7.97178e+09</td>\n      <td>5,161,553,072,612</td>\n      <td>2,042,822,802,052</td>\n      <td>0.02%</td>\n      <td>2,018</td>\n      <td>229,507,900,049</td>\n      <td>2.43</td>\n      <td>2,383,207,962</td>\n      <td>0.03</td>\n    </tr>\n  </tbody>\n</table>\n</div>"
     },
     "metadata": {},
     "execution_count": 41
    }
   ],
   "source": [
    "res"
   ]
  },
  {
   "cell_type": "code",
   "execution_count": 7,
   "metadata": {},
   "outputs": [],
   "source": [
    "import plotly.express as px\n",
    "import plotly.graph_objects as go\n",
    "\n",
    "num_font = dict(size=22,color='#000000')\n",
    "default_font = dict(family=\"Helvetica Neue\",size=20,color='#000000')\n",
    "colors=px.colors.sequential.deep[2:] #px.colors.qualitative.G10\n",
    "marker_symbols=['circle','square','diamond','cross','triangle-up-open','pentagon','hexagram','star','hourglass', 'asterisk']"
   ]
  },
  {
   "cell_type": "code",
   "execution_count": 15,
   "metadata": {},
   "outputs": [
    {
     "output_type": "display_data",
     "data": {
      "application/vnd.plotly.v1+json": {
       "config": {
        "plotlyServerURL": "https://plot.ly"
       },
       "data": [
        {
         "line": {
          "color": "rgb(156, 219, 165)",
          "width": 3
         },
         "marker": {
          "size": 10,
          "symbol": "circle"
         },
         "mode": "lines+markers",
         "name": "100",
         "type": "scatter",
         "x": [
          100
         ],
         "y": [
          "0.00547562 "
         ]
        },
        {
         "line": {
          "color": "rgb(111, 201, 163)",
          "width": 3
         },
         "marker": {
          "size": 10,
          "symbol": "square"
         },
         "mode": "lines+markers",
         "name": "1000",
         "type": "scatter",
         "x": [
          1000
         ],
         "y": [
          "0.000961764 "
         ]
        },
        {
         "line": {
          "color": "rgb(86, 177, 163)",
          "width": 3
         },
         "marker": {
          "size": 10,
          "symbol": "diamond"
         },
         "mode": "lines+markers",
         "name": "2000",
         "type": "scatter",
         "x": [
          1000,
          2000
         ],
         "y": [
          "0.00356626 ",
          "0.000534638 "
         ]
        },
        {
         "line": {
          "color": "rgb(76, 153, 160)",
          "width": 3
         },
         "marker": {
          "size": 10,
          "symbol": "cross"
         },
         "mode": "lines+markers",
         "name": "5000",
         "type": "scatter",
         "x": [
          1000,
          2000,
          5000
         ],
         "y": [
          "0.00520455 ",
          "0.00240122 ",
          "0.000220563 "
         ]
        },
        {
         "line": {
          "color": "rgb(68, 130, 155)",
          "width": 3
         },
         "marker": {
          "size": 10,
          "symbol": "triangle-up-open"
         },
         "mode": "lines+markers",
         "name": "8000",
         "type": "scatter",
         "x": [
          1000,
          2000,
          5000,
          8000
         ],
         "y": [
          "0.00553681 ",
          "0.00291904 ",
          "0.000806907 ",
          "0.000138013 "
         ]
        },
        {
         "line": {
          "color": "rgb(62, 108, 150)",
          "width": 3
         },
         "marker": {
          "size": 10,
          "symbol": "pentagon"
         },
         "mode": "lines+markers",
         "name": "10000",
         "type": "scatter",
         "x": [
          2000,
          5000,
          8000,
          10000
         ],
         "y": [
          "0.00308578 ",
          "0.000997218 ",
          "0.000354371 ",
          "0.000109207 "
         ]
        },
        {
         "line": {
          "color": "rgb(62, 82, 143)",
          "width": 3
         },
         "marker": {
          "size": 10,
          "symbol": "hexagram"
         },
         "mode": "lines+markers",
         "name": "20000",
         "type": "scatter",
         "x": [
          5000,
          8000,
          10000
         ],
         "y": [
          "0.00139419 ",
          "0.00079381 ",
          "0.000563698 "
         ]
        }
       ],
       "layout": {
        "legend": {
         "bordercolor": "#eeeeee",
         "borderwidth": 1,
         "font": {
          "color": "#000000",
          "family": "Helvetica Neue",
          "size": 20
         },
         "traceorder": "reversed",
         "x": 0.76,
         "y": 0.9
        },
        "margin": {
         "autoexpand": true,
         "l": 40,
         "r": 20,
         "t": 40
        },
        "plot_bgcolor": "#eeeeee",
        "template": {
         "data": {
          "bar": [
           {
            "error_x": {
             "color": "#2a3f5f"
            },
            "error_y": {
             "color": "#2a3f5f"
            },
            "marker": {
             "line": {
              "color": "#E5ECF6",
              "width": 0.5
             }
            },
            "type": "bar"
           }
          ],
          "barpolar": [
           {
            "marker": {
             "line": {
              "color": "#E5ECF6",
              "width": 0.5
             }
            },
            "type": "barpolar"
           }
          ],
          "carpet": [
           {
            "aaxis": {
             "endlinecolor": "#2a3f5f",
             "gridcolor": "white",
             "linecolor": "white",
             "minorgridcolor": "white",
             "startlinecolor": "#2a3f5f"
            },
            "baxis": {
             "endlinecolor": "#2a3f5f",
             "gridcolor": "white",
             "linecolor": "white",
             "minorgridcolor": "white",
             "startlinecolor": "#2a3f5f"
            },
            "type": "carpet"
           }
          ],
          "choropleth": [
           {
            "colorbar": {
             "outlinewidth": 0,
             "ticks": ""
            },
            "type": "choropleth"
           }
          ],
          "contour": [
           {
            "colorbar": {
             "outlinewidth": 0,
             "ticks": ""
            },
            "colorscale": [
             [
              0,
              "#0d0887"
             ],
             [
              0.1111111111111111,
              "#46039f"
             ],
             [
              0.2222222222222222,
              "#7201a8"
             ],
             [
              0.3333333333333333,
              "#9c179e"
             ],
             [
              0.4444444444444444,
              "#bd3786"
             ],
             [
              0.5555555555555556,
              "#d8576b"
             ],
             [
              0.6666666666666666,
              "#ed7953"
             ],
             [
              0.7777777777777778,
              "#fb9f3a"
             ],
             [
              0.8888888888888888,
              "#fdca26"
             ],
             [
              1,
              "#f0f921"
             ]
            ],
            "type": "contour"
           }
          ],
          "contourcarpet": [
           {
            "colorbar": {
             "outlinewidth": 0,
             "ticks": ""
            },
            "type": "contourcarpet"
           }
          ],
          "heatmap": [
           {
            "colorbar": {
             "outlinewidth": 0,
             "ticks": ""
            },
            "colorscale": [
             [
              0,
              "#0d0887"
             ],
             [
              0.1111111111111111,
              "#46039f"
             ],
             [
              0.2222222222222222,
              "#7201a8"
             ],
             [
              0.3333333333333333,
              "#9c179e"
             ],
             [
              0.4444444444444444,
              "#bd3786"
             ],
             [
              0.5555555555555556,
              "#d8576b"
             ],
             [
              0.6666666666666666,
              "#ed7953"
             ],
             [
              0.7777777777777778,
              "#fb9f3a"
             ],
             [
              0.8888888888888888,
              "#fdca26"
             ],
             [
              1,
              "#f0f921"
             ]
            ],
            "type": "heatmap"
           }
          ],
          "heatmapgl": [
           {
            "colorbar": {
             "outlinewidth": 0,
             "ticks": ""
            },
            "colorscale": [
             [
              0,
              "#0d0887"
             ],
             [
              0.1111111111111111,
              "#46039f"
             ],
             [
              0.2222222222222222,
              "#7201a8"
             ],
             [
              0.3333333333333333,
              "#9c179e"
             ],
             [
              0.4444444444444444,
              "#bd3786"
             ],
             [
              0.5555555555555556,
              "#d8576b"
             ],
             [
              0.6666666666666666,
              "#ed7953"
             ],
             [
              0.7777777777777778,
              "#fb9f3a"
             ],
             [
              0.8888888888888888,
              "#fdca26"
             ],
             [
              1,
              "#f0f921"
             ]
            ],
            "type": "heatmapgl"
           }
          ],
          "histogram": [
           {
            "marker": {
             "colorbar": {
              "outlinewidth": 0,
              "ticks": ""
             }
            },
            "type": "histogram"
           }
          ],
          "histogram2d": [
           {
            "colorbar": {
             "outlinewidth": 0,
             "ticks": ""
            },
            "colorscale": [
             [
              0,
              "#0d0887"
             ],
             [
              0.1111111111111111,
              "#46039f"
             ],
             [
              0.2222222222222222,
              "#7201a8"
             ],
             [
              0.3333333333333333,
              "#9c179e"
             ],
             [
              0.4444444444444444,
              "#bd3786"
             ],
             [
              0.5555555555555556,
              "#d8576b"
             ],
             [
              0.6666666666666666,
              "#ed7953"
             ],
             [
              0.7777777777777778,
              "#fb9f3a"
             ],
             [
              0.8888888888888888,
              "#fdca26"
             ],
             [
              1,
              "#f0f921"
             ]
            ],
            "type": "histogram2d"
           }
          ],
          "histogram2dcontour": [
           {
            "colorbar": {
             "outlinewidth": 0,
             "ticks": ""
            },
            "colorscale": [
             [
              0,
              "#0d0887"
             ],
             [
              0.1111111111111111,
              "#46039f"
             ],
             [
              0.2222222222222222,
              "#7201a8"
             ],
             [
              0.3333333333333333,
              "#9c179e"
             ],
             [
              0.4444444444444444,
              "#bd3786"
             ],
             [
              0.5555555555555556,
              "#d8576b"
             ],
             [
              0.6666666666666666,
              "#ed7953"
             ],
             [
              0.7777777777777778,
              "#fb9f3a"
             ],
             [
              0.8888888888888888,
              "#fdca26"
             ],
             [
              1,
              "#f0f921"
             ]
            ],
            "type": "histogram2dcontour"
           }
          ],
          "mesh3d": [
           {
            "colorbar": {
             "outlinewidth": 0,
             "ticks": ""
            },
            "type": "mesh3d"
           }
          ],
          "parcoords": [
           {
            "line": {
             "colorbar": {
              "outlinewidth": 0,
              "ticks": ""
             }
            },
            "type": "parcoords"
           }
          ],
          "pie": [
           {
            "automargin": true,
            "type": "pie"
           }
          ],
          "scatter": [
           {
            "marker": {
             "colorbar": {
              "outlinewidth": 0,
              "ticks": ""
             }
            },
            "type": "scatter"
           }
          ],
          "scatter3d": [
           {
            "line": {
             "colorbar": {
              "outlinewidth": 0,
              "ticks": ""
             }
            },
            "marker": {
             "colorbar": {
              "outlinewidth": 0,
              "ticks": ""
             }
            },
            "type": "scatter3d"
           }
          ],
          "scattercarpet": [
           {
            "marker": {
             "colorbar": {
              "outlinewidth": 0,
              "ticks": ""
             }
            },
            "type": "scattercarpet"
           }
          ],
          "scattergeo": [
           {
            "marker": {
             "colorbar": {
              "outlinewidth": 0,
              "ticks": ""
             }
            },
            "type": "scattergeo"
           }
          ],
          "scattergl": [
           {
            "marker": {
             "colorbar": {
              "outlinewidth": 0,
              "ticks": ""
             }
            },
            "type": "scattergl"
           }
          ],
          "scattermapbox": [
           {
            "marker": {
             "colorbar": {
              "outlinewidth": 0,
              "ticks": ""
             }
            },
            "type": "scattermapbox"
           }
          ],
          "scatterpolar": [
           {
            "marker": {
             "colorbar": {
              "outlinewidth": 0,
              "ticks": ""
             }
            },
            "type": "scatterpolar"
           }
          ],
          "scatterpolargl": [
           {
            "marker": {
             "colorbar": {
              "outlinewidth": 0,
              "ticks": ""
             }
            },
            "type": "scatterpolargl"
           }
          ],
          "scatterternary": [
           {
            "marker": {
             "colorbar": {
              "outlinewidth": 0,
              "ticks": ""
             }
            },
            "type": "scatterternary"
           }
          ],
          "surface": [
           {
            "colorbar": {
             "outlinewidth": 0,
             "ticks": ""
            },
            "colorscale": [
             [
              0,
              "#0d0887"
             ],
             [
              0.1111111111111111,
              "#46039f"
             ],
             [
              0.2222222222222222,
              "#7201a8"
             ],
             [
              0.3333333333333333,
              "#9c179e"
             ],
             [
              0.4444444444444444,
              "#bd3786"
             ],
             [
              0.5555555555555556,
              "#d8576b"
             ],
             [
              0.6666666666666666,
              "#ed7953"
             ],
             [
              0.7777777777777778,
              "#fb9f3a"
             ],
             [
              0.8888888888888888,
              "#fdca26"
             ],
             [
              1,
              "#f0f921"
             ]
            ],
            "type": "surface"
           }
          ],
          "table": [
           {
            "cells": {
             "fill": {
              "color": "#EBF0F8"
             },
             "line": {
              "color": "white"
             }
            },
            "header": {
             "fill": {
              "color": "#C8D4E3"
             },
             "line": {
              "color": "white"
             }
            },
            "type": "table"
           }
          ]
         },
         "layout": {
          "annotationdefaults": {
           "arrowcolor": "#2a3f5f",
           "arrowhead": 0,
           "arrowwidth": 1
          },
          "coloraxis": {
           "colorbar": {
            "outlinewidth": 0,
            "ticks": ""
           }
          },
          "colorscale": {
           "diverging": [
            [
             0,
             "#8e0152"
            ],
            [
             0.1,
             "#c51b7d"
            ],
            [
             0.2,
             "#de77ae"
            ],
            [
             0.3,
             "#f1b6da"
            ],
            [
             0.4,
             "#fde0ef"
            ],
            [
             0.5,
             "#f7f7f7"
            ],
            [
             0.6,
             "#e6f5d0"
            ],
            [
             0.7,
             "#b8e186"
            ],
            [
             0.8,
             "#7fbc41"
            ],
            [
             0.9,
             "#4d9221"
            ],
            [
             1,
             "#276419"
            ]
           ],
           "sequential": [
            [
             0,
             "#0d0887"
            ],
            [
             0.1111111111111111,
             "#46039f"
            ],
            [
             0.2222222222222222,
             "#7201a8"
            ],
            [
             0.3333333333333333,
             "#9c179e"
            ],
            [
             0.4444444444444444,
             "#bd3786"
            ],
            [
             0.5555555555555556,
             "#d8576b"
            ],
            [
             0.6666666666666666,
             "#ed7953"
            ],
            [
             0.7777777777777778,
             "#fb9f3a"
            ],
            [
             0.8888888888888888,
             "#fdca26"
            ],
            [
             1,
             "#f0f921"
            ]
           ],
           "sequentialminus": [
            [
             0,
             "#0d0887"
            ],
            [
             0.1111111111111111,
             "#46039f"
            ],
            [
             0.2222222222222222,
             "#7201a8"
            ],
            [
             0.3333333333333333,
             "#9c179e"
            ],
            [
             0.4444444444444444,
             "#bd3786"
            ],
            [
             0.5555555555555556,
             "#d8576b"
            ],
            [
             0.6666666666666666,
             "#ed7953"
            ],
            [
             0.7777777777777778,
             "#fb9f3a"
            ],
            [
             0.8888888888888888,
             "#fdca26"
            ],
            [
             1,
             "#f0f921"
            ]
           ]
          },
          "colorway": [
           "#636efa",
           "#EF553B",
           "#00cc96",
           "#ab63fa",
           "#FFA15A",
           "#19d3f3",
           "#FF6692",
           "#B6E880",
           "#FF97FF",
           "#FECB52"
          ],
          "font": {
           "color": "#2a3f5f"
          },
          "geo": {
           "bgcolor": "white",
           "lakecolor": "white",
           "landcolor": "#E5ECF6",
           "showlakes": true,
           "showland": true,
           "subunitcolor": "white"
          },
          "hoverlabel": {
           "align": "left"
          },
          "hovermode": "closest",
          "mapbox": {
           "style": "light"
          },
          "paper_bgcolor": "white",
          "plot_bgcolor": "#E5ECF6",
          "polar": {
           "angularaxis": {
            "gridcolor": "white",
            "linecolor": "white",
            "ticks": ""
           },
           "bgcolor": "#E5ECF6",
           "radialaxis": {
            "gridcolor": "white",
            "linecolor": "white",
            "ticks": ""
           }
          },
          "scene": {
           "xaxis": {
            "backgroundcolor": "#E5ECF6",
            "gridcolor": "white",
            "gridwidth": 2,
            "linecolor": "white",
            "showbackground": true,
            "ticks": "",
            "zerolinecolor": "white"
           },
           "yaxis": {
            "backgroundcolor": "#E5ECF6",
            "gridcolor": "white",
            "gridwidth": 2,
            "linecolor": "white",
            "showbackground": true,
            "ticks": "",
            "zerolinecolor": "white"
           },
           "zaxis": {
            "backgroundcolor": "#E5ECF6",
            "gridcolor": "white",
            "gridwidth": 2,
            "linecolor": "white",
            "showbackground": true,
            "ticks": "",
            "zerolinecolor": "white"
           }
          },
          "shapedefaults": {
           "line": {
            "color": "#2a3f5f"
           }
          },
          "ternary": {
           "aaxis": {
            "gridcolor": "white",
            "linecolor": "white",
            "ticks": ""
           },
           "baxis": {
            "gridcolor": "white",
            "linecolor": "white",
            "ticks": ""
           },
           "bgcolor": "#E5ECF6",
           "caxis": {
            "gridcolor": "white",
            "linecolor": "white",
            "ticks": ""
           }
          },
          "title": {
           "x": 0.05
          },
          "xaxis": {
           "automargin": true,
           "gridcolor": "white",
           "linecolor": "white",
           "ticks": "",
           "title": {
            "standoff": 15
           },
           "zerolinecolor": "white",
           "zerolinewidth": 2
          },
          "yaxis": {
           "automargin": true,
           "gridcolor": "white",
           "linecolor": "white",
           "ticks": "",
           "title": {
            "standoff": 15
           },
           "zerolinecolor": "white",
           "zerolinewidth": 2
          }
         }
        },
        "xaxis": {
         "linecolor": "rgb(0, 0, 0)",
         "linewidth": 2,
         "rangemode": "tozero",
         "showgrid": false,
         "showline": true,
         "tickfont": {
          "color": "#000000",
          "size": 22
         },
         "ticks": "outside",
         "tickwidth": 3
        },
        "yaxis": {
         "showline": false,
         "showticklabels": true,
         "tickfont": {
          "color": "#000000",
          "size": 22
         },
         "zeroline": false
        }
       }
      }
     },
     "metadata": {}
    }
   ],
   "source": [
    "fig = go.Figure()\n",
    "ploted_edge=[100,1000,2000,5000,8000,10000,20000]\n",
    "for idx, e in enumerate(ploted_edge):\n",
    "    same_e = res.loc[res['#E'] == e]\n",
    "    fig.add_trace(go.Scatter(x=same_e[\"#V\"], y=same_e[\"flops/cycles\"], name=f\"{e}\",\n",
    "                             mode='lines+markers', marker=dict(symbol=marker_symbols[idx],size=10),\n",
    "                             line=dict(color=colors[idx], width=3)))\n",
    "\n",
    "fig.update_layout(xaxis=dict(showline=True, showgrid=False, rangemode=\"tozero\",\n",
    "                             linecolor='rgb(0, 0, 0)', linewidth=2,\n",
    "                             tickwidth=3, tickfont=num_font, ticks='outside'),\n",
    "                  yaxis=dict(tickfont=num_font, zeroline=False, showticklabels=True,\n",
    "                             showline=False),\n",
    "                  legend=dict(borderwidth=1, bordercolor=\"#eeeeee\",\n",
    "                              x=0.76, y=0.9, traceorder=\"reversed\", \n",
    "                              font=default_font),\n",
    "                  margin=dict(autoexpand=True, l=40, r=20, t=40),\n",
    "                  plot_bgcolor=\"#eeeeee\"\n",
    "                  )\n",
    "fig.show()\n",
    "fig.write_image(\"baseline_flops.pdf\")"
   ]
  },
  {
   "cell_type": "code",
   "execution_count": 21,
   "metadata": {},
   "outputs": [
    {
     "output_type": "display_data",
     "data": {
      "application/vnd.plotly.v1+json": {
       "config": {
        "plotlyServerURL": "https://plot.ly"
       },
       "data": [
        {
         "line": {
          "color": "rgb(156, 219, 165)",
          "width": 3
         },
         "marker": {
          "size": 10,
          "symbol": "circle"
         },
         "mode": "lines+markers",
         "name": "100",
         "type": "scatter",
         "x": [
          100
         ],
         "y": [
          "275"
         ]
        },
        {
         "line": {
          "color": "rgb(111, 201, 163)",
          "width": 3
         },
         "marker": {
          "size": 10,
          "symbol": "square"
         },
         "mode": "lines+markers",
         "name": "1000",
         "type": "scatter",
         "x": [
          1000
         ],
         "y": [
          "2851"
         ]
        },
        {
         "line": {
          "color": "rgb(86, 177, 163)",
          "width": 3
         },
         "marker": {
          "size": 10,
          "symbol": "diamond"
         },
         "mode": "lines+markers",
         "name": "2000",
         "type": "scatter",
         "x": [
          1000,
          2000
         ],
         "y": [
          "31960",
          "5765"
         ]
        },
        {
         "line": {
          "color": "rgb(76, 153, 160)",
          "width": 3
         },
         "marker": {
          "size": 10,
          "symbol": "cross"
         },
         "mode": "lines+markers",
         "name": "5000",
         "type": "scatter",
         "x": [
          1000,
          2000,
          5000
         ],
         "y": [
          "132635",
          "109035",
          "14806"
         ]
        },
        {
         "line": {
          "color": "rgb(68, 130, 155)",
          "width": 3
         },
         "marker": {
          "size": 10,
          "symbol": "triangle-up-open"
         },
         "mode": "lines+markers",
         "name": "8000",
         "type": "scatter",
         "x": [
          1000,
          2000,
          5000,
          8000
         ],
         "y": [
          "240501",
          "223132",
          "133942",
          "23167"
         ]
        },
        {
         "line": {
          "color": "rgb(62, 108, 150)",
          "width": 3
         },
         "marker": {
          "size": 10,
          "symbol": "pentagon"
         },
         "mode": "lines+markers",
         "name": "10000",
         "type": "scatter",
         "x": [
          2000,
          5000,
          8000,
          10000
         ],
         "y": [
          "303860",
          "219094",
          "105569",
          "28671"
         ]
        },
        {
         "line": {
          "color": "rgb(62, 82, 143)",
          "width": 3
         },
         "marker": {
          "size": 10,
          "symbol": "hexagram"
         },
         "mode": "lines+markers",
         "name": "20000",
         "type": "scatter",
         "x": [
          5000,
          8000,
          10000
         ],
         "y": [
          "659998",
          "551363",
          "482270"
         ]
        }
       ],
       "layout": {
        "legend": {
         "traceorder": "reversed"
        },
        "margin": {
         "autoexpand": true,
         "l": 40,
         "r": 20,
         "t": 40
        },
        "plot_bgcolor": "#eeeeee",
        "showlegend": true,
        "template": {
         "data": {
          "bar": [
           {
            "error_x": {
             "color": "#2a3f5f"
            },
            "error_y": {
             "color": "#2a3f5f"
            },
            "marker": {
             "line": {
              "color": "#E5ECF6",
              "width": 0.5
             }
            },
            "type": "bar"
           }
          ],
          "barpolar": [
           {
            "marker": {
             "line": {
              "color": "#E5ECF6",
              "width": 0.5
             }
            },
            "type": "barpolar"
           }
          ],
          "carpet": [
           {
            "aaxis": {
             "endlinecolor": "#2a3f5f",
             "gridcolor": "white",
             "linecolor": "white",
             "minorgridcolor": "white",
             "startlinecolor": "#2a3f5f"
            },
            "baxis": {
             "endlinecolor": "#2a3f5f",
             "gridcolor": "white",
             "linecolor": "white",
             "minorgridcolor": "white",
             "startlinecolor": "#2a3f5f"
            },
            "type": "carpet"
           }
          ],
          "choropleth": [
           {
            "colorbar": {
             "outlinewidth": 0,
             "ticks": ""
            },
            "type": "choropleth"
           }
          ],
          "contour": [
           {
            "colorbar": {
             "outlinewidth": 0,
             "ticks": ""
            },
            "colorscale": [
             [
              0,
              "#0d0887"
             ],
             [
              0.1111111111111111,
              "#46039f"
             ],
             [
              0.2222222222222222,
              "#7201a8"
             ],
             [
              0.3333333333333333,
              "#9c179e"
             ],
             [
              0.4444444444444444,
              "#bd3786"
             ],
             [
              0.5555555555555556,
              "#d8576b"
             ],
             [
              0.6666666666666666,
              "#ed7953"
             ],
             [
              0.7777777777777778,
              "#fb9f3a"
             ],
             [
              0.8888888888888888,
              "#fdca26"
             ],
             [
              1,
              "#f0f921"
             ]
            ],
            "type": "contour"
           }
          ],
          "contourcarpet": [
           {
            "colorbar": {
             "outlinewidth": 0,
             "ticks": ""
            },
            "type": "contourcarpet"
           }
          ],
          "heatmap": [
           {
            "colorbar": {
             "outlinewidth": 0,
             "ticks": ""
            },
            "colorscale": [
             [
              0,
              "#0d0887"
             ],
             [
              0.1111111111111111,
              "#46039f"
             ],
             [
              0.2222222222222222,
              "#7201a8"
             ],
             [
              0.3333333333333333,
              "#9c179e"
             ],
             [
              0.4444444444444444,
              "#bd3786"
             ],
             [
              0.5555555555555556,
              "#d8576b"
             ],
             [
              0.6666666666666666,
              "#ed7953"
             ],
             [
              0.7777777777777778,
              "#fb9f3a"
             ],
             [
              0.8888888888888888,
              "#fdca26"
             ],
             [
              1,
              "#f0f921"
             ]
            ],
            "type": "heatmap"
           }
          ],
          "heatmapgl": [
           {
            "colorbar": {
             "outlinewidth": 0,
             "ticks": ""
            },
            "colorscale": [
             [
              0,
              "#0d0887"
             ],
             [
              0.1111111111111111,
              "#46039f"
             ],
             [
              0.2222222222222222,
              "#7201a8"
             ],
             [
              0.3333333333333333,
              "#9c179e"
             ],
             [
              0.4444444444444444,
              "#bd3786"
             ],
             [
              0.5555555555555556,
              "#d8576b"
             ],
             [
              0.6666666666666666,
              "#ed7953"
             ],
             [
              0.7777777777777778,
              "#fb9f3a"
             ],
             [
              0.8888888888888888,
              "#fdca26"
             ],
             [
              1,
              "#f0f921"
             ]
            ],
            "type": "heatmapgl"
           }
          ],
          "histogram": [
           {
            "marker": {
             "colorbar": {
              "outlinewidth": 0,
              "ticks": ""
             }
            },
            "type": "histogram"
           }
          ],
          "histogram2d": [
           {
            "colorbar": {
             "outlinewidth": 0,
             "ticks": ""
            },
            "colorscale": [
             [
              0,
              "#0d0887"
             ],
             [
              0.1111111111111111,
              "#46039f"
             ],
             [
              0.2222222222222222,
              "#7201a8"
             ],
             [
              0.3333333333333333,
              "#9c179e"
             ],
             [
              0.4444444444444444,
              "#bd3786"
             ],
             [
              0.5555555555555556,
              "#d8576b"
             ],
             [
              0.6666666666666666,
              "#ed7953"
             ],
             [
              0.7777777777777778,
              "#fb9f3a"
             ],
             [
              0.8888888888888888,
              "#fdca26"
             ],
             [
              1,
              "#f0f921"
             ]
            ],
            "type": "histogram2d"
           }
          ],
          "histogram2dcontour": [
           {
            "colorbar": {
             "outlinewidth": 0,
             "ticks": ""
            },
            "colorscale": [
             [
              0,
              "#0d0887"
             ],
             [
              0.1111111111111111,
              "#46039f"
             ],
             [
              0.2222222222222222,
              "#7201a8"
             ],
             [
              0.3333333333333333,
              "#9c179e"
             ],
             [
              0.4444444444444444,
              "#bd3786"
             ],
             [
              0.5555555555555556,
              "#d8576b"
             ],
             [
              0.6666666666666666,
              "#ed7953"
             ],
             [
              0.7777777777777778,
              "#fb9f3a"
             ],
             [
              0.8888888888888888,
              "#fdca26"
             ],
             [
              1,
              "#f0f921"
             ]
            ],
            "type": "histogram2dcontour"
           }
          ],
          "mesh3d": [
           {
            "colorbar": {
             "outlinewidth": 0,
             "ticks": ""
            },
            "type": "mesh3d"
           }
          ],
          "parcoords": [
           {
            "line": {
             "colorbar": {
              "outlinewidth": 0,
              "ticks": ""
             }
            },
            "type": "parcoords"
           }
          ],
          "pie": [
           {
            "automargin": true,
            "type": "pie"
           }
          ],
          "scatter": [
           {
            "marker": {
             "colorbar": {
              "outlinewidth": 0,
              "ticks": ""
             }
            },
            "type": "scatter"
           }
          ],
          "scatter3d": [
           {
            "line": {
             "colorbar": {
              "outlinewidth": 0,
              "ticks": ""
             }
            },
            "marker": {
             "colorbar": {
              "outlinewidth": 0,
              "ticks": ""
             }
            },
            "type": "scatter3d"
           }
          ],
          "scattercarpet": [
           {
            "marker": {
             "colorbar": {
              "outlinewidth": 0,
              "ticks": ""
             }
            },
            "type": "scattercarpet"
           }
          ],
          "scattergeo": [
           {
            "marker": {
             "colorbar": {
              "outlinewidth": 0,
              "ticks": ""
             }
            },
            "type": "scattergeo"
           }
          ],
          "scattergl": [
           {
            "marker": {
             "colorbar": {
              "outlinewidth": 0,
              "ticks": ""
             }
            },
            "type": "scattergl"
           }
          ],
          "scattermapbox": [
           {
            "marker": {
             "colorbar": {
              "outlinewidth": 0,
              "ticks": ""
             }
            },
            "type": "scattermapbox"
           }
          ],
          "scatterpolar": [
           {
            "marker": {
             "colorbar": {
              "outlinewidth": 0,
              "ticks": ""
             }
            },
            "type": "scatterpolar"
           }
          ],
          "scatterpolargl": [
           {
            "marker": {
             "colorbar": {
              "outlinewidth": 0,
              "ticks": ""
             }
            },
            "type": "scatterpolargl"
           }
          ],
          "scatterternary": [
           {
            "marker": {
             "colorbar": {
              "outlinewidth": 0,
              "ticks": ""
             }
            },
            "type": "scatterternary"
           }
          ],
          "surface": [
           {
            "colorbar": {
             "outlinewidth": 0,
             "ticks": ""
            },
            "colorscale": [
             [
              0,
              "#0d0887"
             ],
             [
              0.1111111111111111,
              "#46039f"
             ],
             [
              0.2222222222222222,
              "#7201a8"
             ],
             [
              0.3333333333333333,
              "#9c179e"
             ],
             [
              0.4444444444444444,
              "#bd3786"
             ],
             [
              0.5555555555555556,
              "#d8576b"
             ],
             [
              0.6666666666666666,
              "#ed7953"
             ],
             [
              0.7777777777777778,
              "#fb9f3a"
             ],
             [
              0.8888888888888888,
              "#fdca26"
             ],
             [
              1,
              "#f0f921"
             ]
            ],
            "type": "surface"
           }
          ],
          "table": [
           {
            "cells": {
             "fill": {
              "color": "#EBF0F8"
             },
             "line": {
              "color": "white"
             }
            },
            "header": {
             "fill": {
              "color": "#C8D4E3"
             },
             "line": {
              "color": "white"
             }
            },
            "type": "table"
           }
          ]
         },
         "layout": {
          "annotationdefaults": {
           "arrowcolor": "#2a3f5f",
           "arrowhead": 0,
           "arrowwidth": 1
          },
          "coloraxis": {
           "colorbar": {
            "outlinewidth": 0,
            "ticks": ""
           }
          },
          "colorscale": {
           "diverging": [
            [
             0,
             "#8e0152"
            ],
            [
             0.1,
             "#c51b7d"
            ],
            [
             0.2,
             "#de77ae"
            ],
            [
             0.3,
             "#f1b6da"
            ],
            [
             0.4,
             "#fde0ef"
            ],
            [
             0.5,
             "#f7f7f7"
            ],
            [
             0.6,
             "#e6f5d0"
            ],
            [
             0.7,
             "#b8e186"
            ],
            [
             0.8,
             "#7fbc41"
            ],
            [
             0.9,
             "#4d9221"
            ],
            [
             1,
             "#276419"
            ]
           ],
           "sequential": [
            [
             0,
             "#0d0887"
            ],
            [
             0.1111111111111111,
             "#46039f"
            ],
            [
             0.2222222222222222,
             "#7201a8"
            ],
            [
             0.3333333333333333,
             "#9c179e"
            ],
            [
             0.4444444444444444,
             "#bd3786"
            ],
            [
             0.5555555555555556,
             "#d8576b"
            ],
            [
             0.6666666666666666,
             "#ed7953"
            ],
            [
             0.7777777777777778,
             "#fb9f3a"
            ],
            [
             0.8888888888888888,
             "#fdca26"
            ],
            [
             1,
             "#f0f921"
            ]
           ],
           "sequentialminus": [
            [
             0,
             "#0d0887"
            ],
            [
             0.1111111111111111,
             "#46039f"
            ],
            [
             0.2222222222222222,
             "#7201a8"
            ],
            [
             0.3333333333333333,
             "#9c179e"
            ],
            [
             0.4444444444444444,
             "#bd3786"
            ],
            [
             0.5555555555555556,
             "#d8576b"
            ],
            [
             0.6666666666666666,
             "#ed7953"
            ],
            [
             0.7777777777777778,
             "#fb9f3a"
            ],
            [
             0.8888888888888888,
             "#fdca26"
            ],
            [
             1,
             "#f0f921"
            ]
           ]
          },
          "colorway": [
           "#636efa",
           "#EF553B",
           "#00cc96",
           "#ab63fa",
           "#FFA15A",
           "#19d3f3",
           "#FF6692",
           "#B6E880",
           "#FF97FF",
           "#FECB52"
          ],
          "font": {
           "color": "#2a3f5f"
          },
          "geo": {
           "bgcolor": "white",
           "lakecolor": "white",
           "landcolor": "#E5ECF6",
           "showlakes": true,
           "showland": true,
           "subunitcolor": "white"
          },
          "hoverlabel": {
           "align": "left"
          },
          "hovermode": "closest",
          "mapbox": {
           "style": "light"
          },
          "paper_bgcolor": "white",
          "plot_bgcolor": "#E5ECF6",
          "polar": {
           "angularaxis": {
            "gridcolor": "white",
            "linecolor": "white",
            "ticks": ""
           },
           "bgcolor": "#E5ECF6",
           "radialaxis": {
            "gridcolor": "white",
            "linecolor": "white",
            "ticks": ""
           }
          },
          "scene": {
           "xaxis": {
            "backgroundcolor": "#E5ECF6",
            "gridcolor": "white",
            "gridwidth": 2,
            "linecolor": "white",
            "showbackground": true,
            "ticks": "",
            "zerolinecolor": "white"
           },
           "yaxis": {
            "backgroundcolor": "#E5ECF6",
            "gridcolor": "white",
            "gridwidth": 2,
            "linecolor": "white",
            "showbackground": true,
            "ticks": "",
            "zerolinecolor": "white"
           },
           "zaxis": {
            "backgroundcolor": "#E5ECF6",
            "gridcolor": "white",
            "gridwidth": 2,
            "linecolor": "white",
            "showbackground": true,
            "ticks": "",
            "zerolinecolor": "white"
           }
          },
          "shapedefaults": {
           "line": {
            "color": "#2a3f5f"
           }
          },
          "ternary": {
           "aaxis": {
            "gridcolor": "white",
            "linecolor": "white",
            "ticks": ""
           },
           "baxis": {
            "gridcolor": "white",
            "linecolor": "white",
            "ticks": ""
           },
           "bgcolor": "#E5ECF6",
           "caxis": {
            "gridcolor": "white",
            "linecolor": "white",
            "ticks": ""
           }
          },
          "title": {
           "x": 0.05
          },
          "xaxis": {
           "automargin": true,
           "gridcolor": "white",
           "linecolor": "white",
           "ticks": "",
           "title": {
            "standoff": 15
           },
           "zerolinecolor": "white",
           "zerolinewidth": 2
          },
          "yaxis": {
           "automargin": true,
           "gridcolor": "white",
           "linecolor": "white",
           "ticks": "",
           "title": {
            "standoff": 15
           },
           "zerolinecolor": "white",
           "zerolinewidth": 2
          }
         }
        },
        "xaxis": {
         "linecolor": "rgb(0, 0, 0)",
         "linewidth": 2,
         "rangemode": "tozero",
         "showgrid": false,
         "showline": true,
         "tickfont": {
          "color": "#000000",
          "size": 22
         },
         "ticks": "outside",
         "tickwidth": 3
        },
        "yaxis": {
         "showline": false,
         "showticklabels": true,
         "tickfont": {
          "color": "#000000",
          "size": 22
         },
         "zeroline": false
        }
       }
      }
     },
     "metadata": {}
    }
   ],
   "source": [
    "fig = go.Figure()\n",
    "ploted_edge=[100,1000,2000,5000,8000,10000,20000]\n",
    "for idx, e in enumerate(ploted_edge):\n",
    "    same_e = res.loc[res['#E'] == e]\n",
    "    fig.add_trace(go.Scatter(x=same_e[\"#V\"], y=same_e[\"flcomp\"], name=f\"{e}\",\n",
    "                             mode='lines+markers', marker=dict(symbol=marker_symbols[idx],size=10),\n",
    "                             line=dict(color=colors[idx], width=3)))\n",
    "\n",
    "fig.update_layout(xaxis=dict(showline=True, showgrid=False, rangemode=\"tozero\",\n",
    "                             linecolor='rgb(0, 0, 0)', linewidth=2,\n",
    "                             tickwidth=3, tickfont=num_font, ticks='outside'),\n",
    "                  yaxis=dict(tickfont=num_font, zeroline=False, showticklabels=True,\n",
    "                             showline=False),\n",
    "                  showlegend=True,legend=dict(traceorder=\"reversed\"),\n",
    "                #   legend=dict(borderwidth=1, bordercolor=\"#eeeeee\",\n",
    "                #               x=0.76, y=0.9, traceorder=\"reversed\", \n",
    "                #               font=default_font),\n",
    "                  margin=dict(autoexpand=True, l=40, r=20, t=40),\n",
    "                  plot_bgcolor=\"#eeeeee\"\n",
    "                  )\n",
    "fig.show()\n",
    "fig.write_image(\"baseline_flcomp.pdf\")"
   ]
  },
  {
   "cell_type": "code",
   "execution_count": 22,
   "metadata": {},
   "outputs": [
    {
     "output_type": "display_data",
     "data": {
      "application/vnd.plotly.v1+json": {
       "config": {
        "plotlyServerURL": "https://plot.ly"
       },
       "data": [
        {
         "line": {
          "color": "rgb(156, 219, 165)",
          "width": 3
         },
         "marker": {
          "size": 10,
          "symbol": "circle"
         },
         "mode": "lines+markers",
         "name": "100",
         "type": "scatter",
         "x": [
          100
         ],
         "y": [
          "791874"
         ]
        },
        {
         "line": {
          "color": "rgb(111, 201, 163)",
          "width": 3
         },
         "marker": {
          "size": 10,
          "symbol": "square"
         },
         "mode": "lines+markers",
         "name": "1000",
         "type": "scatter",
         "x": [
          1000
         ],
         "y": [
          "4.67183e+07"
         ]
        },
        {
         "line": {
          "color": "rgb(86, 177, 163)",
          "width": 3
         },
         "marker": {
          "size": 10,
          "symbol": "diamond"
         },
         "mode": "lines+markers",
         "name": "2000",
         "type": "scatter",
         "x": [
          1000,
          2000
         ],
         "y": [
          "8.95189e+07",
          "1.69674e+08"
         ]
        },
        {
         "line": {
          "color": "rgb(76, 153, 160)",
          "width": 3
         },
         "marker": {
          "size": 10,
          "symbol": "cross"
         },
         "mode": "lines+markers",
         "name": "5000",
         "type": "scatter",
         "x": [
          1000,
          2000,
          5000
         ],
         "y": [
          "2.21281e+08",
          "4.25419e+08",
          "1.05233e+09"
         ]
        },
        {
         "line": {
          "color": "rgb(68, 130, 155)",
          "width": 3
         },
         "marker": {
          "size": 10,
          "symbol": "triangle-up-open"
         },
         "mode": "lines+markers",
         "name": "8000",
         "type": "scatter",
         "x": [
          1000,
          2000,
          5000,
          8000
         ],
         "y": [
          "3.6006e+08",
          "6.73598e+08",
          "1.6703e+09",
          "2.641e+09"
         ]
        },
        {
         "line": {
          "color": "rgb(62, 108, 150)",
          "width": 3
         },
         "marker": {
          "size": 10,
          "symbol": "pentagon"
         },
         "mode": "lines+markers",
         "name": "10000",
         "type": "scatter",
         "x": [
          2000,
          5000,
          8000,
          10000
         ],
         "y": [
          "8.42664e+08",
          "2.0801e+09",
          "3.28398e+09",
          "4.13416e+09"
         ]
        },
        {
         "line": {
          "color": "rgb(62, 82, 143)",
          "width": 3
         },
         "marker": {
          "size": 10,
          "symbol": "hexagram"
         },
         "mode": "lines+markers",
         "name": "20000",
         "type": "scatter",
         "x": [
          5000,
          8000,
          10000
         ],
         "y": [
          "4.08102e+09",
          "6.3331e+09",
          "7.97178e+09"
         ]
        }
       ],
       "layout": {
        "legend": {
         "traceorder": "reversed"
        },
        "margin": {
         "autoexpand": true,
         "l": 40,
         "r": 20,
         "t": 40
        },
        "plot_bgcolor": "#eeeeee",
        "showlegend": true,
        "template": {
         "data": {
          "bar": [
           {
            "error_x": {
             "color": "#2a3f5f"
            },
            "error_y": {
             "color": "#2a3f5f"
            },
            "marker": {
             "line": {
              "color": "#E5ECF6",
              "width": 0.5
             }
            },
            "type": "bar"
           }
          ],
          "barpolar": [
           {
            "marker": {
             "line": {
              "color": "#E5ECF6",
              "width": 0.5
             }
            },
            "type": "barpolar"
           }
          ],
          "carpet": [
           {
            "aaxis": {
             "endlinecolor": "#2a3f5f",
             "gridcolor": "white",
             "linecolor": "white",
             "minorgridcolor": "white",
             "startlinecolor": "#2a3f5f"
            },
            "baxis": {
             "endlinecolor": "#2a3f5f",
             "gridcolor": "white",
             "linecolor": "white",
             "minorgridcolor": "white",
             "startlinecolor": "#2a3f5f"
            },
            "type": "carpet"
           }
          ],
          "choropleth": [
           {
            "colorbar": {
             "outlinewidth": 0,
             "ticks": ""
            },
            "type": "choropleth"
           }
          ],
          "contour": [
           {
            "colorbar": {
             "outlinewidth": 0,
             "ticks": ""
            },
            "colorscale": [
             [
              0,
              "#0d0887"
             ],
             [
              0.1111111111111111,
              "#46039f"
             ],
             [
              0.2222222222222222,
              "#7201a8"
             ],
             [
              0.3333333333333333,
              "#9c179e"
             ],
             [
              0.4444444444444444,
              "#bd3786"
             ],
             [
              0.5555555555555556,
              "#d8576b"
             ],
             [
              0.6666666666666666,
              "#ed7953"
             ],
             [
              0.7777777777777778,
              "#fb9f3a"
             ],
             [
              0.8888888888888888,
              "#fdca26"
             ],
             [
              1,
              "#f0f921"
             ]
            ],
            "type": "contour"
           }
          ],
          "contourcarpet": [
           {
            "colorbar": {
             "outlinewidth": 0,
             "ticks": ""
            },
            "type": "contourcarpet"
           }
          ],
          "heatmap": [
           {
            "colorbar": {
             "outlinewidth": 0,
             "ticks": ""
            },
            "colorscale": [
             [
              0,
              "#0d0887"
             ],
             [
              0.1111111111111111,
              "#46039f"
             ],
             [
              0.2222222222222222,
              "#7201a8"
             ],
             [
              0.3333333333333333,
              "#9c179e"
             ],
             [
              0.4444444444444444,
              "#bd3786"
             ],
             [
              0.5555555555555556,
              "#d8576b"
             ],
             [
              0.6666666666666666,
              "#ed7953"
             ],
             [
              0.7777777777777778,
              "#fb9f3a"
             ],
             [
              0.8888888888888888,
              "#fdca26"
             ],
             [
              1,
              "#f0f921"
             ]
            ],
            "type": "heatmap"
           }
          ],
          "heatmapgl": [
           {
            "colorbar": {
             "outlinewidth": 0,
             "ticks": ""
            },
            "colorscale": [
             [
              0,
              "#0d0887"
             ],
             [
              0.1111111111111111,
              "#46039f"
             ],
             [
              0.2222222222222222,
              "#7201a8"
             ],
             [
              0.3333333333333333,
              "#9c179e"
             ],
             [
              0.4444444444444444,
              "#bd3786"
             ],
             [
              0.5555555555555556,
              "#d8576b"
             ],
             [
              0.6666666666666666,
              "#ed7953"
             ],
             [
              0.7777777777777778,
              "#fb9f3a"
             ],
             [
              0.8888888888888888,
              "#fdca26"
             ],
             [
              1,
              "#f0f921"
             ]
            ],
            "type": "heatmapgl"
           }
          ],
          "histogram": [
           {
            "marker": {
             "colorbar": {
              "outlinewidth": 0,
              "ticks": ""
             }
            },
            "type": "histogram"
           }
          ],
          "histogram2d": [
           {
            "colorbar": {
             "outlinewidth": 0,
             "ticks": ""
            },
            "colorscale": [
             [
              0,
              "#0d0887"
             ],
             [
              0.1111111111111111,
              "#46039f"
             ],
             [
              0.2222222222222222,
              "#7201a8"
             ],
             [
              0.3333333333333333,
              "#9c179e"
             ],
             [
              0.4444444444444444,
              "#bd3786"
             ],
             [
              0.5555555555555556,
              "#d8576b"
             ],
             [
              0.6666666666666666,
              "#ed7953"
             ],
             [
              0.7777777777777778,
              "#fb9f3a"
             ],
             [
              0.8888888888888888,
              "#fdca26"
             ],
             [
              1,
              "#f0f921"
             ]
            ],
            "type": "histogram2d"
           }
          ],
          "histogram2dcontour": [
           {
            "colorbar": {
             "outlinewidth": 0,
             "ticks": ""
            },
            "colorscale": [
             [
              0,
              "#0d0887"
             ],
             [
              0.1111111111111111,
              "#46039f"
             ],
             [
              0.2222222222222222,
              "#7201a8"
             ],
             [
              0.3333333333333333,
              "#9c179e"
             ],
             [
              0.4444444444444444,
              "#bd3786"
             ],
             [
              0.5555555555555556,
              "#d8576b"
             ],
             [
              0.6666666666666666,
              "#ed7953"
             ],
             [
              0.7777777777777778,
              "#fb9f3a"
             ],
             [
              0.8888888888888888,
              "#fdca26"
             ],
             [
              1,
              "#f0f921"
             ]
            ],
            "type": "histogram2dcontour"
           }
          ],
          "mesh3d": [
           {
            "colorbar": {
             "outlinewidth": 0,
             "ticks": ""
            },
            "type": "mesh3d"
           }
          ],
          "parcoords": [
           {
            "line": {
             "colorbar": {
              "outlinewidth": 0,
              "ticks": ""
             }
            },
            "type": "parcoords"
           }
          ],
          "pie": [
           {
            "automargin": true,
            "type": "pie"
           }
          ],
          "scatter": [
           {
            "marker": {
             "colorbar": {
              "outlinewidth": 0,
              "ticks": ""
             }
            },
            "type": "scatter"
           }
          ],
          "scatter3d": [
           {
            "line": {
             "colorbar": {
              "outlinewidth": 0,
              "ticks": ""
             }
            },
            "marker": {
             "colorbar": {
              "outlinewidth": 0,
              "ticks": ""
             }
            },
            "type": "scatter3d"
           }
          ],
          "scattercarpet": [
           {
            "marker": {
             "colorbar": {
              "outlinewidth": 0,
              "ticks": ""
             }
            },
            "type": "scattercarpet"
           }
          ],
          "scattergeo": [
           {
            "marker": {
             "colorbar": {
              "outlinewidth": 0,
              "ticks": ""
             }
            },
            "type": "scattergeo"
           }
          ],
          "scattergl": [
           {
            "marker": {
             "colorbar": {
              "outlinewidth": 0,
              "ticks": ""
             }
            },
            "type": "scattergl"
           }
          ],
          "scattermapbox": [
           {
            "marker": {
             "colorbar": {
              "outlinewidth": 0,
              "ticks": ""
             }
            },
            "type": "scattermapbox"
           }
          ],
          "scatterpolar": [
           {
            "marker": {
             "colorbar": {
              "outlinewidth": 0,
              "ticks": ""
             }
            },
            "type": "scatterpolar"
           }
          ],
          "scatterpolargl": [
           {
            "marker": {
             "colorbar": {
              "outlinewidth": 0,
              "ticks": ""
             }
            },
            "type": "scatterpolargl"
           }
          ],
          "scatterternary": [
           {
            "marker": {
             "colorbar": {
              "outlinewidth": 0,
              "ticks": ""
             }
            },
            "type": "scatterternary"
           }
          ],
          "surface": [
           {
            "colorbar": {
             "outlinewidth": 0,
             "ticks": ""
            },
            "colorscale": [
             [
              0,
              "#0d0887"
             ],
             [
              0.1111111111111111,
              "#46039f"
             ],
             [
              0.2222222222222222,
              "#7201a8"
             ],
             [
              0.3333333333333333,
              "#9c179e"
             ],
             [
              0.4444444444444444,
              "#bd3786"
             ],
             [
              0.5555555555555556,
              "#d8576b"
             ],
             [
              0.6666666666666666,
              "#ed7953"
             ],
             [
              0.7777777777777778,
              "#fb9f3a"
             ],
             [
              0.8888888888888888,
              "#fdca26"
             ],
             [
              1,
              "#f0f921"
             ]
            ],
            "type": "surface"
           }
          ],
          "table": [
           {
            "cells": {
             "fill": {
              "color": "#EBF0F8"
             },
             "line": {
              "color": "white"
             }
            },
            "header": {
             "fill": {
              "color": "#C8D4E3"
             },
             "line": {
              "color": "white"
             }
            },
            "type": "table"
           }
          ]
         },
         "layout": {
          "annotationdefaults": {
           "arrowcolor": "#2a3f5f",
           "arrowhead": 0,
           "arrowwidth": 1
          },
          "coloraxis": {
           "colorbar": {
            "outlinewidth": 0,
            "ticks": ""
           }
          },
          "colorscale": {
           "diverging": [
            [
             0,
             "#8e0152"
            ],
            [
             0.1,
             "#c51b7d"
            ],
            [
             0.2,
             "#de77ae"
            ],
            [
             0.3,
             "#f1b6da"
            ],
            [
             0.4,
             "#fde0ef"
            ],
            [
             0.5,
             "#f7f7f7"
            ],
            [
             0.6,
             "#e6f5d0"
            ],
            [
             0.7,
             "#b8e186"
            ],
            [
             0.8,
             "#7fbc41"
            ],
            [
             0.9,
             "#4d9221"
            ],
            [
             1,
             "#276419"
            ]
           ],
           "sequential": [
            [
             0,
             "#0d0887"
            ],
            [
             0.1111111111111111,
             "#46039f"
            ],
            [
             0.2222222222222222,
             "#7201a8"
            ],
            [
             0.3333333333333333,
             "#9c179e"
            ],
            [
             0.4444444444444444,
             "#bd3786"
            ],
            [
             0.5555555555555556,
             "#d8576b"
            ],
            [
             0.6666666666666666,
             "#ed7953"
            ],
            [
             0.7777777777777778,
             "#fb9f3a"
            ],
            [
             0.8888888888888888,
             "#fdca26"
            ],
            [
             1,
             "#f0f921"
            ]
           ],
           "sequentialminus": [
            [
             0,
             "#0d0887"
            ],
            [
             0.1111111111111111,
             "#46039f"
            ],
            [
             0.2222222222222222,
             "#7201a8"
            ],
            [
             0.3333333333333333,
             "#9c179e"
            ],
            [
             0.4444444444444444,
             "#bd3786"
            ],
            [
             0.5555555555555556,
             "#d8576b"
            ],
            [
             0.6666666666666666,
             "#ed7953"
            ],
            [
             0.7777777777777778,
             "#fb9f3a"
            ],
            [
             0.8888888888888888,
             "#fdca26"
            ],
            [
             1,
             "#f0f921"
            ]
           ]
          },
          "colorway": [
           "#636efa",
           "#EF553B",
           "#00cc96",
           "#ab63fa",
           "#FFA15A",
           "#19d3f3",
           "#FF6692",
           "#B6E880",
           "#FF97FF",
           "#FECB52"
          ],
          "font": {
           "color": "#2a3f5f"
          },
          "geo": {
           "bgcolor": "white",
           "lakecolor": "white",
           "landcolor": "#E5ECF6",
           "showlakes": true,
           "showland": true,
           "subunitcolor": "white"
          },
          "hoverlabel": {
           "align": "left"
          },
          "hovermode": "closest",
          "mapbox": {
           "style": "light"
          },
          "paper_bgcolor": "white",
          "plot_bgcolor": "#E5ECF6",
          "polar": {
           "angularaxis": {
            "gridcolor": "white",
            "linecolor": "white",
            "ticks": ""
           },
           "bgcolor": "#E5ECF6",
           "radialaxis": {
            "gridcolor": "white",
            "linecolor": "white",
            "ticks": ""
           }
          },
          "scene": {
           "xaxis": {
            "backgroundcolor": "#E5ECF6",
            "gridcolor": "white",
            "gridwidth": 2,
            "linecolor": "white",
            "showbackground": true,
            "ticks": "",
            "zerolinecolor": "white"
           },
           "yaxis": {
            "backgroundcolor": "#E5ECF6",
            "gridcolor": "white",
            "gridwidth": 2,
            "linecolor": "white",
            "showbackground": true,
            "ticks": "",
            "zerolinecolor": "white"
           },
           "zaxis": {
            "backgroundcolor": "#E5ECF6",
            "gridcolor": "white",
            "gridwidth": 2,
            "linecolor": "white",
            "showbackground": true,
            "ticks": "",
            "zerolinecolor": "white"
           }
          },
          "shapedefaults": {
           "line": {
            "color": "#2a3f5f"
           }
          },
          "ternary": {
           "aaxis": {
            "gridcolor": "white",
            "linecolor": "white",
            "ticks": ""
           },
           "baxis": {
            "gridcolor": "white",
            "linecolor": "white",
            "ticks": ""
           },
           "bgcolor": "#E5ECF6",
           "caxis": {
            "gridcolor": "white",
            "linecolor": "white",
            "ticks": ""
           }
          },
          "title": {
           "x": 0.05
          },
          "xaxis": {
           "automargin": true,
           "gridcolor": "white",
           "linecolor": "white",
           "ticks": "",
           "title": {
            "standoff": 15
           },
           "zerolinecolor": "white",
           "zerolinewidth": 2
          },
          "yaxis": {
           "automargin": true,
           "gridcolor": "white",
           "linecolor": "white",
           "ticks": "",
           "title": {
            "standoff": 15
           },
           "zerolinecolor": "white",
           "zerolinewidth": 2
          }
         }
        },
        "xaxis": {
         "linecolor": "rgb(0, 0, 0)",
         "linewidth": 2,
         "rangemode": "tozero",
         "showgrid": false,
         "showline": true,
         "tickfont": {
          "color": "#000000",
          "size": 22
         },
         "ticks": "outside",
         "tickwidth": 3
        },
        "yaxis": {
         "showline": false,
         "showticklabels": true,
         "tickfont": {
          "color": "#000000",
          "size": 22
         },
         "zeroline": false
        }
       }
      }
     },
     "metadata": {}
    }
   ],
   "source": [
    "fig = go.Figure()\n",
    "ploted_edge=[100,1000,2000,5000,8000,10000,20000]\n",
    "for idx, e in enumerate(ploted_edge):\n",
    "    same_e = res.loc[res['#E'] == e]\n",
    "    fig.add_trace(go.Scatter(x=same_e[\"#V\"], y=same_e[\"cycles\"], name=f\"{e}\",\n",
    "                             mode='lines+markers', marker=dict(symbol=marker_symbols[idx],size=10),\n",
    "                             line=dict(color=colors[idx], width=3)))\n",
    "\n",
    "fig.update_layout(xaxis=dict(showline=True, showgrid=False, rangemode=\"tozero\",\n",
    "                             linecolor='rgb(0, 0, 0)', linewidth=2,\n",
    "                             tickwidth=3, tickfont=num_font, ticks='outside'),\n",
    "                  yaxis=dict(tickfont=num_font, zeroline=False, showticklabels=True,\n",
    "                             showline=False),\n",
    "                  showlegend=True,legend=dict(traceorder=\"reversed\"),\n",
    "                #   legend=dict(borderwidth=1, bordercolor=\"#eeeeee\",\n",
    "                #               x=0.76, y=0.9, traceorder=\"reversed\", \n",
    "                #               font=default_font),\n",
    "                  margin=dict(autoexpand=True, l=40, r=20, t=40),\n",
    "                  plot_bgcolor=\"#eeeeee\"\n",
    "                  )\n",
    "fig.show()\n",
    "fig.write_image(\"baseline_cycles.pdf\")"
   ]
  },
  {
   "cell_type": "code",
   "execution_count": 25,
   "metadata": {},
   "outputs": [
    {
     "output_type": "display_data",
     "data": {
      "application/vnd.plotly.v1+json": {
       "config": {
        "plotlyServerURL": "https://plot.ly"
       },
       "data": [
        {
         "line": {
          "color": "rgb(156, 219, 165)",
          "width": 3
         },
         "marker": {
          "size": 10,
          "symbol": "circle"
         },
         "mode": "lines+markers",
         "name": "100",
         "type": "scatter",
         "x": [
          100
         ],
         "y": [
          "               430    "
         ]
        },
        {
         "line": {
          "color": "rgb(111, 201, 163)",
          "width": 3
         },
         "marker": {
          "size": 10,
          "symbol": "square"
         },
         "mode": "lines+markers",
         "name": "1000",
         "type": "scatter",
         "x": [
          1000
         ],
         "y": [
          "               495    "
         ]
        },
        {
         "line": {
          "color": "rgb(86, 177, 163)",
          "width": 3
         },
         "marker": {
          "size": 10,
          "symbol": "diamond"
         },
         "mode": "lines+markers",
         "name": "2000",
         "type": "scatter",
         "x": [
          1000,
          2000
         ],
         "y": [
          "               547    ",
          "               567    "
         ]
        },
        {
         "line": {
          "color": "rgb(76, 153, 160)",
          "width": 3
         },
         "marker": {
          "size": 10,
          "symbol": "cross"
         },
         "mode": "lines+markers",
         "name": "5000",
         "type": "scatter",
         "x": [
          1000,
          2000,
          5000
         ],
         "y": [
          "               802    ",
          "               804    ",
          "               786    "
         ]
        },
        {
         "line": {
          "color": "rgb(68, 130, 155)",
          "width": 3
         },
         "marker": {
          "size": 10,
          "symbol": "triangle-up-open"
         },
         "mode": "lines+markers",
         "name": "8000",
         "type": "scatter",
         "x": [
          1000,
          2000,
          5000,
          8000
         ],
         "y": [
          "               976    ",
          "             1,097    ",
          "               944    ",
          "             1,002    "
         ]
        },
        {
         "line": {
          "color": "rgb(62, 108, 150)",
          "width": 3
         },
         "marker": {
          "size": 10,
          "symbol": "pentagon"
         },
         "mode": "lines+markers",
         "name": "10000",
         "type": "scatter",
         "x": [
          2000,
          5000,
          8000,
          10000
         ],
         "y": [
          "             1,190    ",
          "             1,212    ",
          "             1,274    ",
          "             1,147    "
         ]
        },
        {
         "line": {
          "color": "rgb(62, 82, 143)",
          "width": 3
         },
         "marker": {
          "size": 10,
          "symbol": "hexagram"
         },
         "mode": "lines+markers",
         "name": "20000",
         "type": "scatter",
         "x": [
          5000,
          8000,
          10000
         ],
         "y": [
          "             1,931    ",
          "             1,992    ",
          "             2,018    "
         ]
        }
       ],
       "layout": {
        "legend": {
         "traceorder": "reversed"
        },
        "margin": {
         "autoexpand": true,
         "l": 40,
         "r": 20,
         "t": 40
        },
        "plot_bgcolor": "#eeeeee",
        "showlegend": true,
        "template": {
         "data": {
          "bar": [
           {
            "error_x": {
             "color": "#2a3f5f"
            },
            "error_y": {
             "color": "#2a3f5f"
            },
            "marker": {
             "line": {
              "color": "#E5ECF6",
              "width": 0.5
             }
            },
            "type": "bar"
           }
          ],
          "barpolar": [
           {
            "marker": {
             "line": {
              "color": "#E5ECF6",
              "width": 0.5
             }
            },
            "type": "barpolar"
           }
          ],
          "carpet": [
           {
            "aaxis": {
             "endlinecolor": "#2a3f5f",
             "gridcolor": "white",
             "linecolor": "white",
             "minorgridcolor": "white",
             "startlinecolor": "#2a3f5f"
            },
            "baxis": {
             "endlinecolor": "#2a3f5f",
             "gridcolor": "white",
             "linecolor": "white",
             "minorgridcolor": "white",
             "startlinecolor": "#2a3f5f"
            },
            "type": "carpet"
           }
          ],
          "choropleth": [
           {
            "colorbar": {
             "outlinewidth": 0,
             "ticks": ""
            },
            "type": "choropleth"
           }
          ],
          "contour": [
           {
            "colorbar": {
             "outlinewidth": 0,
             "ticks": ""
            },
            "colorscale": [
             [
              0,
              "#0d0887"
             ],
             [
              0.1111111111111111,
              "#46039f"
             ],
             [
              0.2222222222222222,
              "#7201a8"
             ],
             [
              0.3333333333333333,
              "#9c179e"
             ],
             [
              0.4444444444444444,
              "#bd3786"
             ],
             [
              0.5555555555555556,
              "#d8576b"
             ],
             [
              0.6666666666666666,
              "#ed7953"
             ],
             [
              0.7777777777777778,
              "#fb9f3a"
             ],
             [
              0.8888888888888888,
              "#fdca26"
             ],
             [
              1,
              "#f0f921"
             ]
            ],
            "type": "contour"
           }
          ],
          "contourcarpet": [
           {
            "colorbar": {
             "outlinewidth": 0,
             "ticks": ""
            },
            "type": "contourcarpet"
           }
          ],
          "heatmap": [
           {
            "colorbar": {
             "outlinewidth": 0,
             "ticks": ""
            },
            "colorscale": [
             [
              0,
              "#0d0887"
             ],
             [
              0.1111111111111111,
              "#46039f"
             ],
             [
              0.2222222222222222,
              "#7201a8"
             ],
             [
              0.3333333333333333,
              "#9c179e"
             ],
             [
              0.4444444444444444,
              "#bd3786"
             ],
             [
              0.5555555555555556,
              "#d8576b"
             ],
             [
              0.6666666666666666,
              "#ed7953"
             ],
             [
              0.7777777777777778,
              "#fb9f3a"
             ],
             [
              0.8888888888888888,
              "#fdca26"
             ],
             [
              1,
              "#f0f921"
             ]
            ],
            "type": "heatmap"
           }
          ],
          "heatmapgl": [
           {
            "colorbar": {
             "outlinewidth": 0,
             "ticks": ""
            },
            "colorscale": [
             [
              0,
              "#0d0887"
             ],
             [
              0.1111111111111111,
              "#46039f"
             ],
             [
              0.2222222222222222,
              "#7201a8"
             ],
             [
              0.3333333333333333,
              "#9c179e"
             ],
             [
              0.4444444444444444,
              "#bd3786"
             ],
             [
              0.5555555555555556,
              "#d8576b"
             ],
             [
              0.6666666666666666,
              "#ed7953"
             ],
             [
              0.7777777777777778,
              "#fb9f3a"
             ],
             [
              0.8888888888888888,
              "#fdca26"
             ],
             [
              1,
              "#f0f921"
             ]
            ],
            "type": "heatmapgl"
           }
          ],
          "histogram": [
           {
            "marker": {
             "colorbar": {
              "outlinewidth": 0,
              "ticks": ""
             }
            },
            "type": "histogram"
           }
          ],
          "histogram2d": [
           {
            "colorbar": {
             "outlinewidth": 0,
             "ticks": ""
            },
            "colorscale": [
             [
              0,
              "#0d0887"
             ],
             [
              0.1111111111111111,
              "#46039f"
             ],
             [
              0.2222222222222222,
              "#7201a8"
             ],
             [
              0.3333333333333333,
              "#9c179e"
             ],
             [
              0.4444444444444444,
              "#bd3786"
             ],
             [
              0.5555555555555556,
              "#d8576b"
             ],
             [
              0.6666666666666666,
              "#ed7953"
             ],
             [
              0.7777777777777778,
              "#fb9f3a"
             ],
             [
              0.8888888888888888,
              "#fdca26"
             ],
             [
              1,
              "#f0f921"
             ]
            ],
            "type": "histogram2d"
           }
          ],
          "histogram2dcontour": [
           {
            "colorbar": {
             "outlinewidth": 0,
             "ticks": ""
            },
            "colorscale": [
             [
              0,
              "#0d0887"
             ],
             [
              0.1111111111111111,
              "#46039f"
             ],
             [
              0.2222222222222222,
              "#7201a8"
             ],
             [
              0.3333333333333333,
              "#9c179e"
             ],
             [
              0.4444444444444444,
              "#bd3786"
             ],
             [
              0.5555555555555556,
              "#d8576b"
             ],
             [
              0.6666666666666666,
              "#ed7953"
             ],
             [
              0.7777777777777778,
              "#fb9f3a"
             ],
             [
              0.8888888888888888,
              "#fdca26"
             ],
             [
              1,
              "#f0f921"
             ]
            ],
            "type": "histogram2dcontour"
           }
          ],
          "mesh3d": [
           {
            "colorbar": {
             "outlinewidth": 0,
             "ticks": ""
            },
            "type": "mesh3d"
           }
          ],
          "parcoords": [
           {
            "line": {
             "colorbar": {
              "outlinewidth": 0,
              "ticks": ""
             }
            },
            "type": "parcoords"
           }
          ],
          "pie": [
           {
            "automargin": true,
            "type": "pie"
           }
          ],
          "scatter": [
           {
            "marker": {
             "colorbar": {
              "outlinewidth": 0,
              "ticks": ""
             }
            },
            "type": "scatter"
           }
          ],
          "scatter3d": [
           {
            "line": {
             "colorbar": {
              "outlinewidth": 0,
              "ticks": ""
             }
            },
            "marker": {
             "colorbar": {
              "outlinewidth": 0,
              "ticks": ""
             }
            },
            "type": "scatter3d"
           }
          ],
          "scattercarpet": [
           {
            "marker": {
             "colorbar": {
              "outlinewidth": 0,
              "ticks": ""
             }
            },
            "type": "scattercarpet"
           }
          ],
          "scattergeo": [
           {
            "marker": {
             "colorbar": {
              "outlinewidth": 0,
              "ticks": ""
             }
            },
            "type": "scattergeo"
           }
          ],
          "scattergl": [
           {
            "marker": {
             "colorbar": {
              "outlinewidth": 0,
              "ticks": ""
             }
            },
            "type": "scattergl"
           }
          ],
          "scattermapbox": [
           {
            "marker": {
             "colorbar": {
              "outlinewidth": 0,
              "ticks": ""
             }
            },
            "type": "scattermapbox"
           }
          ],
          "scatterpolar": [
           {
            "marker": {
             "colorbar": {
              "outlinewidth": 0,
              "ticks": ""
             }
            },
            "type": "scatterpolar"
           }
          ],
          "scatterpolargl": [
           {
            "marker": {
             "colorbar": {
              "outlinewidth": 0,
              "ticks": ""
             }
            },
            "type": "scatterpolargl"
           }
          ],
          "scatterternary": [
           {
            "marker": {
             "colorbar": {
              "outlinewidth": 0,
              "ticks": ""
             }
            },
            "type": "scatterternary"
           }
          ],
          "surface": [
           {
            "colorbar": {
             "outlinewidth": 0,
             "ticks": ""
            },
            "colorscale": [
             [
              0,
              "#0d0887"
             ],
             [
              0.1111111111111111,
              "#46039f"
             ],
             [
              0.2222222222222222,
              "#7201a8"
             ],
             [
              0.3333333333333333,
              "#9c179e"
             ],
             [
              0.4444444444444444,
              "#bd3786"
             ],
             [
              0.5555555555555556,
              "#d8576b"
             ],
             [
              0.6666666666666666,
              "#ed7953"
             ],
             [
              0.7777777777777778,
              "#fb9f3a"
             ],
             [
              0.8888888888888888,
              "#fdca26"
             ],
             [
              1,
              "#f0f921"
             ]
            ],
            "type": "surface"
           }
          ],
          "table": [
           {
            "cells": {
             "fill": {
              "color": "#EBF0F8"
             },
             "line": {
              "color": "white"
             }
            },
            "header": {
             "fill": {
              "color": "#C8D4E3"
             },
             "line": {
              "color": "white"
             }
            },
            "type": "table"
           }
          ]
         },
         "layout": {
          "annotationdefaults": {
           "arrowcolor": "#2a3f5f",
           "arrowhead": 0,
           "arrowwidth": 1
          },
          "coloraxis": {
           "colorbar": {
            "outlinewidth": 0,
            "ticks": ""
           }
          },
          "colorscale": {
           "diverging": [
            [
             0,
             "#8e0152"
            ],
            [
             0.1,
             "#c51b7d"
            ],
            [
             0.2,
             "#de77ae"
            ],
            [
             0.3,
             "#f1b6da"
            ],
            [
             0.4,
             "#fde0ef"
            ],
            [
             0.5,
             "#f7f7f7"
            ],
            [
             0.6,
             "#e6f5d0"
            ],
            [
             0.7,
             "#b8e186"
            ],
            [
             0.8,
             "#7fbc41"
            ],
            [
             0.9,
             "#4d9221"
            ],
            [
             1,
             "#276419"
            ]
           ],
           "sequential": [
            [
             0,
             "#0d0887"
            ],
            [
             0.1111111111111111,
             "#46039f"
            ],
            [
             0.2222222222222222,
             "#7201a8"
            ],
            [
             0.3333333333333333,
             "#9c179e"
            ],
            [
             0.4444444444444444,
             "#bd3786"
            ],
            [
             0.5555555555555556,
             "#d8576b"
            ],
            [
             0.6666666666666666,
             "#ed7953"
            ],
            [
             0.7777777777777778,
             "#fb9f3a"
            ],
            [
             0.8888888888888888,
             "#fdca26"
            ],
            [
             1,
             "#f0f921"
            ]
           ],
           "sequentialminus": [
            [
             0,
             "#0d0887"
            ],
            [
             0.1111111111111111,
             "#46039f"
            ],
            [
             0.2222222222222222,
             "#7201a8"
            ],
            [
             0.3333333333333333,
             "#9c179e"
            ],
            [
             0.4444444444444444,
             "#bd3786"
            ],
            [
             0.5555555555555556,
             "#d8576b"
            ],
            [
             0.6666666666666666,
             "#ed7953"
            ],
            [
             0.7777777777777778,
             "#fb9f3a"
            ],
            [
             0.8888888888888888,
             "#fdca26"
            ],
            [
             1,
             "#f0f921"
            ]
           ]
          },
          "colorway": [
           "#636efa",
           "#EF553B",
           "#00cc96",
           "#ab63fa",
           "#FFA15A",
           "#19d3f3",
           "#FF6692",
           "#B6E880",
           "#FF97FF",
           "#FECB52"
          ],
          "font": {
           "color": "#2a3f5f"
          },
          "geo": {
           "bgcolor": "white",
           "lakecolor": "white",
           "landcolor": "#E5ECF6",
           "showlakes": true,
           "showland": true,
           "subunitcolor": "white"
          },
          "hoverlabel": {
           "align": "left"
          },
          "hovermode": "closest",
          "mapbox": {
           "style": "light"
          },
          "paper_bgcolor": "white",
          "plot_bgcolor": "#E5ECF6",
          "polar": {
           "angularaxis": {
            "gridcolor": "white",
            "linecolor": "white",
            "ticks": ""
           },
           "bgcolor": "#E5ECF6",
           "radialaxis": {
            "gridcolor": "white",
            "linecolor": "white",
            "ticks": ""
           }
          },
          "scene": {
           "xaxis": {
            "backgroundcolor": "#E5ECF6",
            "gridcolor": "white",
            "gridwidth": 2,
            "linecolor": "white",
            "showbackground": true,
            "ticks": "",
            "zerolinecolor": "white"
           },
           "yaxis": {
            "backgroundcolor": "#E5ECF6",
            "gridcolor": "white",
            "gridwidth": 2,
            "linecolor": "white",
            "showbackground": true,
            "ticks": "",
            "zerolinecolor": "white"
           },
           "zaxis": {
            "backgroundcolor": "#E5ECF6",
            "gridcolor": "white",
            "gridwidth": 2,
            "linecolor": "white",
            "showbackground": true,
            "ticks": "",
            "zerolinecolor": "white"
           }
          },
          "shapedefaults": {
           "line": {
            "color": "#2a3f5f"
           }
          },
          "ternary": {
           "aaxis": {
            "gridcolor": "white",
            "linecolor": "white",
            "ticks": ""
           },
           "baxis": {
            "gridcolor": "white",
            "linecolor": "white",
            "ticks": ""
           },
           "bgcolor": "#E5ECF6",
           "caxis": {
            "gridcolor": "white",
            "linecolor": "white",
            "ticks": ""
           }
          },
          "title": {
           "x": 0.05
          },
          "xaxis": {
           "automargin": true,
           "gridcolor": "white",
           "linecolor": "white",
           "ticks": "",
           "title": {
            "standoff": 15
           },
           "zerolinecolor": "white",
           "zerolinewidth": 2
          },
          "yaxis": {
           "automargin": true,
           "gridcolor": "white",
           "linecolor": "white",
           "ticks": "",
           "title": {
            "standoff": 15
           },
           "zerolinecolor": "white",
           "zerolinewidth": 2
          }
         }
        },
        "xaxis": {
         "linecolor": "rgb(0, 0, 0)",
         "linewidth": 2,
         "rangemode": "tozero",
         "showgrid": false,
         "showline": true,
         "tickfont": {
          "color": "#000000",
          "size": 22
         },
         "ticks": "outside",
         "tickwidth": 3
        },
        "yaxis": {
         "showline": false,
         "showticklabels": true,
         "tickfont": {
          "color": "#000000",
          "size": 22
         },
         "zeroline": false
        }
       }
      }
     },
     "metadata": {}
    }
   ],
   "source": [
    "fig = go.Figure()\n",
    "ploted_edge=[100,1000,2000,5000,8000,10000,20000]\n",
    "for idx, e in enumerate(ploted_edge):\n",
    "    same_e = res.loc[res['#E'] == e]\n",
    "    fig.add_trace(go.Scatter(x=same_e[\"#V\"], y=same_e[\"page-faults\"], name=f\"{e}\",\n",
    "                             mode='lines+markers', marker=dict(symbol=marker_symbols[idx],size=10),\n",
    "                             line=dict(color=colors[idx], width=3)))\n",
    "\n",
    "fig.update_layout(xaxis=dict(showline=True, showgrid=False, rangemode=\"tozero\",\n",
    "                             linecolor='rgb(0, 0, 0)', linewidth=2,\n",
    "                             tickwidth=3, tickfont=num_font, ticks='outside'),\n",
    "                  yaxis=dict(tickfont=num_font, zeroline=False, showticklabels=True,\n",
    "                             showline=False),\n",
    "                  showlegend=True,legend=dict(traceorder=\"reversed\"),\n",
    "                #   legend=dict(borderwidth=1, bordercolor=\"#eeeeee\",\n",
    "                #               x=0.76, y=0.9, traceorder=\"reversed\", \n",
    "                #               font=default_font),\n",
    "                  margin=dict(autoexpand=True, l=40, r=20, t=40),\n",
    "                  plot_bgcolor=\"#eeeeee\"\n",
    "                  )\n",
    "fig.show()\n",
    "fig.write_image(\"baseline_page-faults.pdf\")"
   ]
  },
  {
   "cell_type": "code",
   "execution_count": 26,
   "metadata": {},
   "outputs": [
    {
     "output_type": "display_data",
     "data": {
      "application/vnd.plotly.v1+json": {
       "config": {
        "plotlyServerURL": "https://plot.ly"
       },
       "data": [
        {
         "line": {
          "color": "rgb(156, 219, 165)",
          "width": 3
         },
         "marker": {
          "size": 10,
          "symbol": "circle"
         },
         "mode": "lines+markers",
         "name": "100",
         "type": "scatter",
         "x": [
          100
         ],
         "y": [
          "    0.32%"
         ]
        },
        {
         "line": {
          "color": "rgb(111, 201, 163)",
          "width": 3
         },
         "marker": {
          "size": 10,
          "symbol": "square"
         },
         "mode": "lines+markers",
         "name": "1000",
         "type": "scatter",
         "x": [
          1000
         ],
         "y": [
          "    0.09%"
         ]
        },
        {
         "line": {
          "color": "rgb(86, 177, 163)",
          "width": 3
         },
         "marker": {
          "size": 10,
          "symbol": "diamond"
         },
         "mode": "lines+markers",
         "name": "2000",
         "type": "scatter",
         "x": [
          1000,
          2000
         ],
         "y": [
          "    0.11%",
          "    0.05%"
         ]
        },
        {
         "line": {
          "color": "rgb(76, 153, 160)",
          "width": 3
         },
         "marker": {
          "size": 10,
          "symbol": "cross"
         },
         "mode": "lines+markers",
         "name": "5000",
         "type": "scatter",
         "x": [
          1000,
          2000,
          5000
         ],
         "y": [
          "    0.13%",
          "    0.07%",
          "    0.02%"
         ]
        },
        {
         "line": {
          "color": "rgb(68, 130, 155)",
          "width": 3
         },
         "marker": {
          "size": 10,
          "symbol": "triangle-up-open"
         },
         "mode": "lines+markers",
         "name": "8000",
         "type": "scatter",
         "x": [
          1000,
          2000,
          5000,
          8000
         ],
         "y": [
          "    0.15%",
          "    0.08%",
          "    0.03%",
          "    0.01%"
         ]
        },
        {
         "line": {
          "color": "rgb(62, 108, 150)",
          "width": 3
         },
         "marker": {
          "size": 10,
          "symbol": "pentagon"
         },
         "mode": "lines+markers",
         "name": "10000",
         "type": "scatter",
         "x": [
          2000,
          5000,
          8000,
          10000
         ],
         "y": [
          "    0.08%",
          "    0.03%",
          "    0.02%",
          "    0.01%"
         ]
        },
        {
         "line": {
          "color": "rgb(62, 82, 143)",
          "width": 3
         },
         "marker": {
          "size": 10,
          "symbol": "hexagram"
         },
         "mode": "lines+markers",
         "name": "20000",
         "type": "scatter",
         "x": [
          5000,
          8000,
          10000
         ],
         "y": [
          "    0.04%",
          "    0.02%",
          "    0.02%"
         ]
        }
       ],
       "layout": {
        "legend": {
         "traceorder": "reversed"
        },
        "margin": {
         "autoexpand": true,
         "l": 40,
         "r": 20,
         "t": 40
        },
        "plot_bgcolor": "#eeeeee",
        "showlegend": true,
        "template": {
         "data": {
          "bar": [
           {
            "error_x": {
             "color": "#2a3f5f"
            },
            "error_y": {
             "color": "#2a3f5f"
            },
            "marker": {
             "line": {
              "color": "#E5ECF6",
              "width": 0.5
             }
            },
            "type": "bar"
           }
          ],
          "barpolar": [
           {
            "marker": {
             "line": {
              "color": "#E5ECF6",
              "width": 0.5
             }
            },
            "type": "barpolar"
           }
          ],
          "carpet": [
           {
            "aaxis": {
             "endlinecolor": "#2a3f5f",
             "gridcolor": "white",
             "linecolor": "white",
             "minorgridcolor": "white",
             "startlinecolor": "#2a3f5f"
            },
            "baxis": {
             "endlinecolor": "#2a3f5f",
             "gridcolor": "white",
             "linecolor": "white",
             "minorgridcolor": "white",
             "startlinecolor": "#2a3f5f"
            },
            "type": "carpet"
           }
          ],
          "choropleth": [
           {
            "colorbar": {
             "outlinewidth": 0,
             "ticks": ""
            },
            "type": "choropleth"
           }
          ],
          "contour": [
           {
            "colorbar": {
             "outlinewidth": 0,
             "ticks": ""
            },
            "colorscale": [
             [
              0,
              "#0d0887"
             ],
             [
              0.1111111111111111,
              "#46039f"
             ],
             [
              0.2222222222222222,
              "#7201a8"
             ],
             [
              0.3333333333333333,
              "#9c179e"
             ],
             [
              0.4444444444444444,
              "#bd3786"
             ],
             [
              0.5555555555555556,
              "#d8576b"
             ],
             [
              0.6666666666666666,
              "#ed7953"
             ],
             [
              0.7777777777777778,
              "#fb9f3a"
             ],
             [
              0.8888888888888888,
              "#fdca26"
             ],
             [
              1,
              "#f0f921"
             ]
            ],
            "type": "contour"
           }
          ],
          "contourcarpet": [
           {
            "colorbar": {
             "outlinewidth": 0,
             "ticks": ""
            },
            "type": "contourcarpet"
           }
          ],
          "heatmap": [
           {
            "colorbar": {
             "outlinewidth": 0,
             "ticks": ""
            },
            "colorscale": [
             [
              0,
              "#0d0887"
             ],
             [
              0.1111111111111111,
              "#46039f"
             ],
             [
              0.2222222222222222,
              "#7201a8"
             ],
             [
              0.3333333333333333,
              "#9c179e"
             ],
             [
              0.4444444444444444,
              "#bd3786"
             ],
             [
              0.5555555555555556,
              "#d8576b"
             ],
             [
              0.6666666666666666,
              "#ed7953"
             ],
             [
              0.7777777777777778,
              "#fb9f3a"
             ],
             [
              0.8888888888888888,
              "#fdca26"
             ],
             [
              1,
              "#f0f921"
             ]
            ],
            "type": "heatmap"
           }
          ],
          "heatmapgl": [
           {
            "colorbar": {
             "outlinewidth": 0,
             "ticks": ""
            },
            "colorscale": [
             [
              0,
              "#0d0887"
             ],
             [
              0.1111111111111111,
              "#46039f"
             ],
             [
              0.2222222222222222,
              "#7201a8"
             ],
             [
              0.3333333333333333,
              "#9c179e"
             ],
             [
              0.4444444444444444,
              "#bd3786"
             ],
             [
              0.5555555555555556,
              "#d8576b"
             ],
             [
              0.6666666666666666,
              "#ed7953"
             ],
             [
              0.7777777777777778,
              "#fb9f3a"
             ],
             [
              0.8888888888888888,
              "#fdca26"
             ],
             [
              1,
              "#f0f921"
             ]
            ],
            "type": "heatmapgl"
           }
          ],
          "histogram": [
           {
            "marker": {
             "colorbar": {
              "outlinewidth": 0,
              "ticks": ""
             }
            },
            "type": "histogram"
           }
          ],
          "histogram2d": [
           {
            "colorbar": {
             "outlinewidth": 0,
             "ticks": ""
            },
            "colorscale": [
             [
              0,
              "#0d0887"
             ],
             [
              0.1111111111111111,
              "#46039f"
             ],
             [
              0.2222222222222222,
              "#7201a8"
             ],
             [
              0.3333333333333333,
              "#9c179e"
             ],
             [
              0.4444444444444444,
              "#bd3786"
             ],
             [
              0.5555555555555556,
              "#d8576b"
             ],
             [
              0.6666666666666666,
              "#ed7953"
             ],
             [
              0.7777777777777778,
              "#fb9f3a"
             ],
             [
              0.8888888888888888,
              "#fdca26"
             ],
             [
              1,
              "#f0f921"
             ]
            ],
            "type": "histogram2d"
           }
          ],
          "histogram2dcontour": [
           {
            "colorbar": {
             "outlinewidth": 0,
             "ticks": ""
            },
            "colorscale": [
             [
              0,
              "#0d0887"
             ],
             [
              0.1111111111111111,
              "#46039f"
             ],
             [
              0.2222222222222222,
              "#7201a8"
             ],
             [
              0.3333333333333333,
              "#9c179e"
             ],
             [
              0.4444444444444444,
              "#bd3786"
             ],
             [
              0.5555555555555556,
              "#d8576b"
             ],
             [
              0.6666666666666666,
              "#ed7953"
             ],
             [
              0.7777777777777778,
              "#fb9f3a"
             ],
             [
              0.8888888888888888,
              "#fdca26"
             ],
             [
              1,
              "#f0f921"
             ]
            ],
            "type": "histogram2dcontour"
           }
          ],
          "mesh3d": [
           {
            "colorbar": {
             "outlinewidth": 0,
             "ticks": ""
            },
            "type": "mesh3d"
           }
          ],
          "parcoords": [
           {
            "line": {
             "colorbar": {
              "outlinewidth": 0,
              "ticks": ""
             }
            },
            "type": "parcoords"
           }
          ],
          "pie": [
           {
            "automargin": true,
            "type": "pie"
           }
          ],
          "scatter": [
           {
            "marker": {
             "colorbar": {
              "outlinewidth": 0,
              "ticks": ""
             }
            },
            "type": "scatter"
           }
          ],
          "scatter3d": [
           {
            "line": {
             "colorbar": {
              "outlinewidth": 0,
              "ticks": ""
             }
            },
            "marker": {
             "colorbar": {
              "outlinewidth": 0,
              "ticks": ""
             }
            },
            "type": "scatter3d"
           }
          ],
          "scattercarpet": [
           {
            "marker": {
             "colorbar": {
              "outlinewidth": 0,
              "ticks": ""
             }
            },
            "type": "scattercarpet"
           }
          ],
          "scattergeo": [
           {
            "marker": {
             "colorbar": {
              "outlinewidth": 0,
              "ticks": ""
             }
            },
            "type": "scattergeo"
           }
          ],
          "scattergl": [
           {
            "marker": {
             "colorbar": {
              "outlinewidth": 0,
              "ticks": ""
             }
            },
            "type": "scattergl"
           }
          ],
          "scattermapbox": [
           {
            "marker": {
             "colorbar": {
              "outlinewidth": 0,
              "ticks": ""
             }
            },
            "type": "scattermapbox"
           }
          ],
          "scatterpolar": [
           {
            "marker": {
             "colorbar": {
              "outlinewidth": 0,
              "ticks": ""
             }
            },
            "type": "scatterpolar"
           }
          ],
          "scatterpolargl": [
           {
            "marker": {
             "colorbar": {
              "outlinewidth": 0,
              "ticks": ""
             }
            },
            "type": "scatterpolargl"
           }
          ],
          "scatterternary": [
           {
            "marker": {
             "colorbar": {
              "outlinewidth": 0,
              "ticks": ""
             }
            },
            "type": "scatterternary"
           }
          ],
          "surface": [
           {
            "colorbar": {
             "outlinewidth": 0,
             "ticks": ""
            },
            "colorscale": [
             [
              0,
              "#0d0887"
             ],
             [
              0.1111111111111111,
              "#46039f"
             ],
             [
              0.2222222222222222,
              "#7201a8"
             ],
             [
              0.3333333333333333,
              "#9c179e"
             ],
             [
              0.4444444444444444,
              "#bd3786"
             ],
             [
              0.5555555555555556,
              "#d8576b"
             ],
             [
              0.6666666666666666,
              "#ed7953"
             ],
             [
              0.7777777777777778,
              "#fb9f3a"
             ],
             [
              0.8888888888888888,
              "#fdca26"
             ],
             [
              1,
              "#f0f921"
             ]
            ],
            "type": "surface"
           }
          ],
          "table": [
           {
            "cells": {
             "fill": {
              "color": "#EBF0F8"
             },
             "line": {
              "color": "white"
             }
            },
            "header": {
             "fill": {
              "color": "#C8D4E3"
             },
             "line": {
              "color": "white"
             }
            },
            "type": "table"
           }
          ]
         },
         "layout": {
          "annotationdefaults": {
           "arrowcolor": "#2a3f5f",
           "arrowhead": 0,
           "arrowwidth": 1
          },
          "coloraxis": {
           "colorbar": {
            "outlinewidth": 0,
            "ticks": ""
           }
          },
          "colorscale": {
           "diverging": [
            [
             0,
             "#8e0152"
            ],
            [
             0.1,
             "#c51b7d"
            ],
            [
             0.2,
             "#de77ae"
            ],
            [
             0.3,
             "#f1b6da"
            ],
            [
             0.4,
             "#fde0ef"
            ],
            [
             0.5,
             "#f7f7f7"
            ],
            [
             0.6,
             "#e6f5d0"
            ],
            [
             0.7,
             "#b8e186"
            ],
            [
             0.8,
             "#7fbc41"
            ],
            [
             0.9,
             "#4d9221"
            ],
            [
             1,
             "#276419"
            ]
           ],
           "sequential": [
            [
             0,
             "#0d0887"
            ],
            [
             0.1111111111111111,
             "#46039f"
            ],
            [
             0.2222222222222222,
             "#7201a8"
            ],
            [
             0.3333333333333333,
             "#9c179e"
            ],
            [
             0.4444444444444444,
             "#bd3786"
            ],
            [
             0.5555555555555556,
             "#d8576b"
            ],
            [
             0.6666666666666666,
             "#ed7953"
            ],
            [
             0.7777777777777778,
             "#fb9f3a"
            ],
            [
             0.8888888888888888,
             "#fdca26"
            ],
            [
             1,
             "#f0f921"
            ]
           ],
           "sequentialminus": [
            [
             0,
             "#0d0887"
            ],
            [
             0.1111111111111111,
             "#46039f"
            ],
            [
             0.2222222222222222,
             "#7201a8"
            ],
            [
             0.3333333333333333,
             "#9c179e"
            ],
            [
             0.4444444444444444,
             "#bd3786"
            ],
            [
             0.5555555555555556,
             "#d8576b"
            ],
            [
             0.6666666666666666,
             "#ed7953"
            ],
            [
             0.7777777777777778,
             "#fb9f3a"
            ],
            [
             0.8888888888888888,
             "#fdca26"
            ],
            [
             1,
             "#f0f921"
            ]
           ]
          },
          "colorway": [
           "#636efa",
           "#EF553B",
           "#00cc96",
           "#ab63fa",
           "#FFA15A",
           "#19d3f3",
           "#FF6692",
           "#B6E880",
           "#FF97FF",
           "#FECB52"
          ],
          "font": {
           "color": "#2a3f5f"
          },
          "geo": {
           "bgcolor": "white",
           "lakecolor": "white",
           "landcolor": "#E5ECF6",
           "showlakes": true,
           "showland": true,
           "subunitcolor": "white"
          },
          "hoverlabel": {
           "align": "left"
          },
          "hovermode": "closest",
          "mapbox": {
           "style": "light"
          },
          "paper_bgcolor": "white",
          "plot_bgcolor": "#E5ECF6",
          "polar": {
           "angularaxis": {
            "gridcolor": "white",
            "linecolor": "white",
            "ticks": ""
           },
           "bgcolor": "#E5ECF6",
           "radialaxis": {
            "gridcolor": "white",
            "linecolor": "white",
            "ticks": ""
           }
          },
          "scene": {
           "xaxis": {
            "backgroundcolor": "#E5ECF6",
            "gridcolor": "white",
            "gridwidth": 2,
            "linecolor": "white",
            "showbackground": true,
            "ticks": "",
            "zerolinecolor": "white"
           },
           "yaxis": {
            "backgroundcolor": "#E5ECF6",
            "gridcolor": "white",
            "gridwidth": 2,
            "linecolor": "white",
            "showbackground": true,
            "ticks": "",
            "zerolinecolor": "white"
           },
           "zaxis": {
            "backgroundcolor": "#E5ECF6",
            "gridcolor": "white",
            "gridwidth": 2,
            "linecolor": "white",
            "showbackground": true,
            "ticks": "",
            "zerolinecolor": "white"
           }
          },
          "shapedefaults": {
           "line": {
            "color": "#2a3f5f"
           }
          },
          "ternary": {
           "aaxis": {
            "gridcolor": "white",
            "linecolor": "white",
            "ticks": ""
           },
           "baxis": {
            "gridcolor": "white",
            "linecolor": "white",
            "ticks": ""
           },
           "bgcolor": "#E5ECF6",
           "caxis": {
            "gridcolor": "white",
            "linecolor": "white",
            "ticks": ""
           }
          },
          "title": {
           "x": 0.05
          },
          "xaxis": {
           "automargin": true,
           "gridcolor": "white",
           "linecolor": "white",
           "ticks": "",
           "title": {
            "standoff": 15
           },
           "zerolinecolor": "white",
           "zerolinewidth": 2
          },
          "yaxis": {
           "automargin": true,
           "gridcolor": "white",
           "linecolor": "white",
           "ticks": "",
           "title": {
            "standoff": 15
           },
           "zerolinecolor": "white",
           "zerolinewidth": 2
          }
         }
        },
        "xaxis": {
         "linecolor": "rgb(0, 0, 0)",
         "linewidth": 2,
         "rangemode": "tozero",
         "showgrid": false,
         "showline": true,
         "tickfont": {
          "color": "#000000",
          "size": 22
         },
         "ticks": "outside",
         "tickwidth": 3
        },
        "yaxis": {
         "showline": false,
         "showticklabels": true,
         "tickfont": {
          "color": "#000000",
          "size": 22
         },
         "zeroline": false
        }
       }
      }
     },
     "metadata": {}
    }
   ],
   "source": [
    "# branch-misses\n",
    "fig = go.Figure()\n",
    "ploted_edge=[100,1000,2000,5000,8000,10000,20000]\n",
    "for idx, e in enumerate(ploted_edge):\n",
    "    same_e = res.loc[res['#E'] == e]\n",
    "    fig.add_trace(go.Scatter(x=same_e[\"#V\"], y=same_e[\"branch-misses\"], name=f\"{e}\",\n",
    "                             mode='lines+markers', marker=dict(symbol=marker_symbols[idx],size=10),\n",
    "                             line=dict(color=colors[idx], width=3)))\n",
    "\n",
    "fig.update_layout(xaxis=dict(showline=True, showgrid=False, rangemode=\"tozero\",\n",
    "                             linecolor='rgb(0, 0, 0)', linewidth=2,\n",
    "                             tickwidth=3, tickfont=num_font, ticks='outside'),\n",
    "                  yaxis=dict(tickfont=num_font, zeroline=False, showticklabels=True,\n",
    "                             showline=False),\n",
    "                  showlegend=True,legend=dict(traceorder=\"reversed\"),\n",
    "                #   legend=dict(borderwidth=1, bordercolor=\"#eeeeee\",\n",
    "                #               x=0.76, y=0.9, traceorder=\"reversed\", \n",
    "                #               font=default_font),\n",
    "                  margin=dict(autoexpand=True, l=40, r=20, t=40),\n",
    "                  plot_bgcolor=\"#eeeeee\"\n",
    "                  )\n",
    "fig.show()\n",
    "fig.write_image(\"baseline_branch_miss.pdf\")"
   ]
  },
  {
   "cell_type": "code",
   "execution_count": 28,
   "metadata": {},
   "outputs": [
    {
     "output_type": "display_data",
     "data": {
      "application/vnd.plotly.v1+json": {
       "config": {
        "plotlyServerURL": "https://plot.ly"
       },
       "data": [
        {
         "line": {
          "color": "rgb(156, 219, 165)",
          "width": 3
         },
         "marker": {
          "size": 10,
          "symbol": "circle"
         },
         "mode": "lines+markers",
         "name": "100",
         "type": "scatter",
         "x": [
          100
         ],
         "y": [
          "       0.160081721"
         ]
        },
        {
         "line": {
          "color": "rgb(111, 201, 163)",
          "width": 3
         },
         "marker": {
          "size": 10,
          "symbol": "square"
         },
         "mode": "lines+markers",
         "name": "1000",
         "type": "scatter",
         "x": [
          1000
         ],
         "y": [
          "       8.242615681"
         ]
        },
        {
         "line": {
          "color": "rgb(86, 177, 163)",
          "width": 3
         },
         "marker": {
          "size": 10,
          "symbol": "diamond"
         },
         "mode": "lines+markers",
         "name": "2000",
         "type": "scatter",
         "x": [
          1000,
          2000
         ],
         "y": [
          "      15.706050421",
          "      29.968098914"
         ]
        },
        {
         "line": {
          "color": "rgb(76, 153, 160)",
          "width": 3
         },
         "marker": {
          "size": 10,
          "symbol": "cross"
         },
         "mode": "lines+markers",
         "name": "5000",
         "type": "scatter",
         "x": [
          1000,
          2000,
          5000
         ],
         "y": [
          "      38.363303375",
          "      74.865500267",
          "     185.976656635"
         ]
        },
        {
         "line": {
          "color": "rgb(68, 130, 155)",
          "width": 3
         },
         "marker": {
          "size": 10,
          "symbol": "triangle-up-open"
         },
         "mode": "lines+markers",
         "name": "8000",
         "type": "scatter",
         "x": [
          1000,
          2000,
          5000,
          8000
         ],
         "y": [
          "      62.502320174",
          "     117.836783339",
          "     291.318613898",
          "     456.946532267"
         ]
        },
        {
         "line": {
          "color": "rgb(62, 108, 150)",
          "width": 3
         },
         "marker": {
          "size": 10,
          "symbol": "pentagon"
         },
         "mode": "lines+markers",
         "name": "10000",
         "type": "scatter",
         "x": [
          2000,
          5000,
          8000,
          10000
         ],
         "y": [
          "     146.042186319",
          "     363.987194588",
          "     568.140414502",
          "     717.680128344"
         ]
        },
        {
         "line": {
          "color": "rgb(62, 82, 143)",
          "width": 3
         },
         "marker": {
          "size": 10,
          "symbol": "hexagram"
         },
         "mode": "lines+markers",
         "name": "20000",
         "type": "scatter",
         "x": [
          5000,
          8000,
          10000
         ],
         "y": [
          "     708.668529622",
          "    1094.384627387",
          "    1378.395260827"
         ]
        }
       ],
       "layout": {
        "legend": {
         "traceorder": "reversed"
        },
        "margin": {
         "autoexpand": true,
         "l": 40,
         "r": 20,
         "t": 40
        },
        "plot_bgcolor": "#eeeeee",
        "showlegend": true,
        "template": {
         "data": {
          "bar": [
           {
            "error_x": {
             "color": "#2a3f5f"
            },
            "error_y": {
             "color": "#2a3f5f"
            },
            "marker": {
             "line": {
              "color": "#E5ECF6",
              "width": 0.5
             }
            },
            "type": "bar"
           }
          ],
          "barpolar": [
           {
            "marker": {
             "line": {
              "color": "#E5ECF6",
              "width": 0.5
             }
            },
            "type": "barpolar"
           }
          ],
          "carpet": [
           {
            "aaxis": {
             "endlinecolor": "#2a3f5f",
             "gridcolor": "white",
             "linecolor": "white",
             "minorgridcolor": "white",
             "startlinecolor": "#2a3f5f"
            },
            "baxis": {
             "endlinecolor": "#2a3f5f",
             "gridcolor": "white",
             "linecolor": "white",
             "minorgridcolor": "white",
             "startlinecolor": "#2a3f5f"
            },
            "type": "carpet"
           }
          ],
          "choropleth": [
           {
            "colorbar": {
             "outlinewidth": 0,
             "ticks": ""
            },
            "type": "choropleth"
           }
          ],
          "contour": [
           {
            "colorbar": {
             "outlinewidth": 0,
             "ticks": ""
            },
            "colorscale": [
             [
              0,
              "#0d0887"
             ],
             [
              0.1111111111111111,
              "#46039f"
             ],
             [
              0.2222222222222222,
              "#7201a8"
             ],
             [
              0.3333333333333333,
              "#9c179e"
             ],
             [
              0.4444444444444444,
              "#bd3786"
             ],
             [
              0.5555555555555556,
              "#d8576b"
             ],
             [
              0.6666666666666666,
              "#ed7953"
             ],
             [
              0.7777777777777778,
              "#fb9f3a"
             ],
             [
              0.8888888888888888,
              "#fdca26"
             ],
             [
              1,
              "#f0f921"
             ]
            ],
            "type": "contour"
           }
          ],
          "contourcarpet": [
           {
            "colorbar": {
             "outlinewidth": 0,
             "ticks": ""
            },
            "type": "contourcarpet"
           }
          ],
          "heatmap": [
           {
            "colorbar": {
             "outlinewidth": 0,
             "ticks": ""
            },
            "colorscale": [
             [
              0,
              "#0d0887"
             ],
             [
              0.1111111111111111,
              "#46039f"
             ],
             [
              0.2222222222222222,
              "#7201a8"
             ],
             [
              0.3333333333333333,
              "#9c179e"
             ],
             [
              0.4444444444444444,
              "#bd3786"
             ],
             [
              0.5555555555555556,
              "#d8576b"
             ],
             [
              0.6666666666666666,
              "#ed7953"
             ],
             [
              0.7777777777777778,
              "#fb9f3a"
             ],
             [
              0.8888888888888888,
              "#fdca26"
             ],
             [
              1,
              "#f0f921"
             ]
            ],
            "type": "heatmap"
           }
          ],
          "heatmapgl": [
           {
            "colorbar": {
             "outlinewidth": 0,
             "ticks": ""
            },
            "colorscale": [
             [
              0,
              "#0d0887"
             ],
             [
              0.1111111111111111,
              "#46039f"
             ],
             [
              0.2222222222222222,
              "#7201a8"
             ],
             [
              0.3333333333333333,
              "#9c179e"
             ],
             [
              0.4444444444444444,
              "#bd3786"
             ],
             [
              0.5555555555555556,
              "#d8576b"
             ],
             [
              0.6666666666666666,
              "#ed7953"
             ],
             [
              0.7777777777777778,
              "#fb9f3a"
             ],
             [
              0.8888888888888888,
              "#fdca26"
             ],
             [
              1,
              "#f0f921"
             ]
            ],
            "type": "heatmapgl"
           }
          ],
          "histogram": [
           {
            "marker": {
             "colorbar": {
              "outlinewidth": 0,
              "ticks": ""
             }
            },
            "type": "histogram"
           }
          ],
          "histogram2d": [
           {
            "colorbar": {
             "outlinewidth": 0,
             "ticks": ""
            },
            "colorscale": [
             [
              0,
              "#0d0887"
             ],
             [
              0.1111111111111111,
              "#46039f"
             ],
             [
              0.2222222222222222,
              "#7201a8"
             ],
             [
              0.3333333333333333,
              "#9c179e"
             ],
             [
              0.4444444444444444,
              "#bd3786"
             ],
             [
              0.5555555555555556,
              "#d8576b"
             ],
             [
              0.6666666666666666,
              "#ed7953"
             ],
             [
              0.7777777777777778,
              "#fb9f3a"
             ],
             [
              0.8888888888888888,
              "#fdca26"
             ],
             [
              1,
              "#f0f921"
             ]
            ],
            "type": "histogram2d"
           }
          ],
          "histogram2dcontour": [
           {
            "colorbar": {
             "outlinewidth": 0,
             "ticks": ""
            },
            "colorscale": [
             [
              0,
              "#0d0887"
             ],
             [
              0.1111111111111111,
              "#46039f"
             ],
             [
              0.2222222222222222,
              "#7201a8"
             ],
             [
              0.3333333333333333,
              "#9c179e"
             ],
             [
              0.4444444444444444,
              "#bd3786"
             ],
             [
              0.5555555555555556,
              "#d8576b"
             ],
             [
              0.6666666666666666,
              "#ed7953"
             ],
             [
              0.7777777777777778,
              "#fb9f3a"
             ],
             [
              0.8888888888888888,
              "#fdca26"
             ],
             [
              1,
              "#f0f921"
             ]
            ],
            "type": "histogram2dcontour"
           }
          ],
          "mesh3d": [
           {
            "colorbar": {
             "outlinewidth": 0,
             "ticks": ""
            },
            "type": "mesh3d"
           }
          ],
          "parcoords": [
           {
            "line": {
             "colorbar": {
              "outlinewidth": 0,
              "ticks": ""
             }
            },
            "type": "parcoords"
           }
          ],
          "pie": [
           {
            "automargin": true,
            "type": "pie"
           }
          ],
          "scatter": [
           {
            "marker": {
             "colorbar": {
              "outlinewidth": 0,
              "ticks": ""
             }
            },
            "type": "scatter"
           }
          ],
          "scatter3d": [
           {
            "line": {
             "colorbar": {
              "outlinewidth": 0,
              "ticks": ""
             }
            },
            "marker": {
             "colorbar": {
              "outlinewidth": 0,
              "ticks": ""
             }
            },
            "type": "scatter3d"
           }
          ],
          "scattercarpet": [
           {
            "marker": {
             "colorbar": {
              "outlinewidth": 0,
              "ticks": ""
             }
            },
            "type": "scattercarpet"
           }
          ],
          "scattergeo": [
           {
            "marker": {
             "colorbar": {
              "outlinewidth": 0,
              "ticks": ""
             }
            },
            "type": "scattergeo"
           }
          ],
          "scattergl": [
           {
            "marker": {
             "colorbar": {
              "outlinewidth": 0,
              "ticks": ""
             }
            },
            "type": "scattergl"
           }
          ],
          "scattermapbox": [
           {
            "marker": {
             "colorbar": {
              "outlinewidth": 0,
              "ticks": ""
             }
            },
            "type": "scattermapbox"
           }
          ],
          "scatterpolar": [
           {
            "marker": {
             "colorbar": {
              "outlinewidth": 0,
              "ticks": ""
             }
            },
            "type": "scatterpolar"
           }
          ],
          "scatterpolargl": [
           {
            "marker": {
             "colorbar": {
              "outlinewidth": 0,
              "ticks": ""
             }
            },
            "type": "scatterpolargl"
           }
          ],
          "scatterternary": [
           {
            "marker": {
             "colorbar": {
              "outlinewidth": 0,
              "ticks": ""
             }
            },
            "type": "scatterternary"
           }
          ],
          "surface": [
           {
            "colorbar": {
             "outlinewidth": 0,
             "ticks": ""
            },
            "colorscale": [
             [
              0,
              "#0d0887"
             ],
             [
              0.1111111111111111,
              "#46039f"
             ],
             [
              0.2222222222222222,
              "#7201a8"
             ],
             [
              0.3333333333333333,
              "#9c179e"
             ],
             [
              0.4444444444444444,
              "#bd3786"
             ],
             [
              0.5555555555555556,
              "#d8576b"
             ],
             [
              0.6666666666666666,
              "#ed7953"
             ],
             [
              0.7777777777777778,
              "#fb9f3a"
             ],
             [
              0.8888888888888888,
              "#fdca26"
             ],
             [
              1,
              "#f0f921"
             ]
            ],
            "type": "surface"
           }
          ],
          "table": [
           {
            "cells": {
             "fill": {
              "color": "#EBF0F8"
             },
             "line": {
              "color": "white"
             }
            },
            "header": {
             "fill": {
              "color": "#C8D4E3"
             },
             "line": {
              "color": "white"
             }
            },
            "type": "table"
           }
          ]
         },
         "layout": {
          "annotationdefaults": {
           "arrowcolor": "#2a3f5f",
           "arrowhead": 0,
           "arrowwidth": 1
          },
          "coloraxis": {
           "colorbar": {
            "outlinewidth": 0,
            "ticks": ""
           }
          },
          "colorscale": {
           "diverging": [
            [
             0,
             "#8e0152"
            ],
            [
             0.1,
             "#c51b7d"
            ],
            [
             0.2,
             "#de77ae"
            ],
            [
             0.3,
             "#f1b6da"
            ],
            [
             0.4,
             "#fde0ef"
            ],
            [
             0.5,
             "#f7f7f7"
            ],
            [
             0.6,
             "#e6f5d0"
            ],
            [
             0.7,
             "#b8e186"
            ],
            [
             0.8,
             "#7fbc41"
            ],
            [
             0.9,
             "#4d9221"
            ],
            [
             1,
             "#276419"
            ]
           ],
           "sequential": [
            [
             0,
             "#0d0887"
            ],
            [
             0.1111111111111111,
             "#46039f"
            ],
            [
             0.2222222222222222,
             "#7201a8"
            ],
            [
             0.3333333333333333,
             "#9c179e"
            ],
            [
             0.4444444444444444,
             "#bd3786"
            ],
            [
             0.5555555555555556,
             "#d8576b"
            ],
            [
             0.6666666666666666,
             "#ed7953"
            ],
            [
             0.7777777777777778,
             "#fb9f3a"
            ],
            [
             0.8888888888888888,
             "#fdca26"
            ],
            [
             1,
             "#f0f921"
            ]
           ],
           "sequentialminus": [
            [
             0,
             "#0d0887"
            ],
            [
             0.1111111111111111,
             "#46039f"
            ],
            [
             0.2222222222222222,
             "#7201a8"
            ],
            [
             0.3333333333333333,
             "#9c179e"
            ],
            [
             0.4444444444444444,
             "#bd3786"
            ],
            [
             0.5555555555555556,
             "#d8576b"
            ],
            [
             0.6666666666666666,
             "#ed7953"
            ],
            [
             0.7777777777777778,
             "#fb9f3a"
            ],
            [
             0.8888888888888888,
             "#fdca26"
            ],
            [
             1,
             "#f0f921"
            ]
           ]
          },
          "colorway": [
           "#636efa",
           "#EF553B",
           "#00cc96",
           "#ab63fa",
           "#FFA15A",
           "#19d3f3",
           "#FF6692",
           "#B6E880",
           "#FF97FF",
           "#FECB52"
          ],
          "font": {
           "color": "#2a3f5f"
          },
          "geo": {
           "bgcolor": "white",
           "lakecolor": "white",
           "landcolor": "#E5ECF6",
           "showlakes": true,
           "showland": true,
           "subunitcolor": "white"
          },
          "hoverlabel": {
           "align": "left"
          },
          "hovermode": "closest",
          "mapbox": {
           "style": "light"
          },
          "paper_bgcolor": "white",
          "plot_bgcolor": "#E5ECF6",
          "polar": {
           "angularaxis": {
            "gridcolor": "white",
            "linecolor": "white",
            "ticks": ""
           },
           "bgcolor": "#E5ECF6",
           "radialaxis": {
            "gridcolor": "white",
            "linecolor": "white",
            "ticks": ""
           }
          },
          "scene": {
           "xaxis": {
            "backgroundcolor": "#E5ECF6",
            "gridcolor": "white",
            "gridwidth": 2,
            "linecolor": "white",
            "showbackground": true,
            "ticks": "",
            "zerolinecolor": "white"
           },
           "yaxis": {
            "backgroundcolor": "#E5ECF6",
            "gridcolor": "white",
            "gridwidth": 2,
            "linecolor": "white",
            "showbackground": true,
            "ticks": "",
            "zerolinecolor": "white"
           },
           "zaxis": {
            "backgroundcolor": "#E5ECF6",
            "gridcolor": "white",
            "gridwidth": 2,
            "linecolor": "white",
            "showbackground": true,
            "ticks": "",
            "zerolinecolor": "white"
           }
          },
          "shapedefaults": {
           "line": {
            "color": "#2a3f5f"
           }
          },
          "ternary": {
           "aaxis": {
            "gridcolor": "white",
            "linecolor": "white",
            "ticks": ""
           },
           "baxis": {
            "gridcolor": "white",
            "linecolor": "white",
            "ticks": ""
           },
           "bgcolor": "#E5ECF6",
           "caxis": {
            "gridcolor": "white",
            "linecolor": "white",
            "ticks": ""
           }
          },
          "title": {
           "x": 0.05
          },
          "xaxis": {
           "automargin": true,
           "gridcolor": "white",
           "linecolor": "white",
           "ticks": "",
           "title": {
            "standoff": 15
           },
           "zerolinecolor": "white",
           "zerolinewidth": 2
          },
          "yaxis": {
           "automargin": true,
           "gridcolor": "white",
           "linecolor": "white",
           "ticks": "",
           "title": {
            "standoff": 15
           },
           "zerolinecolor": "white",
           "zerolinewidth": 2
          }
         }
        },
        "xaxis": {
         "linecolor": "rgb(0, 0, 0)",
         "linewidth": 2,
         "rangemode": "tozero",
         "showgrid": false,
         "showline": true,
         "tickfont": {
          "color": "#000000",
          "size": 22
         },
         "ticks": "outside",
         "tickwidth": 3
        },
        "yaxis": {
         "showline": false,
         "showticklabels": true,
         "tickfont": {
          "color": "#000000",
          "size": 22
         },
         "zeroline": false
        }
       }
      }
     },
     "metadata": {}
    }
   ],
   "source": [
    "# runtime\n",
    "fig = go.Figure()\n",
    "ploted_edge=[100,1000,2000,5000,8000,10000,20000]\n",
    "for idx, e in enumerate(ploted_edge):\n",
    "    same_e = res.loc[res['#E'] == e]\n",
    "    fig.add_trace(go.Scatter(x=same_e[\"#V\"], y=same_e[\"runtime(sec)\"], name=f\"{e}\",\n",
    "                             mode='lines+markers', marker=dict(symbol=marker_symbols[idx],size=10),\n",
    "                             line=dict(color=colors[idx], width=3)))\n",
    "\n",
    "fig.update_layout(xaxis=dict(showline=True, showgrid=False, rangemode=\"tozero\",\n",
    "                             linecolor='rgb(0, 0, 0)', linewidth=2,\n",
    "                             tickwidth=3, tickfont=num_font, ticks='outside'),\n",
    "                  yaxis=dict(tickfont=num_font, zeroline=False, showticklabels=True,\n",
    "                             showline=False),\n",
    "                  showlegend=True,legend=dict(traceorder=\"reversed\"),\n",
    "                #   legend=dict(borderwidth=1, bordercolor=\"#eeeeee\",\n",
    "                #               x=0.76, y=0.9, traceorder=\"reversed\", \n",
    "                #               font=default_font),\n",
    "                  margin=dict(autoexpand=True, l=40, r=20, t=40),\n",
    "                  plot_bgcolor=\"#eeeeee\"\n",
    "                  )\n",
    "fig.show()\n",
    "fig.write_image(\"baseline_runtime.pdf\")"
   ]
  },
  {
   "cell_type": "code",
   "execution_count": 39,
   "metadata": {},
   "outputs": [
    {
     "output_type": "display_data",
     "data": {
      "application/vnd.plotly.v1+json": {
       "config": {
        "plotlyServerURL": "https://plot.ly"
       },
       "data": [
        {
         "line": {
          "color": "rgb(156, 219, 165)",
          "width": 3
         },
         "marker": {
          "size": 10,
          "symbol": "circle"
         },
         "mode": "lines+markers",
         "name": "100",
         "type": "scatter",
         "x": [
          100
         ],
         "y": [
          "    0.32"
         ]
        },
        {
         "line": {
          "color": "rgb(111, 201, 163)",
          "width": 3
         },
         "marker": {
          "size": 10,
          "symbol": "square"
         },
         "mode": "lines+markers",
         "name": "1000",
         "type": "scatter",
         "x": [
          1000
         ],
         "y": [
          "    2.34"
         ]
        },
        {
         "line": {
          "color": "rgb(86, 177, 163)",
          "width": 3
         },
         "marker": {
          "size": 10,
          "symbol": "diamond"
         },
         "mode": "lines+markers",
         "name": "2000",
         "type": "scatter",
         "x": [
          1000,
          2000
         ],
         "y": [
          "    1.89",
          "    3.02"
         ]
        },
        {
         "line": {
          "color": "rgb(76, 153, 160)",
          "width": 3
         },
         "marker": {
          "size": 10,
          "symbol": "cross"
         },
         "mode": "lines+markers",
         "name": "5000",
         "type": "scatter",
         "x": [
          1000,
          2000,
          5000
         ],
         "y": [
          "    1.44",
          "    2.00",
          "    3.42"
         ]
        },
        {
         "line": {
          "color": "rgb(68, 130, 155)",
          "width": 3
         },
         "marker": {
          "size": 10,
          "symbol": "triangle-up-open"
         },
         "mode": "lines+markers",
         "name": "8000",
         "type": "scatter",
         "x": [
          1000,
          2000,
          5000,
          8000
         ],
         "y": [
          "    1.32",
          "    1.69",
          "    2.67",
          "    3.53"
         ]
        },
        {
         "line": {
          "color": "rgb(62, 108, 150)",
          "width": 3
         },
         "marker": {
          "size": 10,
          "symbol": "pentagon"
         },
         "mode": "lines+markers",
         "name": "10000",
         "type": "scatter",
         "x": [
          2000,
          5000,
          8000,
          10000
         ],
         "y": [
          "    1.59",
          "    2.38",
          "    3.12",
          "    3.55"
         ]
        },
        {
         "line": {
          "color": "rgb(62, 82, 143)",
          "width": 3
         },
         "marker": {
          "size": 10,
          "symbol": "hexagram"
         },
         "mode": "lines+markers",
         "name": "20000",
         "type": "scatter",
         "x": [
          5000,
          8000,
          10000
         ],
         "y": [
          "    1.79",
          "    2.18",
          "    2.43"
         ]
        }
       ],
       "layout": {
        "legend": {
         "traceorder": "reversed"
        },
        "margin": {
         "autoexpand": true,
         "l": 40,
         "r": 20,
         "t": 40
        },
        "plot_bgcolor": "#eeeeee",
        "showlegend": true,
        "template": {
         "data": {
          "bar": [
           {
            "error_x": {
             "color": "#2a3f5f"
            },
            "error_y": {
             "color": "#2a3f5f"
            },
            "marker": {
             "line": {
              "color": "#E5ECF6",
              "width": 0.5
             }
            },
            "type": "bar"
           }
          ],
          "barpolar": [
           {
            "marker": {
             "line": {
              "color": "#E5ECF6",
              "width": 0.5
             }
            },
            "type": "barpolar"
           }
          ],
          "carpet": [
           {
            "aaxis": {
             "endlinecolor": "#2a3f5f",
             "gridcolor": "white",
             "linecolor": "white",
             "minorgridcolor": "white",
             "startlinecolor": "#2a3f5f"
            },
            "baxis": {
             "endlinecolor": "#2a3f5f",
             "gridcolor": "white",
             "linecolor": "white",
             "minorgridcolor": "white",
             "startlinecolor": "#2a3f5f"
            },
            "type": "carpet"
           }
          ],
          "choropleth": [
           {
            "colorbar": {
             "outlinewidth": 0,
             "ticks": ""
            },
            "type": "choropleth"
           }
          ],
          "contour": [
           {
            "colorbar": {
             "outlinewidth": 0,
             "ticks": ""
            },
            "colorscale": [
             [
              0,
              "#0d0887"
             ],
             [
              0.1111111111111111,
              "#46039f"
             ],
             [
              0.2222222222222222,
              "#7201a8"
             ],
             [
              0.3333333333333333,
              "#9c179e"
             ],
             [
              0.4444444444444444,
              "#bd3786"
             ],
             [
              0.5555555555555556,
              "#d8576b"
             ],
             [
              0.6666666666666666,
              "#ed7953"
             ],
             [
              0.7777777777777778,
              "#fb9f3a"
             ],
             [
              0.8888888888888888,
              "#fdca26"
             ],
             [
              1,
              "#f0f921"
             ]
            ],
            "type": "contour"
           }
          ],
          "contourcarpet": [
           {
            "colorbar": {
             "outlinewidth": 0,
             "ticks": ""
            },
            "type": "contourcarpet"
           }
          ],
          "heatmap": [
           {
            "colorbar": {
             "outlinewidth": 0,
             "ticks": ""
            },
            "colorscale": [
             [
              0,
              "#0d0887"
             ],
             [
              0.1111111111111111,
              "#46039f"
             ],
             [
              0.2222222222222222,
              "#7201a8"
             ],
             [
              0.3333333333333333,
              "#9c179e"
             ],
             [
              0.4444444444444444,
              "#bd3786"
             ],
             [
              0.5555555555555556,
              "#d8576b"
             ],
             [
              0.6666666666666666,
              "#ed7953"
             ],
             [
              0.7777777777777778,
              "#fb9f3a"
             ],
             [
              0.8888888888888888,
              "#fdca26"
             ],
             [
              1,
              "#f0f921"
             ]
            ],
            "type": "heatmap"
           }
          ],
          "heatmapgl": [
           {
            "colorbar": {
             "outlinewidth": 0,
             "ticks": ""
            },
            "colorscale": [
             [
              0,
              "#0d0887"
             ],
             [
              0.1111111111111111,
              "#46039f"
             ],
             [
              0.2222222222222222,
              "#7201a8"
             ],
             [
              0.3333333333333333,
              "#9c179e"
             ],
             [
              0.4444444444444444,
              "#bd3786"
             ],
             [
              0.5555555555555556,
              "#d8576b"
             ],
             [
              0.6666666666666666,
              "#ed7953"
             ],
             [
              0.7777777777777778,
              "#fb9f3a"
             ],
             [
              0.8888888888888888,
              "#fdca26"
             ],
             [
              1,
              "#f0f921"
             ]
            ],
            "type": "heatmapgl"
           }
          ],
          "histogram": [
           {
            "marker": {
             "colorbar": {
              "outlinewidth": 0,
              "ticks": ""
             }
            },
            "type": "histogram"
           }
          ],
          "histogram2d": [
           {
            "colorbar": {
             "outlinewidth": 0,
             "ticks": ""
            },
            "colorscale": [
             [
              0,
              "#0d0887"
             ],
             [
              0.1111111111111111,
              "#46039f"
             ],
             [
              0.2222222222222222,
              "#7201a8"
             ],
             [
              0.3333333333333333,
              "#9c179e"
             ],
             [
              0.4444444444444444,
              "#bd3786"
             ],
             [
              0.5555555555555556,
              "#d8576b"
             ],
             [
              0.6666666666666666,
              "#ed7953"
             ],
             [
              0.7777777777777778,
              "#fb9f3a"
             ],
             [
              0.8888888888888888,
              "#fdca26"
             ],
             [
              1,
              "#f0f921"
             ]
            ],
            "type": "histogram2d"
           }
          ],
          "histogram2dcontour": [
           {
            "colorbar": {
             "outlinewidth": 0,
             "ticks": ""
            },
            "colorscale": [
             [
              0,
              "#0d0887"
             ],
             [
              0.1111111111111111,
              "#46039f"
             ],
             [
              0.2222222222222222,
              "#7201a8"
             ],
             [
              0.3333333333333333,
              "#9c179e"
             ],
             [
              0.4444444444444444,
              "#bd3786"
             ],
             [
              0.5555555555555556,
              "#d8576b"
             ],
             [
              0.6666666666666666,
              "#ed7953"
             ],
             [
              0.7777777777777778,
              "#fb9f3a"
             ],
             [
              0.8888888888888888,
              "#fdca26"
             ],
             [
              1,
              "#f0f921"
             ]
            ],
            "type": "histogram2dcontour"
           }
          ],
          "mesh3d": [
           {
            "colorbar": {
             "outlinewidth": 0,
             "ticks": ""
            },
            "type": "mesh3d"
           }
          ],
          "parcoords": [
           {
            "line": {
             "colorbar": {
              "outlinewidth": 0,
              "ticks": ""
             }
            },
            "type": "parcoords"
           }
          ],
          "pie": [
           {
            "automargin": true,
            "type": "pie"
           }
          ],
          "scatter": [
           {
            "marker": {
             "colorbar": {
              "outlinewidth": 0,
              "ticks": ""
             }
            },
            "type": "scatter"
           }
          ],
          "scatter3d": [
           {
            "line": {
             "colorbar": {
              "outlinewidth": 0,
              "ticks": ""
             }
            },
            "marker": {
             "colorbar": {
              "outlinewidth": 0,
              "ticks": ""
             }
            },
            "type": "scatter3d"
           }
          ],
          "scattercarpet": [
           {
            "marker": {
             "colorbar": {
              "outlinewidth": 0,
              "ticks": ""
             }
            },
            "type": "scattercarpet"
           }
          ],
          "scattergeo": [
           {
            "marker": {
             "colorbar": {
              "outlinewidth": 0,
              "ticks": ""
             }
            },
            "type": "scattergeo"
           }
          ],
          "scattergl": [
           {
            "marker": {
             "colorbar": {
              "outlinewidth": 0,
              "ticks": ""
             }
            },
            "type": "scattergl"
           }
          ],
          "scattermapbox": [
           {
            "marker": {
             "colorbar": {
              "outlinewidth": 0,
              "ticks": ""
             }
            },
            "type": "scattermapbox"
           }
          ],
          "scatterpolar": [
           {
            "marker": {
             "colorbar": {
              "outlinewidth": 0,
              "ticks": ""
             }
            },
            "type": "scatterpolar"
           }
          ],
          "scatterpolargl": [
           {
            "marker": {
             "colorbar": {
              "outlinewidth": 0,
              "ticks": ""
             }
            },
            "type": "scatterpolargl"
           }
          ],
          "scatterternary": [
           {
            "marker": {
             "colorbar": {
              "outlinewidth": 0,
              "ticks": ""
             }
            },
            "type": "scatterternary"
           }
          ],
          "surface": [
           {
            "colorbar": {
             "outlinewidth": 0,
             "ticks": ""
            },
            "colorscale": [
             [
              0,
              "#0d0887"
             ],
             [
              0.1111111111111111,
              "#46039f"
             ],
             [
              0.2222222222222222,
              "#7201a8"
             ],
             [
              0.3333333333333333,
              "#9c179e"
             ],
             [
              0.4444444444444444,
              "#bd3786"
             ],
             [
              0.5555555555555556,
              "#d8576b"
             ],
             [
              0.6666666666666666,
              "#ed7953"
             ],
             [
              0.7777777777777778,
              "#fb9f3a"
             ],
             [
              0.8888888888888888,
              "#fdca26"
             ],
             [
              1,
              "#f0f921"
             ]
            ],
            "type": "surface"
           }
          ],
          "table": [
           {
            "cells": {
             "fill": {
              "color": "#EBF0F8"
             },
             "line": {
              "color": "white"
             }
            },
            "header": {
             "fill": {
              "color": "#C8D4E3"
             },
             "line": {
              "color": "white"
             }
            },
            "type": "table"
           }
          ]
         },
         "layout": {
          "annotationdefaults": {
           "arrowcolor": "#2a3f5f",
           "arrowhead": 0,
           "arrowwidth": 1
          },
          "coloraxis": {
           "colorbar": {
            "outlinewidth": 0,
            "ticks": ""
           }
          },
          "colorscale": {
           "diverging": [
            [
             0,
             "#8e0152"
            ],
            [
             0.1,
             "#c51b7d"
            ],
            [
             0.2,
             "#de77ae"
            ],
            [
             0.3,
             "#f1b6da"
            ],
            [
             0.4,
             "#fde0ef"
            ],
            [
             0.5,
             "#f7f7f7"
            ],
            [
             0.6,
             "#e6f5d0"
            ],
            [
             0.7,
             "#b8e186"
            ],
            [
             0.8,
             "#7fbc41"
            ],
            [
             0.9,
             "#4d9221"
            ],
            [
             1,
             "#276419"
            ]
           ],
           "sequential": [
            [
             0,
             "#0d0887"
            ],
            [
             0.1111111111111111,
             "#46039f"
            ],
            [
             0.2222222222222222,
             "#7201a8"
            ],
            [
             0.3333333333333333,
             "#9c179e"
            ],
            [
             0.4444444444444444,
             "#bd3786"
            ],
            [
             0.5555555555555556,
             "#d8576b"
            ],
            [
             0.6666666666666666,
             "#ed7953"
            ],
            [
             0.7777777777777778,
             "#fb9f3a"
            ],
            [
             0.8888888888888888,
             "#fdca26"
            ],
            [
             1,
             "#f0f921"
            ]
           ],
           "sequentialminus": [
            [
             0,
             "#0d0887"
            ],
            [
             0.1111111111111111,
             "#46039f"
            ],
            [
             0.2222222222222222,
             "#7201a8"
            ],
            [
             0.3333333333333333,
             "#9c179e"
            ],
            [
             0.4444444444444444,
             "#bd3786"
            ],
            [
             0.5555555555555556,
             "#d8576b"
            ],
            [
             0.6666666666666666,
             "#ed7953"
            ],
            [
             0.7777777777777778,
             "#fb9f3a"
            ],
            [
             0.8888888888888888,
             "#fdca26"
            ],
            [
             1,
             "#f0f921"
            ]
           ]
          },
          "colorway": [
           "#636efa",
           "#EF553B",
           "#00cc96",
           "#ab63fa",
           "#FFA15A",
           "#19d3f3",
           "#FF6692",
           "#B6E880",
           "#FF97FF",
           "#FECB52"
          ],
          "font": {
           "color": "#2a3f5f"
          },
          "geo": {
           "bgcolor": "white",
           "lakecolor": "white",
           "landcolor": "#E5ECF6",
           "showlakes": true,
           "showland": true,
           "subunitcolor": "white"
          },
          "hoverlabel": {
           "align": "left"
          },
          "hovermode": "closest",
          "mapbox": {
           "style": "light"
          },
          "paper_bgcolor": "white",
          "plot_bgcolor": "#E5ECF6",
          "polar": {
           "angularaxis": {
            "gridcolor": "white",
            "linecolor": "white",
            "ticks": ""
           },
           "bgcolor": "#E5ECF6",
           "radialaxis": {
            "gridcolor": "white",
            "linecolor": "white",
            "ticks": ""
           }
          },
          "scene": {
           "xaxis": {
            "backgroundcolor": "#E5ECF6",
            "gridcolor": "white",
            "gridwidth": 2,
            "linecolor": "white",
            "showbackground": true,
            "ticks": "",
            "zerolinecolor": "white"
           },
           "yaxis": {
            "backgroundcolor": "#E5ECF6",
            "gridcolor": "white",
            "gridwidth": 2,
            "linecolor": "white",
            "showbackground": true,
            "ticks": "",
            "zerolinecolor": "white"
           },
           "zaxis": {
            "backgroundcolor": "#E5ECF6",
            "gridcolor": "white",
            "gridwidth": 2,
            "linecolor": "white",
            "showbackground": true,
            "ticks": "",
            "zerolinecolor": "white"
           }
          },
          "shapedefaults": {
           "line": {
            "color": "#2a3f5f"
           }
          },
          "ternary": {
           "aaxis": {
            "gridcolor": "white",
            "linecolor": "white",
            "ticks": ""
           },
           "baxis": {
            "gridcolor": "white",
            "linecolor": "white",
            "ticks": ""
           },
           "bgcolor": "#E5ECF6",
           "caxis": {
            "gridcolor": "white",
            "linecolor": "white",
            "ticks": ""
           }
          },
          "title": {
           "x": 0.05
          },
          "xaxis": {
           "automargin": true,
           "gridcolor": "white",
           "linecolor": "white",
           "ticks": "",
           "title": {
            "standoff": 15
           },
           "zerolinecolor": "white",
           "zerolinewidth": 2
          },
          "yaxis": {
           "automargin": true,
           "gridcolor": "white",
           "linecolor": "white",
           "ticks": "",
           "title": {
            "standoff": 15
           },
           "zerolinecolor": "white",
           "zerolinewidth": 2
          }
         }
        },
        "xaxis": {
         "linecolor": "rgb(0, 0, 0)",
         "linewidth": 2,
         "rangemode": "tozero",
         "showgrid": false,
         "showline": true,
         "tickfont": {
          "color": "#000000",
          "size": 22
         },
         "ticks": "outside",
         "tickwidth": 3
        },
        "yaxis": {
         "showline": false,
         "showticklabels": true,
         "tickfont": {
          "color": "#000000",
          "size": 22
         },
         "zeroline": false
        }
       }
      }
     },
     "metadata": {}
    }
   ],
   "source": [
    "# L1-dcache-load-misses\t\n",
    "fig = go.Figure()\n",
    "ploted_edge=[100,1000,2000,5000,8000,10000,20000]\n",
    "for idx, e in enumerate(ploted_edge):\n",
    "    same_e = res.loc[res['#E'] == e]\n",
    "    fig.add_trace(go.Scatter(x=same_e[\"#V\"], y=same_e[\"L1-dcache-load-misses\"], name=f\"{e}\",\n",
    "                             mode='lines+markers', marker=dict(symbol=marker_symbols[idx],size=10),\n",
    "                             line=dict(color=colors[idx], width=3)))\n",
    "\n",
    "fig.update_layout(xaxis=dict(showline=True, showgrid=False, rangemode=\"tozero\",\n",
    "                             linecolor='rgb(0, 0, 0)', linewidth=2,\n",
    "                             tickwidth=3, tickfont=num_font, ticks='outside'),\n",
    "                  yaxis=dict(tickfont=num_font, zeroline=False, showticklabels=True,\n",
    "                             showline=False),\n",
    "                  showlegend=True,legend=dict(traceorder=\"reversed\"),\n",
    "                #   legend=dict(borderwidth=1, bordercolor=\"#eeeeee\",\n",
    "                #               x=0.76, y=0.9, traceorder=\"reversed\", \n",
    "                #               font=default_font),\n",
    "                  margin=dict(autoexpand=True, l=40, r=20, t=40),\n",
    "                  plot_bgcolor=\"#eeeeee\"\n",
    "                  )\n",
    "fig.show()\n",
    "fig.write_image(\"baseline_L1-dcache-load-misses.pdf\")"
   ]
  },
  {
   "cell_type": "code",
   "execution_count": 40,
   "metadata": {},
   "outputs": [
    {
     "output_type": "display_data",
     "data": {
      "application/vnd.plotly.v1+json": {
       "config": {
        "plotlyServerURL": "https://plot.ly"
       },
       "data": [
        {
         "line": {
          "color": "rgb(156, 219, 165)",
          "width": 3
         },
         "marker": {
          "size": 10,
          "symbol": "circle"
         },
         "mode": "lines+markers",
         "name": "100",
         "type": "scatter",
         "x": [
          100
         ],
         "y": [
          "    0.21"
         ]
        },
        {
         "line": {
          "color": "rgb(111, 201, 163)",
          "width": 3
         },
         "marker": {
          "size": 10,
          "symbol": "square"
         },
         "mode": "lines+markers",
         "name": "1000",
         "type": "scatter",
         "x": [
          1000
         ],
         "y": [
          "    0.15"
         ]
        },
        {
         "line": {
          "color": "rgb(86, 177, 163)",
          "width": 3
         },
         "marker": {
          "size": 10,
          "symbol": "diamond"
         },
         "mode": "lines+markers",
         "name": "2000",
         "type": "scatter",
         "x": [
          1000,
          2000
         ],
         "y": [
          "    0.13",
          "    0.22"
         ]
        },
        {
         "line": {
          "color": "rgb(76, 153, 160)",
          "width": 3
         },
         "marker": {
          "size": 10,
          "symbol": "cross"
         },
         "mode": "lines+markers",
         "name": "5000",
         "type": "scatter",
         "x": [
          1000,
          2000,
          5000
         ],
         "y": [
          "    1.27",
          "    0.39",
          "    0.04"
         ]
        },
        {
         "line": {
          "color": "rgb(68, 130, 155)",
          "width": 3
         },
         "marker": {
          "size": 10,
          "symbol": "triangle-up-open"
         },
         "mode": "lines+markers",
         "name": "8000",
         "type": "scatter",
         "x": [
          1000,
          2000,
          5000,
          8000
         ],
         "y": [
          "    0.66",
          "    1.11",
          "    0.06",
          "    0.01"
         ]
        },
        {
         "line": {
          "color": "rgb(62, 108, 150)",
          "width": 3
         },
         "marker": {
          "size": 10,
          "symbol": "pentagon"
         },
         "mode": "lines+markers",
         "name": "10000",
         "type": "scatter",
         "x": [
          2000,
          5000,
          8000,
          10000
         ],
         "y": [
          "    0.76",
          "    0.08",
          "    0.03",
          "    0.02"
         ]
        },
        {
         "line": {
          "color": "rgb(62, 82, 143)",
          "width": 3
         },
         "marker": {
          "size": 10,
          "symbol": "hexagram"
         },
         "mode": "lines+markers",
         "name": "20000",
         "type": "scatter",
         "x": [
          5000,
          8000,
          10000
         ],
         "y": [
          "    0.10",
          "    0.08",
          "    0.03"
         ]
        }
       ],
       "layout": {
        "legend": {
         "traceorder": "reversed"
        },
        "margin": {
         "autoexpand": true,
         "l": 40,
         "r": 20,
         "t": 40
        },
        "plot_bgcolor": "#eeeeee",
        "showlegend": true,
        "template": {
         "data": {
          "bar": [
           {
            "error_x": {
             "color": "#2a3f5f"
            },
            "error_y": {
             "color": "#2a3f5f"
            },
            "marker": {
             "line": {
              "color": "#E5ECF6",
              "width": 0.5
             }
            },
            "type": "bar"
           }
          ],
          "barpolar": [
           {
            "marker": {
             "line": {
              "color": "#E5ECF6",
              "width": 0.5
             }
            },
            "type": "barpolar"
           }
          ],
          "carpet": [
           {
            "aaxis": {
             "endlinecolor": "#2a3f5f",
             "gridcolor": "white",
             "linecolor": "white",
             "minorgridcolor": "white",
             "startlinecolor": "#2a3f5f"
            },
            "baxis": {
             "endlinecolor": "#2a3f5f",
             "gridcolor": "white",
             "linecolor": "white",
             "minorgridcolor": "white",
             "startlinecolor": "#2a3f5f"
            },
            "type": "carpet"
           }
          ],
          "choropleth": [
           {
            "colorbar": {
             "outlinewidth": 0,
             "ticks": ""
            },
            "type": "choropleth"
           }
          ],
          "contour": [
           {
            "colorbar": {
             "outlinewidth": 0,
             "ticks": ""
            },
            "colorscale": [
             [
              0,
              "#0d0887"
             ],
             [
              0.1111111111111111,
              "#46039f"
             ],
             [
              0.2222222222222222,
              "#7201a8"
             ],
             [
              0.3333333333333333,
              "#9c179e"
             ],
             [
              0.4444444444444444,
              "#bd3786"
             ],
             [
              0.5555555555555556,
              "#d8576b"
             ],
             [
              0.6666666666666666,
              "#ed7953"
             ],
             [
              0.7777777777777778,
              "#fb9f3a"
             ],
             [
              0.8888888888888888,
              "#fdca26"
             ],
             [
              1,
              "#f0f921"
             ]
            ],
            "type": "contour"
           }
          ],
          "contourcarpet": [
           {
            "colorbar": {
             "outlinewidth": 0,
             "ticks": ""
            },
            "type": "contourcarpet"
           }
          ],
          "heatmap": [
           {
            "colorbar": {
             "outlinewidth": 0,
             "ticks": ""
            },
            "colorscale": [
             [
              0,
              "#0d0887"
             ],
             [
              0.1111111111111111,
              "#46039f"
             ],
             [
              0.2222222222222222,
              "#7201a8"
             ],
             [
              0.3333333333333333,
              "#9c179e"
             ],
             [
              0.4444444444444444,
              "#bd3786"
             ],
             [
              0.5555555555555556,
              "#d8576b"
             ],
             [
              0.6666666666666666,
              "#ed7953"
             ],
             [
              0.7777777777777778,
              "#fb9f3a"
             ],
             [
              0.8888888888888888,
              "#fdca26"
             ],
             [
              1,
              "#f0f921"
             ]
            ],
            "type": "heatmap"
           }
          ],
          "heatmapgl": [
           {
            "colorbar": {
             "outlinewidth": 0,
             "ticks": ""
            },
            "colorscale": [
             [
              0,
              "#0d0887"
             ],
             [
              0.1111111111111111,
              "#46039f"
             ],
             [
              0.2222222222222222,
              "#7201a8"
             ],
             [
              0.3333333333333333,
              "#9c179e"
             ],
             [
              0.4444444444444444,
              "#bd3786"
             ],
             [
              0.5555555555555556,
              "#d8576b"
             ],
             [
              0.6666666666666666,
              "#ed7953"
             ],
             [
              0.7777777777777778,
              "#fb9f3a"
             ],
             [
              0.8888888888888888,
              "#fdca26"
             ],
             [
              1,
              "#f0f921"
             ]
            ],
            "type": "heatmapgl"
           }
          ],
          "histogram": [
           {
            "marker": {
             "colorbar": {
              "outlinewidth": 0,
              "ticks": ""
             }
            },
            "type": "histogram"
           }
          ],
          "histogram2d": [
           {
            "colorbar": {
             "outlinewidth": 0,
             "ticks": ""
            },
            "colorscale": [
             [
              0,
              "#0d0887"
             ],
             [
              0.1111111111111111,
              "#46039f"
             ],
             [
              0.2222222222222222,
              "#7201a8"
             ],
             [
              0.3333333333333333,
              "#9c179e"
             ],
             [
              0.4444444444444444,
              "#bd3786"
             ],
             [
              0.5555555555555556,
              "#d8576b"
             ],
             [
              0.6666666666666666,
              "#ed7953"
             ],
             [
              0.7777777777777778,
              "#fb9f3a"
             ],
             [
              0.8888888888888888,
              "#fdca26"
             ],
             [
              1,
              "#f0f921"
             ]
            ],
            "type": "histogram2d"
           }
          ],
          "histogram2dcontour": [
           {
            "colorbar": {
             "outlinewidth": 0,
             "ticks": ""
            },
            "colorscale": [
             [
              0,
              "#0d0887"
             ],
             [
              0.1111111111111111,
              "#46039f"
             ],
             [
              0.2222222222222222,
              "#7201a8"
             ],
             [
              0.3333333333333333,
              "#9c179e"
             ],
             [
              0.4444444444444444,
              "#bd3786"
             ],
             [
              0.5555555555555556,
              "#d8576b"
             ],
             [
              0.6666666666666666,
              "#ed7953"
             ],
             [
              0.7777777777777778,
              "#fb9f3a"
             ],
             [
              0.8888888888888888,
              "#fdca26"
             ],
             [
              1,
              "#f0f921"
             ]
            ],
            "type": "histogram2dcontour"
           }
          ],
          "mesh3d": [
           {
            "colorbar": {
             "outlinewidth": 0,
             "ticks": ""
            },
            "type": "mesh3d"
           }
          ],
          "parcoords": [
           {
            "line": {
             "colorbar": {
              "outlinewidth": 0,
              "ticks": ""
             }
            },
            "type": "parcoords"
           }
          ],
          "pie": [
           {
            "automargin": true,
            "type": "pie"
           }
          ],
          "scatter": [
           {
            "marker": {
             "colorbar": {
              "outlinewidth": 0,
              "ticks": ""
             }
            },
            "type": "scatter"
           }
          ],
          "scatter3d": [
           {
            "line": {
             "colorbar": {
              "outlinewidth": 0,
              "ticks": ""
             }
            },
            "marker": {
             "colorbar": {
              "outlinewidth": 0,
              "ticks": ""
             }
            },
            "type": "scatter3d"
           }
          ],
          "scattercarpet": [
           {
            "marker": {
             "colorbar": {
              "outlinewidth": 0,
              "ticks": ""
             }
            },
            "type": "scattercarpet"
           }
          ],
          "scattergeo": [
           {
            "marker": {
             "colorbar": {
              "outlinewidth": 0,
              "ticks": ""
             }
            },
            "type": "scattergeo"
           }
          ],
          "scattergl": [
           {
            "marker": {
             "colorbar": {
              "outlinewidth": 0,
              "ticks": ""
             }
            },
            "type": "scattergl"
           }
          ],
          "scattermapbox": [
           {
            "marker": {
             "colorbar": {
              "outlinewidth": 0,
              "ticks": ""
             }
            },
            "type": "scattermapbox"
           }
          ],
          "scatterpolar": [
           {
            "marker": {
             "colorbar": {
              "outlinewidth": 0,
              "ticks": ""
             }
            },
            "type": "scatterpolar"
           }
          ],
          "scatterpolargl": [
           {
            "marker": {
             "colorbar": {
              "outlinewidth": 0,
              "ticks": ""
             }
            },
            "type": "scatterpolargl"
           }
          ],
          "scatterternary": [
           {
            "marker": {
             "colorbar": {
              "outlinewidth": 0,
              "ticks": ""
             }
            },
            "type": "scatterternary"
           }
          ],
          "surface": [
           {
            "colorbar": {
             "outlinewidth": 0,
             "ticks": ""
            },
            "colorscale": [
             [
              0,
              "#0d0887"
             ],
             [
              0.1111111111111111,
              "#46039f"
             ],
             [
              0.2222222222222222,
              "#7201a8"
             ],
             [
              0.3333333333333333,
              "#9c179e"
             ],
             [
              0.4444444444444444,
              "#bd3786"
             ],
             [
              0.5555555555555556,
              "#d8576b"
             ],
             [
              0.6666666666666666,
              "#ed7953"
             ],
             [
              0.7777777777777778,
              "#fb9f3a"
             ],
             [
              0.8888888888888888,
              "#fdca26"
             ],
             [
              1,
              "#f0f921"
             ]
            ],
            "type": "surface"
           }
          ],
          "table": [
           {
            "cells": {
             "fill": {
              "color": "#EBF0F8"
             },
             "line": {
              "color": "white"
             }
            },
            "header": {
             "fill": {
              "color": "#C8D4E3"
             },
             "line": {
              "color": "white"
             }
            },
            "type": "table"
           }
          ]
         },
         "layout": {
          "annotationdefaults": {
           "arrowcolor": "#2a3f5f",
           "arrowhead": 0,
           "arrowwidth": 1
          },
          "coloraxis": {
           "colorbar": {
            "outlinewidth": 0,
            "ticks": ""
           }
          },
          "colorscale": {
           "diverging": [
            [
             0,
             "#8e0152"
            ],
            [
             0.1,
             "#c51b7d"
            ],
            [
             0.2,
             "#de77ae"
            ],
            [
             0.3,
             "#f1b6da"
            ],
            [
             0.4,
             "#fde0ef"
            ],
            [
             0.5,
             "#f7f7f7"
            ],
            [
             0.6,
             "#e6f5d0"
            ],
            [
             0.7,
             "#b8e186"
            ],
            [
             0.8,
             "#7fbc41"
            ],
            [
             0.9,
             "#4d9221"
            ],
            [
             1,
             "#276419"
            ]
           ],
           "sequential": [
            [
             0,
             "#0d0887"
            ],
            [
             0.1111111111111111,
             "#46039f"
            ],
            [
             0.2222222222222222,
             "#7201a8"
            ],
            [
             0.3333333333333333,
             "#9c179e"
            ],
            [
             0.4444444444444444,
             "#bd3786"
            ],
            [
             0.5555555555555556,
             "#d8576b"
            ],
            [
             0.6666666666666666,
             "#ed7953"
            ],
            [
             0.7777777777777778,
             "#fb9f3a"
            ],
            [
             0.8888888888888888,
             "#fdca26"
            ],
            [
             1,
             "#f0f921"
            ]
           ],
           "sequentialminus": [
            [
             0,
             "#0d0887"
            ],
            [
             0.1111111111111111,
             "#46039f"
            ],
            [
             0.2222222222222222,
             "#7201a8"
            ],
            [
             0.3333333333333333,
             "#9c179e"
            ],
            [
             0.4444444444444444,
             "#bd3786"
            ],
            [
             0.5555555555555556,
             "#d8576b"
            ],
            [
             0.6666666666666666,
             "#ed7953"
            ],
            [
             0.7777777777777778,
             "#fb9f3a"
            ],
            [
             0.8888888888888888,
             "#fdca26"
            ],
            [
             1,
             "#f0f921"
            ]
           ]
          },
          "colorway": [
           "#636efa",
           "#EF553B",
           "#00cc96",
           "#ab63fa",
           "#FFA15A",
           "#19d3f3",
           "#FF6692",
           "#B6E880",
           "#FF97FF",
           "#FECB52"
          ],
          "font": {
           "color": "#2a3f5f"
          },
          "geo": {
           "bgcolor": "white",
           "lakecolor": "white",
           "landcolor": "#E5ECF6",
           "showlakes": true,
           "showland": true,
           "subunitcolor": "white"
          },
          "hoverlabel": {
           "align": "left"
          },
          "hovermode": "closest",
          "mapbox": {
           "style": "light"
          },
          "paper_bgcolor": "white",
          "plot_bgcolor": "#E5ECF6",
          "polar": {
           "angularaxis": {
            "gridcolor": "white",
            "linecolor": "white",
            "ticks": ""
           },
           "bgcolor": "#E5ECF6",
           "radialaxis": {
            "gridcolor": "white",
            "linecolor": "white",
            "ticks": ""
           }
          },
          "scene": {
           "xaxis": {
            "backgroundcolor": "#E5ECF6",
            "gridcolor": "white",
            "gridwidth": 2,
            "linecolor": "white",
            "showbackground": true,
            "ticks": "",
            "zerolinecolor": "white"
           },
           "yaxis": {
            "backgroundcolor": "#E5ECF6",
            "gridcolor": "white",
            "gridwidth": 2,
            "linecolor": "white",
            "showbackground": true,
            "ticks": "",
            "zerolinecolor": "white"
           },
           "zaxis": {
            "backgroundcolor": "#E5ECF6",
            "gridcolor": "white",
            "gridwidth": 2,
            "linecolor": "white",
            "showbackground": true,
            "ticks": "",
            "zerolinecolor": "white"
           }
          },
          "shapedefaults": {
           "line": {
            "color": "#2a3f5f"
           }
          },
          "ternary": {
           "aaxis": {
            "gridcolor": "white",
            "linecolor": "white",
            "ticks": ""
           },
           "baxis": {
            "gridcolor": "white",
            "linecolor": "white",
            "ticks": ""
           },
           "bgcolor": "#E5ECF6",
           "caxis": {
            "gridcolor": "white",
            "linecolor": "white",
            "ticks": ""
           }
          },
          "title": {
           "x": 0.05
          },
          "xaxis": {
           "automargin": true,
           "gridcolor": "white",
           "linecolor": "white",
           "ticks": "",
           "title": {
            "standoff": 15
           },
           "zerolinecolor": "white",
           "zerolinewidth": 2
          },
          "yaxis": {
           "automargin": true,
           "gridcolor": "white",
           "linecolor": "white",
           "ticks": "",
           "title": {
            "standoff": 15
           },
           "zerolinecolor": "white",
           "zerolinewidth": 2
          }
         }
        },
        "xaxis": {
         "linecolor": "rgb(0, 0, 0)",
         "linewidth": 2,
         "rangemode": "tozero",
         "showgrid": false,
         "showline": true,
         "tickfont": {
          "color": "#000000",
          "size": 22
         },
         "ticks": "outside",
         "tickwidth": 3
        },
        "yaxis": {
         "showline": false,
         "showticklabels": true,
         "tickfont": {
          "color": "#000000",
          "size": 22
         },
         "zeroline": false
        }
       }
      }
     },
     "metadata": {}
    }
   ],
   "source": [
    "# LLC-load-misses\n",
    "fig = go.Figure()\n",
    "ploted_edge=[100,1000,2000,5000,8000,10000,20000]\n",
    "for idx, e in enumerate(ploted_edge):\n",
    "    same_e = res.loc[res['#E'] == e]\n",
    "    fig.add_trace(go.Scatter(x=same_e[\"#V\"], y=same_e[\"LLC-load-misses\"], name=f\"{e}\",\n",
    "                             mode='lines+markers', marker=dict(symbol=marker_symbols[idx],size=10),\n",
    "                             line=dict(color=colors[idx], width=3)))\n",
    "\n",
    "fig.update_layout(xaxis=dict(showline=True, showgrid=False, rangemode=\"tozero\",\n",
    "                             linecolor='rgb(0, 0, 0)', linewidth=2,\n",
    "                             tickwidth=3, tickfont=num_font, ticks='outside'),\n",
    "                  yaxis=dict(tickfont=num_font, zeroline=False, showticklabels=True,\n",
    "                             showline=False),\n",
    "                  showlegend=True,legend=dict(traceorder=\"reversed\"),\n",
    "                #   legend=dict(borderwidth=1, bordercolor=\"#eeeeee\",\n",
    "                #               x=0.76, y=0.9, traceorder=\"reversed\", \n",
    "                #               font=default_font),\n",
    "                  margin=dict(autoexpand=True, l=40, r=20, t=40),\n",
    "                  plot_bgcolor=\"#eeeeee\"\n",
    "                  )\n",
    "fig.show()\n",
    "fig.write_image(\"baseline_LLC-load-misses.pdf\")"
   ]
  },
  {
   "cell_type": "code",
   "execution_count": null,
   "metadata": {},
   "outputs": [],
   "source": []
  }
 ],
 "metadata": {
  "kernelspec": {
   "display_name": "Python 3.7.4 64-bit ('base': conda)",
   "language": "python",
   "name": "python37464bitbaseconda7237268a33e24a329185d6db8be488e4"
  },
  "language_info": {
   "codemirror_mode": {
    "name": "ipython",
    "version": 3
   },
   "file_extension": ".py",
   "mimetype": "text/x-python",
   "name": "python",
   "nbconvert_exporter": "python",
   "pygments_lexer": "ipython3",
   "version": "3.7.4-final"
  }
 },
 "nbformat": 4,
 "nbformat_minor": 4
}
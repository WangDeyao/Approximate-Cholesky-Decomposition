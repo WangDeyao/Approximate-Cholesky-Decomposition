{
 "cells": [
  {
   "cell_type": "markdown",
   "metadata": {},
   "source": [
    "# TODOs\n",
    "- [ ] Runtimes with various input size and different optimization flags\n",
    "> Create a timing infrastructure to get runtimes for a suitable set of input sizes (and inputs). Push sizes to the limit (i.e., until the execution takes minutes or even hours). Consider different compiler flags (but always with optimization).\n",
    "- [ ] Cost Analysis (float ops, float comp, int ops, int comp)\n",
    "> Cost analysis: Select a cost measure (usually flop count but may include div, sin, ...) and determine the cost. Briefly say how you did it (e.g., counted in code, had to instrument parts, ...).\n",
    "- [ ] Performance Plot\n",
    "> Create a performance plot. Put it as plot0 (or plot0a, plot0b, ...) into svn in the same directory as this document. As you perform optimizations later, include one line for each relevant optimization.\n",
    "- [ ] Bottlenecks by profiling tool\n",
    "> Identify performance bottlenecks in your code by profiling. This will likely involve instrumenting your code (standard profilers may not be fine grain enough). Focus on those parts when optimizing. The bottlenecks may change during optimization. Understand the cost and performance of the bottlenecks to set expectations right."
   ]
  },
  {
   "cell_type": "code",
   "execution_count": 2,
   "metadata": {},
   "outputs": [],
   "source": [
    "import re\n",
    "import numpy as np    \n",
    "import pandas as pd\n",
    "\n",
    "#o0 = \"./logo0.txt\"\n",
    "o1 = \"./logo1.txt\"\n",
    "o2 = \"./logo2.txt\"\n",
    "o3 = \"./logo3.txt\""
   ]
  },
  {
   "cell_type": "code",
   "execution_count": null,
   "metadata": {},
   "outputs": [],
   "source": [
    "with open(o1, 'r') as f:\n",
    "    file = f.read()\n",
    "res = re.findall(\"(.*)flops / cycles\", file)\n",
    "len(res)"
   ]
  },
  {
   "cell_type": "code",
   "execution_count": 3,
   "metadata": {},
   "outputs": [],
   "source": [
    "def extract(log, metric):\n",
    "    res = []\n",
    "    with open(log, 'r') as f:\n",
    "        file = f.read()\n",
    "    try:\n",
    "        if metric=='runtime(sec)':\n",
    "            res = re.findall(\"(.*) seconds time elapsed\", file)\n",
    "        elif metric=='cc_int_ops':\n",
    "            res = re.findall(\"cc_int_ops:(.*), cc_int_comp\", file)\n",
    "        elif metric=='cc_int_comp':\n",
    "            res = re.findall(\"cc_int_comp:(.*), cc_fl_ops\", file)\n",
    "        elif metric=='cc_fl_ops':\n",
    "            res = re.findall(\"cc_fl_ops(.*), cc_fl_comp\", file)\n",
    "        elif metric=='cc_fl_comp':\n",
    "            res = re.findall(\"cc_fl_comp:(.*)\", file)\n",
    "        elif metric=='ll_int_ops':\n",
    "            res = re.findall(\"ll_int_ops:(.*), ll_int_comp:\", file)\n",
    "        elif metric=='ll_int_comp':\n",
    "            res = re.findall(\"ll_int_comp:(.*)\", file)\n",
    "        elif metric=='flops':\n",
    "            res = re.findall(\"#fl ops: (.*)\", file)\n",
    "        elif metric=='flcomp':\n",
    "            res = re.findall(\"#fl comparisons: (.*)\", file)\n",
    "        elif metric=='intops':\n",
    "            res = re.findall(\"#int ops: (.*)\", file)\n",
    "        elif metric=='intcomp':\n",
    "            res = re.findall(\"#int comparisons: (.*)\", file)\n",
    "        elif metric=='cycles':\n",
    "            res = re.findall(\"#cycles: (.*)\", file)\n",
    "        elif metric=='flops/cycles':\n",
    "            res = re.findall(\"(.*)flops / cycles\", file)\n",
    "        elif metric=='instructions':\n",
    "            res = re.findall(\"(.*)   instructions:u\", file)\n",
    "        elif metric=='branches':\n",
    "            res = re.findall(\"(.*)     branches:u\", file)\n",
    "        elif metric=='branch-misses':\n",
    "            res = re.findall(\"branch-misses:u           #(.*) of all branches\", file)\n",
    "        elif metric=='page-faults':\n",
    "            res = re.findall(\"(.*)  page-faults:u\", file)\n",
    "        elif metric=='cycles(perf)':\n",
    "            res = re.findall(\"(.*)      cycles:u\", file)\n",
    "    except Exception:\n",
    "        return \n",
    "    return res  \n",
    "\n",
    "def init_table(vertice, edge):\n",
    "    ve = []\n",
    "    for v in vertice:\n",
    "        for e in edge:\n",
    "            if e < v*v:\n",
    "                ve.append([v,e])\n",
    "    return pd.DataFrame(ve, columns=['#V', '#E'])\n",
    "\n",
    "def update_table(df, log, vertice, edge, data):\n",
    "    for i, x in enumerate(vertice):\n",
    "        for j, y in enumerate(edge):\n",
    "            for l in label:\n",
    "                data[l] = extract(log, l)\n",
    "                if len(data[l])==len(df):\n",
    "                    df[l] = data[l]\n",
    "                else:\n",
    "                    print(f\"fail to add {l} to the table.\")"
   ]
  },
  {
   "cell_type": "code",
   "execution_count": 4,
   "metadata": {},
   "outputs": [],
   "source": [
    "from itertools import product\n",
    "\n",
    "label=['runtime(sec)',\n",
    "       'flops','flcomp','intops','intcomp', 'flops/cycles',\n",
    "      'cc_int_ops', 'cc_int_comp', 'cc_fl_ops', 'cc_fl_comp', 'll_int_ops', 'll_int_comp',\n",
    "      'instructions', 'cycles', 'cycles(perf)', \n",
    "      'branches', 'branch-misses', 'page-faults']\n",
    "\n",
    "vertice = [10,100,1000,10000]\n",
    "edge = [10,100,1000,10000,100000]"
   ]
  },
  {
   "cell_type": "code",
   "execution_count": 7,
   "metadata": {},
   "outputs": [],
   "source": [
    "# results with flag -O3\n",
    "data_o3 = dict()\n",
    "res_o3 = init_table(vertice, edge)\n",
    "update_table(res_o3, o3, vertice, edge, data_o3)\n",
    "res_o3\n",
    "res_o3.to_excel('result.xlsx', sheet_name='o3', index=False)"
   ]
  },
  {
   "cell_type": "code",
   "execution_count": 6,
   "metadata": {},
   "outputs": [],
   "source": [
    "# results with no optimization\n",
    "data_o1 = dict()\n",
    "res_o1 = init_table(vertice, edge)\n",
    "update_table(res_o1, o1, vertice, edge, data_o1)\n",
    "res_o1\n",
    "res_o1.to_excel('result.xlsx', sheet_name='o1', index=False)"
   ]
  },
  {
   "cell_type": "code",
   "execution_count": null,
   "metadata": {},
   "outputs": [],
   "source": []
  },
  {
   "cell_type": "code",
   "execution_count": null,
   "metadata": {},
   "outputs": [],
   "source": []
  },
  {
   "cell_type": "code",
   "execution_count": null,
   "metadata": {},
   "outputs": [],
   "source": []
  }
 ],
 "metadata": {
  "kernelspec": {
   "display_name": "Python 3.7.4 64-bit ('base': conda)",
   "language": "python",
   "name": "python37464bitbaseconda7237268a33e24a329185d6db8be488e4"
  },
  "language_info": {
   "codemirror_mode": {
    "name": "ipython",
    "version": 3
   },
   "file_extension": ".py",
   "mimetype": "text/x-python",
   "name": "python",
   "nbconvert_exporter": "python",
   "pygments_lexer": "ipython3",
   "version": "3.7.4"
  }
 },
 "nbformat": 4,
 "nbformat_minor": 4
}

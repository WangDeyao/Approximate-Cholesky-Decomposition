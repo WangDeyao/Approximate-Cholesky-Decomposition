{
 "cells": [
  {
   "cell_type": "code",
   "execution_count": 85,
   "metadata": {},
   "outputs": [
    {
     "name": "stderr",
     "output_type": "stream",
     "text": [
      "┌ Info: Precompiling Laplacians [6f8e5838-0efe-5de0-80a3-5fb4f8dbb1de]\n",
      "└ @ Base loading.jl:1260\n",
      "Entropy pool not available to seed RNG; using ad-hoc entropy sources.\n",
      "Entropy pool not available to seed RNG; using ad-hoc entropy sources.\n"
     ]
    }
   ],
   "source": [
    "using Laplacians\n",
    "using SuiteSparse\n",
    "using LinearAlgebra\n",
    "using SparseArrays\n",
    "using Statistics"
   ]
  },
  {
   "cell_type": "code",
   "execution_count": 86,
   "metadata": {},
   "outputs": [],
   "source": [
    "import Laplacians.LLMatOrd\n",
    "import Laplacians.approxChol\n",
    "import Laplacians.LDLsolver\n",
    "import Laplacians.approxchol_lapGiven\n",
    "import Laplacians.LLord\n",
    "import Laplacians.LDLinv\n",
    "import Laplacians.LLcol"
   ]
  },
  {
   "cell_type": "code",
   "execution_count": 87,
   "metadata": {},
   "outputs": [
    {
     "name": "stdout",
     "output_type": "stream",
     "text": [
      "1\n",
      "Set(Any[(1, 2)])\n",
      "Set(Any[])\n",
      "123"
     ]
    },
    {
     "data": {
      "text/plain": [
       "true"
      ]
     },
     "execution_count": 87,
     "metadata": {},
     "output_type": "execute_result"
    }
   ],
   "source": [
    "s=Set()\n",
    "t = tuple(1,2)\n",
    "println(t[1])\n",
    "push!(s, tuple(1,2))\n",
    "println(s)\n",
    "pop!(s,tuple(1,2))\n",
    "println(s)\n",
    "for i in 1:3\n",
    "    print(i)\n",
    "end\n",
    "rand(1:5)\n",
    "!(2 in [])"
   ]
  },
  {
   "cell_type": "code",
   "execution_count": 181,
   "metadata": {},
   "outputs": [
    {
     "data": {
      "text/plain": [
       "generate (generic function with 1 method)"
      ]
     },
     "execution_count": 181,
     "metadata": {},
     "output_type": "execute_result"
    }
   ],
   "source": [
    "function generate(n::Integer, m::Integer, uniform::Bool)\n",
    "    s = Set(2:n)\n",
    "    t = Set(1)\n",
    "    edges = Set()\n",
    "    cur_vertex = 1;\n",
    "    while  !(isempty(s))\n",
    "        num = rand(1:n)\n",
    "        if (num in s)\n",
    "            pop!(s, num)\n",
    "            push!(t, num)\n",
    "            push!(edges, tuple(cur_vertex, num))\n",
    "        end\n",
    "        cur_vertex = num\n",
    "    end\n",
    "    \n",
    "    for i in 1:m-n+1\n",
    "        u = rand(1:n)\n",
    "        v = rand(1:n)\n",
    "        while tuple(u,v) in edges || tuple(v,u) in edges || u==v\n",
    "            u = rand(1:n)\n",
    "            v = rand(1:n)\n",
    "        end\n",
    "        push!(edges, tuple(u,v))\n",
    "    end\n",
    "    \n",
    "    u=[];v=[];w=[]\n",
    "    for edge in edges\n",
    "        if uniform\n",
    "            push!(w, 1.0, 1.0)\n",
    "        else\n",
    "            weight = rand(Float64)\n",
    "            push!(w, weight, weight)\n",
    "        end\n",
    "        push!(u, edge[1], edge[2])\n",
    "        push!(v, edge[2], edge[1])\n",
    "    end\n",
    "#     println(u,v,w)\n",
    "#     println(typeof(w))\n",
    "    mat = sparse(u,v,w,n,n)\n",
    "    return convert(SparseMatrixCSC{Float64, Int64}, mat)\n",
    "end"
   ]
  },
  {
   "cell_type": "code",
   "execution_count": 186,
   "metadata": {},
   "outputs": [
    {
     "data": {
      "text/plain": [
       "1000×1000 SparseMatrixCSC{Float64,Int64} with 11000 stored entries:\n",
       "  [1   ,    1]  =  9.0\n",
       "  [115 ,    1]  =  -1.0\n",
       "  [144 ,    1]  =  -1.0\n",
       "  [186 ,    1]  =  -1.0\n",
       "  [197 ,    1]  =  -1.0\n",
       "  [392 ,    1]  =  -1.0\n",
       "  [529 ,    1]  =  -1.0\n",
       "  [575 ,    1]  =  -1.0\n",
       "  [608 ,    1]  =  -1.0\n",
       "  [731 ,    1]  =  -1.0\n",
       "  [2   ,    2]  =  10.0\n",
       "  [70  ,    2]  =  -1.0\n",
       "  ⋮\n",
       "  [905 ,  999]  =  -1.0\n",
       "  [917 ,  999]  =  -1.0\n",
       "  [998 ,  999]  =  -1.0\n",
       "  [999 ,  999]  =  7.0\n",
       "  [183 , 1000]  =  -1.0\n",
       "  [210 , 1000]  =  -1.0\n",
       "  [233 , 1000]  =  -1.0\n",
       "  [457 , 1000]  =  -1.0\n",
       "  [746 , 1000]  =  -1.0\n",
       "  [751 , 1000]  =  -1.0\n",
       "  [842 , 1000]  =  -1.0\n",
       "  [913 , 1000]  =  -1.0\n",
       "  [1000, 1000]  =  8.0"
      ]
     },
     "execution_count": 186,
     "metadata": {},
     "output_type": "execute_result"
    }
   ],
   "source": [
    "a = generate(1000, 5000, true)\n",
    "la = lap(a)"
   ]
  },
  {
   "cell_type": "code",
   "execution_count": 70,
   "metadata": {},
   "outputs": [
    {
     "data": {
      "text/plain": [
       "4-element Array{Float64,1}:\n",
       " -0.5270249460796002\n",
       "  0.7282324157897637\n",
       "  0.3227082222861411\n",
       " -0.5239156919963046"
      ]
     },
     "execution_count": 70,
     "metadata": {},
     "output_type": "execute_result"
    }
   ],
   "source": [
    "n = size(a)[1]\n",
    "b = randn(size(la,1))\n",
    "b = b.- mean(b)"
   ]
  },
  {
   "cell_type": "code",
   "execution_count": 73,
   "metadata": {},
   "outputs": [
    {
     "data": {
      "text/plain": [
       "4-element Array{Float64,1}:\n",
       "  1.0509406380759048\n",
       " -1.0509406380759048\n",
       " -1.0509406380759048\n",
       "  1.0509406380759048"
      ]
     },
     "execution_count": 73,
     "metadata": {},
     "output_type": "execute_result"
    }
   ],
   "source": [
    "a*b"
   ]
  },
  {
   "cell_type": "code",
   "execution_count": 71,
   "metadata": {},
   "outputs": [
    {
     "data": {
      "text/plain": [
       "LDLinv{Int64,Float64}([1, 2, 3], [1, 3, 5, 6], [2, 3, 3, 4, 4], [0.5, 1.0, 0.3333333333333333, 1.0, 1.0], [0.5, 0.6666666666666667, 1.3333333333333335, 0.0])"
      ]
     },
     "execution_count": 71,
     "metadata": {},
     "output_type": "execute_result"
    }
   ],
   "source": [
    "llmat = LLMatOrd(a)\n",
    "ldli = approxChol(llmat)\n",
    "ldli"
   ]
  },
  {
   "cell_type": "code",
   "execution_count": 72,
   "metadata": {},
   "outputs": [
    {
     "name": "stdout",
     "output_type": "stream",
     "text": [
      "PCG Stopped due to small or large rho\n",
      "PCG stopped after: 0.0 seconds and 1 iterations with relative error 5.095756488149852e-17.\n"
     ]
    },
    {
     "data": {
      "text/plain": [
       "4-element Array{Float64,1}:\n",
       " -0.13214489328031198\n",
       "  0.23274862813539376\n",
       "  0.029986531383582427\n",
       " -0.13059026623866424"
      ]
     },
     "execution_count": 72,
     "metadata": {},
     "output_type": "execute_result"
    }
   ],
   "source": [
    "import Laplacians.pcg \n",
    "pcg(la, b, F; tol=1e-20, maxits=1000, maxtime=Inf, verbose=true, pcgIts=Int[],stag_test=0)"
   ]
  },
  {
   "cell_type": "code",
   "execution_count": 61,
   "metadata": {},
   "outputs": [
    {
     "data": {
      "text/plain": [
       "9-element Array{Float64,1}:\n",
       "  0.17417167277113102\n",
       "  0.21542756396164142\n",
       " -0.31862173863635235\n",
       " -0.6734530603397146\n",
       " -0.5634301539201645\n",
       "  1.2466318699958443\n",
       "  1.3664517615312985\n",
       " -1.4492403981543465\n",
       "  0.0020624827906623594"
      ]
     },
     "execution_count": 61,
     "metadata": {},
     "output_type": "execute_result"
    }
   ],
   "source": [
    "p = a*F(b)\n",
    "p"
   ]
  },
  {
   "cell_type": "code",
   "execution_count": 54,
   "metadata": {},
   "outputs": [
    {
     "data": {
      "text/plain": [
       "4-element Array{Float64,1}:\n",
       " -0.18704434899796174\n",
       " -0.3329585606514064\n",
       "  0.3847296609402301\n",
       "  0.13527324870913796"
      ]
     },
     "execution_count": 54,
     "metadata": {},
     "output_type": "execute_result"
    }
   ],
   "source": [
    "solver = approxchol_lapGiven(a); \n",
    "y_p = solver(b)\n",
    "y_p"
   ]
  },
  {
   "cell_type": "code",
   "execution_count": null,
   "metadata": {},
   "outputs": [],
   "source": [
    "norm(la*y-b)/norm(b) "
   ]
  },
  {
   "cell_type": "code",
   "execution_count": null,
   "metadata": {},
   "outputs": [],
   "source": [
    "norm(la*y_p-b)/norm(b)"
   ]
  },
  {
   "cell_type": "code",
   "execution_count": null,
   "metadata": {},
   "outputs": [],
   "source": []
  }
 ],
 "metadata": {
  "kernelspec": {
   "display_name": "Julia 1.4.1",
   "language": "julia",
   "name": "julia-1.4"
  },
  "language_info": {
   "file_extension": ".jl",
   "mimetype": "application/julia",
   "name": "julia",
   "version": "1.4.1"
  }
 },
 "nbformat": 4,
 "nbformat_minor": 4
}

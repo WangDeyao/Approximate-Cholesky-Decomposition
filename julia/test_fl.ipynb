{
 "cells": [
  {
   "cell_type": "code",
   "execution_count": 2,
   "metadata": {},
   "outputs": [],
   "source": [
    "using Laplacians\n",
    "using SuiteSparse\n",
    "using LinearAlgebra\n",
    "using SparseArrays\n",
    "using Statistics"
   ]
  },
  {
   "cell_type": "code",
   "execution_count": 3,
   "metadata": {},
   "outputs": [],
   "source": [
    "import Laplacians.LLMatOrd\n",
    "import Laplacians.approxChol\n",
    "import Laplacians.LDLsolver\n",
    "import Laplacians.approxchol_lapGiven\n",
    "import Laplacians.LLord\n",
    "import Laplacians.LDLinv\n",
    "import Laplacians.LLcol"
   ]
  },
  {
   "cell_type": "code",
   "execution_count": 4,
   "metadata": {},
   "outputs": [
    {
     "data": {
      "text/plain": [
       "4×4 SparseMatrixCSC{Float64,Int64} with 12 stored entries:\n",
       "  [1, 1]  =  2.0\n",
       "  [2, 1]  =  -1.0\n",
       "  [3, 1]  =  -1.0\n",
       "  [1, 2]  =  -1.0\n",
       "  [2, 2]  =  2.0\n",
       "  [4, 2]  =  -1.0\n",
       "  [1, 3]  =  -1.0\n",
       "  [3, 3]  =  2.0\n",
       "  [4, 3]  =  -1.0\n",
       "  [2, 4]  =  -1.0\n",
       "  [3, 4]  =  -1.0\n",
       "  [4, 4]  =  2.0"
      ]
     },
     "execution_count": 4,
     "metadata": {},
     "output_type": "execute_result"
    }
   ],
   "source": [
    "a = grid2(2)\n",
    "la = lap(a)"
   ]
  },
  {
   "cell_type": "code",
   "execution_count": 5,
   "metadata": {},
   "outputs": [
    {
     "data": {
      "text/plain": [
       "4-element Array{Float64,1}:\n",
       "  0.3777397416887483\n",
       " -1.012775866312444\n",
       "  1.0175991280563799\n",
       " -0.38256300343268407"
      ]
     },
     "execution_count": 5,
     "metadata": {},
     "output_type": "execute_result"
    }
   ],
   "source": [
    "n = size(a)[1]\n",
    "b = randn(size(la,1))\n",
    "b = b.- mean(b)\n",
    "b"
   ]
  },
  {
   "cell_type": "code",
   "execution_count": 29,
   "metadata": {},
   "outputs": [
    {
     "data": {
      "text/plain": [
       "LDLinv{Int64,Float64}([1, 2, 3], [1, 3, 5, 6], [2, 3, 3, 4, 4], [0.5, 1.0, 0.3333333333333333, 1.0, 1.0], [0.5, 0.6666666666666667, 1.3333333333333335, 0.0])"
      ]
     },
     "execution_count": 29,
     "metadata": {},
     "output_type": "execute_result"
    }
   ],
   "source": [
    "llmat = LLMatOrd(a)\n",
    "ldli = approxChol(llmat)\n",
    "ldli"
   ]
  },
  {
   "cell_type": "code",
   "execution_count": 33,
   "metadata": {},
   "outputs": [
    {
     "data": {
      "text/plain": [
       "5-element Array{Int64,1}:\n",
       " 2\n",
       " 3\n",
       " 3\n",
       " 4\n",
       " 4"
      ]
     },
     "execution_count": 33,
     "metadata": {},
     "output_type": "execute_result"
    }
   ],
   "source": [
    "ldli.rowval"
   ]
  },
  {
   "cell_type": "code",
   "execution_count": 23,
   "metadata": {},
   "outputs": [
    {
     "data": {
      "text/plain": [
       "4-element Array{Float64,1}:\n",
       "  0.1894727785623661\n",
       " -0.5069908408742141\n",
       "  0.508196656310198\n",
       " -0.19067859399834997"
      ]
     },
     "execution_count": 23,
     "metadata": {},
     "output_type": "execute_result"
    }
   ],
   "source": [
    "y = LDLsolver(ldli, b)\n",
    "y"
   ]
  },
  {
   "cell_type": "code",
   "execution_count": 24,
   "metadata": {},
   "outputs": [
    {
     "data": {
      "text/plain": [
       "4-element Array{Float64,1}:\n",
       "  0.1894727785623661\n",
       " -0.5069908408742141\n",
       "  0.508196656310198\n",
       " -0.19067859399834997"
      ]
     },
     "execution_count": 24,
     "metadata": {},
     "output_type": "execute_result"
    }
   ],
   "source": [
    "solver = approxchol_lapGiven(a); \n",
    "y_p = solver(b)\n",
    "y_p"
   ]
  },
  {
   "cell_type": "code",
   "execution_count": 25,
   "metadata": {},
   "outputs": [
    {
     "data": {
      "text/plain": [
       "2.346640112452765e-16"
      ]
     },
     "execution_count": 25,
     "metadata": {},
     "output_type": "execute_result"
    }
   ],
   "source": [
    "norm(la*y-b)/norm(b) "
   ]
  },
  {
   "cell_type": "code",
   "execution_count": 26,
   "metadata": {},
   "outputs": [
    {
     "data": {
      "text/plain": [
       "2.346640112452765e-16"
      ]
     },
     "execution_count": 26,
     "metadata": {},
     "output_type": "execute_result"
    }
   ],
   "source": [
    "norm(la*y_p-b)/norm(b)"
   ]
  },
  {
   "cell_type": "code",
   "execution_count": null,
   "metadata": {},
   "outputs": [],
   "source": []
  }
 ],
 "metadata": {
  "kernelspec": {
   "display_name": "Julia 1.4.1",
   "language": "julia",
   "name": "julia-1.4"
  },
  "language_info": {
   "file_extension": ".jl",
   "mimetype": "application/julia",
   "name": "julia",
   "version": "1.4.1"
  }
 },
 "nbformat": 4,
 "nbformat_minor": 4
}

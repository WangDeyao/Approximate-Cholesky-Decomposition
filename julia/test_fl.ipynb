{
 "cells": [
  {
   "cell_type": "code",
   "execution_count": 2,
   "metadata": {},
   "outputs": [],
   "source": [
    "using Laplacians\n",
    "using SuiteSparse\n",
    "using LinearAlgebra\n",
    "using SparseArrays\n",
    "using Statistics"
   ]
  },
  {
   "cell_type": "code",
   "execution_count": 1,
   "metadata": {},
   "outputs": [
    {
     "name": "stderr",
     "output_type": "stream",
     "text": [
      "┌ Info: Precompiling Laplacians [6f8e5838-0efe-5de0-80a3-5fb4f8dbb1de]\n",
      "└ @ Base loading.jl:1260\n"
     ]
    }
   ],
   "source": [
    "import Laplacians.LLMatOrd\n",
    "import Laplacians.approxChol\n",
    "import Laplacians.LDLsolver\n",
    "import Laplacians.approxchol_lapGiven\n",
    "import Laplacians.LLord\n",
    "import Laplacians.LDLinv\n",
    "import Laplacians.LLcol\n",
    "import Laplacians.ErdosRenyi"
   ]
  },
  {
   "cell_type": "code",
   "execution_count": null,
   "metadata": {},
   "outputs": [],
   "source": [
    "a = grid2(10000, 50000)\n",
    "llmat = LLMatOrd(a)"
   ]
  },
  {
   "cell_type": "code",
   "execution_count": 13,
   "metadata": {},
   "outputs": [
    {
     "name": "stdout",
     "output_type": "stream",
     "text": [
      "  0.115788 seconds (53 allocations: 18.612 MiB)\n"
     ]
    },
    {
     "data": {
      "text/plain": [
       "LDLinv{Int64,Float64}([1, 2, 3, 4, 5, 6, 7, 8, 9, 10  …  9990, 9991, 9992, 9993, 9994, 9995, 9996, 9997, 9998, 9999], [1, 25, 45, 71, 94, 115, 133, 153, 176, 196  …  574679, 574687, 574695, 574702, 574708, 574713, 574717, 574720, 574722, 574723], [6257, 9226, 9217, 9207, 8639, 8531, 7988, 7862, 7781, 7608  …  10000, 9999, 9998, 9997, 10000, 9999, 9998, 10000, 9999, 10000], [0.041666666666666664, 0.043478260869565216, 0.045454545454545456, 0.047619047619047616, 0.04999999999999999, 0.052631578947368404, 0.05555555555555554, 0.058823529411764684, 0.06249999999999998, 0.06666666666666665  …  0.08564659967335743, 0.11040138766736725, 0.3368785229989603, 1.0, 0.2758624579741962, 0.46903161531223186, 1.0, 0.20143678466821674, 1.0, 1.0], [0.04166666666666671, 0.05000000000000026, 0.03846153846153843, 0.04347826086956517, 0.04761904761904744, 0.05555555555555554, 0.05000000000000026, 0.04347826086956517, 0.05000000000000026, 0.058823529411764615  …  0.8055852057441617, 0.8429788010664242, 1.0587479957803922, 1.1698113495491467, 1.168181016281045, 2.7534074673016957, 1.62213435357793, 6.348866857685737, 6.034032396733193, 0.0])"
      ]
     },
     "execution_count": 13,
     "metadata": {},
     "output_type": "execute_result"
    }
   ],
   "source": [
    "@time approxChol(llmat)"
   ]
  },
  {
   "cell_type": "code",
   "execution_count": 72,
   "metadata": {},
   "outputs": [
    {
     "name": "stdout",
     "output_type": "stream",
     "text": [
      "PCG Stopped due to small or large rho\n",
      "PCG stopped after: 0.0 seconds and 1 iterations with relative error 5.095756488149852e-17.\n"
     ]
    },
    {
     "data": {
      "text/plain": [
       "4-element Array{Float64,1}:\n",
       " -0.13214489328031198\n",
       "  0.23274862813539376\n",
       "  0.029986531383582427\n",
       " -0.13059026623866424"
      ]
     },
     "execution_count": 72,
     "metadata": {},
     "output_type": "execute_result"
    }
   ],
   "source": [
    "import Laplacians.pcg \n",
    "la = lap(a)\n",
    "n = size(a)[1]\n",
    "b = randn(size(la,1))\n",
    "b = b.- mean(b)\n",
    "pcg(la, b, F; tol=1e-20, maxits=1000, maxtime=Inf, verbose=true, pcgIts=Int[],stag_test=0)"
   ]
  },
  {
   "cell_type": "code",
   "execution_count": 61,
   "metadata": {},
   "outputs": [
    {
     "data": {
      "text/plain": [
       "9-element Array{Float64,1}:\n",
       "  0.17417167277113102\n",
       "  0.21542756396164142\n",
       " -0.31862173863635235\n",
       " -0.6734530603397146\n",
       " -0.5634301539201645\n",
       "  1.2466318699958443\n",
       "  1.3664517615312985\n",
       " -1.4492403981543465\n",
       "  0.0020624827906623594"
      ]
     },
     "execution_count": 61,
     "metadata": {},
     "output_type": "execute_result"
    }
   ],
   "source": [
    "p = a*F(b)\n",
    "p"
   ]
  },
  {
   "cell_type": "code",
   "execution_count": 54,
   "metadata": {},
   "outputs": [
    {
     "data": {
      "text/plain": [
       "4-element Array{Float64,1}:\n",
       " -0.18704434899796174\n",
       " -0.3329585606514064\n",
       "  0.3847296609402301\n",
       "  0.13527324870913796"
      ]
     },
     "execution_count": 54,
     "metadata": {},
     "output_type": "execute_result"
    }
   ],
   "source": [
    "solver = approxchol_lapGiven(a); \n",
    "y_p = solver(b)\n",
    "y_p"
   ]
  },
  {
   "cell_type": "code",
   "execution_count": null,
   "metadata": {},
   "outputs": [],
   "source": [
    "norm(la*y-b)/norm(b) "
   ]
  },
  {
   "cell_type": "code",
   "execution_count": null,
   "metadata": {},
   "outputs": [],
   "source": [
    "norm(la*y_p-b)/norm(b)"
   ]
  },
  {
   "cell_type": "code",
   "execution_count": null,
   "metadata": {},
   "outputs": [],
   "source": []
  }
 ],
 "metadata": {
  "kernelspec": {
   "display_name": "Julia 1.4.1",
   "language": "julia",
   "name": "julia-1.4"
  },
  "language_info": {
   "file_extension": ".jl",
   "mimetype": "application/julia",
   "name": "julia",
   "version": "1.4.1"
  }
 },
 "nbformat": 4,
 "nbformat_minor": 4
}

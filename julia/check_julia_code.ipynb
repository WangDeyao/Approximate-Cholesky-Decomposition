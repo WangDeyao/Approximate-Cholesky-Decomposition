{
 "cells": [
  {
   "cell_type": "code",
   "execution_count": 1,
   "metadata": {},
   "outputs": [],
   "source": [
    "using Laplacians\n",
    "using SuiteSparse\n",
    "using LinearAlgebra\n",
    "using SparseArrays"
   ]
  },
  {
   "cell_type": "code",
   "execution_count": 2,
   "metadata": {},
   "outputs": [],
   "source": [
    "struct LLcol\n",
    "      row::Int64\n",
    "      ptr::Int64\n",
    "      val::Float64\n",
    "  end\n",
    "\n",
    "struct LLord{Tind,Tval}\n",
    "    row::Tind\n",
    "    next::Tind\n",
    "    val::Tval\n",
    "end\n",
    "\n",
    "mutable struct LLMatOrd{Tind,Tval}\n",
    "    n::Int64\n",
    "    cols::Array{Tind,1}\n",
    "    lles::Array{LLord{Tind,Tval},1}\n",
    "end"
   ]
  },
  {
   "cell_type": "code",
   "execution_count": 3,
   "metadata": {},
   "outputs": [
    {
     "data": {
      "text/plain": [
       "LLMatOrd"
      ]
     },
     "execution_count": 3,
     "metadata": {},
     "output_type": "execute_result"
    }
   ],
   "source": [
    "function LLMatOrd(a::SparseMatrixCSC{Tval,Tind}) where {Tind,Tval}\n",
    "    n = size(a,1)\n",
    "    m = nnz(a)\n",
    "\n",
    "    cols = zeros(Tind, n)\n",
    "    llelems = Array{LLord{Tind,Tval}}(undef, m)\n",
    "\n",
    "    ptr = one(Tind)\n",
    "\n",
    "    @inbounds for i in Tind(1):Tind(n-1)\n",
    "        next = zero(Tind)\n",
    "\n",
    "        for ind in (a.colptr[i]):(a.colptr[i+1]-one(Tind))\n",
    "            j = a.rowval[ind]\n",
    "            if (i < j)\n",
    "\n",
    "              v = a.nzval[ind]\n",
    "              llelems[ptr] = LLord{Tind,Tval}(j, next, v)\n",
    "              next = ptr\n",
    "              ptr += one(Tind)\n",
    "\n",
    "            end\n",
    "        end\n",
    "        cols[i] = next\n",
    "    end\n",
    "\n",
    "    return LLMatOrd{Tind,Tval}(n, cols, llelems)\n",
    "end"
   ]
  },
  {
   "cell_type": "code",
   "execution_count": 4,
   "metadata": {},
   "outputs": [
    {
     "data": {
      "text/plain": [
       "25-element Array{Int64,1}:\n",
       "  2\n",
       "  4\n",
       "  6\n",
       "  8\n",
       "  9\n",
       " 11\n",
       " 13\n",
       " 15\n",
       " 17\n",
       " 18\n",
       " 20\n",
       " 22\n",
       " 24\n",
       " 26\n",
       " 27\n",
       " 29\n",
       " 31\n",
       " 33\n",
       " 35\n",
       " 36\n",
       " 37\n",
       " 38\n",
       " 39\n",
       " 40\n",
       "  0"
      ]
     },
     "execution_count": 4,
     "metadata": {},
     "output_type": "execute_result"
    }
   ],
   "source": [
    "a = grid2(5)\n",
    "la = lap(a)\n",
    "llmat = LLMatOrd(la)\n",
    "llmat.cols"
   ]
  },
  {
   "cell_type": "code",
   "execution_count": null,
   "metadata": {},
   "outputs": [],
   "source": []
  }
 ],
 "metadata": {
  "kernelspec": {
   "display_name": "Julia 1.3.1",
   "language": "julia",
   "name": "julia-1.3"
  },
  "language_info": {
   "file_extension": ".jl",
   "mimetype": "application/julia",
   "name": "julia",
   "version": "1.3.1"
  }
 },
 "nbformat": 4,
 "nbformat_minor": 4
}

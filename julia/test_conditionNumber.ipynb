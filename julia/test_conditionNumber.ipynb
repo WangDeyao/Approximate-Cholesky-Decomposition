{
 "cells": [
  {
   "cell_type": "code",
   "execution_count": 12,
   "metadata": {},
   "outputs": [],
   "source": [
    "using Laplacians\n",
    "using SuiteSparse\n",
    "using LinearAlgebra\n",
    "using SparseArrays\n",
    "using Statistics"
   ]
  },
  {
   "cell_type": "code",
   "execution_count": 13,
   "metadata": {},
   "outputs": [],
   "source": [
    "import Laplacians.LLMatOrd\n",
    "import Laplacians.approxChol\n",
    "import Laplacians.LDLsolver\n",
    "import Laplacians.approxchol_lapGiven\n",
    "import Laplacians.LLord\n",
    "import Laplacians.LDLinv\n",
    "import Laplacians.LLcol\n",
    "import Laplacians.conditionNumber\n",
    "import Laplacians.pcg\n",
    "# show(names(Laplacians))"
   ]
  },
  {
   "cell_type": "code",
   "execution_count": 22,
   "metadata": {},
   "outputs": [
    {
     "data": {
      "text/plain": [
       "(5008,)"
      ]
     },
     "execution_count": 22,
     "metadata": {},
     "output_type": "execute_result"
    }
   ],
   "source": [
    "# a = grid2(2)\n",
    "# la = lap(a)\n",
    "# I = [2,3,4,1,3,4,5,1,2,1,2,2]\n",
    "# J = [1,1,1,2,2,2,2,3,3,4,4,5]\n",
    "# V = [1.0,1,1,1,1,1,1,1,1,1,1,1]\n",
    "# a = sparse(I,J,V)\n",
    "# la = lap(a)\n",
    "a = chimera(1000)\n",
    "la = lap(a)\n",
    "size(a,1)\n",
    "size(a.rowval)"
   ]
  },
  {
   "cell_type": "code",
   "execution_count": 23,
   "metadata": {},
   "outputs": [
    {
     "data": {
      "text/plain": [
       "LDLinv{Int64,Float64}([1, 2, 3, 4, 5, 6, 7, 8, 9, 10  …  990, 991, 992, 993, 994, 995, 996, 997, 998, 999], [1, 9, 17, 19, 27, 35, 43, 51, 53, 55  …  7298, 7299, 7304, 7309, 7311, 7313, 7315, 7317, 7318, 7319], [18, 316, 409, 435, 516, 698, 757, 865, 47, 72  …  997, 998, 1000, 998, 1000, 997, 1000, 998, 1000, 1000], [0.125, 0.14285714285714285, 0.16666666666666669, 0.19999999999999998, 0.25000000000000006, 0.3333333333333335, 0.5000000000000003, 1.0, 0.125, 0.14285714285714285  …  0.28402398481691316, 1.0, 0.4815495429594613, 1.0, 0.22101377029454064, 1.0, 0.2519816118091461, 1.0, 1.0, 1.0], [3.5205991342165244e-5, 3.5205991342165244e-5, 4.36786625466225e-5, 3.5205991342165244e-5, 3.5205991342165244e-5, 3.5205991342165244e-5, 3.5205991342165244e-5, 4.36786625466225e-5, 4.36786625466225e-5, 3.5205991342165244e-5  …  1.1163037543817303e-5, 0.00011506336508285451, 0.0005326739333511025, 7.757024026200055e-5, 0.0003160142012871746, 1.3175310800897825e-5, 2.3017807461356062e-5, 0.00044875521694234723, 7.871823511211275e-6, 0.0])"
      ]
     },
     "execution_count": 23,
     "metadata": {},
     "output_type": "execute_result"
    }
   ],
   "source": [
    "llmat = LLMatOrd(a)\n",
    "ldli = approxChol(llmat)\n",
    "# ldli"
   ]
  },
  {
   "cell_type": "code",
   "execution_count": 19,
   "metadata": {},
   "outputs": [
    {
     "data": {
      "text/plain": [
       "5-element Array{Float64,1}:\n",
       " -0.24806175000000014\n",
       "  0.05395199999999983\n",
       " -0.3238093750000002 \n",
       " -0.2749398750000001 \n",
       "  0.7928589999999996 "
      ]
     },
     "execution_count": 19,
     "metadata": {},
     "output_type": "execute_result"
    }
   ],
   "source": [
    "b = [-0.199388 \n",
    "    0.26976 \n",
    "    -0.453509 \n",
    "    -0.35577 \n",
    "    0.738907]\n",
    "tol=1e-5\n",
    "maxits=10\n",
    "maxtime=Inf\n",
    "verbose=false\n",
    "pcgIts=Int[]\n",
    "F(b) = LDLsolver(ldli, b)\n",
    "pcg(la, b .- mean(b), F, tol=tol, maxits=maxits, \n",
    "    maxtime=maxtime, pcgIts=pcgIts)"
   ]
  },
  {
   "cell_type": "code",
   "execution_count": 6,
   "metadata": {},
   "outputs": [
    {
     "name": "stdout",
     "output_type": "stream",
     "text": [
      "Factorization time: 0.040223121643066406\n",
      "Ratio of operator edges to original edges: 1.0\n",
      "ratio of max to min diagonal of laplacian : 4.0\n",
      "PCG stopped after: 0.0 seconds and 1 iterations with relative error 1.6163330323953644e-16.\n",
      "PCG stopped after: 0.0 seconds and 1 iterations with relative error 1.2836835453228223e-15.\n",
      "PCG stopped after: 0.0 seconds and 1 iterations with relative error 1.1102230246251568e-16.\n",
      "PCG stopped after: 0.0 seconds and 1 iterations with relative error 2.558937633260452e-16.\n",
      "PCG stopped after: 0.0 seconds and 1 iterations with relative error 0.0.\n",
      "PCG stopped after: 0.0 seconds and 1 iterations with relative error 1.3947339993169353e-16.\n",
      "PCG stopped after: 0.0 seconds and 1 iterations with relative error 1.0411940320296043e-15.\n",
      "PCG stopped after: 0.0 seconds and 1 iterations with relative error 2.6037037858103355e-16.\n",
      "PCG stopped after: 0.0 seconds and 1 iterations with relative error 2.355138688025663e-16.\n",
      "PCG stopped after: 0.0 seconds and 1 iterations with relative error 2.8877805767053584e-16.\n",
      "lower: 0.9999999999999998, upper: 1.0\n"
     ]
    },
    {
     "data": {
      "text/plain": [
       "1.0000000000000002"
      ]
     },
     "execution_count": 6,
     "metadata": {},
     "output_type": "execute_result"
    }
   ],
   "source": [
    "solver = Laplacians.approxchol_lapChol(a, verbose=true)\n"
   ]
  },
  {
   "cell_type": "code",
   "execution_count": 25,
   "metadata": {},
   "outputs": [
    {
     "name": "stdout",
     "output_type": "stream",
     "text": [
      "Factorization time: 0.0018341541290283203\n",
      "Ratio of operator edges to original edges: 2.5055910543130993\n",
      "ratio of max to min diagonal of laplacian : 45788.947815542764\n",
      "PCG stopped after: 0.02 seconds and 16 iterations with relative error 8.16303239543667e-7.\n",
      "PCG stopped after: 0.046 seconds and 16 iterations with relative error 6.82283525355465e-7.\n",
      "PCG stopped after: 0.022 seconds and 17 iterations with relative error 3.646135145207138e-7.\n",
      "PCG stopped after: 0.023 seconds and 17 iterations with relative error 5.381478343736759e-7.\n",
      "PCG stopped after: 0.024 seconds and 17 iterations with relative error 4.1755401838612854e-7.\n",
      "PCG stopped after: 0.019 seconds and 16 iterations with relative error 8.688567509074447e-7.\n",
      "PCG stopped after: 0.091 seconds and 17 iterations with relative error 3.672092809258652e-7.\n",
      "PCG stopped after: 0.023 seconds and 17 iterations with relative error 7.041001120148593e-7.\n",
      "PCG stopped after: 0.019 seconds and 17 iterations with relative error 4.557193826544722e-7.\n",
      "PCG stopped after: 0.109 seconds and 17 iterations with relative error 5.137641344175561e-7.\n",
      "PCG stopped after: 0.019 seconds and 16 iterations with relative error 9.853888605411856e-7.\n",
      "PCG stopped after: 0.022 seconds and 17 iterations with relative error 4.3662354543822006e-7.\n",
      "PCG stopped after: 0.023 seconds and 16 iterations with relative error 9.372515254625746e-7.\n",
      "PCG stopped after: 0.02 seconds and 17 iterations with relative error 4.4295219287023973e-7.\n",
      "PCG stopped after: 0.023 seconds and 17 iterations with relative error 5.331008287927009e-7.\n",
      "PCG stopped after: 0.023 seconds and 17 iterations with relative error 5.431294370018847e-7.\n",
      "PCG stopped after: 0.022 seconds and 17 iterations with relative error 7.191703940213213e-7.\n",
      "PCG stopped after: 0.023 seconds and 16 iterations with relative error 7.32994448848233e-7.\n",
      "PCG stopped after: 0.026 seconds and 17 iterations with relative error 4.3181091770490727e-7.\n",
      "PCG stopped after: 0.022 seconds and 17 iterations with relative error 4.243720990569856e-7.\n",
      "PCG stopped after: 0.024 seconds and 17 iterations with relative error 4.107365067376613e-7.\n",
      "PCG stopped after: 0.023 seconds and 17 iterations with relative error 4.142443669287866e-7.\n",
      "PCG stopped after: 0.018 seconds and 16 iterations with relative error 8.864177236758669e-7.\n",
      "PCG stopped after: 0.022 seconds and 17 iterations with relative error 6.54962744573376e-7.\n",
      "PCG stopped after: 0.026 seconds and 16 iterations with relative error 7.071047404955548e-7.\n",
      "PCG stopped after: 0.019 seconds and 17 iterations with relative error 4.191490279175591e-7.\n",
      "PCG stopped after: 0.021 seconds and 17 iterations with relative error 6.513475654577529e-7.\n",
      "PCG stopped after: 0.022 seconds and 17 iterations with relative error 4.674262368931651e-7.\n",
      "PCG stopped after: 0.02 seconds and 17 iterations with relative error 4.7344519747078027e-7.\n",
      "PCG stopped after: 0.021 seconds and 16 iterations with relative error 5.556545522645462e-7.\n",
      "PCG stopped after: 0.018 seconds and 16 iterations with relative error 8.971377107061256e-7.\n",
      "PCG stopped after: 0.019 seconds and 17 iterations with relative error 5.225066501669491e-7.\n",
      "PCG stopped after: 0.023 seconds and 15 iterations with relative error 9.621902123147949e-7.\n",
      "PCG stopped after: 0.027 seconds and 17 iterations with relative error 4.2623133807436013e-7.\n",
      "PCG stopped after: 0.025 seconds and 16 iterations with relative error 7.053254153211621e-7.\n",
      "PCG stopped after: 0.025 seconds and 17 iterations with relative error 5.878619781530948e-7.\n",
      "PCG stopped after: 0.024 seconds and 17 iterations with relative error 6.612159573149556e-7.\n",
      "PCG stopped after: 0.027 seconds and 17 iterations with relative error 5.853082346084406e-7.\n",
      "PCG stopped after: 0.026 seconds and 17 iterations with relative error 3.916732766572122e-7.\n",
      "PCG stopped after: 0.023 seconds and 17 iterations with relative error 4.3180896803527767e-7.\n",
      "PCG stopped after: 0.027 seconds and 17 iterations with relative error 4.785308688894271e-7.\n",
      "PCG stopped after: 0.026 seconds and 17 iterations with relative error 5.55233628794597e-7.\n",
      "PCG stopped after: 0.022 seconds and 17 iterations with relative error 4.6424416816665893e-7.\n",
      "PCG stopped after: 0.023 seconds and 17 iterations with relative error 6.940389381782223e-7.\n",
      "PCG stopped after: 0.022 seconds and 16 iterations with relative error 8.207934936049797e-7.\n",
      "PCG stopped after: 0.021 seconds and 17 iterations with relative error 5.299705102500948e-7.\n",
      "PCG stopped after: 0.023 seconds and 17 iterations with relative error 5.84879314909117e-7.\n",
      "PCG stopped after: 0.024 seconds and 17 iterations with relative error 5.503888580009363e-7.\n",
      "PCG stopped after: 0.021 seconds and 17 iterations with relative error 4.988399300245575e-7.\n",
      "PCG stopped after: 0.023 seconds and 17 iterations with relative error 5.173874975386591e-7.\n",
      "PCG stopped after: 0.024 seconds and 17 iterations with relative error 5.260267919723769e-7.\n",
      "PCG stopped after: 0.021 seconds and 17 iterations with relative error 7.044303927276148e-7.\n",
      "PCG stopped after: 0.021 seconds and 16 iterations with relative error 8.962554376379421e-7.\n",
      "PCG stopped after: 0.022 seconds and 17 iterations with relative error 4.906682410428261e-7.\n",
      "PCG stopped after: 0.02 seconds and 17 iterations with relative error 4.977939146207174e-7.\n",
      "PCG stopped after: 0.023 seconds and 17 iterations with relative error 5.056377418285369e-7.\n",
      "PCG stopped after: 0.023 seconds and 17 iterations with relative error 3.9610291214816563e-7.\n",
      "PCG stopped after: 0.02 seconds and 17 iterations with relative error 5.623268115860378e-7.\n",
      "PCG stopped after: 0.023 seconds and 17 iterations with relative error 4.959720617304005e-7.\n",
      "PCG stopped after: 0.022 seconds and 16 iterations with relative error 9.518178128502771e-7.\n",
      "PCG stopped after: 0.02 seconds and 17 iterations with relative error 4.3686642583789947e-7.\n",
      "PCG stopped after: 0.022 seconds and 17 iterations with relative error 4.5032506509968914e-7.\n",
      "PCG stopped after: 0.024 seconds and 17 iterations with relative error 6.049288794517307e-7.\n",
      "PCG stopped after: 0.02 seconds and 17 iterations with relative error 5.818848507051909e-7.\n",
      "PCG stopped after: 0.022 seconds and 17 iterations with relative error 5.47773907792561e-7.\n",
      "PCG stopped after: 0.023 seconds and 17 iterations with relative error 5.094576310647285e-7.\n",
      "PCG stopped after: 0.02 seconds and 17 iterations with relative error 4.98649423377995e-7.\n",
      "PCG stopped after: 0.023 seconds and 17 iterations with relative error 5.320532382927116e-7.\n",
      "PCG stopped after: 0.023 seconds and 17 iterations with relative error 4.3402209045704937e-7.\n",
      "PCG stopped after: 0.02 seconds and 17 iterations with relative error 4.3171090745353956e-7.\n",
      "PCG stopped after: 0.023 seconds and 17 iterations with relative error 5.97551983222949e-7.\n",
      "PCG stopped after: 0.025 seconds and 17 iterations with relative error 5.049276976639043e-7.\n",
      "PCG stopped after: 0.021 seconds and 17 iterations with relative error 5.466127795249182e-7.\n",
      "PCG stopped after: 0.024 seconds and 17 iterations with relative error 5.236135770794163e-7.\n",
      "PCG stopped after: 0.023 seconds and 17 iterations with relative error 4.890995467474076e-7.\n",
      "PCG stopped after: 0.021 seconds and 17 iterations with relative error 4.044910693323357e-7.\n",
      "PCG stopped after: 0.023 seconds and 17 iterations with relative error 6.048627980783126e-7.\n",
      "PCG stopped after: 0.023 seconds and 17 iterations with relative error 4.4945163219442464e-7.\n",
      "PCG stopped after: 0.021 seconds and 17 iterations with relative error 3.63354880047461e-7.\n",
      "PCG stopped after: 0.022 seconds and 17 iterations with relative error 5.34773739801514e-7.\n",
      "PCG stopped after: 0.022 seconds and 16 iterations with relative error 6.701031495960309e-7.\n",
      "PCG stopped after: 0.02 seconds and 17 iterations with relative error 3.988630093491248e-7.\n",
      "PCG stopped after: 0.022 seconds and 17 iterations with relative error 5.190536535442992e-7.\n",
      "PCG stopped after: 0.024 seconds and 17 iterations with relative error 5.179719872080881e-7.\n",
      "PCG stopped after: 0.02 seconds and 17 iterations with relative error 4.449225192476716e-7.\n",
      "PCG stopped after: 0.023 seconds and 17 iterations with relative error 6.653010725990556e-7.\n",
      "PCG stopped after: 0.022 seconds and 17 iterations with relative error 5.728652483819635e-7.\n",
      "PCG stopped after: 0.019 seconds and 16 iterations with relative error 8.67359681757134e-7.\n",
      "PCG stopped after: 0.023 seconds and 17 iterations with relative error 3.9855405302233617e-7.\n"
     ]
    },
    {
     "name": "stdout",
     "output_type": "stream",
     "text": [
      "PCG stopped after: 0.023 seconds and 17 iterations with relative error 5.098713235966198e-7.\n",
      "PCG stopped after: 0.02 seconds and 17 iterations with relative error 4.610769861692824e-7.\n",
      "PCG stopped after: 0.022 seconds and 17 iterations with relative error 4.1436287911305505e-7.\n",
      "PCG stopped after: 0.022 seconds and 17 iterations with relative error 4.5013274421601423e-7.\n",
      "PCG stopped after: 0.019 seconds and 16 iterations with relative error 9.143648329618585e-7.\n",
      "PCG stopped after: 0.024 seconds and 17 iterations with relative error 4.083543998365065e-7.\n",
      "PCG stopped after: 0.025 seconds and 17 iterations with relative error 4.6841516051812135e-7.\n",
      "PCG stopped after: 0.021 seconds and 17 iterations with relative error 4.507547776561324e-7.\n",
      "PCG stopped after: 0.022 seconds and 17 iterations with relative error 5.649254889007179e-7.\n",
      "PCG stopped after: 0.023 seconds and 17 iterations with relative error 4.3187641322990024e-7.\n",
      "PCG stopped after: 0.019 seconds and 16 iterations with relative error 7.502017617587361e-7.\n",
      "PCG stopped after: 0.023 seconds and 17 iterations with relative error 5.050463194815407e-7.\n",
      "PCG stopped after: 0.022 seconds and 17 iterations with relative error 4.081134479267987e-7.\n",
      "PCG stopped after: 0.02 seconds and 17 iterations with relative error 4.3547744895596206e-7.\n",
      "PCG stopped after: 0.022 seconds and 17 iterations with relative error 5.110472283252358e-7.\n",
      "lower: 0.9999993258922114, upper: 1.0000007510973081\n"
     ]
    },
    {
     "data": {
      "text/plain": [
       "1.0000014252060574"
      ]
     },
     "execution_count": 25,
     "metadata": {},
     "output_type": "execute_result"
    }
   ],
   "source": [
    "b = rand(Float64, (size(a,1), 1))\n",
    "solver = Laplacians.approxchol_lapChol(a, verbose=true)\n",
    "conditionNumber(a, solver, tol=1e-5, verbose=true)"
   ]
  },
  {
   "cell_type": "code",
   "execution_count": null,
   "metadata": {},
   "outputs": [],
   "source": []
  },
  {
   "cell_type": "code",
   "execution_count": 19,
   "metadata": {},
   "outputs": [
    {
     "data": {
      "text/plain": [
       "5-element Array{Float64,1}:\n",
       "  0.30000000000000004\n",
       " -0.19999999999999996\n",
       "  0.5                \n",
       "  0.5                \n",
       "  0.2                "
      ]
     },
     "execution_count": 19,
     "metadata": {},
     "output_type": "execute_result"
    }
   ],
   "source": [
    "n = size(a)[1]\n",
    "# b = randn(size(la,1))\n",
    "# b = [0.3, 0.2, -0.1, -0.4]\n",
    "b = [0.3, 0.2, 0.2, -0.1, -0.6]\n",
    "b = b.- mean(b)\n",
    "a*b"
   ]
  },
  {
   "cell_type": "code",
   "execution_count": 7,
   "metadata": {},
   "outputs": [
    {
     "data": {
      "text/plain": [
       "#5 (generic function with 1 method)"
      ]
     },
     "execution_count": 7,
     "metadata": {},
     "output_type": "execute_result"
    }
   ],
   "source": [
    "v = [5.36569e-06 \n",
    "    0.327309 \n",
    "    -0.69925 \n",
    "    0.595083 \n",
    "    -0.223147]\n",
    "LDLsolver(ldli, v)"
   ]
  },
  {
   "cell_type": "code",
   "execution_count": 20,
   "metadata": {},
   "outputs": [
    {
     "name": "stdout",
     "output_type": "stream",
     "text": [
      "PCG Stopped due to small or large rho\n",
      "PCG stopped after: 0.094 seconds and 4 iterations with relative error 1.9222424893115027e-16.\n"
     ]
    },
    {
     "data": {
      "text/plain": [
       "5-element Array{Float64,1}:\n",
       "  0.21500000000000002\n",
       "  0.04000000000000001\n",
       "  0.22750000000000006\n",
       "  0.07750000000000001\n",
       " -0.56               "
      ]
     },
     "execution_count": 20,
     "metadata": {},
     "output_type": "execute_result"
    }
   ],
   "source": [
    "import Laplacians.pcg \n",
    "F(b) = LDLsolver(ldli, b)\n",
    "pcg(la, b, F; tol=1e-20, maxits=1000, maxtime=Inf, verbose=true, pcgIts=Int[],stag_test=0)"
   ]
  },
  {
   "cell_type": "code",
   "execution_count": 23,
   "metadata": {},
   "outputs": [
    {
     "data": {
      "text/plain": [
       "5-element Array{Float64,1}:\n",
       "  0.22689249913584514\n",
       " -0.06577946768060827\n",
       "  0.2414103007258901 \n",
       "  0.2414103007258901 \n",
       "  0.06577946768060833"
      ]
     },
     "execution_count": 23,
     "metadata": {},
     "output_type": "execute_result"
    }
   ],
   "source": [
    "p = a*F(b)\n",
    "p"
   ]
  },
  {
   "cell_type": "code",
   "execution_count": 11,
   "metadata": {},
   "outputs": [
    {
     "data": {
      "text/plain": [
       "4-element Array{Float64,1}:\n",
       "  0.1625             \n",
       "  0.08750000000000004\n",
       " -0.0625             \n",
       " -0.18749999999999997"
      ]
     },
     "execution_count": 11,
     "metadata": {},
     "output_type": "execute_result"
    }
   ],
   "source": [
    "solver = approxchol_lapGiven(a); \n",
    "y_p = solver(b)\n",
    "y_p"
   ]
  },
  {
   "cell_type": "code",
   "execution_count": null,
   "metadata": {},
   "outputs": [],
   "source": [
    "norm(la*y-b)/norm(b) "
   ]
  },
  {
   "cell_type": "code",
   "execution_count": null,
   "metadata": {},
   "outputs": [],
   "source": [
    "norm(la*y_p-b)/norm(b)"
   ]
  },
  {
   "cell_type": "code",
   "execution_count": null,
   "metadata": {},
   "outputs": [],
   "source": []
  }
 ],
 "metadata": {
  "kernelspec": {
   "display_name": "Julia 1.3.1",
   "language": "julia",
   "name": "julia-1.3"
  },
  "language_info": {
   "file_extension": ".jl",
   "mimetype": "application/julia",
   "name": "julia",
   "version": "1.3.1"
  }
 },
 "nbformat": 4,
 "nbformat_minor": 4
}
